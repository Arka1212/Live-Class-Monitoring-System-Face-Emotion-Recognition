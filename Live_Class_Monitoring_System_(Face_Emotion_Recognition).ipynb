{
  "cells": [
    {
      "cell_type": "markdown",
      "metadata": {
        "id": "view-in-github",
        "colab_type": "text"
      },
      "source": [
        "<a href=\"https://colab.research.google.com/github/Arka1212/Live-Class-Monitoring-System-Face-Emotion-Recognition/blob/main/Live_Class_Monitoring_System_(Face_Emotion_Recognition).ipynb\" target=\"_parent\"><img src=\"https://colab.research.google.com/assets/colab-badge.svg\" alt=\"Open In Colab\"/></a>"
      ]
    },
    {
      "cell_type": "markdown",
      "metadata": {
        "id": "PS-9XGzY8Oku"
      },
      "source": [
        "# **Live Class Monitoring System (Face Emotion Recognition)**\n",
        "\n",
        "## **Project Introduction**\n",
        "The Indian education landscape has been undergoing rapid changes for the past 10 years owing to the advancement of web-based learning services, specifically, eLearning platforms. \n",
        "\n",
        "Global E-learning is estimated to witness an 8X over the next 5 years to reach USD 2B in 2021. India is expected to grow with a CAGR of 44% crossing the 10M users mark in 2021. Although the market is growing on a rapid scale, there are major challenges associated with digital learning when compared with brick and mortar classrooms. One of many challenges is how to ensure quality learning for students. Digital platforms might overpower physical classrooms in terms of content quality but when it comes to understanding whether students are able to grasp the content in a live class scenario is yet an open-end challenge.\n",
        "\n",
        "In a physical classroom during a lecturing teacher can see the faces and assess the emotion of the class and tune their lecture accordingly, whether he is going fast or slow. He can identify students who need special attention. Digital classrooms are conducted via video telephony software program (exZoom) where it’s not possible for medium scale class (25-50) to see all students and access the mood. Because of this drawback, students are not focusing on content due to lack of surveillance. While digital platforms have limitations in terms of physical surveillance but it comes with the power of data and machines which can work for you. It provides data in the form of video, audio, and texts which can be analysed using deep learning algorithms. Deep learning backed system not only solves the surveillance issue, but it also removes the human bias from the system, and all information is no longer in the teacher’s brain rather translated in numbers that can be analysed and tracked.\n",
        "\n",
        "## **Problem Statement**\n",
        "The problem statement focuses on solving the above-mentioned challenge by applying deep learning algorithms to live video data. The solution to this problem is by recognizing facial emotions. This is a few shot learning live face emotion detection system. The model should be able to real-time identify the emotions of students in a live class.\n",
        "\n",
        "## **Dataset Link**\n",
        "Dataset: https://www.kaggle.com/msambare/fer2013\n"
      ]
    },
    {
      "cell_type": "markdown",
      "metadata": {
        "id": "nOZeBc8C-T1j"
      },
      "source": [
        "**-------------------------------------------------------------------------------------------------------------------------------------------------------------------**\n",
        "**-------------------------------------------------------------------------------------------------------------------------------------------------------------------**"
      ]
    },
    {
      "cell_type": "code",
      "execution_count": 1,
      "metadata": {
        "id": "DpzN4pK2r8U7",
        "colab": {
          "base_uri": "https://localhost:8080/"
        },
        "outputId": "3875bd86-6ca4-4157-b9c4-d17afd95a528"
      },
      "outputs": [
        {
          "output_type": "stream",
          "name": "stdout",
          "text": [
            "Tensorflow version ----->  2.8.0\n"
          ]
        }
      ],
      "source": [
        "# Importing necessary libraries.\n",
        "import numpy as np\n",
        "import pandas as pd\n",
        "import matplotlib.pyplot as plt\n",
        "import seaborn as sns\n",
        "import tensorflow as tf\n",
        "print(f'Tensorflow version ----->  {tf.__version__}')"
      ]
    },
    {
      "cell_type": "code",
      "execution_count": 3,
      "metadata": {
        "id": "yW57SAbBvqpy"
      },
      "outputs": [],
      "source": [
        "# Removing warnings.\n",
        "import warnings                                                                                \n",
        "warnings.filterwarnings('ignore')\n",
        "warnings.simplefilter('ignore')"
      ]
    },
    {
      "cell_type": "markdown",
      "metadata": {
        "id": "GE6gOohYsZwZ"
      },
      "source": [
        "Imported some of the basic libraries in order to get started & rest all the required libraries will be imported as and when required."
      ]
    },
    {
      "cell_type": "markdown",
      "metadata": {
        "id": "h832PnDQxMD0"
      },
      "source": [
        "## **Downloading & inspecting dataset**"
      ]
    },
    {
      "cell_type": "code",
      "execution_count": 4,
      "metadata": {
        "id": "caCaW34YxVRU",
        "outputId": "99a282b4-0cf6-45d5-92c6-d033b167f0cf",
        "colab": {
          "base_uri": "https://localhost:8080/"
        }
      },
      "outputs": [
        {
          "output_type": "stream",
          "name": "stdout",
          "text": [
            "Mounted at /content/drive\n"
          ]
        }
      ],
      "source": [
        "# Mounting the drive.\n",
        "from google.colab import drive\n",
        "drive.mount('/content/drive')"
      ]
    },
    {
      "cell_type": "code",
      "execution_count": 5,
      "metadata": {
        "id": "JrgqhyzR6nSd"
      },
      "outputs": [],
      "source": [
        "# Accessing the dataset.\n",
        "filename = '/content/drive/MyDrive/Capstone Projects/Deep Learning/Live Class Monitoring System (Face Emotion Recognition)/Face Emotion Dataset.zip'"
      ]
    },
    {
      "cell_type": "markdown",
      "metadata": {
        "id": "wx4NZq8N665z"
      },
      "source": [
        "The dataset is actually in 'zip' format and it needs to be unzipped in order to use it."
      ]
    },
    {
      "cell_type": "code",
      "execution_count": 6,
      "metadata": {
        "id": "mvcm-DPC7MYp"
      },
      "outputs": [],
      "source": [
        "# Unzipping the dataset.\n",
        "import zipfile\n",
        "zip_ref = zipfile.ZipFile(filename)\n",
        "zip_ref.extractall()\n",
        "zip_ref.close()"
      ]
    },
    {
      "cell_type": "markdown",
      "metadata": {
        "id": "7VkUg8v78b4M"
      },
      "source": [
        "Here, the dataset is already splitted into train & test dataset."
      ]
    },
    {
      "cell_type": "code",
      "execution_count": 7,
      "metadata": {
        "colab": {
          "base_uri": "https://localhost:8080/"
        },
        "id": "TokoipOi-JZt",
        "outputId": "b140fec9-e768-4d56-f521-953e47bd7df8"
      },
      "outputs": [
        {
          "output_type": "stream",
          "name": "stdout",
          "text": [
            "TRAINING DATA:\n",
            "\n",
            "There are 7 directories and 0 images in /content/train.\n",
            "There are 0 directories and 4830 images in /content/train/sad.\n",
            "There are 0 directories and 3171 images in /content/train/surprise.\n",
            "There are 0 directories and 7215 images in /content/train/happy.\n",
            "There are 0 directories and 4965 images in /content/train/neutral.\n",
            "There are 0 directories and 4097 images in /content/train/fear.\n",
            "There are 0 directories and 3995 images in /content/train/angry.\n",
            "There are 0 directories and 436 images in /content/train/disgust.\n",
            "\n",
            "\n",
            "TESTING DATA:\n",
            "\n",
            "There are 7 directories and 0 images in /content/test.\n",
            "There are 0 directories and 1247 images in /content/test/sad.\n",
            "There are 0 directories and 831 images in /content/test/surprise.\n",
            "There are 0 directories and 1774 images in /content/test/happy.\n",
            "There are 0 directories and 1233 images in /content/test/neutral.\n",
            "There are 0 directories and 1024 images in /content/test/fear.\n",
            "There are 0 directories and 958 images in /content/test/angry.\n",
            "There are 0 directories and 111 images in /content/test/disgust.\n"
          ]
        }
      ],
      "source": [
        "# Walking into the directories and listing the number of files in each directories.\n",
        "import os\n",
        "\n",
        "# Walking through the train data directory.\n",
        "print(f'TRAINING DATA:\\n')\n",
        "for dirpath, dirnames, filenames in os.walk('/content/train'):\n",
        "  print(f'There are {len(dirnames)} directories and {len(filenames)} images in {dirpath}.')\n",
        "\n",
        "\n",
        "# Walking through the test data directory.\n",
        "print(f'\\n\\nTESTING DATA:\\n')\n",
        "for dirpath, dirnames, filenames in os.walk('/content/test'):\n",
        "  print(f'There are {len(dirnames)} directories and {len(filenames)} images in {dirpath}.')"
      ]
    },
    {
      "cell_type": "markdown",
      "metadata": {
        "id": "Yhq86iti_z2J"
      },
      "source": [
        "So, basically there are 7 directories present in both train and test dataset which are nothing but the directories representing each class and each directories have a number of images belonging to that class. So, clearly we get an idea that this particular dataset has 7 classes."
      ]
    },
    {
      "cell_type": "code",
      "execution_count": 8,
      "metadata": {
        "colab": {
          "base_uri": "https://localhost:8080/"
        },
        "id": "4YUT3ClRDRcX",
        "outputId": "25682260-8d23-4d80-9f7d-d3754ed8daaf"
      },
      "outputs": [
        {
          "output_type": "stream",
          "name": "stdout",
          "text": [
            "angry  disgust\tfear  happy  neutral  sad  surprise\n"
          ]
        }
      ],
      "source": [
        "# Listing the class names in the dataset.\n",
        "!ls '/content/train'"
      ]
    },
    {
      "cell_type": "markdown",
      "metadata": {
        "id": "jLHKrH1aDhlF"
      },
      "source": [
        "Classes present in the dataset are:  \n",
        "1. **angry**\n",
        "2. **disgust** \n",
        "3. **fear** \n",
        "4. **happy**\n",
        "5. **neutral**\n",
        "6. **sad** \n",
        "7. **surprise**\n",
        "\n",
        "Each of these classes represents human emotions."
      ]
    },
    {
      "cell_type": "markdown",
      "metadata": {
        "id": "juQyhU96K03h"
      },
      "source": [
        "## **Visualising images of each class**\n",
        "\n",
        "Becoming one with the data by visualising different images of each classes which the dataset in comprised of."
      ]
    },
    {
      "cell_type": "code",
      "execution_count": 9,
      "metadata": {
        "id": "agtTIwLfK_IW"
      },
      "outputs": [],
      "source": [
        "# Creating a function to view random images of each class.\n",
        "import random\n",
        "import matplotlib.image as mpimg\n",
        "\n",
        "def view_random_images(target_directory, target_class):\n",
        "  \n",
        "  '''\n",
        "  Takes into the target directory and target class as a path and prints random images of the specified class from the dataset\n",
        "  '''\n",
        "  \n",
        "  # Creating a target folder which will store the folder path taking the directory name and class name.\n",
        "  target_folder = target_directory + '/' + target_class\n",
        "  \n",
        "  # Getting a random image from the target folder and printing the image number.\n",
        "  random_image = random.sample(os.listdir(target_folder),1)\n",
        "  print(f'Image number: {random_image}')\n",
        "\n",
        "  # Reading the image and plotting it using matploltib.\n",
        "  img = mpimg.imread(target_folder + '/' + random_image[0])\n",
        "  plt.imshow(img)\n",
        "  plt.title(target_class.upper(),fontsize = 15)\n",
        "  plt.axis('off')\n",
        "  plt.show()\n",
        "\n",
        "  # Printing the shape of the image along with the image.\n",
        "  print(f'Image shape : {img.shape}')\n",
        "  \n",
        "  return img"
      ]
    },
    {
      "cell_type": "code",
      "execution_count": 10,
      "metadata": {
        "colab": {
          "base_uri": "https://localhost:8080/",
          "height": 429
        },
        "id": "9jPDoebb2BMN",
        "outputId": "3fba962e-3030-4664-ab7f-40137b8c4b21"
      },
      "outputs": [
        {
          "output_type": "stream",
          "name": "stdout",
          "text": [
            "Image number: ['Training_3865960.jpg']\n"
          ]
        },
        {
          "output_type": "display_data",
          "data": {
            "text/plain": [
              "<Figure size 432x288 with 1 Axes>"
            ],
            "image/png": "[encoded data removed]"
          },
          "metadata": {
            "needs_background": "light"
          }
        },
        {
          "output_type": "stream",
          "name": "stdout",
          "text": [
            "Image shape : (48, 48)\n"
          ]
        },
        {
          "output_type": "execute_result",
          "data": {
            "text/plain": [
              "array([[ 95, 100, 101, ...,  89,  91,  82],\n",
              "       [103, 102,  99, ...,  87,  96,  95],\n",
              "       [103,  98,  97, ...,  76,  89,  99],\n",
              "       ...,\n",
              "       [ 71, 109, 156, ...,  97, 113, 113],\n",
              "       [207, 222, 228, ...,  96, 112, 110],\n",
              "       [220, 214, 204, ...,  98, 108, 101]], dtype=uint8)"
            ]
          },
          "metadata": {},
          "execution_count": 10
        }
      ],
      "source": [
        "# Viewing 'angry' class image.\n",
        "view_random_images(target_directory = '/content/train',\n",
        "                   target_class = 'angry')"
      ]
    },
    {
      "cell_type": "code",
      "execution_count": 11,
      "metadata": {
        "colab": {
          "base_uri": "https://localhost:8080/",
          "height": 429
        },
        "id": "lk002Kno2qfP",
        "outputId": "eb7bd370-5820-4c32-dfc1-a7edd0493cc6"
      },
      "outputs": [
        {
          "output_type": "stream",
          "name": "stdout",
          "text": [
            "Image number: ['Training_87899581.jpg']\n"
          ]
        },
        {
          "output_type": "display_data",
          "data": {
            "text/plain": [
              "<Figure size 432x288 with 1 Axes>"
            ],
            "image/png": "[encoded data removed]"
          },
          "metadata": {
            "needs_background": "light"
          }
        },
        {
          "output_type": "stream",
          "name": "stdout",
          "text": [
            "Image shape : (48, 48)\n"
          ]
        },
        {
          "output_type": "execute_result",
          "data": {
            "text/plain": [
              "array([[ 59,  49,  47, ..., 137, 137, 138],\n",
              "       [ 63,  54,  52, ..., 138, 139, 137],\n",
              "       [ 66,  56,  51, ..., 136, 139, 135],\n",
              "       ...,\n",
              "       [172,  72,  57, ..., 176, 181, 185],\n",
              "       [190, 113,  62, ..., 181, 181, 178],\n",
              "       [197, 157,  86, ..., 182, 183, 184]], dtype=uint8)"
            ]
          },
          "metadata": {},
          "execution_count": 11
        }
      ],
      "source": [
        "# Viewing 'disgust' class image.\n",
        "view_random_images(target_directory = '/content/train',\n",
        "                   target_class = 'disgust')"
      ]
    },
    {
      "cell_type": "code",
      "execution_count": 12,
      "metadata": {
        "colab": {
          "base_uri": "https://localhost:8080/",
          "height": 429
        },
        "id": "UwRLnHad23QK",
        "outputId": "372942c7-0eb4-4c41-d4b9-7cf6524a2c32"
      },
      "outputs": [
        {
          "output_type": "stream",
          "name": "stdout",
          "text": [
            "Image number: ['Training_26823187.jpg']\n"
          ]
        },
        {
          "output_type": "display_data",
          "data": {
            "text/plain": [
              "<Figure size 432x288 with 1 Axes>"
            ],
            "image/png": "[encoded data removed]"
          },
          "metadata": {
            "needs_background": "light"
          }
        },
        {
          "output_type": "stream",
          "name": "stdout",
          "text": [
            "Image shape : (48, 48)\n"
          ]
        },
        {
          "output_type": "execute_result",
          "data": {
            "text/plain": [
              "array([[  1,  16,  60, ...,   0,   1,   0],\n",
              "       [  0,  37,  84, ...,   0,   0,   0],\n",
              "       [  5,  66, 118, ...,   2,   0,   1],\n",
              "       ...,\n",
              "       [  1,   0,   2, ...,   0,   4,   0],\n",
              "       [  7,   0,   1, ...,   6,  15,   5],\n",
              "       [ 17,   3,   0, ...,  14,  12,   4]], dtype=uint8)"
            ]
          },
          "metadata": {},
          "execution_count": 12
        }
      ],
      "source": [
        "# Viewing 'fear' class image.\n",
        "view_random_images(target_directory = '/content/train',\n",
        "                   target_class = 'fear')"
      ]
    },
    {
      "cell_type": "code",
      "execution_count": 13,
      "metadata": {
        "colab": {
          "base_uri": "https://localhost:8080/",
          "height": 429
        },
        "id": "IbbkRsDT3Jat",
        "outputId": "35b84631-0196-499c-a7d8-24502ae24b89"
      },
      "outputs": [
        {
          "output_type": "stream",
          "name": "stdout",
          "text": [
            "Image number: ['Training_99696055.jpg']\n"
          ]
        },
        {
          "output_type": "display_data",
          "data": {
            "text/plain": [
              "<Figure size 432x288 with 1 Axes>"
            ],
            "image/png": "[encoded data removed]"
          },
          "metadata": {
            "needs_background": "light"
          }
        },
        {
          "output_type": "stream",
          "name": "stdout",
          "text": [
            "Image shape : (48, 48)\n"
          ]
        },
        {
          "output_type": "execute_result",
          "data": {
            "text/plain": [
              "array([[207, 217, 225, ...,  13,  10,  17],\n",
              "       [206, 216, 225, ...,  20,  19,  30],\n",
              "       [205, 215, 224, ...,  31,  29,  40],\n",
              "       ...,\n",
              "       [223, 223, 229, ..., 216, 225, 222],\n",
              "       [238, 247, 246, ..., 224, 226, 230],\n",
              "       [173, 217, 215, ..., 222, 229, 228]], dtype=uint8)"
            ]
          },
          "metadata": {},
          "execution_count": 13
        }
      ],
      "source": [
        "# Viewing 'happy' class image.\n",
        "view_random_images(target_directory = '/content/train',\n",
        "                   target_class = 'happy')"
      ]
    },
    {
      "cell_type": "code",
      "execution_count": 14,
      "metadata": {
        "colab": {
          "base_uri": "https://localhost:8080/",
          "height": 429
        },
        "id": "2BopBN8w3Oeh",
        "outputId": "dd79c384-6255-4aa1-d520-860a60f13f5f"
      },
      "outputs": [
        {
          "output_type": "stream",
          "name": "stdout",
          "text": [
            "Image number: ['Training_60832888.jpg']\n"
          ]
        },
        {
          "output_type": "display_data",
          "data": {
            "text/plain": [
              "<Figure size 432x288 with 1 Axes>"
            ],
            "image/png": "[encoded data removed]"
          },
          "metadata": {
            "needs_background": "light"
          }
        },
        {
          "output_type": "stream",
          "name": "stdout",
          "text": [
            "Image shape : (48, 48)\n"
          ]
        },
        {
          "output_type": "execute_result",
          "data": {
            "text/plain": [
              "array([[237, 236, 144, ..., 237, 236, 234],\n",
              "       [244, 211, 136, ..., 234, 232, 238],\n",
              "       [245, 175, 144, ..., 238, 232, 233],\n",
              "       ...,\n",
              "       [118, 117,  82, ..., 229, 229, 237],\n",
              "       [116, 105,  80, ..., 231, 232, 235],\n",
              "       [116, 104,  89, ..., 220, 235, 239]], dtype=uint8)"
            ]
          },
          "metadata": {},
          "execution_count": 14
        }
      ],
      "source": [
        "# Viewing 'neutral' class image.\n",
        "view_random_images(target_directory = '/content/train',\n",
        "                   target_class = 'neutral')"
      ]
    },
    {
      "cell_type": "code",
      "execution_count": 15,
      "metadata": {
        "colab": {
          "base_uri": "https://localhost:8080/",
          "height": 429
        },
        "id": "kfV_8bQU3YMT",
        "outputId": "8b247bf0-b787-4dce-aab0-35a0527c114b"
      },
      "outputs": [
        {
          "output_type": "stream",
          "name": "stdout",
          "text": [
            "Image number: ['Training_84870227.jpg']\n"
          ]
        },
        {
          "output_type": "display_data",
          "data": {
            "text/plain": [
              "<Figure size 432x288 with 1 Axes>"
            ],
            "image/png": "[encoded data removed]"
          },
          "metadata": {
            "needs_background": "light"
          }
        },
        {
          "output_type": "stream",
          "name": "stdout",
          "text": [
            "Image shape : (48, 48)\n"
          ]
        },
        {
          "output_type": "execute_result",
          "data": {
            "text/plain": [
              "array([[ 48,  36,  40, ..., 255, 254, 255],\n",
              "       [ 46,  42,  45, ..., 255, 255, 254],\n",
              "       [ 44,  47,  38, ..., 255, 255, 255],\n",
              "       ...,\n",
              "       [148, 147, 141, ..., 107, 108, 105],\n",
              "       [151, 152, 147, ..., 107, 109, 106],\n",
              "       [154, 156, 149, ..., 110, 109, 107]], dtype=uint8)"
            ]
          },
          "metadata": {},
          "execution_count": 15
        }
      ],
      "source": [
        "# Viewing 'sad' class image.\n",
        "view_random_images(target_directory = '/content/train',\n",
        "                   target_class = 'sad')"
      ]
    },
    {
      "cell_type": "code",
      "execution_count": 16,
      "metadata": {
        "colab": {
          "base_uri": "https://localhost:8080/",
          "height": 429
        },
        "id": "1FYwTQGn3gtS",
        "outputId": "19a07dbe-cd96-4f3a-fe42-1d723432b822"
      },
      "outputs": [
        {
          "output_type": "stream",
          "name": "stdout",
          "text": [
            "Image number: ['Training_96765324.jpg']\n"
          ]
        },
        {
          "output_type": "display_data",
          "data": {
            "text/plain": [
              "<Figure size 432x288 with 1 Axes>"
            ],
            "image/png": "[encoded data removed]"
          },
          "metadata": {
            "needs_background": "light"
          }
        },
        {
          "output_type": "stream",
          "name": "stdout",
          "text": [
            "Image shape : (48, 48)\n"
          ]
        },
        {
          "output_type": "execute_result",
          "data": {
            "text/plain": [
              "array([[159, 167, 156, ..., 145, 161, 161],\n",
              "       [163, 163, 155, ..., 152, 157, 160],\n",
              "       [163, 160, 135, ..., 149, 165, 162],\n",
              "       ...,\n",
              "       [153, 156, 155, ..., 152, 144, 154],\n",
              "       [151, 153, 153, ..., 145, 150, 147],\n",
              "       [153, 153, 152, ..., 148, 152, 149]], dtype=uint8)"
            ]
          },
          "metadata": {},
          "execution_count": 16
        }
      ],
      "source": [
        "# Viewing 'surprise' class image.\n",
        "view_random_images(target_directory = '/content/train',\n",
        "                   target_class = 'surprise')"
      ]
    },
    {
      "cell_type": "markdown",
      "metadata": {
        "id": "C-ZefKCa67cV"
      },
      "source": [
        "Points to be noted after viewing the images above:\n",
        "* Image values are not scaled.\n",
        "* Images are of shape 48X48.\n",
        "* Images are not in RGB colour mode."
      ]
    },
    {
      "cell_type": "markdown",
      "metadata": {
        "id": "1YQL8hex5kMv"
      },
      "source": [
        "## **Pre-processing data**"
      ]
    },
    {
      "cell_type": "markdown",
      "metadata": {
        "id": "tEpZeswf3-Xp"
      },
      "source": [
        "The image array values needs scaling in order to make our model perform better."
      ]
    },
    {
      "cell_type": "code",
      "execution_count": 17,
      "metadata": {
        "id": "KmuWgj455fV7"
      },
      "outputs": [],
      "source": [
        "# Setting up the path to data directories.\n",
        "train_dir = '/content/train'\n",
        "test_dir = '/content/test'"
      ]
    },
    {
      "cell_type": "code",
      "execution_count": 18,
      "metadata": {
        "id": "MZgfCVQK9Xqf"
      },
      "outputs": [],
      "source": [
        "# Flipping and scaling the data.\n",
        "from tensorflow.keras.preprocessing.image import ImageDataGenerator\n",
        "\n",
        "train_datagen = ImageDataGenerator(rescale = 1./255)\n",
        "validation_datagen = ImageDataGenerator(rescale = 1./255)"
      ]
    },
    {
      "cell_type": "code",
      "execution_count": 19,
      "metadata": {
        "colab": {
          "base_uri": "https://localhost:8080/"
        },
        "id": "x4agQo2KAWsQ",
        "outputId": "cc988ac9-a707-4cd7-ff05-6e7798cc9188"
      },
      "outputs": [
        {
          "output_type": "stream",
          "name": "stdout",
          "text": [
            "Found 28709 images belonging to 7 classes.\n",
            "Found 7178 images belonging to 7 classes.\n"
          ]
        }
      ],
      "source": [
        "# Getting the train and test(validation) dataset ready for model creation.\n",
        "train_data = train_datagen.flow_from_directory(directory = train_dir,              \n",
        "                                               batch_size = 32,                 \n",
        "                                               target_size = (48, 48),          \n",
        "                                               color_mode = 'grayscale',                                \n",
        "                                               class_mode = 'categorical')\n",
        "\n",
        "test_data = validation_datagen.flow_from_directory(directory = test_dir,              \n",
        "                                                   batch_size = 32,                 \n",
        "                                                   target_size = (48, 48),          \n",
        "                                                   color_mode = 'grayscale',              \n",
        "                                                   shuffle = False,                  \n",
        "                                                   class_mode = 'categorical')"
      ]
    },
    {
      "cell_type": "markdown",
      "metadata": {
        "id": "o9IFGgkTEeA_"
      },
      "source": [
        "* Training set has **28709** images in total belonging to 7 classes.\n",
        "* Testing set has **7178** images in total belonging to 7 classes."
      ]
    },
    {
      "cell_type": "markdown",
      "metadata": {
        "id": "IrtEGt3i7kpO"
      },
      "source": [
        "**As, the pre-processing stage is handled as per requirement, now its time to create different models using different architectures and comparing the model performances, post model training and choosing the one with highest accuracy in order to use it in the face emotion detection application.**"
      ]
    },
    {
      "cell_type": "markdown",
      "metadata": {
        "id": "jY2CY7xx8fkN"
      },
      "source": [
        "## **Model building**\n",
        "\n",
        "Architectures which will be used in order to build models are as follows:\n",
        "1. **Convolutional Neural Networks (CNN)**\n",
        "2. **efficientnet (EfficientNetB0, EfficientNetB1)**\n",
        "3. **resnet50**\n",
        "\n",
        "At first \"CNN\" will be used to create model followed by transfer learning using \"EfficientNet\" & \"ResNet50\"."
      ]
    },
    {
      "cell_type": "markdown",
      "metadata": {
        "id": "UfVB40w5CZDM"
      },
      "source": [
        "Changing the runtime type to \"GPU\" which is offered by Google Colaboratory in order to train the model faster."
      ]
    },
    {
      "cell_type": "code",
      "execution_count": 20,
      "metadata": {
        "id": "WLrNrPliC73w",
        "colab": {
          "base_uri": "https://localhost:8080/"
        },
        "outputId": "faa7dacd-0180-480d-f5f3-ef8e7732ec1e"
      },
      "outputs": [
        {
          "output_type": "stream",
          "name": "stdout",
          "text": [
            "Mon May  9 13:50:06 2022       \n",
            "+-----------------------------------------------------------------------------+\n",
            "| NVIDIA-SMI 460.32.03    Driver Version: 460.32.03    CUDA Version: 11.2     |\n",
            "|-------------------------------+----------------------+----------------------+\n",
            "| GPU  Name        Persistence-M| Bus-Id        Disp.A | Volatile Uncorr. ECC |\n",
            "| Fan  Temp  Perf  Pwr:Usage/Cap|         Memory-Usage | GPU-Util  Compute M. |\n",
            "|                               |                      |               MIG M. |\n",
            "|===============================+======================+======================|\n",
            "|   0  Tesla T4            Off  | 00000000:00:04.0 Off |                    0 |\n",
            "| N/A   45C    P8     9W /  70W |      0MiB / 15109MiB |      0%      Default |\n",
            "|                               |                      |                  N/A |\n",
            "+-------------------------------+----------------------+----------------------+\n",
            "                                                                               \n",
            "+-----------------------------------------------------------------------------+\n",
            "| Processes:                                                                  |\n",
            "|  GPU   GI   CI        PID   Type   Process name                  GPU Memory |\n",
            "|        ID   ID                                                   Usage      |\n",
            "|=============================================================================|\n",
            "|  No running processes found                                                 |\n",
            "+-----------------------------------------------------------------------------+\n"
          ]
        }
      ],
      "source": [
        "# Checking the GPU details.\n",
        "!nvidia-smi"
      ]
    },
    {
      "cell_type": "markdown",
      "metadata": {
        "id": "5VEwvLtfBnAf"
      },
      "source": [
        "### **Custom CNN model**\n",
        "\n",
        "CNN is a deep learning neural network sketched for processing structured arrays of data such as portrayals or images. CNN are very good at picking up on patterns in the input image, such as lines, gradients, circles or even eyes and faces. "
      ]
    },
    {
      "cell_type": "code",
      "execution_count": 40,
      "metadata": {
        "id": "aS3tyQS8CCSq"
      },
      "outputs": [],
      "source": [
        "# Building a CNN model using the sequential API.\n",
        "from tensorflow.keras.layers import Dense, Flatten, Conv2D, MaxPool2D, BatchNormalization, Dropout\n",
        "from tensorflow.keras import Sequential\n",
        "from tensorflow.keras.optimizers import Adam\n",
        "from tensorflow.keras.callbacks import Callback, EarlyStopping, ReduceLROnPlateau\n",
        "\n",
        "model_A = Sequential([\n",
        "    \n",
        "    # 1st CNN layer.\n",
        "    Conv2D(64, (3,3), padding = 'same', input_shape = (48,48,1), activation = 'relu'),\n",
        "    BatchNormalization(),\n",
        "    MaxPool2D(pool_size = (2,2)),\n",
        "    Dropout(0.25),\n",
        "\n",
        "    # 2nd CNN layer.\n",
        "    Conv2D(128, (5,5), padding = 'same',activation = 'relu'),\n",
        "    BatchNormalization(),\n",
        "    MaxPool2D(pool_size = (2,2)),\n",
        "    Dropout(0.25),\n",
        "\n",
        "    # 3rd CNN layer.\n",
        "    Conv2D(512, (3,3), padding = 'same',activation = 'relu'),\n",
        "    BatchNormalization(),\n",
        "    MaxPool2D(pool_size = (2,2)),\n",
        "    Dropout(0.25),\n",
        "\n",
        "    # 4th CNN layer.\n",
        "    Conv2D(512, (3,3), padding = 'same',activation = 'relu'),\n",
        "    BatchNormalization(),\n",
        "    MaxPool2D(pool_size = (2,2)),\n",
        "    Dropout(0.25),\n",
        "\n",
        "    # Layer to flatten the input layer.\n",
        "    Flatten(),\n",
        "\n",
        "    # 1st fully connected layer.\n",
        "    Dense(256, activation = 'relu'),\n",
        "    BatchNormalization(),\n",
        "    Dropout(0.25),\n",
        "\n",
        "    # 2nd fully connected layer.\n",
        "    Dense(512, activation = 'relu'),\n",
        "    BatchNormalization(),\n",
        "    Dropout(0.25),\n",
        "\n",
        "    # Output layer.\n",
        "    Dense(7, activation = 'softmax')                             # Number of classes = 7.\n",
        "])"
      ]
    },
    {
      "cell_type": "code",
      "execution_count": 41,
      "metadata": {
        "id": "PKze7T2NqmGI"
      },
      "outputs": [],
      "source": [
        "# Compiling the model.\n",
        "model_A.compile(loss = 'categorical_crossentropy',\n",
        "                optimizer = Adam(learning_rate = 0.001),\n",
        "                metrics = ['accuracy'])"
      ]
    },
    {
      "cell_type": "code",
      "execution_count": 42,
      "metadata": {
        "id": "HqkQKAan9Piv"
      },
      "outputs": [],
      "source": [
        "# Creating callbacks.\n",
        "early_stopping = EarlyStopping(monitor='val_loss',\n",
        "                              min_delta=0,\n",
        "                              patience=3,\n",
        "                              verbose=1,\n",
        "                              restore_best_weights=True)\n",
        "# Stops training when a monitored metric has stopped improving.\n",
        "\n",
        "\n",
        "reduce_learningrate = ReduceLROnPlateau(monitor='val_loss',\n",
        "                                        factor=0.2,\n",
        "                                        patience=3,\n",
        "                                        verbose=1,\n",
        "                                        min_delta=0.0001)\n",
        "# Reduces learning rate when a metric stops improving."
      ]
    },
    {
      "cell_type": "code",
      "execution_count": 43,
      "metadata": {
        "colab": {
          "base_uri": "https://localhost:8080/"
        },
        "id": "8Fscc2AZ-nQb",
        "outputId": "c6a1f5b4-e50f-442e-e55d-bb5fa5d56cd9"
      },
      "outputs": [
        {
          "output_type": "stream",
          "name": "stdout",
          "text": [
            "Epoch 1/50\n",
            "898/898 [==============================] - 56s 21ms/step - loss: 1.9531 - accuracy: 0.2674 - val_loss: 1.8297 - val_accuracy: 0.3214 - lr: 0.0010\n",
            "Epoch 2/50\n",
            "898/898 [==============================] - 19s 21ms/step - loss: 1.5321 - accuracy: 0.4102 - val_loss: 1.6828 - val_accuracy: 0.3645 - lr: 0.0010\n",
            "Epoch 3/50\n",
            "898/898 [==============================] - 19s 21ms/step - loss: 1.3235 - accuracy: 0.4921 - val_loss: 1.3297 - val_accuracy: 0.4911 - lr: 0.0010\n",
            "Epoch 4/50\n",
            "898/898 [==============================] - 19s 21ms/step - loss: 1.2322 - accuracy: 0.5298 - val_loss: 1.3376 - val_accuracy: 0.5162 - lr: 0.0010\n",
            "Epoch 5/50\n",
            "898/898 [==============================] - 19s 21ms/step - loss: 1.1624 - accuracy: 0.5591 - val_loss: 1.7354 - val_accuracy: 0.3432 - lr: 0.0010\n",
            "Epoch 6/50\n",
            "898/898 [==============================] - 19s 21ms/step - loss: 1.1166 - accuracy: 0.5813 - val_loss: 1.1367 - val_accuracy: 0.5677 - lr: 0.0010\n",
            "Epoch 7/50\n",
            "898/898 [==============================] - 19s 21ms/step - loss: 1.0527 - accuracy: 0.6064 - val_loss: 1.3558 - val_accuracy: 0.4967 - lr: 0.0010\n",
            "Epoch 8/50\n",
            "898/898 [==============================] - 19s 21ms/step - loss: 0.9930 - accuracy: 0.6310 - val_loss: 1.0716 - val_accuracy: 0.6074 - lr: 0.0010\n",
            "Epoch 9/50\n",
            "898/898 [==============================] - 19s 21ms/step - loss: 0.9312 - accuracy: 0.6521 - val_loss: 1.1049 - val_accuracy: 0.5896 - lr: 0.0010\n",
            "Epoch 10/50\n",
            "898/898 [==============================] - 19s 21ms/step - loss: 0.8797 - accuracy: 0.6749 - val_loss: 1.1067 - val_accuracy: 0.5989 - lr: 0.0010\n",
            "Epoch 11/50\n",
            "896/898 [============================>.] - ETA: 0s - loss: 0.8162 - accuracy: 0.6975Restoring model weights from the end of the best epoch: 8.\n",
            "\n",
            "Epoch 11: ReduceLROnPlateau reducing learning rate to 0.00020000000949949026.\n",
            "898/898 [==============================] - 19s 21ms/step - loss: 0.8158 - accuracy: 0.6976 - val_loss: 1.2794 - val_accuracy: 0.5455 - lr: 0.0010\n",
            "Epoch 11: early stopping\n"
          ]
        }
      ],
      "source": [
        "# Fitting the model.\n",
        "history_model_A = model_A.fit_generator(generator = train_data,\n",
        "                                        epochs = 50,\n",
        "                                        steps_per_epoch = len(train_data),\n",
        "                                        validation_data = test_data,\n",
        "                                        validation_steps = test_data.n // test_data.batch_size,\n",
        "                                        callbacks = [early_stopping, reduce_learningrate]) "
      ]
    },
    {
      "cell_type": "code",
      "source": [
        "# Evaluating model performance on overall test data.\n",
        "model_A.evaluate(test_data)"
      ],
      "metadata": {
        "colab": {
          "base_uri": "https://localhost:8080/"
        },
        "id": "tmbhDyrgLhg5",
        "outputId": "bdeb2e1b-37ad-4134-8c31-9a997b161758"
      },
      "execution_count": 45,
      "outputs": [
        {
          "output_type": "stream",
          "name": "stdout",
          "text": [
            "225/225 [==============================] - 3s 13ms/step - loss: 1.0704 - accuracy: 0.6080\n"
          ]
        },
        {
          "output_type": "execute_result",
          "data": {
            "text/plain": [
              "[1.0703988075256348, 0.607968807220459]"
            ]
          },
          "metadata": {},
          "execution_count": 45
        }
      ]
    },
    {
      "cell_type": "markdown",
      "source": [
        "The accuracy of the model came out to be **60.80%**"
      ],
      "metadata": {
        "id": "TGN4hIVlMKiJ"
      }
    },
    {
      "cell_type": "code",
      "source": [
        "# Checking the model summary.\n",
        "model_A.summary()"
      ],
      "metadata": {
        "colab": {
          "base_uri": "https://localhost:8080/"
        },
        "id": "x8Q8M7g6MS8d",
        "outputId": "e0a9b29b-35fb-4a63-bf3c-91959485d07d"
      },
      "execution_count": 46,
      "outputs": [
        {
          "output_type": "stream",
          "name": "stdout",
          "text": [
            "Model: \"sequential_5\"\n",
            "_________________________________________________________________\n",
            " Layer (type)                Output Shape              Param #   \n",
            "=================================================================\n",
            " conv2d_20 (Conv2D)          (None, 48, 48, 64)        640       \n",
            "                                                                 \n",
            " batch_normalization_30 (Bat  (None, 48, 48, 64)       256       \n",
            " chNormalization)                                                \n",
            "                                                                 \n",
            " max_pooling2d_20 (MaxPoolin  (None, 24, 24, 64)       0         \n",
            " g2D)                                                            \n",
            "                                                                 \n",
            " dropout_30 (Dropout)        (None, 24, 24, 64)        0         \n",
            "                                                                 \n",
            " conv2d_21 (Conv2D)          (None, 24, 24, 128)       204928    \n",
            "                                                                 \n",
            " batch_normalization_31 (Bat  (None, 24, 24, 128)      512       \n",
            " chNormalization)                                                \n",
            "                                                                 \n",
            " max_pooling2d_21 (MaxPoolin  (None, 12, 12, 128)      0         \n",
            " g2D)                                                            \n",
            "                                                                 \n",
            " dropout_31 (Dropout)        (None, 12, 12, 128)       0         \n",
            "                                                                 \n",
            " conv2d_22 (Conv2D)          (None, 12, 12, 512)       590336    \n",
            "                                                                 \n",
            " batch_normalization_32 (Bat  (None, 12, 12, 512)      2048      \n",
            " chNormalization)                                                \n",
            "                                                                 \n",
            " max_pooling2d_22 (MaxPoolin  (None, 6, 6, 512)        0         \n",
            " g2D)                                                            \n",
            "                                                                 \n",
            " dropout_32 (Dropout)        (None, 6, 6, 512)         0         \n",
            "                                                                 \n",
            " conv2d_23 (Conv2D)          (None, 6, 6, 512)         2359808   \n",
            "                                                                 \n",
            " batch_normalization_33 (Bat  (None, 6, 6, 512)        2048      \n",
            " chNormalization)                                                \n",
            "                                                                 \n",
            " max_pooling2d_23 (MaxPoolin  (None, 3, 3, 512)        0         \n",
            " g2D)                                                            \n",
            "                                                                 \n",
            " dropout_33 (Dropout)        (None, 3, 3, 512)         0         \n",
            "                                                                 \n",
            " flatten_5 (Flatten)         (None, 4608)              0         \n",
            "                                                                 \n",
            " dense_15 (Dense)            (None, 256)               1179904   \n",
            "                                                                 \n",
            " batch_normalization_34 (Bat  (None, 256)              1024      \n",
            " chNormalization)                                                \n",
            "                                                                 \n",
            " dropout_34 (Dropout)        (None, 256)               0         \n",
            "                                                                 \n",
            " dense_16 (Dense)            (None, 512)               131584    \n",
            "                                                                 \n",
            " batch_normalization_35 (Bat  (None, 512)              2048      \n",
            " chNormalization)                                                \n",
            "                                                                 \n",
            " dropout_35 (Dropout)        (None, 512)               0         \n",
            "                                                                 \n",
            " dense_17 (Dense)            (None, 7)                 3591      \n",
            "                                                                 \n",
            "=================================================================\n",
            "Total params: 4,478,727\n",
            "Trainable params: 4,474,759\n",
            "Non-trainable params: 3,968\n",
            "_________________________________________________________________\n"
          ]
        }
      ]
    }
  ],
  "metadata": {
    "colab": {
      "collapsed_sections": [],
      "name": "Live Class Monitoring System (Face Emotion Recognition).ipynb",
      "provenance": [],
      "authorship_tag": "ABX9TyOTkRMNAoKL/QAB3ddc0dX4",
      "include_colab_link": true
    },
    "kernelspec": {
      "display_name": "Python 3",
      "name": "python3"
    },
    "language_info": {
      "name": "python"
    },
    "accelerator": "GPU"
  },
  "nbformat": 4,
  "nbformat_minor": 0
}