{
  "cells": [
    {
      "cell_type": "markdown",
      "metadata": {
        "id": "view-in-github",
        "colab_type": "text"
      },
      "source": [
        "<a href=\"https://colab.research.google.com/github/Arka1212/Live-Class-Monitoring-System-Face-Emotion-Recognition/blob/main/Live_Class_Monitoring_System_(Face_Emotion_Recognition).ipynb\" target=\"_parent\"><img src=\"https://colab.research.google.com/assets/colab-badge.svg\" alt=\"Open In Colab\"/></a>"
      ]
    },
    {
      "cell_type": "markdown",
      "metadata": {
        "id": "PS-9XGzY8Oku"
      },
      "source": [
        "# **Live Class Monitoring System (Face Emotion Recognition)**\n",
        "\n",
        "## **Project Introduction**\n",
        "The Indian education landscape has been undergoing rapid changes for the past 10 years owing to the advancement of web-based learning services, specifically, eLearning platforms. \n",
        "\n",
        "Global E-learning is estimated to witness an 8X over the next 5 years to reach USD 2B in 2021. India is expected to grow with a CAGR of 44% crossing the 10M users mark in 2021. Although the market is growing on a rapid scale, there are major challenges associated with digital learning when compared with brick and mortar classrooms. One of many challenges is how to ensure quality learning for students. Digital platforms might overpower physical classrooms in terms of content quality but when it comes to understanding whether students are able to grasp the content in a live class scenario is yet an open-end challenge.\n",
        "\n",
        "In a physical classroom during a lecturing teacher can see the faces and assess the emotion of the class and tune their lecture accordingly, whether he is going fast or slow. He can identify students who need special attention. Digital classrooms are conducted via video telephony software program (exZoom) where it’s not possible for medium scale class (25-50) to see all students and access the mood. Because of this drawback, students are not focusing on content due to lack of surveillance. While digital platforms have limitations in terms of physical surveillance but it comes with the power of data and machines which can work for you. It provides data in the form of video, audio, and texts which can be analysed using deep learning algorithms. Deep learning backed system not only solves the surveillance issue, but it also removes the human bias from the system, and all information is no longer in the teacher’s brain rather translated in numbers that can be analysed and tracked.\n",
        "\n",
        "## **Problem Statement**\n",
        "The problem statement focuses on solving the above-mentioned challenge by applying deep learning algorithms to live video data. The solution to this problem is by recognizing facial emotions. This is a few shot learning live face emotion detection system. The model should be able to real-time identify the emotions of students in a live class.\n",
        "\n",
        "## **Dataset Link**\n",
        "Dataset: https://www.kaggle.com/msambare/fer2013\n"
      ]
    },
    {
      "cell_type": "markdown",
      "metadata": {
        "id": "nOZeBc8C-T1j"
      },
      "source": [
        "**-------------------------------------------------------------------------------------------------------------------------------------------------------------------**\n",
        "**-------------------------------------------------------------------------------------------------------------------------------------------------------------------**"
      ]
    },
    {
      "cell_type": "markdown",
      "source": [
        "### **Required Libraries**\n",
        "\n",
        "➡️ Following are the bunch of 'Python' libraries we need to import in order to perform necessary operation with the data & model building."
      ],
      "metadata": {
        "id": "gix7WwiAh1Up"
      }
    },
    {
      "cell_type": "code",
      "source": [
        "# Importing necesssary libraries.\n",
        "import numpy as np\n",
        "import pandas as pd\n",
        "import cv2                                    # Importing 'OpenCV'\n",
        "import matplotlib.pyplot as plt\n",
        "from matplotlib.image import imread\n",
        "import matplotlib.image as mpimg\n",
        "import seaborn as sns\n",
        "import random     \n",
        "\n",
        "import tensorflow as tf\n",
        "from tensorflow.keras.models import Sequential                                                            \n",
        "from tensorflow.keras import layers\n",
        "from tensorflow.keras.layers import Conv2D,MaxPooling2D, Dense, Dropout, Flatten, BatchNormalization,Activation,GlobalAveragePooling2D\n",
        "from tensorflow.keras.preprocessing.image import ImageDataGenerator\n",
        "from tensorflow.keras.optimizers import Adam\n",
        "from tensorflow.keras.losses import categorical_crossentropy\n",
        "from tensorflow.keras.callbacks import EarlyStopping, ModelCheckpoint, ReduceLROnPlateau\n",
        "from tensorflow.keras.models import load_model\n",
        "from tensorflow.keras import Model\n",
        "\n",
        "from sklearn.metrics import confusion_matrix, classification_report\n",
        "from sklearn.metrics import accuracy_score\n",
        "import zipfile\n",
        "import pathlib\n",
        "import os\n",
        "\n",
        "# Removing warnings.\n",
        "import warnings                                                                                \n",
        "warnings.filterwarnings('ignore')\n",
        "warnings.simplefilter('ignore')"
      ],
      "metadata": {
        "id": "b49ELzcZl289"
      },
      "execution_count": 11,
      "outputs": []
    },
    {
      "cell_type": "code",
      "source": [
        "# Checking the 'TensorFlow' version.\n",
        "print(f'Tensorflow version ----> {tf.__version__}')"
      ],
      "metadata": {
        "colab": {
          "base_uri": "https://localhost:8080/"
        },
        "id": "aS_OFOODpM-l",
        "outputId": "396eb3ca-0fe6-45ea-817d-7f4fbb03c580"
      },
      "execution_count": null,
      "outputs": [
        {
          "output_type": "stream",
          "name": "stdout",
          "text": [
            "Tensorflow version ----> 2.8.0\n"
          ]
        }
      ]
    },
    {
      "cell_type": "markdown",
      "source": [
        "### **Data Loading & Inspection**\n",
        "\n",
        "➡️ In this particular step, dataset will be downloaded from the source and post downloading, some inspection will be performed to view how   the data actually looks and what the dataset is actually comprised of."
      ],
      "metadata": {
        "id": "6Bb-3O_5qUrj"
      }
    },
    {
      "cell_type": "code",
      "source": [
        "# Mounting the drive.\n",
        "from google.colab import drive\n",
        "drive.mount('/content/drive')"
      ],
      "metadata": {
        "colab": {
          "base_uri": "https://localhost:8080/"
        },
        "id": "DsFmNJiYqZlV",
        "outputId": "51c89f5a-8111-415e-ee8f-088480b46bb0"
      },
      "execution_count": null,
      "outputs": [
        {
          "output_type": "stream",
          "name": "stdout",
          "text": [
            "Mounted at /content/drive\n"
          ]
        }
      ]
    },
    {
      "cell_type": "code",
      "source": [
        "# Loading data.\n",
        "fn = '/content/drive/MyDrive/Capstone Projects/Deep Learning/Live Class Monitoring System (Face Emotion Recognition)/Face Emotion Dataset.zip'\n",
        "\n",
        "# Unzipping the downloaded data as its in zip format.\n",
        "zip_ref = zipfile.ZipFile(fn)\n",
        "zip_ref.extractall()\n",
        "zip_ref.close()"
      ],
      "metadata": {
        "id": "3GhGsQM2xn9b"
      },
      "execution_count": null,
      "outputs": []
    },
    {
      "cell_type": "markdown",
      "source": [
        "◾ The dataset is already splitted into train & test set."
      ],
      "metadata": {
        "id": "WwjAwSUVzGjI"
      }
    },
    {
      "cell_type": "code",
      "source": [
        "# Different directories in train & test set.\n",
        "!ls '/content/test'\n",
        "!ls '/content/train'"
      ],
      "metadata": {
        "colab": {
          "base_uri": "https://localhost:8080/"
        },
        "id": "TOk9xPKD0jkz",
        "outputId": "1a9ade1f-0b99-499e-8a91-879e9339dd39"
      },
      "execution_count": null,
      "outputs": [
        {
          "output_type": "stream",
          "name": "stdout",
          "text": [
            "angry  disgust\tfear  happy  neutral  sad  surprise\n",
            "angry  disgust\tfear  happy  neutral  sad  surprise\n"
          ]
        }
      ]
    },
    {
      "cell_type": "markdown",
      "source": [
        "◾ Both the train & test set have 7 directories each which actually are the different classes of the dataset."
      ],
      "metadata": {
        "id": "3VVDPSLc06bz"
      }
    },
    {
      "cell_type": "code",
      "source": [
        "# Getting the class names programmatically.\n",
        "data_directory = pathlib.Path('/content/train')\n",
        "class_names = np.array(sorted([item.name for item in data_directory.glob('*')]))    \n",
        "# 'glob' returns all file paths that match a specific pattern.\n",
        "\n",
        "print(class_names)\n",
        "print(f'Total number of classes are {len(class_names)}')"
      ],
      "metadata": {
        "colab": {
          "base_uri": "https://localhost:8080/"
        },
        "id": "AxjPLXpP12_K",
        "outputId": "afa998b5-6500-4756-b883-4712a9d028de"
      },
      "execution_count": null,
      "outputs": [
        {
          "output_type": "stream",
          "name": "stdout",
          "text": [
            "['angry' 'disgust' 'fear' 'happy' 'neutral' 'sad' 'surprise']\n",
            "Total number of classes are 7\n"
          ]
        }
      ]
    },
    {
      "cell_type": "markdown",
      "source": [
        "In total, dataset has 7 classes. They are as follows:\n",
        "1. 😠 **angry**\n",
        "2. 😖 **disgust**\n",
        "3. 😨 **fear**\n",
        "4. 😊 **happy**\n",
        "5. 😐 **neutral**\n",
        "6. ☹️ **sad**\n",
        "7. 😯 **surprise**"
      ],
      "metadata": {
        "id": "49KaDK7a2bAC"
      }
    },
    {
      "cell_type": "code",
      "source": [
        "# Creating test and train directories.\n",
        "test_dir = '/content/test'\n",
        "train_dir = '/content/train'"
      ],
      "metadata": {
        "id": "-qMNS-4xe4mu"
      },
      "execution_count": 8,
      "outputs": []
    },
    {
      "cell_type": "code",
      "source": [
        "# Creating a helper function to visualise the images.\n",
        "def view_random_images(target_directory, target_class):\n",
        "  '''\n",
        "  Follows through the target directory and target folder and gets a random image printed from the respective directory.\n",
        "  '''\n",
        "  target_folder = target_directory + '/' + target_class\n",
        "\n",
        "  # Getting a random image from the target folder.\n",
        "  random_image = random.sample(os.listdir(target_folder),1)\n",
        "  print(f'Image number: {random_image}')\n",
        "\n",
        "  # Reading and plotting the image.\n",
        "  img = mpimg.imread(target_folder + '/' + random_image[0])\n",
        "  plt.imshow(img, cmap='gray')\n",
        "  plt.title(target_class.upper(), fontsize = 15)\n",
        "  plt.axis('off')\n",
        "\n",
        "  # Printing the shape of the image.\n",
        "  print(f'Image shape : {img.shape}')\n",
        "\n",
        "  return img"
      ],
      "metadata": {
        "id": "ov9v1Ech7Y9U"
      },
      "execution_count": 74,
      "outputs": []
    },
    {
      "cell_type": "code",
      "source": [
        "# Viewing random images of 'angry' class.\n",
        "angry_img = view_random_images(train_dir,'angry')"
      ],
      "metadata": {
        "colab": {
          "base_uri": "https://localhost:8080/",
          "height": 302
        },
        "id": "53mcFe9pgPpt",
        "outputId": "9637f74e-8b5a-41e9-bc4b-f33bd2381f76"
      },
      "execution_count": 75,
      "outputs": [
        {
          "output_type": "stream",
          "name": "stdout",
          "text": [
            "Image number: ['Training_80045907.jpg']\n",
            "Image shape : (48, 48)\n"
          ]
        },
        {
          "output_type": "display_data",
          "data": {
            "text/plain": [
              "<Figure size 432x288 with 1 Axes>"
            ],
            "image/png": "[encoded data removed]"
          },
          "metadata": {
            "needs_background": "light"
          }
        }
      ]
    },
    {
      "cell_type": "code",
      "source": [
        "# Viewing random images of 'disgust' class.\n",
        "disgust_img = view_random_images(train_dir,'disgust')"
      ],
      "metadata": {
        "colab": {
          "base_uri": "https://localhost:8080/",
          "height": 302
        },
        "id": "t39htk1mhG-c",
        "outputId": "a52fc1cc-7784-40cf-b015-bf22fbbb1624"
      },
      "execution_count": 76,
      "outputs": [
        {
          "output_type": "stream",
          "name": "stdout",
          "text": [
            "Image number: ['Training_61263973.jpg']\n",
            "Image shape : (48, 48)\n"
          ]
        },
        {
          "output_type": "display_data",
          "data": {
            "text/plain": [
              "<Figure size 432x288 with 1 Axes>"
            ],
            "image/png": "[encoded data removed]"
          },
          "metadata": {
            "needs_background": "light"
          }
        }
      ]
    },
    {
      "cell_type": "code",
      "source": [
        "# Viewing random images of 'fear' class.\n",
        "fear_img = view_random_images(train_dir,'fear')"
      ],
      "metadata": {
        "colab": {
          "base_uri": "https://localhost:8080/",
          "height": 302
        },
        "id": "q7FeOkr8hgdd",
        "outputId": "33e51a0d-be34-46d3-ae05-11ab08e6040a"
      },
      "execution_count": 80,
      "outputs": [
        {
          "output_type": "stream",
          "name": "stdout",
          "text": [
            "Image number: ['Training_64099735.jpg']\n",
            "Image shape : (48, 48)\n"
          ]
        },
        {
          "output_type": "display_data",
          "data": {
            "text/plain": [
              "<Figure size 432x288 with 1 Axes>"
            ],
            "image/png": "[encoded data removed]"
          },
          "metadata": {
            "needs_background": "light"
          }
        }
      ]
    },
    {
      "cell_type": "code",
      "source": [
        "# Viewing random images of 'happy' class.\n",
        "happy_img = view_random_images(train_dir,'happy')"
      ],
      "metadata": {
        "colab": {
          "base_uri": "https://localhost:8080/",
          "height": 302
        },
        "id": "SGnPbil8hxcr",
        "outputId": "62eb07b2-3cb4-4f9c-b995-2ba178e53256"
      },
      "execution_count": 83,
      "outputs": [
        {
          "output_type": "stream",
          "name": "stdout",
          "text": [
            "Image number: ['Training_56830262.jpg']\n",
            "Image shape : (48, 48)\n"
          ]
        },
        {
          "output_type": "display_data",
          "data": {
            "text/plain": [
              "<Figure size 432x288 with 1 Axes>"
            ],
            "image/png": "[encoded data removed]"
          },
          "metadata": {
            "needs_background": "light"
          }
        }
      ]
    },
    {
      "cell_type": "code",
      "source": [
        "# Viewing random images of 'neutral' class.\n",
        "neutral_img = view_random_images(train_dir,'neutral')"
      ],
      "metadata": {
        "colab": {
          "base_uri": "https://localhost:8080/",
          "height": 302
        },
        "id": "0BGFOCsMh6CM",
        "outputId": "92f836e8-0b93-43cc-8f11-f356d282ec0f"
      },
      "execution_count": 85,
      "outputs": [
        {
          "output_type": "stream",
          "name": "stdout",
          "text": [
            "Image number: ['Training_48729054.jpg']\n",
            "Image shape : (48, 48)\n"
          ]
        },
        {
          "output_type": "display_data",
          "data": {
            "text/plain": [
              "<Figure size 432x288 with 1 Axes>"
            ],
            "image/png": "[encoded data removed]"
          },
          "metadata": {
            "needs_background": "light"
          }
        }
      ]
    },
    {
      "cell_type": "code",
      "source": [
        "# Viewing random images of 'sad' class.\n",
        "sad_img = view_random_images(train_dir,'sad')"
      ],
      "metadata": {
        "colab": {
          "base_uri": "https://localhost:8080/",
          "height": 302
        },
        "id": "WphQK1KuiIvd",
        "outputId": "0f00d5cf-17a5-4c4b-8ffc-641a4ba8c95b"
      },
      "execution_count": 94,
      "outputs": [
        {
          "output_type": "stream",
          "name": "stdout",
          "text": [
            "Image number: ['Training_14405139.jpg']\n",
            "Image shape : (48, 48)\n"
          ]
        },
        {
          "output_type": "display_data",
          "data": {
            "text/plain": [
              "<Figure size 432x288 with 1 Axes>"
            ],
            "image/png": "[encoded data removed]"
          },
          "metadata": {
            "needs_background": "light"
          }
        }
      ]
    },
    {
      "cell_type": "code",
      "source": [
        "# Viewing random images of 'surprise' class.\n",
        "surprise_img = view_random_images(train_dir,'surprise')"
      ],
      "metadata": {
        "colab": {
          "base_uri": "https://localhost:8080/",
          "height": 302
        },
        "id": "EHAEsZRwiVXZ",
        "outputId": "a962dffe-9c69-49b5-e78e-870dee3395bf"
      },
      "execution_count": 95,
      "outputs": [
        {
          "output_type": "stream",
          "name": "stdout",
          "text": [
            "Image number: ['Training_93744466.jpg']\n",
            "Image shape : (48, 48)\n"
          ]
        },
        {
          "output_type": "display_data",
          "data": {
            "text/plain": [
              "<Figure size 432x288 with 1 Axes>"
            ],
            "image/png": "[encoded data removed]"
          },
          "metadata": {
            "needs_background": "light"
          }
        }
      ]
    }
  ],
  "metadata": {
    "colab": {
      "collapsed_sections": [],
      "name": "Live Class Monitoring System (Face Emotion Recognition).ipynb",
      "provenance": [],
      "authorship_tag": "ABX9TyOuV1JG8gJCP6Ai5Oi0/QHd",
      "include_colab_link": true
    },
    "kernelspec": {
      "display_name": "Python 3",
      "name": "python3"
    },
    "language_info": {
      "name": "python"
    }
  },
  "nbformat": 4,
  "nbformat_minor": 0
}