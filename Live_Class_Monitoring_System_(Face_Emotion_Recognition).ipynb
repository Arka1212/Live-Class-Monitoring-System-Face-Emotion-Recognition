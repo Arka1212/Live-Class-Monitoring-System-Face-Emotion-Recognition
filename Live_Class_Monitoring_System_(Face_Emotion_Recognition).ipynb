{
  "cells": [
    {
      "cell_type": "markdown",
      "metadata": {
        "id": "view-in-github",
        "colab_type": "text"
      },
      "source": [
        "<a href=\"https://colab.research.google.com/github/Arka1212/Live-Class-Monitoring-System-Face-Emotion-Recognition/blob/main/Live_Class_Monitoring_System_(Face_Emotion_Recognition).ipynb\" target=\"_parent\"><img src=\"https://colab.research.google.com/assets/colab-badge.svg\" alt=\"Open In Colab\"/></a>"
      ]
    },
    {
      "cell_type": "markdown",
      "metadata": {
        "id": "PS-9XGzY8Oku"
      },
      "source": [
        "# **Live Class Monitoring System (Face Emotion Recognition)**\n",
        "\n",
        "## **Project Introduction**\n",
        "The Indian education landscape has been undergoing rapid changes for the past 10 years owing to the advancement of web-based learning services, specifically, eLearning platforms. \n",
        "\n",
        "Global E-learning is estimated to witness an 8X over the next 5 years to reach USD 2B in 2021. India is expected to grow with a CAGR of 44% crossing the 10M users mark in 2021. Although the market is growing on a rapid scale, there are major challenges associated with digital learning when compared with brick and mortar classrooms. One of many challenges is how to ensure quality learning for students. Digital platforms might overpower physical classrooms in terms of content quality but when it comes to understanding whether students are able to grasp the content in a live class scenario is yet an open-end challenge.\n",
        "\n",
        "In a physical classroom during a lecturing teacher can see the faces and assess the emotion of the class and tune their lecture accordingly, whether he is going fast or slow. He can identify students who need special attention. Digital classrooms are conducted via video telephony software program (exZoom) where it’s not possible for medium scale class (25-50) to see all students and access the mood. Because of this drawback, students are not focusing on content due to lack of surveillance. While digital platforms have limitations in terms of physical surveillance but it comes with the power of data and machines which can work for you. It provides data in the form of video, audio, and texts which can be analysed using deep learning algorithms. Deep learning backed system not only solves the surveillance issue, but it also removes the human bias from the system, and all information is no longer in the teacher’s brain rather translated in numbers that can be analysed and tracked.\n",
        "\n",
        "## **Problem Statement**\n",
        "The problem statement focuses on solving the above-mentioned challenge by applying deep learning algorithms to live video data. The solution to this problem is by recognizing facial emotions. This is a few shot learning live face emotion detection system. The model should be able to real-time identify the emotions of students in a live class.\n",
        "\n",
        "## **Dataset Link**\n",
        "Dataset: https://www.kaggle.com/msambare/fer2013\n"
      ]
    },
    {
      "cell_type": "markdown",
      "metadata": {
        "id": "nOZeBc8C-T1j"
      },
      "source": [
        "**-------------------------------------------------------------------------------------------------------------------------------------------------------------------**\n",
        "**-------------------------------------------------------------------------------------------------------------------------------------------------------------------**"
      ]
    },
    {
      "cell_type": "code",
      "execution_count": 117,
      "metadata": {
        "id": "DpzN4pK2r8U7",
        "colab": {
          "base_uri": "https://localhost:8080/"
        },
        "outputId": "ab9ddba7-7180-4269-a56a-0553f1b9a9b2"
      },
      "outputs": [
        {
          "output_type": "stream",
          "name": "stdout",
          "text": [
            "Tensorflow version ----->  2.8.0\n"
          ]
        }
      ],
      "source": [
        "# Importing necessary libraries.\n",
        "import numpy as np\n",
        "import pandas as pd\n",
        "import matplotlib.pyplot as plt\n",
        "import seaborn as sns\n",
        "import tensorflow as tf\n",
        "print(f'Tensorflow version ----->  {tf.__version__}')"
      ]
    },
    {
      "cell_type": "code",
      "execution_count": 118,
      "metadata": {
        "id": "yW57SAbBvqpy"
      },
      "outputs": [],
      "source": [
        "# Removing warnings.\n",
        "import warnings                                                                                \n",
        "warnings.filterwarnings('ignore')\n",
        "warnings.simplefilter('ignore')"
      ]
    },
    {
      "cell_type": "markdown",
      "metadata": {
        "id": "GE6gOohYsZwZ"
      },
      "source": [
        "Imported some of the basic libraries in order to get started & rest all the required libraries will be imported as and when required."
      ]
    },
    {
      "cell_type": "markdown",
      "metadata": {
        "id": "h832PnDQxMD0"
      },
      "source": [
        "## **Downloading & inspecting dataset**"
      ]
    },
    {
      "cell_type": "code",
      "execution_count": 119,
      "metadata": {
        "id": "caCaW34YxVRU",
        "outputId": "1e325743-4185-4285-9ed9-8aa2cc3d0b37",
        "colab": {
          "base_uri": "https://localhost:8080/"
        }
      },
      "outputs": [
        {
          "output_type": "stream",
          "name": "stdout",
          "text": [
            "Drive already mounted at /content/drive; to attempt to forcibly remount, call drive.mount(\"/content/drive\", force_remount=True).\n"
          ]
        }
      ],
      "source": [
        "# Mounting the drive.\n",
        "from google.colab import drive\n",
        "drive.mount('/content/drive')"
      ]
    },
    {
      "cell_type": "code",
      "execution_count": 120,
      "metadata": {
        "id": "JrgqhyzR6nSd"
      },
      "outputs": [],
      "source": [
        "# Accessing the dataset.\n",
        "filename = '/content/drive/MyDrive/Capstone Projects/Deep Learning/Live Class Monitoring System (Face Emotion Recognition)/Face Emotion Dataset.zip'"
      ]
    },
    {
      "cell_type": "markdown",
      "metadata": {
        "id": "wx4NZq8N665z"
      },
      "source": [
        "The dataset is actually in 'zip' format and it needs to be unzipped in order to use it."
      ]
    },
    {
      "cell_type": "code",
      "execution_count": 121,
      "metadata": {
        "id": "mvcm-DPC7MYp"
      },
      "outputs": [],
      "source": [
        "# Unzipping the dataset.\n",
        "import zipfile\n",
        "zip_ref = zipfile.ZipFile(filename)\n",
        "zip_ref.extractall()\n",
        "zip_ref.close()"
      ]
    },
    {
      "cell_type": "markdown",
      "metadata": {
        "id": "7VkUg8v78b4M"
      },
      "source": [
        "Here, the dataset is already splitted into train & test dataset."
      ]
    },
    {
      "cell_type": "code",
      "execution_count": 122,
      "metadata": {
        "colab": {
          "base_uri": "https://localhost:8080/"
        },
        "id": "TokoipOi-JZt",
        "outputId": "29c0f77f-1bd2-4d53-a1b5-74e7bb740746"
      },
      "outputs": [
        {
          "output_type": "stream",
          "name": "stdout",
          "text": [
            "TRAINING DATA:\n",
            "\n",
            "There are 7 directories and 0 images in /content/train.\n",
            "There are 0 directories and 4965 images in /content/train/neutral.\n",
            "There are 0 directories and 3171 images in /content/train/surprise.\n",
            "There are 0 directories and 436 images in /content/train/disgust.\n",
            "There are 0 directories and 4830 images in /content/train/sad.\n",
            "There are 0 directories and 4097 images in /content/train/fear.\n",
            "There are 0 directories and 3995 images in /content/train/angry.\n",
            "There are 0 directories and 7215 images in /content/train/happy.\n",
            "\n",
            "\n",
            "TESTING DATA:\n",
            "\n",
            "There are 7 directories and 0 images in /content/test.\n",
            "There are 0 directories and 1233 images in /content/test/neutral.\n",
            "There are 0 directories and 831 images in /content/test/surprise.\n",
            "There are 0 directories and 111 images in /content/test/disgust.\n",
            "There are 0 directories and 1247 images in /content/test/sad.\n",
            "There are 0 directories and 1024 images in /content/test/fear.\n",
            "There are 0 directories and 958 images in /content/test/angry.\n",
            "There are 0 directories and 1774 images in /content/test/happy.\n"
          ]
        }
      ],
      "source": [
        "# Walking into the directories and listing the number of files in each directories.\n",
        "import os\n",
        "\n",
        "# Walking through the train data directory.\n",
        "print(f'TRAINING DATA:\\n')\n",
        "for dirpath, dirnames, filenames in os.walk('/content/train'):\n",
        "  print(f'There are {len(dirnames)} directories and {len(filenames)} images in {dirpath}.')\n",
        "\n",
        "\n",
        "# Walking through the test data directory.\n",
        "print(f'\\n\\nTESTING DATA:\\n')\n",
        "for dirpath, dirnames, filenames in os.walk('/content/test'):\n",
        "  print(f'There are {len(dirnames)} directories and {len(filenames)} images in {dirpath}.')"
      ]
    },
    {
      "cell_type": "markdown",
      "metadata": {
        "id": "Yhq86iti_z2J"
      },
      "source": [
        "So, basically there are 7 directories present in both train and test dataset which are nothing but the directories representing each class and each directories have a number of images belonging to that class. So, clearly we get an idea that this particular dataset has 7 classes."
      ]
    },
    {
      "cell_type": "code",
      "source": [
        "# Getting the class names programatically.\n",
        "import pathlib                                  # 'Pathlib' module in Python provides various classes representing file system paths.\n",
        "\n",
        "data_dir = pathlib.Path('/content/train')\n",
        "class_names = np.array(sorted([item.name for item in data_dir.glob('*')]))\n",
        "# Creates a list of class names from the sub-directories.\n",
        "\n",
        "print(class_names)"
      ],
      "metadata": {
        "colab": {
          "base_uri": "https://localhost:8080/"
        },
        "id": "LRfSy4lBZKdb",
        "outputId": "1cfc689e-e652-4858-f744-d994838edbf0"
      },
      "execution_count": 123,
      "outputs": [
        {
          "output_type": "stream",
          "name": "stdout",
          "text": [
            "['angry' 'disgust' 'fear' 'happy' 'neutral' 'sad' 'surprise']\n"
          ]
        }
      ]
    },
    {
      "cell_type": "markdown",
      "metadata": {
        "id": "jLHKrH1aDhlF"
      },
      "source": [
        "Classes present in the dataset are:  \n",
        "1. **angry**\n",
        "2. **disgust** \n",
        "3. **fear** \n",
        "4. **happy**\n",
        "5. **neutral**\n",
        "6. **sad** \n",
        "7. **surprise**\n",
        "\n",
        "Each of these classes represents human emotions."
      ]
    },
    {
      "cell_type": "markdown",
      "metadata": {
        "id": "juQyhU96K03h"
      },
      "source": [
        "## **Visualising images of each class**\n",
        "\n",
        "Becoming one with the data by visualising different images of each classes which the dataset in comprised of."
      ]
    },
    {
      "cell_type": "code",
      "execution_count": 124,
      "metadata": {
        "id": "agtTIwLfK_IW"
      },
      "outputs": [],
      "source": [
        "# Creating a function to view random images of each class.\n",
        "import random\n",
        "import matplotlib.image as mpimg\n",
        "\n",
        "def view_random_images(target_directory, target_class):\n",
        "  \n",
        "  '''\n",
        "  Takes into the target directory and target class as a path and prints random images of the specified class from the dataset\n",
        "  '''\n",
        "  \n",
        "  # Creating a target folder which will store the folder path taking the directory name and class name.\n",
        "  target_folder = target_directory + '/' + target_class\n",
        "  \n",
        "  # Getting a random image from the target folder and printing the image number.\n",
        "  random_image = random.sample(os.listdir(target_folder),1)\n",
        "  print(f'Image number: {random_image}')\n",
        "\n",
        "  # Reading the image and plotting it using matploltib.\n",
        "  img = mpimg.imread(target_folder + '/' + random_image[0])\n",
        "  plt.imshow(img)\n",
        "  plt.title(target_class.upper(),fontsize = 15)\n",
        "  plt.axis('off')\n",
        "  plt.show()\n",
        "\n",
        "  # Printing the shape of the image along with the image.\n",
        "  print(f'Image shape : {img.shape}')\n",
        "  \n",
        "  return img"
      ]
    },
    {
      "cell_type": "code",
      "execution_count": 125,
      "metadata": {
        "colab": {
          "base_uri": "https://localhost:8080/",
          "height": 429
        },
        "id": "9jPDoebb2BMN",
        "outputId": "c75d0234-c4a1-4231-ea17-5a0f4d01625d"
      },
      "outputs": [
        {
          "output_type": "stream",
          "name": "stdout",
          "text": [
            "Image number: ['Training_63330481.jpg']\n"
          ]
        },
        {
          "output_type": "display_data",
          "data": {
            "text/plain": [
              "<Figure size 432x288 with 1 Axes>"
            ],
            "image/png": "[encoded data removed]"
          },
          "metadata": {
            "needs_background": "light"
          }
        },
        {
          "output_type": "stream",
          "name": "stdout",
          "text": [
            "Image shape : (48, 48)\n"
          ]
        },
        {
          "output_type": "execute_result",
          "data": {
            "text/plain": [
              "array([[ 86,  83,  72, ..., 105,  85, 128],\n",
              "       [ 96,  80,  65, ...,  70, 109, 162],\n",
              "       [ 89,  74,  86, ...,  71,  78, 128],\n",
              "       ...,\n",
              "       [ 31,  28,  30, ...,  67,  70,  70],\n",
              "       [ 30,  29,  30, ...,  61,  72,  91],\n",
              "       [ 28,  30,  29, ...,  69,  76,  74]], dtype=uint8)"
            ]
          },
          "metadata": {},
          "execution_count": 125
        }
      ],
      "source": [
        "# Viewing 'angry' class image.\n",
        "view_random_images(target_directory = '/content/train',\n",
        "                   target_class = 'angry')"
      ]
    },
    {
      "cell_type": "code",
      "execution_count": 126,
      "metadata": {
        "colab": {
          "base_uri": "https://localhost:8080/",
          "height": 429
        },
        "id": "lk002Kno2qfP",
        "outputId": "d74bd075-e56c-4765-c3f6-6d34e8665a13"
      },
      "outputs": [
        {
          "output_type": "stream",
          "name": "stdout",
          "text": [
            "Image number: ['Training_84519169.jpg']\n"
          ]
        },
        {
          "output_type": "display_data",
          "data": {
            "text/plain": [
              "<Figure size 432x288 with 1 Axes>"
            ],
            "image/png": "[encoded data removed]"
          },
          "metadata": {
            "needs_background": "light"
          }
        },
        {
          "output_type": "stream",
          "name": "stdout",
          "text": [
            "Image shape : (48, 48)\n"
          ]
        },
        {
          "output_type": "execute_result",
          "data": {
            "text/plain": [
              "array([[213, 220, 216, ...,  64,  61,  51],\n",
              "       [216, 213, 215, ...,  67,  61,  48],\n",
              "       [216, 214, 216, ...,  65,  59,  42],\n",
              "       ...,\n",
              "       [175, 164, 159, ...,   1,   1,   2],\n",
              "       [181, 170, 159, ...,   1,   1,   1],\n",
              "       [185, 174, 160, ...,   1,   0,   1]], dtype=uint8)"
            ]
          },
          "metadata": {},
          "execution_count": 126
        }
      ],
      "source": [
        "# Viewing 'disgust' class image.\n",
        "view_random_images(target_directory = '/content/train',\n",
        "                   target_class = 'disgust')"
      ]
    },
    {
      "cell_type": "code",
      "execution_count": 127,
      "metadata": {
        "colab": {
          "base_uri": "https://localhost:8080/",
          "height": 429
        },
        "id": "UwRLnHad23QK",
        "outputId": "07696b94-a37b-4a7b-c19f-3096d46a6cf1"
      },
      "outputs": [
        {
          "output_type": "stream",
          "name": "stdout",
          "text": [
            "Image number: ['Training_50157253.jpg']\n"
          ]
        },
        {
          "output_type": "display_data",
          "data": {
            "text/plain": [
              "<Figure size 432x288 with 1 Axes>"
            ],
            "image/png": "[encoded data removed]"
          },
          "metadata": {
            "needs_background": "light"
          }
        },
        {
          "output_type": "stream",
          "name": "stdout",
          "text": [
            "Image shape : (48, 48)\n"
          ]
        },
        {
          "output_type": "execute_result",
          "data": {
            "text/plain": [
              "array([[ 22,  22,  22, ...,  71,  70,  72],\n",
              "       [ 24,  23,  23, ...,  70,  67,  69],\n",
              "       [ 25,  25,  24, ...,  73,  72,  69],\n",
              "       ...,\n",
              "       [ 72,  70,  71, ..., 186, 209, 206],\n",
              "       [ 71,  69,  73, ..., 216, 202, 204],\n",
              "       [ 72,  69,  75, ..., 205, 205, 205]], dtype=uint8)"
            ]
          },
          "metadata": {},
          "execution_count": 127
        }
      ],
      "source": [
        "# Viewing 'fear' class image.\n",
        "view_random_images(target_directory = '/content/train',\n",
        "                   target_class = 'fear')"
      ]
    },
    {
      "cell_type": "code",
      "execution_count": 128,
      "metadata": {
        "colab": {
          "base_uri": "https://localhost:8080/",
          "height": 429
        },
        "id": "IbbkRsDT3Jat",
        "outputId": "94ab869e-3db4-43af-a460-40ce54da09b7"
      },
      "outputs": [
        {
          "output_type": "stream",
          "name": "stdout",
          "text": [
            "Image number: ['Training_34473428.jpg']\n"
          ]
        },
        {
          "output_type": "display_data",
          "data": {
            "text/plain": [
              "<Figure size 432x288 with 1 Axes>"
            ],
            "image/png": "[encoded data removed]"
          },
          "metadata": {
            "needs_background": "light"
          }
        },
        {
          "output_type": "stream",
          "name": "stdout",
          "text": [
            "Image shape : (48, 48)\n"
          ]
        },
        {
          "output_type": "execute_result",
          "data": {
            "text/plain": [
              "array([[253, 253, 254, ..., 236, 232, 228],\n",
              "       [253, 253, 253, ..., 239, 234, 227],\n",
              "       [252, 253, 253, ..., 239, 234, 225],\n",
              "       ...,\n",
              "       [190, 202, 201, ...,  19,  32,  42],\n",
              "       [195, 157, 109, ...,  23,  22,  24],\n",
              "       [ 91,  40,  23, ...,  23,  23,  24]], dtype=uint8)"
            ]
          },
          "metadata": {},
          "execution_count": 128
        }
      ],
      "source": [
        "# Viewing 'happy' class image.\n",
        "view_random_images(target_directory = '/content/train',\n",
        "                   target_class = 'happy')"
      ]
    },
    {
      "cell_type": "code",
      "execution_count": 129,
      "metadata": {
        "colab": {
          "base_uri": "https://localhost:8080/",
          "height": 429
        },
        "id": "2BopBN8w3Oeh",
        "outputId": "745236f8-f766-4bcf-dd9a-09a5b85236c3"
      },
      "outputs": [
        {
          "output_type": "stream",
          "name": "stdout",
          "text": [
            "Image number: ['Training_72979221.jpg']\n"
          ]
        },
        {
          "output_type": "display_data",
          "data": {
            "text/plain": [
              "<Figure size 432x288 with 1 Axes>"
            ],
            "image/png": "[encoded data removed]"
          },
          "metadata": {
            "needs_background": "light"
          }
        },
        {
          "output_type": "stream",
          "name": "stdout",
          "text": [
            "Image shape : (48, 48)\n"
          ]
        },
        {
          "output_type": "execute_result",
          "data": {
            "text/plain": [
              "array([[185, 186, 177, ...,  55, 109, 161],\n",
              "       [184, 182, 163, ...,  36,  67, 130],\n",
              "       [188, 179, 140, ...,  33,  34,  79],\n",
              "       ...,\n",
              "       [120, 123, 130, ..., 141, 122, 113],\n",
              "       [128, 132, 140, ..., 169, 146, 122],\n",
              "       [141, 141, 146, ..., 181, 165, 139]], dtype=uint8)"
            ]
          },
          "metadata": {},
          "execution_count": 129
        }
      ],
      "source": [
        "# Viewing 'neutral' class image.\n",
        "view_random_images(target_directory = '/content/train',\n",
        "                   target_class = 'neutral')"
      ]
    },
    {
      "cell_type": "code",
      "execution_count": 130,
      "metadata": {
        "colab": {
          "base_uri": "https://localhost:8080/",
          "height": 429
        },
        "id": "kfV_8bQU3YMT",
        "outputId": "6ad762d1-67a6-4a11-c987-80c1f23cf7ab"
      },
      "outputs": [
        {
          "output_type": "stream",
          "name": "stdout",
          "text": [
            "Image number: ['Training_77080138.jpg']\n"
          ]
        },
        {
          "output_type": "display_data",
          "data": {
            "text/plain": [
              "<Figure size 432x288 with 1 Axes>"
            ],
            "image/png": "[encoded data removed]"
          },
          "metadata": {
            "needs_background": "light"
          }
        },
        {
          "output_type": "stream",
          "name": "stdout",
          "text": [
            "Image shape : (48, 48)\n"
          ]
        },
        {
          "output_type": "execute_result",
          "data": {
            "text/plain": [
              "array([[24, 26, 25, ..., 24, 24, 22],\n",
              "       [22, 28, 26, ..., 22, 21, 22],\n",
              "       [24, 27, 37, ..., 21, 22, 24],\n",
              "       ...,\n",
              "       [17, 16, 14, ..., 15, 15, 15],\n",
              "       [16, 15, 14, ..., 15, 15, 14],\n",
              "       [14, 13, 13, ..., 15, 14, 14]], dtype=uint8)"
            ]
          },
          "metadata": {},
          "execution_count": 130
        }
      ],
      "source": [
        "# Viewing 'sad' class image.\n",
        "view_random_images(target_directory = '/content/train',\n",
        "                   target_class = 'sad')"
      ]
    },
    {
      "cell_type": "code",
      "execution_count": 131,
      "metadata": {
        "colab": {
          "base_uri": "https://localhost:8080/",
          "height": 429
        },
        "id": "1FYwTQGn3gtS",
        "outputId": "ea90483e-5121-4a54-8dba-e1e7cbe9aadb"
      },
      "outputs": [
        {
          "output_type": "stream",
          "name": "stdout",
          "text": [
            "Image number: ['Training_12371373.jpg']\n"
          ]
        },
        {
          "output_type": "display_data",
          "data": {
            "text/plain": [
              "<Figure size 432x288 with 1 Axes>"
            ],
            "image/png": "[encoded data removed]"
          },
          "metadata": {
            "needs_background": "light"
          }
        },
        {
          "output_type": "stream",
          "name": "stdout",
          "text": [
            "Image shape : (48, 48)\n"
          ]
        },
        {
          "output_type": "execute_result",
          "data": {
            "text/plain": [
              "array([[ 96, 131, 100, ..., 198, 225, 221],\n",
              "       [106, 125,  67, ..., 195, 217, 222],\n",
              "       [116,  96,  50, ..., 198, 208, 221],\n",
              "       ...,\n",
              "       [210, 116, 165, ..., 234, 234, 233],\n",
              "       [ 26,  92, 212, ..., 235, 234, 234],\n",
              "       [ 32, 168, 206, ..., 234, 234, 234]], dtype=uint8)"
            ]
          },
          "metadata": {},
          "execution_count": 131
        }
      ],
      "source": [
        "# Viewing 'surprise' class image.\n",
        "view_random_images(target_directory = '/content/train',\n",
        "                   target_class = 'surprise')"
      ]
    },
    {
      "cell_type": "markdown",
      "metadata": {
        "id": "C-ZefKCa67cV"
      },
      "source": [
        "Points to be noted after viewing the images above:\n",
        "* Image values are not scaled.\n",
        "* Images are of shape 48X48.\n",
        "* Images are not in RGB colour mode."
      ]
    },
    {
      "cell_type": "markdown",
      "metadata": {
        "id": "1YQL8hex5kMv"
      },
      "source": [
        "## **Pre-processing data**"
      ]
    },
    {
      "cell_type": "markdown",
      "metadata": {
        "id": "tEpZeswf3-Xp"
      },
      "source": [
        "The image array values needs scaling in order to make our model perform better."
      ]
    },
    {
      "cell_type": "code",
      "execution_count": 132,
      "metadata": {
        "id": "KmuWgj455fV7"
      },
      "outputs": [],
      "source": [
        "# Setting up the path to data directories.\n",
        "train_dir = '/content/train'\n",
        "test_dir = '/content/test'"
      ]
    },
    {
      "cell_type": "code",
      "execution_count": 133,
      "metadata": {
        "id": "MZgfCVQK9Xqf"
      },
      "outputs": [],
      "source": [
        "# Flipping and scaling the data.\n",
        "from tensorflow.keras.preprocessing.image import ImageDataGenerator\n",
        "\n",
        "train_datagen = ImageDataGenerator(rescale = 1./255)\n",
        "validation_datagen = ImageDataGenerator(rescale = 1./255)"
      ]
    },
    {
      "cell_type": "code",
      "execution_count": 134,
      "metadata": {
        "colab": {
          "base_uri": "https://localhost:8080/"
        },
        "id": "x4agQo2KAWsQ",
        "outputId": "763c6324-12e9-4202-9e77-0a32809025d2"
      },
      "outputs": [
        {
          "output_type": "stream",
          "name": "stdout",
          "text": [
            "Found 28709 images belonging to 7 classes.\n",
            "Found 7178 images belonging to 7 classes.\n"
          ]
        }
      ],
      "source": [
        "# Getting the train and test(validation) dataset ready for model creation.\n",
        "train_data = train_datagen.flow_from_directory(directory = train_dir,              \n",
        "                                               batch_size = 32,                 \n",
        "                                               target_size = (48, 48),          \n",
        "                                               color_mode = 'grayscale',                                \n",
        "                                               class_mode = 'categorical')\n",
        "\n",
        "test_data = validation_datagen.flow_from_directory(directory = test_dir,              \n",
        "                                                   batch_size = 32,                 \n",
        "                                                   target_size = (48, 48),          \n",
        "                                                   color_mode = 'grayscale',              \n",
        "                                                   shuffle = False,                  \n",
        "                                                   class_mode = 'categorical')"
      ]
    },
    {
      "cell_type": "markdown",
      "metadata": {
        "id": "o9IFGgkTEeA_"
      },
      "source": [
        "* Training set has **28709** images in total belonging to 7 classes.\n",
        "* Testing set has **7178** images in total belonging to 7 classes."
      ]
    },
    {
      "cell_type": "markdown",
      "metadata": {
        "id": "IrtEGt3i7kpO"
      },
      "source": [
        "**As, the pre-processing stage is handled as per requirement, now its time to create different models using different architectures and comparing the model performances, post model training and choosing the one with highest accuracy in order to use it in the face emotion detection application.**"
      ]
    },
    {
      "cell_type": "markdown",
      "metadata": {
        "id": "jY2CY7xx8fkN"
      },
      "source": [
        "## **Model building**\n",
        "\n",
        "Architectures which will be used in order to build models are as follows:\n",
        "1. **Convolutional Neural Networks (CNN)**\n",
        "2. **resnet50**\n",
        "3. **EfficientNetB0**\n",
        "\n",
        "At first \"CNN\" will be used to create model followed by transfer learning using \"ResNet50\", \"EfficientNetB0\"."
      ]
    },
    {
      "cell_type": "markdown",
      "metadata": {
        "id": "UfVB40w5CZDM"
      },
      "source": [
        "Changing the runtime type to \"GPU\" which is offered by Google Colaboratory in order to train the model faster."
      ]
    },
    {
      "cell_type": "code",
      "execution_count": 135,
      "metadata": {
        "id": "WLrNrPliC73w",
        "colab": {
          "base_uri": "https://localhost:8080/"
        },
        "outputId": "f745758b-3359-43b1-db73-97788b3168c8"
      },
      "outputs": [
        {
          "output_type": "stream",
          "name": "stdout",
          "text": [
            "Tue May 10 14:34:51 2022       \n",
            "+-----------------------------------------------------------------------------+\n",
            "| NVIDIA-SMI 460.32.03    Driver Version: 460.32.03    CUDA Version: 11.2     |\n",
            "|-------------------------------+----------------------+----------------------+\n",
            "| GPU  Name        Persistence-M| Bus-Id        Disp.A | Volatile Uncorr. ECC |\n",
            "| Fan  Temp  Perf  Pwr:Usage/Cap|         Memory-Usage | GPU-Util  Compute M. |\n",
            "|                               |                      |               MIG M. |\n",
            "|===============================+======================+======================|\n",
            "|   0  Tesla T4            Off  | 00000000:00:04.0 Off |                    0 |\n",
            "| N/A   56C    P0    27W /  70W |   4884MiB / 15109MiB |      0%      Default |\n",
            "|                               |                      |                  N/A |\n",
            "+-------------------------------+----------------------+----------------------+\n",
            "                                                                               \n",
            "+-----------------------------------------------------------------------------+\n",
            "| Processes:                                                                  |\n",
            "|  GPU   GI   CI        PID   Type   Process name                  GPU Memory |\n",
            "|        ID   ID                                                   Usage      |\n",
            "|=============================================================================|\n",
            "+-----------------------------------------------------------------------------+\n"
          ]
        }
      ],
      "source": [
        "# Checking the GPU details.\n",
        "!nvidia-smi"
      ]
    },
    {
      "cell_type": "markdown",
      "source": [
        "So, **Tesla T4** GPU has been allocated by google colab."
      ],
      "metadata": {
        "id": "LscdwVmoQ5Zw"
      }
    },
    {
      "cell_type": "markdown",
      "metadata": {
        "id": "5VEwvLtfBnAf"
      },
      "source": [
        "### **Custom CNN model**\n",
        "\n",
        "CNN is a deep learning neural network sketched for processing structured arrays of data such as portrayals or images. CNN are very good at picking up on patterns in the input image, such as lines, gradients, circles or even eyes and faces. "
      ]
    },
    {
      "cell_type": "code",
      "execution_count": 136,
      "metadata": {
        "id": "aS3tyQS8CCSq"
      },
      "outputs": [],
      "source": [
        "# Building a CNN model using the sequential API.\n",
        "from tensorflow.keras.layers import Dense, Flatten, Conv2D, MaxPool2D, BatchNormalization, Dropout\n",
        "from tensorflow.keras import Sequential\n",
        "from tensorflow.keras.optimizers import Adam\n",
        "from tensorflow.keras.callbacks import Callback, EarlyStopping, ReduceLROnPlateau\n",
        "\n",
        "model_A = Sequential([\n",
        "    \n",
        "    # 1st CNN layer.\n",
        "    Conv2D(64, (3,3), padding = 'same', input_shape = (48,48,1), activation = 'relu'),\n",
        "    BatchNormalization(),\n",
        "    MaxPool2D(pool_size = (2,2)),\n",
        "    Dropout(0.25),\n",
        "\n",
        "    # 2nd CNN layer.\n",
        "    Conv2D(128, (5,5), padding = 'same',activation = 'relu'),\n",
        "    BatchNormalization(),\n",
        "    MaxPool2D(pool_size = (2,2)),\n",
        "    Dropout(0.25),\n",
        "\n",
        "    # 3rd CNN layer.\n",
        "    Conv2D(512, (3,3), padding = 'same',activation = 'relu'),\n",
        "    BatchNormalization(),\n",
        "    MaxPool2D(pool_size = (2,2)),\n",
        "    Dropout(0.25),\n",
        "\n",
        "    # 4th CNN layer.\n",
        "    Conv2D(512, (3,3), padding = 'same',activation = 'relu'),\n",
        "    BatchNormalization(),\n",
        "    MaxPool2D(pool_size = (2,2)),\n",
        "    Dropout(0.25),\n",
        "\n",
        "    # Layer to flatten the input layer.\n",
        "    Flatten(),\n",
        "\n",
        "    # 1st fully connected layer.\n",
        "    Dense(256, activation = 'relu'),\n",
        "    BatchNormalization(),\n",
        "    Dropout(0.25),\n",
        "\n",
        "    # 2nd fully connected layer.\n",
        "    Dense(512, activation = 'relu'),\n",
        "    BatchNormalization(),\n",
        "    Dropout(0.25),\n",
        "\n",
        "    # Output layer.\n",
        "    Dense(7, activation = 'softmax')                             # Number of classes = 7.\n",
        "])"
      ]
    },
    {
      "cell_type": "code",
      "execution_count": 137,
      "metadata": {
        "id": "PKze7T2NqmGI"
      },
      "outputs": [],
      "source": [
        "# Compiling the model.\n",
        "model_A.compile(loss = 'categorical_crossentropy',\n",
        "                optimizer = Adam(learning_rate = 0.0001),\n",
        "                metrics = ['accuracy'])"
      ]
    },
    {
      "cell_type": "code",
      "execution_count": 138,
      "metadata": {
        "id": "HqkQKAan9Piv"
      },
      "outputs": [],
      "source": [
        "# Creating callbacks.\n",
        "early_stopping = EarlyStopping(monitor='val_loss',\n",
        "                              min_delta=0,\n",
        "                              patience=3,\n",
        "                              verbose=1,\n",
        "                              restore_best_weights=True)\n",
        "# Stops training when a monitored metric has stopped improving.\n",
        "\n",
        "\n",
        "reduce_learningrate = ReduceLROnPlateau(monitor='val_loss',\n",
        "                                        factor=0.2,\n",
        "                                        patience=3,\n",
        "                                        verbose=1,\n",
        "                                        min_delta=0.0001)\n",
        "# Reduces learning rate when a metric stops improving."
      ]
    },
    {
      "cell_type": "code",
      "execution_count": 139,
      "metadata": {
        "colab": {
          "base_uri": "https://localhost:8080/"
        },
        "id": "8Fscc2AZ-nQb",
        "outputId": "f802d157-7560-4511-fcd5-b1d4a9116bb7"
      },
      "outputs": [
        {
          "output_type": "stream",
          "name": "stdout",
          "text": [
            "Epoch 1/50\n",
            "898/898 [==============================] - 19s 19ms/step - loss: 2.2554 - accuracy: 0.2213 - val_loss: 1.9250 - val_accuracy: 0.2977 - lr: 1.0000e-04\n",
            "Epoch 2/50\n",
            "898/898 [==============================] - 17s 19ms/step - loss: 1.9424 - accuracy: 0.2904 - val_loss: 1.7509 - val_accuracy: 0.3411 - lr: 1.0000e-04\n",
            "Epoch 3/50\n",
            "898/898 [==============================] - 17s 19ms/step - loss: 1.7910 - accuracy: 0.3398 - val_loss: 1.5480 - val_accuracy: 0.4127 - lr: 1.0000e-04\n",
            "Epoch 4/50\n",
            "898/898 [==============================] - 17s 19ms/step - loss: 1.6665 - accuracy: 0.3765 - val_loss: 1.4956 - val_accuracy: 0.4347 - lr: 1.0000e-04\n",
            "Epoch 5/50\n",
            "898/898 [==============================] - 17s 19ms/step - loss: 1.5518 - accuracy: 0.4153 - val_loss: 1.5081 - val_accuracy: 0.4436 - lr: 1.0000e-04\n",
            "Epoch 6/50\n",
            "898/898 [==============================] - 17s 19ms/step - loss: 1.4582 - accuracy: 0.4520 - val_loss: 1.4346 - val_accuracy: 0.4877 - lr: 1.0000e-04\n",
            "Epoch 7/50\n",
            "898/898 [==============================] - 17s 19ms/step - loss: 1.3797 - accuracy: 0.4773 - val_loss: 1.2971 - val_accuracy: 0.5074 - lr: 1.0000e-04\n",
            "Epoch 8/50\n",
            "898/898 [==============================] - 17s 19ms/step - loss: 1.3108 - accuracy: 0.5042 - val_loss: 1.2405 - val_accuracy: 0.5385 - lr: 1.0000e-04\n",
            "Epoch 9/50\n",
            "898/898 [==============================] - 17s 19ms/step - loss: 1.2450 - accuracy: 0.5283 - val_loss: 1.1794 - val_accuracy: 0.5585 - lr: 1.0000e-04\n",
            "Epoch 10/50\n",
            "898/898 [==============================] - 17s 19ms/step - loss: 1.1900 - accuracy: 0.5499 - val_loss: 1.2394 - val_accuracy: 0.5317 - lr: 1.0000e-04\n",
            "Epoch 11/50\n",
            "898/898 [==============================] - 17s 19ms/step - loss: 1.1424 - accuracy: 0.5678 - val_loss: 1.1339 - val_accuracy: 0.5732 - lr: 1.0000e-04\n",
            "Epoch 12/50\n",
            "898/898 [==============================] - 17s 19ms/step - loss: 1.0927 - accuracy: 0.5874 - val_loss: 1.1373 - val_accuracy: 0.5749 - lr: 1.0000e-04\n",
            "Epoch 13/50\n",
            "898/898 [==============================] - 17s 19ms/step - loss: 1.0494 - accuracy: 0.6062 - val_loss: 1.0714 - val_accuracy: 0.6024 - lr: 1.0000e-04\n",
            "Epoch 14/50\n",
            "898/898 [==============================] - 17s 19ms/step - loss: 1.0058 - accuracy: 0.6245 - val_loss: 1.0774 - val_accuracy: 0.5979 - lr: 1.0000e-04\n",
            "Epoch 15/50\n",
            "898/898 [==============================] - 18s 20ms/step - loss: 0.9599 - accuracy: 0.6387 - val_loss: 1.0550 - val_accuracy: 0.6205 - lr: 1.0000e-04\n",
            "Epoch 16/50\n",
            "898/898 [==============================] - 17s 19ms/step - loss: 0.9114 - accuracy: 0.6595 - val_loss: 1.0680 - val_accuracy: 0.6159 - lr: 1.0000e-04\n",
            "Epoch 17/50\n",
            "898/898 [==============================] - 17s 19ms/step - loss: 0.8700 - accuracy: 0.6775 - val_loss: 1.0648 - val_accuracy: 0.6211 - lr: 1.0000e-04\n",
            "Epoch 18/50\n",
            "896/898 [============================>.] - ETA: 0s - loss: 0.8133 - accuracy: 0.6973Restoring model weights from the end of the best epoch: 15.\n",
            "\n",
            "Epoch 18: ReduceLROnPlateau reducing learning rate to 1.9999999494757503e-05.\n",
            "898/898 [==============================] - 17s 19ms/step - loss: 0.8131 - accuracy: 0.6972 - val_loss: 1.0901 - val_accuracy: 0.6226 - lr: 1.0000e-04\n",
            "Epoch 18: early stopping\n"
          ]
        }
      ],
      "source": [
        "# Fitting the model.\n",
        "history_model_A = model_A.fit_generator(generator = train_data,\n",
        "                                        epochs = 50,\n",
        "                                        steps_per_epoch = len(train_data),\n",
        "                                        validation_data = test_data,\n",
        "                                        validation_steps = test_data.n // test_data.batch_size,\n",
        "                                        callbacks = [early_stopping, reduce_learningrate]) "
      ]
    },
    {
      "cell_type": "code",
      "source": [
        "# Evaluating model performance on overall test data.\n",
        "model_A.evaluate(test_data)"
      ],
      "metadata": {
        "colab": {
          "base_uri": "https://localhost:8080/"
        },
        "id": "tmbhDyrgLhg5",
        "outputId": "0529100f-5553-4aa4-8321-0918d63830f5"
      },
      "execution_count": 140,
      "outputs": [
        {
          "output_type": "stream",
          "name": "stdout",
          "text": [
            "225/225 [==============================] - 2s 11ms/step - loss: 1.0539 - accuracy: 0.6209\n"
          ]
        },
        {
          "output_type": "execute_result",
          "data": {
            "text/plain": [
              "[1.0539250373840332, 0.6209250688552856]"
            ]
          },
          "metadata": {},
          "execution_count": 140
        }
      ]
    },
    {
      "cell_type": "markdown",
      "source": [
        "Accuracy score on overall test dataset came out to be **62.09%**"
      ],
      "metadata": {
        "id": "Ue3ssadBRZDQ"
      }
    },
    {
      "cell_type": "code",
      "source": [
        "# Checking the model summary.\n",
        "model_A.summary()"
      ],
      "metadata": {
        "colab": {
          "base_uri": "https://localhost:8080/"
        },
        "id": "x8Q8M7g6MS8d",
        "outputId": "d0c981e8-8016-46c9-a815-ed7b6e1a170b"
      },
      "execution_count": 141,
      "outputs": [
        {
          "output_type": "stream",
          "name": "stdout",
          "text": [
            "Model: \"sequential_5\"\n",
            "_________________________________________________________________\n",
            " Layer (type)                Output Shape              Param #   \n",
            "=================================================================\n",
            " conv2d_20 (Conv2D)          (None, 48, 48, 64)        640       \n",
            "                                                                 \n",
            " batch_normalization_30 (Bat  (None, 48, 48, 64)       256       \n",
            " chNormalization)                                                \n",
            "                                                                 \n",
            " max_pooling2d_20 (MaxPoolin  (None, 24, 24, 64)       0         \n",
            " g2D)                                                            \n",
            "                                                                 \n",
            " dropout_30 (Dropout)        (None, 24, 24, 64)        0         \n",
            "                                                                 \n",
            " conv2d_21 (Conv2D)          (None, 24, 24, 128)       204928    \n",
            "                                                                 \n",
            " batch_normalization_31 (Bat  (None, 24, 24, 128)      512       \n",
            " chNormalization)                                                \n",
            "                                                                 \n",
            " max_pooling2d_21 (MaxPoolin  (None, 12, 12, 128)      0         \n",
            " g2D)                                                            \n",
            "                                                                 \n",
            " dropout_31 (Dropout)        (None, 12, 12, 128)       0         \n",
            "                                                                 \n",
            " conv2d_22 (Conv2D)          (None, 12, 12, 512)       590336    \n",
            "                                                                 \n",
            " batch_normalization_32 (Bat  (None, 12, 12, 512)      2048      \n",
            " chNormalization)                                                \n",
            "                                                                 \n",
            " max_pooling2d_22 (MaxPoolin  (None, 6, 6, 512)        0         \n",
            " g2D)                                                            \n",
            "                                                                 \n",
            " dropout_32 (Dropout)        (None, 6, 6, 512)         0         \n",
            "                                                                 \n",
            " conv2d_23 (Conv2D)          (None, 6, 6, 512)         2359808   \n",
            "                                                                 \n",
            " batch_normalization_33 (Bat  (None, 6, 6, 512)        2048      \n",
            " chNormalization)                                                \n",
            "                                                                 \n",
            " max_pooling2d_23 (MaxPoolin  (None, 3, 3, 512)        0         \n",
            " g2D)                                                            \n",
            "                                                                 \n",
            " dropout_33 (Dropout)        (None, 3, 3, 512)         0         \n",
            "                                                                 \n",
            " flatten_5 (Flatten)         (None, 4608)              0         \n",
            "                                                                 \n",
            " dense_15 (Dense)            (None, 256)               1179904   \n",
            "                                                                 \n",
            " batch_normalization_34 (Bat  (None, 256)              1024      \n",
            " chNormalization)                                                \n",
            "                                                                 \n",
            " dropout_34 (Dropout)        (None, 256)               0         \n",
            "                                                                 \n",
            " dense_16 (Dense)            (None, 512)               131584    \n",
            "                                                                 \n",
            " batch_normalization_35 (Bat  (None, 512)              2048      \n",
            " chNormalization)                                                \n",
            "                                                                 \n",
            " dropout_35 (Dropout)        (None, 512)               0         \n",
            "                                                                 \n",
            " dense_17 (Dense)            (None, 7)                 3591      \n",
            "                                                                 \n",
            "=================================================================\n",
            "Total params: 4,478,727\n",
            "Trainable params: 4,474,759\n",
            "Non-trainable params: 3,968\n",
            "_________________________________________________________________\n"
          ]
        }
      ]
    },
    {
      "cell_type": "code",
      "source": [
        "# Prediction For Test Set\n",
        "predictions = model_A.predict(test_data)\n",
        "\n",
        "# Printing Confution Matrix\n",
        "from sklearn.metrics import confusion_matrix\n",
        "cm = confusion_matrix(y_pred = np.argmax(predictions, axis=-1), y_true = test_data.classes)                         \n",
        "cm"
      ],
      "metadata": {
        "colab": {
          "base_uri": "https://localhost:8080/"
        },
        "id": "CCqJT0Y2ZbYV",
        "outputId": "00ef243c-71cb-458e-b215-eb60f4c5b31a"
      },
      "execution_count": 142,
      "outputs": [
        {
          "output_type": "execute_result",
          "data": {
            "text/plain": [
              "array([[ 504,   15,   53,   67,  132,  156,   31],\n",
              "       [  22,   58,    5,    3,    8,   13,    2],\n",
              "       [ 106,   11,  339,   57,  144,  247,  120],\n",
              "       [  44,    1,   26, 1465,  122,   72,   44],\n",
              "       [  96,    2,   44,   97,  782,  191,   21],\n",
              "       [ 138,    6,   88,   85,  262,  649,   19],\n",
              "       [  23,    2,   49,   43,   33,   21,  660]])"
            ]
          },
          "metadata": {},
          "execution_count": 142
        }
      ]
    },
    {
      "cell_type": "code",
      "source": [
        "# Computing predictions.\n",
        "predictions = model_A.predict_generator(generator=test_data)\n",
        "y_pred = [np.argmax(probas) for probas in predictions]\n",
        "y_test = test_data.classes\n",
        "class_names = test_data.class_indices.keys()\n",
        "\n",
        "\n",
        "# Creating function to plot confusion matrix.\n",
        "from sklearn.metrics import confusion_matrix\n",
        "import itertools\n",
        "def plot_confusion_matrix(cm, classes, title='Confusion matrix', cmap = plt.cm.PuRd):\n",
        "    cm = cm.astype('float') / cm.sum(axis=1)[:, np.newaxis]\n",
        "    plt.figure(figsize=(10,10))\n",
        "    plt.imshow(cm, interpolation='nearest', cmap=cmap)\n",
        "    plt.title(title)\n",
        "    plt.colorbar()\n",
        "    tick_marks = np.arange(len(classes))\n",
        "    plt.xticks(tick_marks, classes, rotation=45)\n",
        "    plt.yticks(tick_marks, classes)\n",
        "\n",
        "    fmt = '.2f'\n",
        "    thresh = cm.max() / 2.\n",
        "    for i, j in itertools.product(range(cm.shape[0]), range(cm.shape[1])):\n",
        "        plt.text(j, i, format(cm[i, j], fmt),\n",
        "                 horizontalalignment=\"center\",\n",
        "                 color=\"white\" if cm[i, j] > thresh else \"black\")\n",
        "\n",
        "    plt.ylabel('True label')# **Live Class Monitoring System(Face Emotion Recognition)**\n",
        "    plt.xlabel('Predicted label')\n",
        "    plt.tight_layout()\n",
        "    plt.show()\n",
        "    \n",
        "# Compute confusion matrix.\n",
        "cnf_matrix = confusion_matrix(y_test, y_pred)\n",
        "np.set_printoptions(precision=2)\n",
        "\n",
        "# Plotting normalized confusion matrix.\n",
        "plt.figure()\n",
        "plot_confusion_matrix(cnf_matrix,  classes = class_names, title='Normalized confusion matrix')\n",
        "plt.show()"
      ],
      "metadata": {
        "colab": {
          "base_uri": "https://localhost:8080/",
          "height": 739
        },
        "id": "O2JjpkN8XZAQ",
        "outputId": "ad1a869a-8d7d-4ec3-f17d-19e8f8eda4f9"
      },
      "execution_count": 143,
      "outputs": [
        {
          "output_type": "display_data",
          "data": {
            "text/plain": [
              "<Figure size 432x288 with 0 Axes>"
            ]
          },
          "metadata": {}
        },
        {
          "output_type": "display_data",
          "data": {
            "text/plain": [
              "<Figure size 720x720 with 2 Axes>"
            ],
            "image/png": "[encoded data removed]"
          },
          "metadata": {
            "needs_background": "light"
          }
        }
      ]
    },
    {
      "cell_type": "markdown",
      "source": [
        "This CNN model does a good job in predicting the happy & surprised faces while the model predicts the fear & disgust faces quite poorly."
      ],
      "metadata": {
        "id": "crMNlEwyZ8HX"
      }
    },
    {
      "cell_type": "code",
      "source": [
        "# Creating a function to plot the validation and training curves separately.\n",
        "def plot_loss_curves(history):\n",
        "  '''\n",
        "  Returns separate loss curves for training and validation set\n",
        "  '''\n",
        "  \n",
        "  loss = history.history['loss']\n",
        "  val_loss = history.history['val_loss']\n",
        "\n",
        "  accuracy = history.history['accuracy']\n",
        "  val_accuracy = history.history['val_accuracy']\n",
        "\n",
        "  epochs = range(len(history.history['loss']))\n",
        "\n",
        "  # PLotting loss.\n",
        "  plt.plot(epochs, loss, label = 'training_loss',linewidth=3)\n",
        "  plt.plot(epochs, val_loss, label = 'val_loss',linewidth=3)\n",
        "  plt.title('LOSS CURVE',fontsize = 25)\n",
        "  plt.legend()\n",
        "  plt.grid()\n",
        "  plt.show()\n",
        "\n",
        "  # Plotting accuracy.\n",
        "  plt.figure()                                                             \n",
        "  plt.plot(epochs, accuracy, label = 'training_accuracy',linewidth=3)\n",
        "  plt.plot(epochs, val_accuracy, label = 'val_accuracy',linewidth=3)\n",
        "  plt.title('ACCURACY',fontsize = 25)\n",
        "  plt.legend()\n",
        "  plt.grid()\n",
        "  plt.show()"
      ],
      "metadata": {
        "id": "2eqzJkb1M3n1"
      },
      "execution_count": 144,
      "outputs": []
    },
    {
      "cell_type": "code",
      "source": [
        "# Plotting the loss curves.\n",
        "plot_loss_curves(history_model_A)"
      ],
      "metadata": {
        "colab": {
          "base_uri": "https://localhost:8080/",
          "height": 563
        },
        "id": "OZqe08gnPrF_",
        "outputId": "e0399516-481a-4b57-9b33-84ce7366f056"
      },
      "execution_count": 145,
      "outputs": [
        {
          "output_type": "display_data",
          "data": {
            "text/plain": [
              "<Figure size 432x288 with 1 Axes>"
            ],
            "image/png": "[encoded data removed]"
          },
          "metadata": {
            "needs_background": "light"
          }
        },
        {
          "output_type": "display_data",
          "data": {
            "text/plain": [
              "<Figure size 432x288 with 1 Axes>"
            ],
            "image/png": "[encoded data removed]"
          },
          "metadata": {
            "needs_background": "light"
          }
        }
      ]
    },
    {
      "cell_type": "markdown",
      "source": [
        "**The training gave the accuracy of 69.72% and val_accuracy of 62.09%. The model performed better than average.**"
      ],
      "metadata": {
        "id": "XYyD40VQRAVx"
      }
    },
    {
      "cell_type": "markdown",
      "source": [
        "### **ResNet50**\n",
        "\n",
        "ResNet50 is a pre-trained convolutional nerual network that is 50 layers deep(48 Convolution layers along with 1 MaxPool and 1 Average Pool layer). A residual neural network (ResNet) is an artificial neural network (ANN) of a kind that stacks residual blocks on top of each other to form a network."
      ],
      "metadata": {
        "id": "VOF6OPkTeRq0"
      }
    },
    {
      "cell_type": "code",
      "source": [
        "# ResNet is trained on RGB images and we have grascaled images so converting colour mode to RGB.\n",
        "train_datagen = ImageDataGenerator(horizontal_flip=True,\n",
        "                                   brightness_range=[0.8,1.2],\n",
        "                                   rescale=1./255)\n",
        "validation_datagen = ImageDataGenerator(horizontal_flip=True,\n",
        "                                        brightness_range=[0.8,1.2],\n",
        "                                        rescale=1./255)"
      ],
      "metadata": {
        "id": "1U3fJhLqLcf8"
      },
      "execution_count": 180,
      "outputs": []
    },
    {
      "cell_type": "code",
      "source": [
        "# Getting the train and test(validation) dataset ready for 'ResNet50' model creation.\n",
        "train_data = train_datagen.flow_from_directory(train_dir,\n",
        "                                               target_size = (48,48),\n",
        "                                               batch_size = 32,\n",
        "                                               shuffle = True,\n",
        "                                               color_mode ='rgb',\n",
        "                                               class_mode ='categorical')\n",
        "\n",
        "test_data = validation_datagen.flow_from_directory(test_dir,\n",
        "                                                   target_size = (48,48),\n",
        "                                                   batch_size = 32,\n",
        "                                                   shuffle = False,\n",
        "                                                   color_mode ='rgb',\n",
        "                                                   class_mode ='categorical')"
      ],
      "metadata": {
        "colab": {
          "base_uri": "https://localhost:8080/"
        },
        "id": "5NvfVnQlMRy_",
        "outputId": "bbce775c-f897-4ce8-ce94-055b6163be07"
      },
      "execution_count": 181,
      "outputs": [
        {
          "output_type": "stream",
          "name": "stdout",
          "text": [
            "Found 28709 images belonging to 7 classes.\n",
            "Found 7178 images belonging to 7 classes.\n"
          ]
        }
      ]
    },
    {
      "cell_type": "code",
      "source": [
        "# Creating a base model using pre-trained ResNet architecture.\n",
        "from tensorflow.keras.applications import ResNet50\n",
        "\n",
        "base_model = ResNet50(input_shape=(48,48,3),include_top = False, weights = 'imagenet')\n",
        "base_model.trainable = False"
      ],
      "metadata": {
        "id": "Jcv_xdxPcKkp"
      },
      "execution_count": 182,
      "outputs": []
    },
    {
      "cell_type": "code",
      "source": [
        "# Creating the model using the functional API.\n",
        "from tensorflow.keras.layers import Input\n",
        "\n",
        "model_B = Sequential([\n",
        "                      \n",
        "   # Adding the pre-trained model layers.                  \n",
        "   base_model,\n",
        "   Dropout(0.2),\n",
        "   Flatten(),\n",
        "   BatchNormalization(),\n",
        "\n",
        "   # 1st fully connected layer.\n",
        "   Dense(512, kernel_initializer = 'he_normal', activation = 'relu'),\n",
        "   BatchNormalization(),\n",
        "   Dropout(0.25),\n",
        "\n",
        "   # 2nd fully connected layer.\n",
        "   Dense(256, kernel_initializer = 'he_normal', activation = 'relu'),\n",
        "   BatchNormalization(),\n",
        "   Dropout(0.25),\n",
        "\n",
        "   # Output layer.\n",
        "   Dense(7, activation='softmax')\n",
        "])"
      ],
      "metadata": {
        "id": "6rqW5EFkepSp"
      },
      "execution_count": 183,
      "outputs": []
    },
    {
      "cell_type": "code",
      "source": [
        "# Compiling the model.\n",
        "model_B.compile(loss = 'categorical_crossentropy',\n",
        "                optimizer = Adam(),\n",
        "                metrics = ['accuracy'])"
      ],
      "metadata": {
        "id": "3eTniaxzji8R"
      },
      "execution_count": 184,
      "outputs": []
    },
    {
      "cell_type": "code",
      "source": [
        "# Creating callbacks.\n",
        "reduce_lr = ReduceLROnPlateau(monitor='val_loss',\n",
        "                              factor=0.1,\n",
        "                              patience=10,\n",
        "                              min_lr=0.00001,\n",
        "                              mode='auto')\n",
        "# Reduces learning rate when a metric stops improving. \n",
        "\n",
        "early_stopping = EarlyStopping(monitor='val_loss',\n",
        "                               min_delta=0,\n",
        "                               patience=10,\n",
        "                               verbose=1,\n",
        "                               restore_best_weights=True)\n",
        "# Stops training when a monitored metric has stopped improving."
      ],
      "metadata": {
        "id": "iWuqly98j0gu"
      },
      "execution_count": 185,
      "outputs": []
    },
    {
      "cell_type": "code",
      "source": [
        "# Fitting the model.\n",
        "history_model_B = model_B.fit_generator(generator = train_data,\n",
        "                                        epochs = 50,\n",
        "                                        steps_per_epoch = len(train_data),\n",
        "                                        validation_data = test_data,\n",
        "                                        validation_steps = test_data.n // test_data.batch_size,\n",
        "                                        callbacks = [early_stopping, reduce_lr])"
      ],
      "metadata": {
        "colab": {
          "base_uri": "https://localhost:8080/"
        },
        "id": "p21qxXNHkYsc",
        "outputId": "b0a5fc00-cea8-49f5-be50-f2e6c4a48b9d"
      },
      "execution_count": 186,
      "outputs": [
        {
          "output_type": "stream",
          "name": "stdout",
          "text": [
            "Epoch 1/50\n",
            "898/898 [==============================] - 31s 31ms/step - loss: 1.9515 - accuracy: 0.2563 - val_loss: 1.7366 - val_accuracy: 0.3050 - lr: 0.0010\n",
            "Epoch 2/50\n",
            "898/898 [==============================] - 27s 30ms/step - loss: 1.7551 - accuracy: 0.2976 - val_loss: 1.7012 - val_accuracy: 0.3280 - lr: 0.0010\n",
            "Epoch 3/50\n",
            "898/898 [==============================] - 27s 30ms/step - loss: 1.7161 - accuracy: 0.3137 - val_loss: 1.6890 - val_accuracy: 0.3312 - lr: 0.0010\n",
            "Epoch 4/50\n",
            "898/898 [==============================] - 27s 30ms/step - loss: 1.7046 - accuracy: 0.3144 - val_loss: 1.6638 - val_accuracy: 0.3428 - lr: 0.0010\n",
            "Epoch 5/50\n",
            "898/898 [==============================] - 28s 31ms/step - loss: 1.6931 - accuracy: 0.3201 - val_loss: 1.7012 - val_accuracy: 0.3218 - lr: 0.0010\n",
            "Epoch 6/50\n",
            "898/898 [==============================] - 29s 32ms/step - loss: 1.6843 - accuracy: 0.3282 - val_loss: 1.6518 - val_accuracy: 0.3467 - lr: 0.0010\n",
            "Epoch 7/50\n",
            "898/898 [==============================] - 27s 30ms/step - loss: 1.6773 - accuracy: 0.3266 - val_loss: 1.6612 - val_accuracy: 0.3504 - lr: 0.0010\n",
            "Epoch 8/50\n",
            "898/898 [==============================] - 27s 30ms/step - loss: 1.6712 - accuracy: 0.3324 - val_loss: 1.6579 - val_accuracy: 0.3479 - lr: 0.0010\n",
            "Epoch 9/50\n",
            "898/898 [==============================] - 27s 30ms/step - loss: 1.6663 - accuracy: 0.3368 - val_loss: 1.6317 - val_accuracy: 0.3601 - lr: 0.0010\n",
            "Epoch 10/50\n",
            "898/898 [==============================] - 27s 31ms/step - loss: 1.6606 - accuracy: 0.3396 - val_loss: 1.6371 - val_accuracy: 0.3622 - lr: 0.0010\n",
            "Epoch 11/50\n",
            "898/898 [==============================] - 27s 30ms/step - loss: 1.6535 - accuracy: 0.3426 - val_loss: 1.6276 - val_accuracy: 0.3677 - lr: 0.0010\n",
            "Epoch 12/50\n",
            "898/898 [==============================] - 27s 30ms/step - loss: 1.6472 - accuracy: 0.3444 - val_loss: 1.6317 - val_accuracy: 0.3605 - lr: 0.0010\n",
            "Epoch 13/50\n",
            "898/898 [==============================] - 27s 30ms/step - loss: 1.6436 - accuracy: 0.3473 - val_loss: 1.6145 - val_accuracy: 0.3715 - lr: 0.0010\n",
            "Epoch 14/50\n",
            "898/898 [==============================] - 27s 30ms/step - loss: 1.6360 - accuracy: 0.3512 - val_loss: 1.6041 - val_accuracy: 0.3729 - lr: 0.0010\n",
            "Epoch 15/50\n",
            "898/898 [==============================] - 27s 30ms/step - loss: 1.6341 - accuracy: 0.3501 - val_loss: 1.6305 - val_accuracy: 0.3499 - lr: 0.0010\n",
            "Epoch 16/50\n",
            "898/898 [==============================] - 29s 32ms/step - loss: 1.6332 - accuracy: 0.3553 - val_loss: 1.6091 - val_accuracy: 0.3742 - lr: 0.0010\n",
            "Epoch 17/50\n",
            "898/898 [==============================] - 28s 32ms/step - loss: 1.6312 - accuracy: 0.3534 - val_loss: 1.6339 - val_accuracy: 0.3721 - lr: 0.0010\n",
            "Epoch 18/50\n",
            "898/898 [==============================] - 28s 31ms/step - loss: 1.6316 - accuracy: 0.3543 - val_loss: 1.5997 - val_accuracy: 0.3764 - lr: 0.0010\n",
            "Epoch 19/50\n",
            "898/898 [==============================] - 28s 31ms/step - loss: 1.6204 - accuracy: 0.3593 - val_loss: 1.6088 - val_accuracy: 0.3694 - lr: 0.0010\n",
            "Epoch 20/50\n",
            "898/898 [==============================] - 28s 31ms/step - loss: 1.6208 - accuracy: 0.3549 - val_loss: 1.6104 - val_accuracy: 0.3740 - lr: 0.0010\n",
            "Epoch 21/50\n",
            "898/898 [==============================] - 27s 30ms/step - loss: 1.6096 - accuracy: 0.3604 - val_loss: 1.6112 - val_accuracy: 0.3736 - lr: 0.0010\n",
            "Epoch 22/50\n",
            "898/898 [==============================] - 27s 30ms/step - loss: 1.6073 - accuracy: 0.3648 - val_loss: 1.6058 - val_accuracy: 0.3714 - lr: 0.0010\n",
            "Epoch 23/50\n",
            "898/898 [==============================] - 27s 30ms/step - loss: 1.6076 - accuracy: 0.3625 - val_loss: 1.6082 - val_accuracy: 0.3715 - lr: 0.0010\n",
            "Epoch 24/50\n",
            "898/898 [==============================] - 27s 30ms/step - loss: 1.6032 - accuracy: 0.3662 - val_loss: 1.6085 - val_accuracy: 0.3783 - lr: 0.0010\n",
            "Epoch 25/50\n",
            "898/898 [==============================] - 27s 30ms/step - loss: 1.6016 - accuracy: 0.3631 - val_loss: 1.5988 - val_accuracy: 0.3874 - lr: 0.0010\n",
            "Epoch 26/50\n",
            "898/898 [==============================] - 27s 30ms/step - loss: 1.6004 - accuracy: 0.3658 - val_loss: 1.5964 - val_accuracy: 0.3725 - lr: 0.0010\n",
            "Epoch 27/50\n",
            "898/898 [==============================] - 27s 30ms/step - loss: 1.5957 - accuracy: 0.3665 - val_loss: 1.6242 - val_accuracy: 0.3609 - lr: 0.0010\n",
            "Epoch 28/50\n",
            "898/898 [==============================] - 27s 30ms/step - loss: 1.6020 - accuracy: 0.3663 - val_loss: 1.6224 - val_accuracy: 0.3781 - lr: 0.0010\n",
            "Epoch 29/50\n",
            "898/898 [==============================] - 27s 30ms/step - loss: 1.5889 - accuracy: 0.3733 - val_loss: 1.5958 - val_accuracy: 0.3746 - lr: 0.0010\n",
            "Epoch 30/50\n",
            "898/898 [==============================] - 27s 30ms/step - loss: 1.5845 - accuracy: 0.3772 - val_loss: 1.5884 - val_accuracy: 0.3850 - lr: 0.0010\n",
            "Epoch 31/50\n",
            "898/898 [==============================] - 27s 30ms/step - loss: 1.5862 - accuracy: 0.3719 - val_loss: 1.6125 - val_accuracy: 0.3750 - lr: 0.0010\n",
            "Epoch 32/50\n",
            "898/898 [==============================] - 27s 30ms/step - loss: 1.5849 - accuracy: 0.3760 - val_loss: 1.6106 - val_accuracy: 0.3782 - lr: 0.0010\n",
            "Epoch 33/50\n",
            "898/898 [==============================] - 27s 30ms/step - loss: 1.5810 - accuracy: 0.3760 - val_loss: 1.6015 - val_accuracy: 0.3797 - lr: 0.0010\n",
            "Epoch 34/50\n",
            "898/898 [==============================] - 27s 30ms/step - loss: 1.5876 - accuracy: 0.3719 - val_loss: 1.6576 - val_accuracy: 0.3730 - lr: 0.0010\n",
            "Epoch 35/50\n",
            "898/898 [==============================] - 27s 30ms/step - loss: 1.5845 - accuracy: 0.3739 - val_loss: 1.6248 - val_accuracy: 0.3836 - lr: 0.0010\n",
            "Epoch 36/50\n",
            "898/898 [==============================] - 27s 30ms/step - loss: 1.5739 - accuracy: 0.3800 - val_loss: 1.6067 - val_accuracy: 0.3818 - lr: 0.0010\n",
            "Epoch 37/50\n",
            "898/898 [==============================] - 27s 30ms/step - loss: 1.5695 - accuracy: 0.3789 - val_loss: 1.5925 - val_accuracy: 0.3800 - lr: 0.0010\n",
            "Epoch 38/50\n",
            "898/898 [==============================] - 27s 30ms/step - loss: 1.5749 - accuracy: 0.3821 - val_loss: 1.5790 - val_accuracy: 0.3876 - lr: 0.0010\n",
            "Epoch 39/50\n",
            "898/898 [==============================] - 27s 30ms/step - loss: 1.5706 - accuracy: 0.3812 - val_loss: 1.5926 - val_accuracy: 0.3866 - lr: 0.0010\n",
            "Epoch 40/50\n",
            "898/898 [==============================] - 27s 30ms/step - loss: 1.5616 - accuracy: 0.3875 - val_loss: 1.6149 - val_accuracy: 0.3796 - lr: 0.0010\n",
            "Epoch 41/50\n",
            "898/898 [==============================] - 27s 30ms/step - loss: 1.5658 - accuracy: 0.3856 - val_loss: 1.6165 - val_accuracy: 0.3823 - lr: 0.0010\n",
            "Epoch 42/50\n",
            "898/898 [==============================] - 27s 30ms/step - loss: 1.5644 - accuracy: 0.3836 - val_loss: 1.6894 - val_accuracy: 0.3570 - lr: 0.0010\n",
            "Epoch 43/50\n",
            "898/898 [==============================] - 27s 30ms/step - loss: 1.5725 - accuracy: 0.3777 - val_loss: 1.6863 - val_accuracy: 0.3866 - lr: 0.0010\n",
            "Epoch 44/50\n",
            "898/898 [==============================] - 27s 30ms/step - loss: 1.5581 - accuracy: 0.3881 - val_loss: 1.6239 - val_accuracy: 0.3867 - lr: 0.0010\n",
            "Epoch 45/50\n",
            "898/898 [==============================] - 27s 30ms/step - loss: 1.5617 - accuracy: 0.3868 - val_loss: 1.6319 - val_accuracy: 0.3848 - lr: 0.0010\n",
            "Epoch 46/50\n",
            "898/898 [==============================] - 27s 30ms/step - loss: 1.5535 - accuracy: 0.3885 - val_loss: 1.5822 - val_accuracy: 0.3936 - lr: 0.0010\n",
            "Epoch 47/50\n",
            "898/898 [==============================] - 27s 30ms/step - loss: 1.5546 - accuracy: 0.3898 - val_loss: 1.6064 - val_accuracy: 0.3888 - lr: 0.0010\n",
            "Epoch 48/50\n",
            "897/898 [============================>.] - ETA: 0s - loss: 1.5532 - accuracy: 0.3863Restoring model weights from the end of the best epoch: 38.\n",
            "898/898 [==============================] - 27s 30ms/step - loss: 1.5534 - accuracy: 0.3864 - val_loss: 1.6080 - val_accuracy: 0.3836 - lr: 0.0010\n",
            "Epoch 48: early stopping\n"
          ]
        }
      ]
    },
    {
      "cell_type": "code",
      "source": [
        "# Evaluating on the overall test data.\n",
        "model_B.evaluate(test_data)"
      ],
      "metadata": {
        "colab": {
          "base_uri": "https://localhost:8080/"
        },
        "id": "Oz_DVfBux-rl",
        "outputId": "a4e9ddb5-c312-460b-a65d-7207f7922f9d"
      },
      "execution_count": 187,
      "outputs": [
        {
          "output_type": "stream",
          "name": "stdout",
          "text": [
            "225/225 [==============================] - 6s 25ms/step - loss: 1.5882 - accuracy: 0.3877\n"
          ]
        },
        {
          "output_type": "execute_result",
          "data": {
            "text/plain": [
              "[1.5882489681243896, 0.3877124488353729]"
            ]
          },
          "metadata": {},
          "execution_count": 187
        }
      ]
    },
    {
      "cell_type": "markdown",
      "source": [
        "Accuracy score on overall test dataset came out to be **38.77%**"
      ],
      "metadata": {
        "id": "NSirH0m0yMnr"
      }
    },
    {
      "cell_type": "code",
      "source": [
        "# Model summary.\n",
        "model_B.summary()"
      ],
      "metadata": {
        "colab": {
          "base_uri": "https://localhost:8080/"
        },
        "id": "runMWFk7yPcz",
        "outputId": "17ce9037-f95b-4646-f3ba-6958a624cf2a"
      },
      "execution_count": 188,
      "outputs": [
        {
          "output_type": "stream",
          "name": "stdout",
          "text": [
            "Model: \"sequential_10\"\n",
            "_________________________________________________________________\n",
            " Layer (type)                Output Shape              Param #   \n",
            "=================================================================\n",
            " resnet50 (Functional)       (None, 2, 2, 2048)        23587712  \n",
            "                                                                 \n",
            " dropout_48 (Dropout)        (None, 2, 2, 2048)        0         \n",
            "                                                                 \n",
            " flatten_10 (Flatten)        (None, 8192)              0         \n",
            "                                                                 \n",
            " batch_normalization_48 (Bat  (None, 8192)             32768     \n",
            " chNormalization)                                                \n",
            "                                                                 \n",
            " dense_31 (Dense)            (None, 512)               4194816   \n",
            "                                                                 \n",
            " batch_normalization_49 (Bat  (None, 512)              2048      \n",
            " chNormalization)                                                \n",
            "                                                                 \n",
            " dropout_49 (Dropout)        (None, 512)               0         \n",
            "                                                                 \n",
            " dense_32 (Dense)            (None, 256)               131328    \n",
            "                                                                 \n",
            " batch_normalization_50 (Bat  (None, 256)              1024      \n",
            " chNormalization)                                                \n",
            "                                                                 \n",
            " dropout_50 (Dropout)        (None, 256)               0         \n",
            "                                                                 \n",
            " dense_33 (Dense)            (None, 7)                 1799      \n",
            "                                                                 \n",
            "=================================================================\n",
            "Total params: 27,951,495\n",
            "Trainable params: 4,345,863\n",
            "Non-trainable params: 23,605,632\n",
            "_________________________________________________________________\n"
          ]
        }
      ]
    },
    {
      "cell_type": "code",
      "source": [
        "# Prediction for test set.\n",
        "predictions_1 = model_B.predict(test_data)\n",
        "\n",
        "# Printing Confution Matrix\n",
        "cm_1 = confusion_matrix(y_pred = np.argmax(predictions_1, axis=-1), y_true = test_data.classes)                         \n",
        "cm_1"
      ],
      "metadata": {
        "colab": {
          "base_uri": "https://localhost:8080/"
        },
        "id": "dJebJFZu0qoV",
        "outputId": "0167608c-0f4e-4f9c-b3c6-b383d343eafc"
      },
      "execution_count": 194,
      "outputs": [
        {
          "output_type": "execute_result",
          "data": {
            "text/plain": [
              "array([[ 160,    7,   48,  394,  135,  157,   57],\n",
              "       [  12,   15,    6,   53,   14,   10,    1],\n",
              "       [  58,    2,  146,  398,  114,  204,  102],\n",
              "       [  73,    5,   47, 1301,  132,  165,   51],\n",
              "       [  62,    6,   49,  498,  403,  180,   35],\n",
              "       [  89,    8,   61,  503,  167,  385,   34],\n",
              "       [  30,    2,   55,  214,   85,   72,  373]])"
            ]
          },
          "metadata": {},
          "execution_count": 194
        }
      ]
    },
    {
      "cell_type": "code",
      "source": [
        "# Computing predictions.\n",
        "predictions_1 = model_B.predict_generator(generator=test_data)\n",
        "y_pred = [np.argmax(probas) for probas in predictions_1]\n",
        "y_test = test_data.classes\n",
        "class_names = test_data.class_indices.keys()"
      ],
      "metadata": {
        "id": "uffxT3Fq07d3"
      },
      "execution_count": 195,
      "outputs": []
    },
    {
      "cell_type": "code",
      "source": [
        "# Computing confusion matrix.\n",
        "cnf_matrix_1 = confusion_matrix(y_test, y_pred)\n",
        "np.set_printoptions(precision=2)\n",
        "\n",
        "# Plotting the confusion matrix.\n",
        "plot_confusion_matrix(cnf_matrix_1,  classes = class_names, title='Normalized confusion matrix')"
      ],
      "metadata": {
        "colab": {
          "base_uri": "https://localhost:8080/",
          "height": 727
        },
        "id": "H5kj0yuH1ImI",
        "outputId": "3c3cafd8-1005-467e-a370-f7df82654419"
      },
      "execution_count": 197,
      "outputs": [
        {
          "output_type": "display_data",
          "data": {
            "text/plain": [
              "<Figure size 720x720 with 2 Axes>"
            ],
            "image/png": "[encoded data removed]"
          },
          "metadata": {
            "needs_background": "light"
          }
        }
      ]
    },
    {
      "cell_type": "markdown",
      "source": [
        "Clearly, model is predicting each class to be as 'happy' class. Indicates the poor performance of the model."
      ],
      "metadata": {
        "id": "tc4W_rU41lgZ"
      }
    },
    {
      "cell_type": "code",
      "source": [
        "# Plotting the loss curves.\n",
        "plot_loss_curves(history_model_B)"
      ],
      "metadata": {
        "colab": {
          "base_uri": "https://localhost:8080/",
          "height": 563
        },
        "id": "NkkUp42pzpXC",
        "outputId": "fc733cce-07c8-4dd5-d674-a2a00d540997"
      },
      "execution_count": 193,
      "outputs": [
        {
          "output_type": "display_data",
          "data": {
            "text/plain": [
              "<Figure size 432x288 with 1 Axes>"
            ],
            "image/png": "[encoded data removed]"
          },
          "metadata": {
            "needs_background": "light"
          }
        },
        {
          "output_type": "display_data",
          "data": {
            "text/plain": [
              "<Figure size 432x288 with 1 Axes>"
            ],
            "image/png": "[encoded data removed]"
          },
          "metadata": {
            "needs_background": "light"
          }
        }
      ]
    },
    {
      "cell_type": "markdown",
      "source": [
        "**The training gave the accuracy of 38.64% and val_accuracy of 38.77%. The 'ResNet50' model failed to perform well and the accuracy scores are also not at all satisfactory.**"
      ],
      "metadata": {
        "id": "RHQm9AVTz1Xf"
      }
    },
    {
      "cell_type": "markdown",
      "source": [
        "### **EfficientNetB0**\n",
        "\n",
        "EfficientNetB0 is a convolutional neural network designed by Google and is trained on the ImageNet database. "
      ],
      "metadata": {
        "id": "bUXg3qNV4x30"
      }
    },
    {
      "cell_type": "code",
      "source": [
        ""
      ],
      "metadata": {
        "id": "rbNSjCiU5grj"
      },
      "execution_count": null,
      "outputs": []
    }
  ],
  "metadata": {
    "colab": {
      "collapsed_sections": [],
      "name": "Live Class Monitoring System (Face Emotion Recognition).ipynb",
      "provenance": [],
      "authorship_tag": "ABX9TyOkG+D+dxU77szwKsX5X7RU",
      "include_colab_link": true
    },
    "kernelspec": {
      "display_name": "Python 3",
      "name": "python3"
    },
    "language_info": {
      "name": "python"
    },
    "accelerator": "GPU"
  },
  "nbformat": 4,
  "nbformat_minor": 0
}