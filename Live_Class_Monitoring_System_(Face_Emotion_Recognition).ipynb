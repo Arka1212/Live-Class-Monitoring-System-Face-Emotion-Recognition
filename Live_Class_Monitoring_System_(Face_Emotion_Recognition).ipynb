{
  "cells": [
    {
      "cell_type": "markdown",
      "metadata": {
        "id": "view-in-github",
        "colab_type": "text"
      },
      "source": [
        "<a href=\"https://colab.research.google.com/github/Arka1212/Live-Class-Monitoring-System-Face-Emotion-Recognition/blob/main/Live_Class_Monitoring_System_(Face_Emotion_Recognition).ipynb\" target=\"_parent\"><img src=\"https://colab.research.google.com/assets/colab-badge.svg\" alt=\"Open In Colab\"/></a>"
      ]
    },
    {
      "cell_type": "markdown",
      "metadata": {
        "id": "PS-9XGzY8Oku"
      },
      "source": [
        "# **Live Class Monitoring System (Face Emotion Recognition)**\n",
        "\n",
        "## **Project Introduction**\n",
        "The Indian education landscape has been undergoing rapid changes for the past 10 years owing to the advancement of web-based learning services, specifically, eLearning platforms. \n",
        "\n",
        "Global E-learning is estimated to witness an 8X over the next 5 years to reach USD 2B in 2021. India is expected to grow with a CAGR of 44% crossing the 10M users mark in 2021. Although the market is growing on a rapid scale, there are major challenges associated with digital learning when compared with brick and mortar classrooms. One of many challenges is how to ensure quality learning for students. Digital platforms might overpower physical classrooms in terms of content quality but when it comes to understanding whether students are able to grasp the content in a live class scenario is yet an open-end challenge.\n",
        "\n",
        "In a physical classroom during a lecturing teacher can see the faces and assess the emotion of the class and tune their lecture accordingly, whether he is going fast or slow. He can identify students who need special attention. Digital classrooms are conducted via video telephony software program (exZoom) where it’s not possible for medium scale class (25-50) to see all students and access the mood. Because of this drawback, students are not focusing on content due to lack of surveillance. While digital platforms have limitations in terms of physical surveillance but it comes with the power of data and machines which can work for you. It provides data in the form of video, audio, and texts which can be analysed using deep learning algorithms. Deep learning backed system not only solves the surveillance issue, but it also removes the human bias from the system, and all information is no longer in the teacher’s brain rather translated in numbers that can be analysed and tracked.\n",
        "\n",
        "## **Problem Statement**\n",
        "The problem statement focuses on solving the above-mentioned challenge by applying deep learning algorithms to live video data. The solution to this problem is by recognizing facial emotions. This is a few shot learning live face emotion detection system. The model should be able to real-time identify the emotions of students in a live class.\n",
        "\n",
        "## **Dataset Link**\n",
        "Dataset: https://www.kaggle.com/msambare/fer2013\n"
      ]
    },
    {
      "cell_type": "markdown",
      "metadata": {
        "id": "nOZeBc8C-T1j"
      },
      "source": [
        "**-------------------------------------------------------------------------------------------------------------------------------------------------------------------**\n",
        "**-------------------------------------------------------------------------------------------------------------------------------------------------------------------**"
      ]
    },
    {
      "cell_type": "code",
      "execution_count": 323,
      "metadata": {
        "id": "DpzN4pK2r8U7",
        "colab": {
          "base_uri": "https://localhost:8080/"
        },
        "outputId": "a067abe8-d92c-4e35-faea-ba5bf2896018"
      },
      "outputs": [
        {
          "output_type": "stream",
          "name": "stdout",
          "text": [
            "Tensorflow version ----->  2.8.0\n"
          ]
        }
      ],
      "source": [
        "# Importing necessary libraries.\n",
        "import numpy as np\n",
        "import pandas as pd\n",
        "import matplotlib.pyplot as plt\n",
        "import seaborn as sns\n",
        "import tensorflow as tf\n",
        "print(f'Tensorflow version ----->  {tf.__version__}')"
      ]
    },
    {
      "cell_type": "code",
      "execution_count": 324,
      "metadata": {
        "id": "yW57SAbBvqpy"
      },
      "outputs": [],
      "source": [
        "# Removing warnings.\n",
        "import warnings                                                                                \n",
        "warnings.filterwarnings('ignore')\n",
        "warnings.simplefilter('ignore')"
      ]
    },
    {
      "cell_type": "markdown",
      "metadata": {
        "id": "GE6gOohYsZwZ"
      },
      "source": [
        "Imported some of the basic libraries in order to get started & rest all the required libraries will be imported as and when required."
      ]
    },
    {
      "cell_type": "markdown",
      "metadata": {
        "id": "h832PnDQxMD0"
      },
      "source": [
        "## **Downloading & inspecting dataset**"
      ]
    },
    {
      "cell_type": "code",
      "execution_count": 325,
      "metadata": {
        "id": "caCaW34YxVRU",
        "outputId": "3ca3f0e9-74d0-4976-ac49-57aa7d385852",
        "colab": {
          "base_uri": "https://localhost:8080/"
        }
      },
      "outputs": [
        {
          "output_type": "stream",
          "name": "stdout",
          "text": [
            "Drive already mounted at /content/drive; to attempt to forcibly remount, call drive.mount(\"/content/drive\", force_remount=True).\n"
          ]
        }
      ],
      "source": [
        "# Mounting the drive.\n",
        "from google.colab import drive\n",
        "drive.mount('/content/drive')"
      ]
    },
    {
      "cell_type": "code",
      "execution_count": 326,
      "metadata": {
        "id": "JrgqhyzR6nSd"
      },
      "outputs": [],
      "source": [
        "# Accessing the dataset.\n",
        "filename = '/content/drive/MyDrive/Capstone Projects/Deep Learning/Live Class Monitoring System (Face Emotion Recognition)/Face Emotion Dataset.zip'"
      ]
    },
    {
      "cell_type": "markdown",
      "metadata": {
        "id": "wx4NZq8N665z"
      },
      "source": [
        "The dataset is actually in 'zip' format and it needs to be unzipped in order to use it."
      ]
    },
    {
      "cell_type": "code",
      "execution_count": 327,
      "metadata": {
        "id": "mvcm-DPC7MYp"
      },
      "outputs": [],
      "source": [
        "# Unzipping the dataset.\n",
        "import zipfile\n",
        "zip_ref = zipfile.ZipFile(filename)\n",
        "zip_ref.extractall()\n",
        "zip_ref.close()"
      ]
    },
    {
      "cell_type": "markdown",
      "metadata": {
        "id": "7VkUg8v78b4M"
      },
      "source": [
        "Here, the dataset is already splitted into train & test dataset."
      ]
    },
    {
      "cell_type": "code",
      "execution_count": 328,
      "metadata": {
        "colab": {
          "base_uri": "https://localhost:8080/"
        },
        "id": "TokoipOi-JZt",
        "outputId": "2610b6da-41dc-4c07-d92a-9011ce318a74"
      },
      "outputs": [
        {
          "output_type": "stream",
          "name": "stdout",
          "text": [
            "TRAINING DATA:\n",
            "\n",
            "There are 7 directories and 0 images in /content/train.\n",
            "There are 0 directories and 3171 images in /content/train/surprise.\n",
            "There are 0 directories and 7215 images in /content/train/happy.\n",
            "There are 0 directories and 4097 images in /content/train/fear.\n",
            "There are 0 directories and 436 images in /content/train/disgust.\n",
            "There are 0 directories and 4830 images in /content/train/sad.\n",
            "There are 0 directories and 4965 images in /content/train/neutral.\n",
            "There are 0 directories and 3995 images in /content/train/angry.\n",
            "\n",
            "\n",
            "TESTING DATA:\n",
            "\n",
            "There are 7 directories and 0 images in /content/test.\n",
            "There are 0 directories and 831 images in /content/test/surprise.\n",
            "There are 0 directories and 1774 images in /content/test/happy.\n",
            "There are 0 directories and 1024 images in /content/test/fear.\n",
            "There are 0 directories and 111 images in /content/test/disgust.\n",
            "There are 0 directories and 1247 images in /content/test/sad.\n",
            "There are 0 directories and 1233 images in /content/test/neutral.\n",
            "There are 0 directories and 958 images in /content/test/angry.\n"
          ]
        }
      ],
      "source": [
        "# Walking into the directories and listing the number of files in each directories.\n",
        "import os\n",
        "\n",
        "# Walking through the train data directory.\n",
        "print(f'TRAINING DATA:\\n')\n",
        "for dirpath, dirnames, filenames in os.walk('/content/train'):\n",
        "  print(f'There are {len(dirnames)} directories and {len(filenames)} images in {dirpath}.')\n",
        "\n",
        "\n",
        "# Walking through the test data directory.\n",
        "print(f'\\n\\nTESTING DATA:\\n')\n",
        "for dirpath, dirnames, filenames in os.walk('/content/test'):\n",
        "  print(f'There are {len(dirnames)} directories and {len(filenames)} images in {dirpath}.')"
      ]
    },
    {
      "cell_type": "markdown",
      "metadata": {
        "id": "Yhq86iti_z2J"
      },
      "source": [
        "So, basically there are 7 directories present in both train and test dataset which are nothing but the directories representing each class and each directories have a number of images belonging to that class. So, clearly we get an idea that this particular dataset has 7 classes."
      ]
    },
    {
      "cell_type": "code",
      "source": [
        "# Getting the class names programatically.\n",
        "import pathlib                                  # 'Pathlib' module in Python provides various classes representing file system paths.\n",
        "\n",
        "data_dir = pathlib.Path('/content/train')\n",
        "class_names = np.array(sorted([item.name for item in data_dir.glob('*')]))\n",
        "# Creates a list of class names from the sub-directories.\n",
        "\n",
        "print(class_names)"
      ],
      "metadata": {
        "colab": {
          "base_uri": "https://localhost:8080/"
        },
        "id": "LRfSy4lBZKdb",
        "outputId": "ec8a5aef-dda6-46ff-b13f-49ccad6c93e5"
      },
      "execution_count": 329,
      "outputs": [
        {
          "output_type": "stream",
          "name": "stdout",
          "text": [
            "['angry' 'disgust' 'fear' 'happy' 'neutral' 'sad' 'surprise']\n"
          ]
        }
      ]
    },
    {
      "cell_type": "markdown",
      "metadata": {
        "id": "jLHKrH1aDhlF"
      },
      "source": [
        "Classes present in the dataset are:  \n",
        "1. **angry**\n",
        "2. **disgust** \n",
        "3. **fear** \n",
        "4. **happy**\n",
        "5. **neutral**\n",
        "6. **sad** \n",
        "7. **surprise**\n",
        "\n",
        "Each of these classes represents human emotions."
      ]
    },
    {
      "cell_type": "markdown",
      "metadata": {
        "id": "juQyhU96K03h"
      },
      "source": [
        "## **Visualising images of each class**\n",
        "\n",
        "Becoming one with the data by visualising different images of each classes which the dataset in comprised of."
      ]
    },
    {
      "cell_type": "code",
      "execution_count": 330,
      "metadata": {
        "id": "agtTIwLfK_IW"
      },
      "outputs": [],
      "source": [
        "# Creating a function to view random images of each class.\n",
        "import random\n",
        "import matplotlib.image as mpimg\n",
        "\n",
        "def view_random_images(target_directory, target_class):\n",
        "  \n",
        "  '''\n",
        "  Takes into the target directory and target class as a path and prints random images of the specified class from the dataset\n",
        "  '''\n",
        "  \n",
        "  # Creating a target folder which will store the folder path taking the directory name and class name.\n",
        "  target_folder = target_directory + '/' + target_class\n",
        "  \n",
        "  # Getting a random image from the target folder and printing the image number.\n",
        "  random_image = random.sample(os.listdir(target_folder),1)\n",
        "  print(f'Image number: {random_image}')\n",
        "\n",
        "  # Reading the image and plotting it using matploltib.\n",
        "  img = mpimg.imread(target_folder + '/' + random_image[0])\n",
        "  plt.imshow(img)\n",
        "  plt.title(target_class.upper(),fontsize = 15)\n",
        "  plt.axis('off')\n",
        "  plt.show()\n",
        "\n",
        "  # Printing the shape of the image along with the image.\n",
        "  print(f'Image shape : {img.shape}')\n",
        "  \n",
        "  return img"
      ]
    },
    {
      "cell_type": "code",
      "execution_count": 331,
      "metadata": {
        "colab": {
          "base_uri": "https://localhost:8080/",
          "height": 429
        },
        "id": "9jPDoebb2BMN",
        "outputId": "908b52a5-4831-4bb8-8d75-4a867a283557"
      },
      "outputs": [
        {
          "output_type": "stream",
          "name": "stdout",
          "text": [
            "Image number: ['Training_99982465.jpg']\n"
          ]
        },
        {
          "output_type": "display_data",
          "data": {
            "text/plain": [
              "<Figure size 432x288 with 1 Axes>"
            ],
            "image/png": "[encoded data removed]"
          },
          "metadata": {
            "needs_background": "light"
          }
        },
        {
          "output_type": "stream",
          "name": "stdout",
          "text": [
            "Image shape : (48, 48)\n"
          ]
        },
        {
          "output_type": "execute_result",
          "data": {
            "text/plain": [
              "array([[112, 125, 138, ..., 147, 145, 141],\n",
              "       [119, 134, 149, ..., 147, 144, 135],\n",
              "       [129, 145, 160, ..., 144, 140, 139],\n",
              "       ...,\n",
              "       [147, 172, 169, ..., 129, 134, 134],\n",
              "       [153, 169, 169, ..., 134, 139, 138],\n",
              "       [160, 169, 168, ..., 139, 140, 135]], dtype=uint8)"
            ]
          },
          "metadata": {},
          "execution_count": 331
        }
      ],
      "source": [
        "# Viewing 'angry' class image.\n",
        "view_random_images(target_directory = '/content/train',\n",
        "                   target_class = 'angry')"
      ]
    },
    {
      "cell_type": "code",
      "execution_count": 332,
      "metadata": {
        "colab": {
          "base_uri": "https://localhost:8080/",
          "height": 429
        },
        "id": "lk002Kno2qfP",
        "outputId": "ca27ff3b-d359-4767-bda2-8206bbba5180"
      },
      "outputs": [
        {
          "output_type": "stream",
          "name": "stdout",
          "text": [
            "Image number: ['Training_81867140.jpg']\n"
          ]
        },
        {
          "output_type": "display_data",
          "data": {
            "text/plain": [
              "<Figure size 432x288 with 1 Axes>"
            ],
            "image/png": "[encoded data removed]"
          },
          "metadata": {
            "needs_background": "light"
          }
        },
        {
          "output_type": "stream",
          "name": "stdout",
          "text": [
            "Image shape : (48, 48)\n"
          ]
        },
        {
          "output_type": "execute_result",
          "data": {
            "text/plain": [
              "array([[116, 109, 109, ..., 135, 245, 253],\n",
              "       [100,  79,  85, ..., 134, 212, 253],\n",
              "       [ 81,  55,  41, ..., 142, 230, 255],\n",
              "       ...,\n",
              "       [123,  60,  24, ..., 125, 121, 119],\n",
              "       [105,  35,  15, ..., 114, 127, 123],\n",
              "       [ 62,  39,  17, ...,  40, 116, 126]], dtype=uint8)"
            ]
          },
          "metadata": {},
          "execution_count": 332
        }
      ],
      "source": [
        "# Viewing 'disgust' class image.\n",
        "view_random_images(target_directory = '/content/train',\n",
        "                   target_class = 'disgust')"
      ]
    },
    {
      "cell_type": "code",
      "execution_count": 333,
      "metadata": {
        "colab": {
          "base_uri": "https://localhost:8080/",
          "height": 429
        },
        "id": "UwRLnHad23QK",
        "outputId": "746b1091-3293-4b45-8606-31e518e0627a"
      },
      "outputs": [
        {
          "output_type": "stream",
          "name": "stdout",
          "text": [
            "Image number: ['Training_10942406.jpg']\n"
          ]
        },
        {
          "output_type": "display_data",
          "data": {
            "text/plain": [
              "<Figure size 432x288 with 1 Axes>"
            ],
            "image/png": "[encoded data removed]"
          },
          "metadata": {
            "needs_background": "light"
          }
        },
        {
          "output_type": "stream",
          "name": "stdout",
          "text": [
            "Image shape : (48, 48)\n"
          ]
        },
        {
          "output_type": "execute_result",
          "data": {
            "text/plain": [
              "array([[ 15,  22,  58, ...,  27,  43,  41],\n",
              "       [ 12,  40,  49, ...,  46,  59,  45],\n",
              "       [ 38,  62,  44, ...,  63,  37,  32],\n",
              "       ...,\n",
              "       [ 12,  15,  19, ..., 123, 127, 128],\n",
              "       [ 12,  14,  17, ..., 106, 109, 115],\n",
              "       [ 13,  12,  15, ...,  98, 103, 114]], dtype=uint8)"
            ]
          },
          "metadata": {},
          "execution_count": 333
        }
      ],
      "source": [
        "# Viewing 'fear' class image.\n",
        "view_random_images(target_directory = '/content/train',\n",
        "                   target_class = 'fear')"
      ]
    },
    {
      "cell_type": "code",
      "execution_count": 334,
      "metadata": {
        "colab": {
          "base_uri": "https://localhost:8080/",
          "height": 429
        },
        "id": "IbbkRsDT3Jat",
        "outputId": "5316d4e2-37bd-47df-93f5-891961b5d6ba"
      },
      "outputs": [
        {
          "output_type": "stream",
          "name": "stdout",
          "text": [
            "Image number: ['Training_80837948.jpg']\n"
          ]
        },
        {
          "output_type": "display_data",
          "data": {
            "text/plain": [
              "<Figure size 432x288 with 1 Axes>"
            ],
            "image/png": "[encoded data removed]"
          },
          "metadata": {
            "needs_background": "light"
          }
        },
        {
          "output_type": "stream",
          "name": "stdout",
          "text": [
            "Image shape : (48, 48)\n"
          ]
        },
        {
          "output_type": "execute_result",
          "data": {
            "text/plain": [
              "array([[ 36,  32,  36, ..., 112,  81,  63],\n",
              "       [ 29,  36,  34, ..., 116,  82,  67],\n",
              "       [ 23,  21,  11, ..., 120,  87,  69],\n",
              "       ...,\n",
              "       [113, 122, 136, ...,  90,  96,  88],\n",
              "       [114, 120, 138, ...,  92, 104,  93],\n",
              "       [118, 115, 140, ..., 103, 107, 103]], dtype=uint8)"
            ]
          },
          "metadata": {},
          "execution_count": 334
        }
      ],
      "source": [
        "# Viewing 'happy' class image.\n",
        "view_random_images(target_directory = '/content/train',\n",
        "                   target_class = 'happy')"
      ]
    },
    {
      "cell_type": "code",
      "execution_count": 335,
      "metadata": {
        "colab": {
          "base_uri": "https://localhost:8080/",
          "height": 429
        },
        "id": "2BopBN8w3Oeh",
        "outputId": "64aa642a-21ab-4a50-d4d5-df30426f0775"
      },
      "outputs": [
        {
          "output_type": "stream",
          "name": "stdout",
          "text": [
            "Image number: ['Training_36159814.jpg']\n"
          ]
        },
        {
          "output_type": "display_data",
          "data": {
            "text/plain": [
              "<Figure size 432x288 with 1 Axes>"
            ],
            "image/png": "[encoded data removed]"
          },
          "metadata": {
            "needs_background": "light"
          }
        },
        {
          "output_type": "stream",
          "name": "stdout",
          "text": [
            "Image shape : (48, 48)\n"
          ]
        },
        {
          "output_type": "execute_result",
          "data": {
            "text/plain": [
              "array([[194, 159, 154, ..., 195, 198, 200],\n",
              "       [189, 156, 151, ..., 195, 200, 205],\n",
              "       [178, 152, 149, ..., 193, 197, 204],\n",
              "       ...,\n",
              "       [  3,   2,  35, ..., 237, 217, 220],\n",
              "       [  4,  13,  31, ..., 229, 234, 231],\n",
              "       [  4,   7,  50, ..., 199, 209, 228]], dtype=uint8)"
            ]
          },
          "metadata": {},
          "execution_count": 335
        }
      ],
      "source": [
        "# Viewing 'neutral' class image.\n",
        "view_random_images(target_directory = '/content/train',\n",
        "                   target_class = 'neutral')"
      ]
    },
    {
      "cell_type": "code",
      "execution_count": 336,
      "metadata": {
        "colab": {
          "base_uri": "https://localhost:8080/",
          "height": 429
        },
        "id": "kfV_8bQU3YMT",
        "outputId": "2c69d644-0e9c-44f5-e4f5-e4ae024736d2"
      },
      "outputs": [
        {
          "output_type": "stream",
          "name": "stdout",
          "text": [
            "Image number: ['Training_69062237.jpg']\n"
          ]
        },
        {
          "output_type": "display_data",
          "data": {
            "text/plain": [
              "<Figure size 432x288 with 1 Axes>"
            ],
            "image/png": "[encoded data removed]"
          },
          "metadata": {
            "needs_background": "light"
          }
        },
        {
          "output_type": "stream",
          "name": "stdout",
          "text": [
            "Image shape : (48, 48)\n"
          ]
        },
        {
          "output_type": "execute_result",
          "data": {
            "text/plain": [
              "array([[225, 223, 222, ...,   2,   0,   1],\n",
              "       [223, 234, 223, ...,   0,   2,  17],\n",
              "       [237, 189,  83, ...,   3,   4,  10],\n",
              "       ...,\n",
              "       [ 35,  42,  28, ...,  64,  78,  85],\n",
              "       [ 34,  20,  35, ...,  58,  76,  85],\n",
              "       [ 36,  34,  27, ...,  66,  81,  83]], dtype=uint8)"
            ]
          },
          "metadata": {},
          "execution_count": 336
        }
      ],
      "source": [
        "# Viewing 'sad' class image.\n",
        "view_random_images(target_directory = '/content/train',\n",
        "                   target_class = 'sad')"
      ]
    },
    {
      "cell_type": "code",
      "execution_count": 337,
      "metadata": {
        "colab": {
          "base_uri": "https://localhost:8080/",
          "height": 429
        },
        "id": "1FYwTQGn3gtS",
        "outputId": "6f664e77-c922-4232-a8c2-74d5e70a32b3"
      },
      "outputs": [
        {
          "output_type": "stream",
          "name": "stdout",
          "text": [
            "Image number: ['Training_95989089.jpg']\n"
          ]
        },
        {
          "output_type": "display_data",
          "data": {
            "text/plain": [
              "<Figure size 432x288 with 1 Axes>"
            ],
            "image/png": "[encoded data removed]"
          },
          "metadata": {
            "needs_background": "light"
          }
        },
        {
          "output_type": "stream",
          "name": "stdout",
          "text": [
            "Image shape : (48, 48)\n"
          ]
        },
        {
          "output_type": "execute_result",
          "data": {
            "text/plain": [
              "array([[ 31,  26,  33, ...,  45,  28, 107],\n",
              "       [ 29,  31,  31, ...,  48,  24,  64],\n",
              "       [ 29,  28,  28, ...,  32,  25,  48],\n",
              "       ...,\n",
              "       [220, 226, 232, ..., 219, 211, 237],\n",
              "       [240, 217, 229, ..., 214, 214, 223],\n",
              "       [238, 219, 228, ..., 223, 219, 211]], dtype=uint8)"
            ]
          },
          "metadata": {},
          "execution_count": 337
        }
      ],
      "source": [
        "# Viewing 'surprise' class image.\n",
        "view_random_images(target_directory = '/content/train',\n",
        "                   target_class = 'surprise')"
      ]
    },
    {
      "cell_type": "markdown",
      "metadata": {
        "id": "C-ZefKCa67cV"
      },
      "source": [
        "Points to be noted after viewing the images above:\n",
        "* Image values are not scaled.\n",
        "* Images are of shape 48X48.\n",
        "* Images are not in RGB colour mode."
      ]
    },
    {
      "cell_type": "markdown",
      "metadata": {
        "id": "jY2CY7xx8fkN"
      },
      "source": [
        "## **Model building**\n",
        "\n",
        "Architectures which will be used in order to build models are as follows:\n",
        "1. **Convolutional Neural Networks (CNN)**\n",
        "2. **resnet50**\n",
        "3. **EfficientNetB0**\n",
        "\n",
        "At first \"CNN\" will be used to create model followed by transfer learning using \"ResNet50\", \"EfficientNetB0\"."
      ]
    },
    {
      "cell_type": "markdown",
      "metadata": {
        "id": "UfVB40w5CZDM"
      },
      "source": [
        "Changing the runtime type to \"GPU\" which is offered by Google Colaboratory in order to train the model faster."
      ]
    },
    {
      "cell_type": "code",
      "execution_count": 338,
      "metadata": {
        "id": "WLrNrPliC73w",
        "colab": {
          "base_uri": "https://localhost:8080/"
        },
        "outputId": "7a70eacf-d3c5-4568-9dc8-cb24925b7743"
      },
      "outputs": [
        {
          "output_type": "stream",
          "name": "stdout",
          "text": [
            "Wed May 11 16:32:45 2022       \n",
            "+-----------------------------------------------------------------------------+\n",
            "| NVIDIA-SMI 460.32.03    Driver Version: 460.32.03    CUDA Version: 11.2     |\n",
            "|-------------------------------+----------------------+----------------------+\n",
            "| GPU  Name        Persistence-M| Bus-Id        Disp.A | Volatile Uncorr. ECC |\n",
            "| Fan  Temp  Perf  Pwr:Usage/Cap|         Memory-Usage | GPU-Util  Compute M. |\n",
            "|                               |                      |               MIG M. |\n",
            "|===============================+======================+======================|\n",
            "|   0  Tesla T4            Off  | 00000000:00:04.0 Off |                    0 |\n",
            "| N/A   70C    P0    31W /  70W |   8980MiB / 15109MiB |      0%      Default |\n",
            "|                               |                      |                  N/A |\n",
            "+-------------------------------+----------------------+----------------------+\n",
            "                                                                               \n",
            "+-----------------------------------------------------------------------------+\n",
            "| Processes:                                                                  |\n",
            "|  GPU   GI   CI        PID   Type   Process name                  GPU Memory |\n",
            "|        ID   ID                                                   Usage      |\n",
            "|=============================================================================|\n",
            "+-----------------------------------------------------------------------------+\n"
          ]
        }
      ],
      "source": [
        "# Checking the GPU details.\n",
        "!nvidia-smi"
      ]
    },
    {
      "cell_type": "markdown",
      "source": [
        "So, **Tesla T4** GPU has been allocated by google colab."
      ],
      "metadata": {
        "id": "LscdwVmoQ5Zw"
      }
    },
    {
      "cell_type": "markdown",
      "metadata": {
        "id": "5VEwvLtfBnAf"
      },
      "source": [
        "### **Custom CNN model**\n",
        "\n",
        "CNN is a deep learning neural network sketched for processing structured arrays of data such as portrayals or images. CNN are very good at picking up on patterns in the input image, such as lines, gradients, circles or even eyes and faces. "
      ]
    },
    {
      "cell_type": "code",
      "source": [
        "# Setting up the path to data directories.\n",
        "train_dir = '/content/train'\n",
        "test_dir = '/content/test'"
      ],
      "metadata": {
        "id": "HsTVD_nwq9A-"
      },
      "execution_count": 339,
      "outputs": []
    },
    {
      "cell_type": "code",
      "source": [
        "# Flipping and scaling the data.\n",
        "from tensorflow.keras.preprocessing.image import ImageDataGenerator\n",
        "\n",
        "train_datagen = ImageDataGenerator(rescale = 1./255)\n",
        "validation_datagen = ImageDataGenerator(rescale = 1./255)"
      ],
      "metadata": {
        "id": "OEf1umj1rAfM"
      },
      "execution_count": 340,
      "outputs": []
    },
    {
      "cell_type": "code",
      "source": [
        "# Getting the train and test(validation) dataset ready for model creation.\n",
        "train_data = train_datagen.flow_from_directory(directory = train_dir,              \n",
        "                                               batch_size = 32,                 \n",
        "                                               target_size = (48, 48),          \n",
        "                                               color_mode = 'grayscale',                                \n",
        "                                               class_mode = 'categorical')\n",
        "\n",
        "test_data = validation_datagen.flow_from_directory(directory = test_dir,              \n",
        "                                                   batch_size = 32,                 \n",
        "                                                   target_size = (48, 48),          \n",
        "                                                   color_mode = 'grayscale',              \n",
        "                                                   shuffle = False,                  \n",
        "                                                   class_mode = 'categorical')"
      ],
      "metadata": {
        "colab": {
          "base_uri": "https://localhost:8080/"
        },
        "id": "57R-inBWrEte",
        "outputId": "555ffb99-af4b-4036-ced2-be07300506df"
      },
      "execution_count": 341,
      "outputs": [
        {
          "output_type": "stream",
          "name": "stdout",
          "text": [
            "Found 28709 images belonging to 7 classes.\n",
            "Found 7178 images belonging to 7 classes.\n"
          ]
        }
      ]
    },
    {
      "cell_type": "markdown",
      "source": [
        "Data is being pre-processed for CNN and is ready for model building."
      ],
      "metadata": {
        "id": "7MxCQe4rrOBa"
      }
    },
    {
      "cell_type": "code",
      "execution_count": 342,
      "metadata": {
        "id": "aS3tyQS8CCSq"
      },
      "outputs": [],
      "source": [
        "# Building a CNN model using the sequential API.\n",
        "from tensorflow.keras.layers import Dense, Flatten, Conv2D, MaxPool2D, BatchNormalization, Dropout\n",
        "from tensorflow.keras import Sequential\n",
        "from tensorflow.keras.optimizers import Adam\n",
        "from tensorflow.keras.callbacks import Callback, EarlyStopping, ReduceLROnPlateau\n",
        "\n",
        "model_A = Sequential([\n",
        "    \n",
        "    # 1st CNN layer.\n",
        "    Conv2D(64, (3,3), padding = 'same', input_shape = (48,48,1), activation = 'relu'),\n",
        "    BatchNormalization(),\n",
        "    MaxPool2D(pool_size = (2,2)),\n",
        "    Dropout(0.25),\n",
        "\n",
        "    # 2nd CNN layer.\n",
        "    Conv2D(128, (5,5), padding = 'same',activation = 'relu'),\n",
        "    BatchNormalization(),\n",
        "    MaxPool2D(pool_size = (2,2)),\n",
        "    Dropout(0.25),\n",
        "\n",
        "    # 3rd CNN layer.\n",
        "    Conv2D(512, (3,3), padding = 'same',activation = 'relu'),\n",
        "    BatchNormalization(),\n",
        "    MaxPool2D(pool_size = (2,2)),\n",
        "    Dropout(0.25),\n",
        "\n",
        "    # 4th CNN layer.\n",
        "    Conv2D(512, (3,3), padding = 'same',activation = 'relu'),\n",
        "    BatchNormalization(),\n",
        "    MaxPool2D(pool_size = (2,2)),\n",
        "    Dropout(0.25),\n",
        "\n",
        "    # Layer to flatten the input layer.\n",
        "    Flatten(),\n",
        "\n",
        "    # 1st fully connected layer.\n",
        "    Dense(256, activation = 'relu'),\n",
        "    BatchNormalization(),\n",
        "    Dropout(0.25),\n",
        "\n",
        "    # 2nd fully connected layer.\n",
        "    Dense(512, activation = 'relu'),\n",
        "    BatchNormalization(),\n",
        "    Dropout(0.25),\n",
        "\n",
        "    # Output layer.\n",
        "    Dense(7, activation = 'softmax')                             # Number of classes = 7.\n",
        "])"
      ]
    },
    {
      "cell_type": "code",
      "execution_count": 343,
      "metadata": {
        "id": "PKze7T2NqmGI"
      },
      "outputs": [],
      "source": [
        "# Compiling the model.\n",
        "model_A.compile(loss = 'categorical_crossentropy',\n",
        "                optimizer = Adam(learning_rate = 0.0001),       \n",
        "                metrics = ['accuracy'])"
      ]
    },
    {
      "cell_type": "code",
      "source": [
        "# Checking the model summary.\n",
        "model_A.summary()"
      ],
      "metadata": {
        "colab": {
          "base_uri": "https://localhost:8080/"
        },
        "id": "R8vWUrFSqoMH",
        "outputId": "ed658248-40b7-4f6b-899c-9ade48758056"
      },
      "execution_count": 344,
      "outputs": [
        {
          "output_type": "stream",
          "name": "stdout",
          "text": [
            "Model: \"sequential_20\"\n",
            "_________________________________________________________________\n",
            " Layer (type)                Output Shape              Param #   \n",
            "=================================================================\n",
            " conv2d_60 (Conv2D)          (None, 48, 48, 64)        640       \n",
            "                                                                 \n",
            " batch_normalization_82 (Bat  (None, 48, 48, 64)       256       \n",
            " chNormalization)                                                \n",
            "                                                                 \n",
            " max_pooling2d_60 (MaxPoolin  (None, 24, 24, 64)       0         \n",
            " g2D)                                                            \n",
            "                                                                 \n",
            " dropout_104 (Dropout)       (None, 24, 24, 64)        0         \n",
            "                                                                 \n",
            " conv2d_61 (Conv2D)          (None, 24, 24, 128)       204928    \n",
            "                                                                 \n",
            " batch_normalization_83 (Bat  (None, 24, 24, 128)      512       \n",
            " chNormalization)                                                \n",
            "                                                                 \n",
            " max_pooling2d_61 (MaxPoolin  (None, 12, 12, 128)      0         \n",
            " g2D)                                                            \n",
            "                                                                 \n",
            " dropout_105 (Dropout)       (None, 12, 12, 128)       0         \n",
            "                                                                 \n",
            " conv2d_62 (Conv2D)          (None, 12, 12, 512)       590336    \n",
            "                                                                 \n",
            " batch_normalization_84 (Bat  (None, 12, 12, 512)      2048      \n",
            " chNormalization)                                                \n",
            "                                                                 \n",
            " max_pooling2d_62 (MaxPoolin  (None, 6, 6, 512)        0         \n",
            " g2D)                                                            \n",
            "                                                                 \n",
            " dropout_106 (Dropout)       (None, 6, 6, 512)         0         \n",
            "                                                                 \n",
            " conv2d_63 (Conv2D)          (None, 6, 6, 512)         2359808   \n",
            "                                                                 \n",
            " batch_normalization_85 (Bat  (None, 6, 6, 512)        2048      \n",
            " chNormalization)                                                \n",
            "                                                                 \n",
            " max_pooling2d_63 (MaxPoolin  (None, 3, 3, 512)        0         \n",
            " g2D)                                                            \n",
            "                                                                 \n",
            " dropout_107 (Dropout)       (None, 3, 3, 512)         0         \n",
            "                                                                 \n",
            " flatten_20 (Flatten)        (None, 4608)              0         \n",
            "                                                                 \n",
            " dense_59 (Dense)            (None, 256)               1179904   \n",
            "                                                                 \n",
            " batch_normalization_86 (Bat  (None, 256)              1024      \n",
            " chNormalization)                                                \n",
            "                                                                 \n",
            " dropout_108 (Dropout)       (None, 256)               0         \n",
            "                                                                 \n",
            " dense_60 (Dense)            (None, 512)               131584    \n",
            "                                                                 \n",
            " batch_normalization_87 (Bat  (None, 512)              2048      \n",
            " chNormalization)                                                \n",
            "                                                                 \n",
            " dropout_109 (Dropout)       (None, 512)               0         \n",
            "                                                                 \n",
            " dense_61 (Dense)            (None, 7)                 3591      \n",
            "                                                                 \n",
            "=================================================================\n",
            "Total params: 4,478,727\n",
            "Trainable params: 4,474,759\n",
            "Non-trainable params: 3,968\n",
            "_________________________________________________________________\n"
          ]
        }
      ]
    },
    {
      "cell_type": "code",
      "execution_count": 345,
      "metadata": {
        "id": "HqkQKAan9Piv"
      },
      "outputs": [],
      "source": [
        "# Creating callbacks.\n",
        "early_stopping = EarlyStopping(monitor='val_loss',\n",
        "                               min_delta=0,\n",
        "                               patience=3,\n",
        "                               verbose=1,\n",
        "                               restore_best_weights=True)\n",
        "# Stops training when a monitored metric has stopped improving.\n",
        "\n",
        "\n",
        "reduce_learningrate = ReduceLROnPlateau(monitor='val_loss',\n",
        "                                        factor=0.2,\n",
        "                                        patience=3,\n",
        "                                        verbose=1,\n",
        "                                        min_delta=0.0001)\n",
        "# Reduces learning rate when a metric stops improving."
      ]
    },
    {
      "cell_type": "code",
      "execution_count": 346,
      "metadata": {
        "colab": {
          "base_uri": "https://localhost:8080/"
        },
        "id": "8Fscc2AZ-nQb",
        "outputId": "170ea756-2175-4184-e62d-f75c554c7f49"
      },
      "outputs": [
        {
          "output_type": "stream",
          "name": "stdout",
          "text": [
            "Epoch 1/50\n",
            "898/898 [==============================] - 21s 22ms/step - loss: 2.2625 - accuracy: 0.2195 - val_loss: 1.9220 - val_accuracy: 0.2885 - lr: 1.0000e-04\n",
            "Epoch 2/50\n",
            "898/898 [==============================] - 20s 22ms/step - loss: 1.9565 - accuracy: 0.2833 - val_loss: 1.7954 - val_accuracy: 0.3493 - lr: 1.0000e-04\n",
            "Epoch 3/50\n",
            "898/898 [==============================] - 19s 22ms/step - loss: 1.7865 - accuracy: 0.3394 - val_loss: 1.6313 - val_accuracy: 0.3832 - lr: 1.0000e-04\n",
            "Epoch 4/50\n",
            "898/898 [==============================] - 19s 21ms/step - loss: 1.6641 - accuracy: 0.3778 - val_loss: 1.5558 - val_accuracy: 0.4252 - lr: 1.0000e-04\n",
            "Epoch 5/50\n",
            "898/898 [==============================] - 20s 22ms/step - loss: 1.5510 - accuracy: 0.4170 - val_loss: 1.4244 - val_accuracy: 0.4668 - lr: 1.0000e-04\n",
            "Epoch 6/50\n",
            "898/898 [==============================] - 19s 21ms/step - loss: 1.4475 - accuracy: 0.4519 - val_loss: 1.4031 - val_accuracy: 0.4862 - lr: 1.0000e-04\n",
            "Epoch 7/50\n",
            "898/898 [==============================] - 19s 21ms/step - loss: 1.3718 - accuracy: 0.4846 - val_loss: 1.2488 - val_accuracy: 0.5220 - lr: 1.0000e-04\n",
            "Epoch 8/50\n",
            "898/898 [==============================] - 19s 21ms/step - loss: 1.3058 - accuracy: 0.5068 - val_loss: 1.3306 - val_accuracy: 0.5162 - lr: 1.0000e-04\n",
            "Epoch 9/50\n",
            "898/898 [==============================] - 19s 21ms/step - loss: 1.2398 - accuracy: 0.5303 - val_loss: 1.1510 - val_accuracy: 0.5593 - lr: 1.0000e-04\n",
            "Epoch 10/50\n",
            "898/898 [==============================] - 19s 21ms/step - loss: 1.1815 - accuracy: 0.5520 - val_loss: 1.1450 - val_accuracy: 0.5716 - lr: 1.0000e-04\n",
            "Epoch 11/50\n",
            "898/898 [==============================] - 19s 21ms/step - loss: 1.1388 - accuracy: 0.5705 - val_loss: 1.1740 - val_accuracy: 0.5671 - lr: 1.0000e-04\n",
            "Epoch 12/50\n",
            "898/898 [==============================] - 19s 21ms/step - loss: 1.0863 - accuracy: 0.5900 - val_loss: 1.1110 - val_accuracy: 0.5873 - lr: 1.0000e-04\n",
            "Epoch 13/50\n",
            "898/898 [==============================] - 19s 21ms/step - loss: 1.0415 - accuracy: 0.6083 - val_loss: 1.1078 - val_accuracy: 0.5912 - lr: 1.0000e-04\n",
            "Epoch 14/50\n",
            "898/898 [==============================] - 19s 21ms/step - loss: 1.0007 - accuracy: 0.6254 - val_loss: 1.0812 - val_accuracy: 0.6101 - lr: 1.0000e-04\n",
            "Epoch 15/50\n",
            "898/898 [==============================] - 19s 21ms/step - loss: 0.9441 - accuracy: 0.6446 - val_loss: 1.0756 - val_accuracy: 0.6109 - lr: 1.0000e-04\n",
            "Epoch 16/50\n",
            "898/898 [==============================] - 19s 21ms/step - loss: 0.9043 - accuracy: 0.6612 - val_loss: 1.0854 - val_accuracy: 0.6099 - lr: 1.0000e-04\n",
            "Epoch 17/50\n",
            "898/898 [==============================] - 19s 21ms/step - loss: 0.8606 - accuracy: 0.6827 - val_loss: 1.0808 - val_accuracy: 0.6219 - lr: 1.0000e-04\n",
            "Epoch 18/50\n",
            "898/898 [==============================] - ETA: 0s - loss: 0.8135 - accuracy: 0.6955Restoring model weights from the end of the best epoch: 15.\n",
            "\n",
            "Epoch 18: ReduceLROnPlateau reducing learning rate to 1.9999999494757503e-05.\n",
            "898/898 [==============================] - 19s 21ms/step - loss: 0.8135 - accuracy: 0.6955 - val_loss: 1.1056 - val_accuracy: 0.6147 - lr: 1.0000e-04\n",
            "Epoch 18: early stopping\n"
          ]
        }
      ],
      "source": [
        "# Fitting the model.\n",
        "history_model_A = model_A.fit_generator(generator = train_data,\n",
        "                                        epochs = 50,\n",
        "                                        steps_per_epoch = len(train_data),\n",
        "                                        validation_data = test_data,\n",
        "                                        validation_steps = test_data.n // test_data.batch_size,\n",
        "                                        callbacks = [early_stopping, reduce_learningrate]) "
      ]
    },
    {
      "cell_type": "code",
      "source": [
        "# Evaluating model performance on overall test data.\n",
        "model_A.evaluate(test_data)"
      ],
      "metadata": {
        "colab": {
          "base_uri": "https://localhost:8080/"
        },
        "id": "tmbhDyrgLhg5",
        "outputId": "4e65a165-110c-427d-9971-41ccaba89632"
      },
      "execution_count": 347,
      "outputs": [
        {
          "output_type": "stream",
          "name": "stdout",
          "text": [
            "225/225 [==============================] - 3s 12ms/step - loss: 1.0745 - accuracy: 0.6115\n"
          ]
        },
        {
          "output_type": "execute_result",
          "data": {
            "text/plain": [
              "[1.0744682550430298, 0.6114516854286194]"
            ]
          },
          "metadata": {},
          "execution_count": 347
        }
      ]
    },
    {
      "cell_type": "markdown",
      "source": [
        "Accuracy score on overall test dataset came out to be **61.15%**"
      ],
      "metadata": {
        "id": "Ue3ssadBRZDQ"
      }
    },
    {
      "cell_type": "code",
      "source": [
        "# Prediction For Test Set\n",
        "predictions = model_A.predict(test_data)\n",
        "\n",
        "# Printing Confution Matrix\n",
        "from sklearn.metrics import confusion_matrix\n",
        "cm = confusion_matrix(y_pred = np.argmax(predictions, axis=-1), y_true = test_data.classes)                         \n",
        "cm"
      ],
      "metadata": {
        "colab": {
          "base_uri": "https://localhost:8080/"
        },
        "id": "CCqJT0Y2ZbYV",
        "outputId": "389bef73-a4ef-4085-edac-3535f7508c71"
      },
      "execution_count": 348,
      "outputs": [
        {
          "output_type": "execute_result",
          "data": {
            "text/plain": [
              "array([[ 564,   20,   95,   53,   75,  130,   21],\n",
              "       [  31,   57,    7,    4,    2,    7,    3],\n",
              "       [ 147,    9,  427,   43,   80,  209,  109],\n",
              "       [  67,    4,   66, 1459,   71,   61,   46],\n",
              "       [ 137,    4,  105,  111,  631,  218,   27],\n",
              "       [ 170,   11,  170,  100,  167,  607,   22],\n",
              "       [  22,    3,   82,   42,   20,   18,  644]])"
            ]
          },
          "metadata": {},
          "execution_count": 348
        }
      ]
    },
    {
      "cell_type": "code",
      "source": [
        "# Computing predictions.\n",
        "predictions = model_A.predict_generator(generator=test_data)\n",
        "y_pred = [np.argmax(probas) for probas in predictions]\n",
        "y_test = test_data.classes\n",
        "class_names = test_data.class_indices.keys()\n",
        "\n",
        "\n",
        "# Creating function to plot confusion matrix.\n",
        "from sklearn.metrics import confusion_matrix\n",
        "import itertools\n",
        "def plot_confusion_matrix(cm, classes, title='Confusion matrix', cmap = plt.cm.PuRd):\n",
        "    cm = cm.astype('float') / cm.sum(axis=1)[:, np.newaxis]\n",
        "    plt.figure(figsize=(10,10))\n",
        "    plt.imshow(cm, interpolation='nearest', cmap=cmap)\n",
        "    plt.title(title)\n",
        "    plt.colorbar()\n",
        "    tick_marks = np.arange(len(classes))\n",
        "    plt.xticks(tick_marks, classes, rotation=45)\n",
        "    plt.yticks(tick_marks, classes)\n",
        "\n",
        "    fmt = '.2f'\n",
        "    thresh = cm.max() / 2.\n",
        "    for i, j in itertools.product(range(cm.shape[0]), range(cm.shape[1])):\n",
        "        plt.text(j, i, format(cm[i, j], fmt),\n",
        "                 horizontalalignment=\"center\",\n",
        "                 color=\"white\" if cm[i, j] > thresh else \"black\")\n",
        "\n",
        "    plt.ylabel('True label')\n",
        "    plt.xlabel('Predicted label')\n",
        "    plt.tight_layout()\n",
        "    plt.show()\n",
        "    \n",
        "# Compute confusion matrix.\n",
        "cnf_matrix = confusion_matrix(y_test, y_pred)\n",
        "np.set_printoptions(precision=2)\n",
        "\n",
        "# Plotting normalized confusion matrix.\n",
        "plt.figure()\n",
        "plot_confusion_matrix(cnf_matrix,  classes = class_names, title='Normalized confusion matrix')\n",
        "plt.show()"
      ],
      "metadata": {
        "colab": {
          "base_uri": "https://localhost:8080/",
          "height": 739
        },
        "id": "O2JjpkN8XZAQ",
        "outputId": "b3fe5bae-8fc7-44bf-f56c-a7909809e6e3"
      },
      "execution_count": 349,
      "outputs": [
        {
          "output_type": "display_data",
          "data": {
            "text/plain": [
              "<Figure size 432x288 with 0 Axes>"
            ]
          },
          "metadata": {}
        },
        {
          "output_type": "display_data",
          "data": {
            "text/plain": [
              "<Figure size 720x720 with 2 Axes>"
            ],
            "image/png": "[encoded data removed]"
          },
          "metadata": {
            "needs_background": "light"
          }
        }
      ]
    },
    {
      "cell_type": "markdown",
      "source": [
        "This CNN model does a good job in predicting the happy & surprised faces while the model predicts the fear & disgust faces quite poorly."
      ],
      "metadata": {
        "id": "crMNlEwyZ8HX"
      }
    },
    {
      "cell_type": "code",
      "source": [
        "# Creating a function to plot the validation and training curves separately.\n",
        "def plot_loss_curves(history):\n",
        "  '''\n",
        "  Returns separate loss curves for training and validation set\n",
        "  '''\n",
        "  \n",
        "  loss = history.history['loss']\n",
        "  val_loss = history.history['val_loss']\n",
        "\n",
        "  accuracy = history.history['accuracy']\n",
        "  val_accuracy = history.history['val_accuracy']\n",
        "\n",
        "  epochs = range(len(history.history['loss']))\n",
        "\n",
        "  # PLotting loss.\n",
        "  plt.plot(epochs, loss, label = 'training_loss',linewidth=3)\n",
        "  plt.plot(epochs, val_loss, label = 'val_loss',linewidth=3)\n",
        "  plt.title('LOSS CURVE',fontsize = 25)\n",
        "  plt.legend()\n",
        "  plt.grid()\n",
        "  plt.show()\n",
        "\n",
        "  # Plotting accuracy.\n",
        "  plt.figure()                                                             \n",
        "  plt.plot(epochs, accuracy, label = 'training_accuracy',linewidth=3)\n",
        "  plt.plot(epochs, val_accuracy, label = 'val_accuracy',linewidth=3)\n",
        "  plt.title('ACCURACY',fontsize = 25)\n",
        "  plt.legend()\n",
        "  plt.grid()\n",
        "  plt.show()"
      ],
      "metadata": {
        "id": "2eqzJkb1M3n1"
      },
      "execution_count": 350,
      "outputs": []
    },
    {
      "cell_type": "code",
      "source": [
        "# Plotting the loss curves.\n",
        "plot_loss_curves(history_model_A)"
      ],
      "metadata": {
        "colab": {
          "base_uri": "https://localhost:8080/",
          "height": 563
        },
        "id": "OZqe08gnPrF_",
        "outputId": "a6185cbb-f032-42d7-e217-e6366d785a01"
      },
      "execution_count": 351,
      "outputs": [
        {
          "output_type": "display_data",
          "data": {
            "text/plain": [
              "<Figure size 432x288 with 1 Axes>"
            ],
            "image/png": "[encoded data removed]"
          },
          "metadata": {
            "needs_background": "light"
          }
        },
        {
          "output_type": "display_data",
          "data": {
            "text/plain": [
              "<Figure size 432x288 with 1 Axes>"
            ],
            "image/png": "[encoded data removed]"
          },
          "metadata": {
            "needs_background": "light"
          }
        }
      ]
    },
    {
      "cell_type": "markdown",
      "source": [
        "**The training gave the accuracy of 69.55% and val_accuracy of 61.15%. The model performed better than average.**"
      ],
      "metadata": {
        "id": "XYyD40VQRAVx"
      }
    },
    {
      "cell_type": "markdown",
      "source": [
        "### **ResNet50**\n",
        "\n",
        "ResNet50 is a pre-trained convolutional nerual network that is 50 layers deep(48 Convolution layers along with 1 MaxPool and 1 Average Pool layer). A residual neural network (ResNet) is an artificial neural network (ANN) of a kind that stacks residual blocks on top of each other to form a network."
      ],
      "metadata": {
        "id": "VOF6OPkTeRq0"
      }
    },
    {
      "cell_type": "code",
      "source": [
        "# ResNet is trained on RGB images and we have grascaled images so converting colour mode to RGB.\n",
        "train_datagen = ImageDataGenerator(horizontal_flip=True,\n",
        "                                   brightness_range=[0.8,1.2],\n",
        "                                   rescale=1./255)\n",
        "validation_datagen = ImageDataGenerator(horizontal_flip=True,\n",
        "                                        brightness_range=[0.8,1.2],\n",
        "                                        rescale=1./255)"
      ],
      "metadata": {
        "id": "1U3fJhLqLcf8"
      },
      "execution_count": 352,
      "outputs": []
    },
    {
      "cell_type": "code",
      "source": [
        "# Getting the train and test(validation) dataset ready for 'ResNet50' model creation.\n",
        "train_data = train_datagen.flow_from_directory(train_dir,\n",
        "                                               target_size = (48,48),\n",
        "                                               batch_size = 32,\n",
        "                                               shuffle = True,\n",
        "                                               color_mode ='rgb',\n",
        "                                               class_mode ='categorical')\n",
        "\n",
        "test_data = validation_datagen.flow_from_directory(test_dir,\n",
        "                                                   target_size = (48,48),\n",
        "                                                   batch_size = 32,\n",
        "                                                   shuffle = False,\n",
        "                                                   color_mode ='rgb',\n",
        "                                                   class_mode ='categorical')"
      ],
      "metadata": {
        "colab": {
          "base_uri": "https://localhost:8080/"
        },
        "id": "5NvfVnQlMRy_",
        "outputId": "9e336247-3652-4599-cfa9-22db4f45d2bc"
      },
      "execution_count": 353,
      "outputs": [
        {
          "output_type": "stream",
          "name": "stdout",
          "text": [
            "Found 28709 images belonging to 7 classes.\n",
            "Found 7178 images belonging to 7 classes.\n"
          ]
        }
      ]
    },
    {
      "cell_type": "markdown",
      "source": [
        "As, the data is pre-processed, so its ready for ResNet50 model creation."
      ],
      "metadata": {
        "id": "nwNiXs0Krqri"
      }
    },
    {
      "cell_type": "code",
      "source": [
        "# Creating a base model using pre-trained ResNet architecture.\n",
        "from tensorflow.keras.applications import ResNet50\n",
        "\n",
        "base_model = ResNet50(input_shape=(48,48,3),include_top = False, weights = 'imagenet')\n",
        "base_model.trainable = False"
      ],
      "metadata": {
        "id": "Jcv_xdxPcKkp"
      },
      "execution_count": 354,
      "outputs": []
    },
    {
      "cell_type": "code",
      "source": [
        "# Checking the base model summary.\n",
        "base_model.summary()"
      ],
      "metadata": {
        "colab": {
          "base_uri": "https://localhost:8080/"
        },
        "id": "oLMzgFzdCilu",
        "outputId": "0ed05083-06f3-4306-a6fc-0e56d2af9ef7"
      },
      "execution_count": 366,
      "outputs": [
        {
          "output_type": "stream",
          "name": "stdout",
          "text": [
            "Model: \"resnet50\"\n",
            "__________________________________________________________________________________________________\n",
            " Layer (type)                   Output Shape         Param #     Connected to                     \n",
            "==================================================================================================\n",
            " input_6 (InputLayer)           [(None, 48, 48, 3)]  0           []                               \n",
            "                                                                                                  \n",
            " conv1_pad (ZeroPadding2D)      (None, 54, 54, 3)    0           ['input_6[0][0]']                \n",
            "                                                                                                  \n",
            " conv1_conv (Conv2D)            (None, 24, 24, 64)   9472        ['conv1_pad[0][0]']              \n",
            "                                                                                                  \n",
            " conv1_bn (BatchNormalization)  (None, 24, 24, 64)   256         ['conv1_conv[0][0]']             \n",
            "                                                                                                  \n",
            " conv1_relu (Activation)        (None, 24, 24, 64)   0           ['conv1_bn[0][0]']               \n",
            "                                                                                                  \n",
            " pool1_pad (ZeroPadding2D)      (None, 26, 26, 64)   0           ['conv1_relu[0][0]']             \n",
            "                                                                                                  \n",
            " pool1_pool (MaxPooling2D)      (None, 12, 12, 64)   0           ['pool1_pad[0][0]']              \n",
            "                                                                                                  \n",
            " conv2_block1_1_conv (Conv2D)   (None, 12, 12, 64)   4160        ['pool1_pool[0][0]']             \n",
            "                                                                                                  \n",
            " conv2_block1_1_bn (BatchNormal  (None, 12, 12, 64)  256         ['conv2_block1_1_conv[0][0]']    \n",
            " ization)                                                                                         \n",
            "                                                                                                  \n",
            " conv2_block1_1_relu (Activatio  (None, 12, 12, 64)  0           ['conv2_block1_1_bn[0][0]']      \n",
            " n)                                                                                               \n",
            "                                                                                                  \n",
            " conv2_block1_2_conv (Conv2D)   (None, 12, 12, 64)   36928       ['conv2_block1_1_relu[0][0]']    \n",
            "                                                                                                  \n",
            " conv2_block1_2_bn (BatchNormal  (None, 12, 12, 64)  256         ['conv2_block1_2_conv[0][0]']    \n",
            " ization)                                                                                         \n",
            "                                                                                                  \n",
            " conv2_block1_2_relu (Activatio  (None, 12, 12, 64)  0           ['conv2_block1_2_bn[0][0]']      \n",
            " n)                                                                                               \n",
            "                                                                                                  \n",
            " conv2_block1_0_conv (Conv2D)   (None, 12, 12, 256)  16640       ['pool1_pool[0][0]']             \n",
            "                                                                                                  \n",
            " conv2_block1_3_conv (Conv2D)   (None, 12, 12, 256)  16640       ['conv2_block1_2_relu[0][0]']    \n",
            "                                                                                                  \n",
            " conv2_block1_0_bn (BatchNormal  (None, 12, 12, 256)  1024       ['conv2_block1_0_conv[0][0]']    \n",
            " ization)                                                                                         \n",
            "                                                                                                  \n",
            " conv2_block1_3_bn (BatchNormal  (None, 12, 12, 256)  1024       ['conv2_block1_3_conv[0][0]']    \n",
            " ization)                                                                                         \n",
            "                                                                                                  \n",
            " conv2_block1_add (Add)         (None, 12, 12, 256)  0           ['conv2_block1_0_bn[0][0]',      \n",
            "                                                                  'conv2_block1_3_bn[0][0]']      \n",
            "                                                                                                  \n",
            " conv2_block1_out (Activation)  (None, 12, 12, 256)  0           ['conv2_block1_add[0][0]']       \n",
            "                                                                                                  \n",
            " conv2_block2_1_conv (Conv2D)   (None, 12, 12, 64)   16448       ['conv2_block1_out[0][0]']       \n",
            "                                                                                                  \n",
            " conv2_block2_1_bn (BatchNormal  (None, 12, 12, 64)  256         ['conv2_block2_1_conv[0][0]']    \n",
            " ization)                                                                                         \n",
            "                                                                                                  \n",
            " conv2_block2_1_relu (Activatio  (None, 12, 12, 64)  0           ['conv2_block2_1_bn[0][0]']      \n",
            " n)                                                                                               \n",
            "                                                                                                  \n",
            " conv2_block2_2_conv (Conv2D)   (None, 12, 12, 64)   36928       ['conv2_block2_1_relu[0][0]']    \n",
            "                                                                                                  \n",
            " conv2_block2_2_bn (BatchNormal  (None, 12, 12, 64)  256         ['conv2_block2_2_conv[0][0]']    \n",
            " ization)                                                                                         \n",
            "                                                                                                  \n",
            " conv2_block2_2_relu (Activatio  (None, 12, 12, 64)  0           ['conv2_block2_2_bn[0][0]']      \n",
            " n)                                                                                               \n",
            "                                                                                                  \n",
            " conv2_block2_3_conv (Conv2D)   (None, 12, 12, 256)  16640       ['conv2_block2_2_relu[0][0]']    \n",
            "                                                                                                  \n",
            " conv2_block2_3_bn (BatchNormal  (None, 12, 12, 256)  1024       ['conv2_block2_3_conv[0][0]']    \n",
            " ization)                                                                                         \n",
            "                                                                                                  \n",
            " conv2_block2_add (Add)         (None, 12, 12, 256)  0           ['conv2_block1_out[0][0]',       \n",
            "                                                                  'conv2_block2_3_bn[0][0]']      \n",
            "                                                                                                  \n",
            " conv2_block2_out (Activation)  (None, 12, 12, 256)  0           ['conv2_block2_add[0][0]']       \n",
            "                                                                                                  \n",
            " conv2_block3_1_conv (Conv2D)   (None, 12, 12, 64)   16448       ['conv2_block2_out[0][0]']       \n",
            "                                                                                                  \n",
            " conv2_block3_1_bn (BatchNormal  (None, 12, 12, 64)  256         ['conv2_block3_1_conv[0][0]']    \n",
            " ization)                                                                                         \n",
            "                                                                                                  \n",
            " conv2_block3_1_relu (Activatio  (None, 12, 12, 64)  0           ['conv2_block3_1_bn[0][0]']      \n",
            " n)                                                                                               \n",
            "                                                                                                  \n",
            " conv2_block3_2_conv (Conv2D)   (None, 12, 12, 64)   36928       ['conv2_block3_1_relu[0][0]']    \n",
            "                                                                                                  \n",
            " conv2_block3_2_bn (BatchNormal  (None, 12, 12, 64)  256         ['conv2_block3_2_conv[0][0]']    \n",
            " ization)                                                                                         \n",
            "                                                                                                  \n",
            " conv2_block3_2_relu (Activatio  (None, 12, 12, 64)  0           ['conv2_block3_2_bn[0][0]']      \n",
            " n)                                                                                               \n",
            "                                                                                                  \n",
            " conv2_block3_3_conv (Conv2D)   (None, 12, 12, 256)  16640       ['conv2_block3_2_relu[0][0]']    \n",
            "                                                                                                  \n",
            " conv2_block3_3_bn (BatchNormal  (None, 12, 12, 256)  1024       ['conv2_block3_3_conv[0][0]']    \n",
            " ization)                                                                                         \n",
            "                                                                                                  \n",
            " conv2_block3_add (Add)         (None, 12, 12, 256)  0           ['conv2_block2_out[0][0]',       \n",
            "                                                                  'conv2_block3_3_bn[0][0]']      \n",
            "                                                                                                  \n",
            " conv2_block3_out (Activation)  (None, 12, 12, 256)  0           ['conv2_block3_add[0][0]']       \n",
            "                                                                                                  \n",
            " conv3_block1_1_conv (Conv2D)   (None, 6, 6, 128)    32896       ['conv2_block3_out[0][0]']       \n",
            "                                                                                                  \n",
            " conv3_block1_1_bn (BatchNormal  (None, 6, 6, 128)   512         ['conv3_block1_1_conv[0][0]']    \n",
            " ization)                                                                                         \n",
            "                                                                                                  \n",
            " conv3_block1_1_relu (Activatio  (None, 6, 6, 128)   0           ['conv3_block1_1_bn[0][0]']      \n",
            " n)                                                                                               \n",
            "                                                                                                  \n",
            " conv3_block1_2_conv (Conv2D)   (None, 6, 6, 128)    147584      ['conv3_block1_1_relu[0][0]']    \n",
            "                                                                                                  \n",
            " conv3_block1_2_bn (BatchNormal  (None, 6, 6, 128)   512         ['conv3_block1_2_conv[0][0]']    \n",
            " ization)                                                                                         \n",
            "                                                                                                  \n",
            " conv3_block1_2_relu (Activatio  (None, 6, 6, 128)   0           ['conv3_block1_2_bn[0][0]']      \n",
            " n)                                                                                               \n",
            "                                                                                                  \n",
            " conv3_block1_0_conv (Conv2D)   (None, 6, 6, 512)    131584      ['conv2_block3_out[0][0]']       \n",
            "                                                                                                  \n",
            " conv3_block1_3_conv (Conv2D)   (None, 6, 6, 512)    66048       ['conv3_block1_2_relu[0][0]']    \n",
            "                                                                                                  \n",
            " conv3_block1_0_bn (BatchNormal  (None, 6, 6, 512)   2048        ['conv3_block1_0_conv[0][0]']    \n",
            " ization)                                                                                         \n",
            "                                                                                                  \n",
            " conv3_block1_3_bn (BatchNormal  (None, 6, 6, 512)   2048        ['conv3_block1_3_conv[0][0]']    \n",
            " ization)                                                                                         \n",
            "                                                                                                  \n",
            " conv3_block1_add (Add)         (None, 6, 6, 512)    0           ['conv3_block1_0_bn[0][0]',      \n",
            "                                                                  'conv3_block1_3_bn[0][0]']      \n",
            "                                                                                                  \n",
            " conv3_block1_out (Activation)  (None, 6, 6, 512)    0           ['conv3_block1_add[0][0]']       \n",
            "                                                                                                  \n",
            " conv3_block2_1_conv (Conv2D)   (None, 6, 6, 128)    65664       ['conv3_block1_out[0][0]']       \n",
            "                                                                                                  \n",
            " conv3_block2_1_bn (BatchNormal  (None, 6, 6, 128)   512         ['conv3_block2_1_conv[0][0]']    \n",
            " ization)                                                                                         \n",
            "                                                                                                  \n",
            " conv3_block2_1_relu (Activatio  (None, 6, 6, 128)   0           ['conv3_block2_1_bn[0][0]']      \n",
            " n)                                                                                               \n",
            "                                                                                                  \n",
            " conv3_block2_2_conv (Conv2D)   (None, 6, 6, 128)    147584      ['conv3_block2_1_relu[0][0]']    \n",
            "                                                                                                  \n",
            " conv3_block2_2_bn (BatchNormal  (None, 6, 6, 128)   512         ['conv3_block2_2_conv[0][0]']    \n",
            " ization)                                                                                         \n",
            "                                                                                                  \n",
            " conv3_block2_2_relu (Activatio  (None, 6, 6, 128)   0           ['conv3_block2_2_bn[0][0]']      \n",
            " n)                                                                                               \n",
            "                                                                                                  \n",
            " conv3_block2_3_conv (Conv2D)   (None, 6, 6, 512)    66048       ['conv3_block2_2_relu[0][0]']    \n",
            "                                                                                                  \n",
            " conv3_block2_3_bn (BatchNormal  (None, 6, 6, 512)   2048        ['conv3_block2_3_conv[0][0]']    \n",
            " ization)                                                                                         \n",
            "                                                                                                  \n",
            " conv3_block2_add (Add)         (None, 6, 6, 512)    0           ['conv3_block1_out[0][0]',       \n",
            "                                                                  'conv3_block2_3_bn[0][0]']      \n",
            "                                                                                                  \n",
            " conv3_block2_out (Activation)  (None, 6, 6, 512)    0           ['conv3_block2_add[0][0]']       \n",
            "                                                                                                  \n",
            " conv3_block3_1_conv (Conv2D)   (None, 6, 6, 128)    65664       ['conv3_block2_out[0][0]']       \n",
            "                                                                                                  \n",
            " conv3_block3_1_bn (BatchNormal  (None, 6, 6, 128)   512         ['conv3_block3_1_conv[0][0]']    \n",
            " ization)                                                                                         \n",
            "                                                                                                  \n",
            " conv3_block3_1_relu (Activatio  (None, 6, 6, 128)   0           ['conv3_block3_1_bn[0][0]']      \n",
            " n)                                                                                               \n",
            "                                                                                                  \n",
            " conv3_block3_2_conv (Conv2D)   (None, 6, 6, 128)    147584      ['conv3_block3_1_relu[0][0]']    \n",
            "                                                                                                  \n",
            " conv3_block3_2_bn (BatchNormal  (None, 6, 6, 128)   512         ['conv3_block3_2_conv[0][0]']    \n",
            " ization)                                                                                         \n",
            "                                                                                                  \n",
            " conv3_block3_2_relu (Activatio  (None, 6, 6, 128)   0           ['conv3_block3_2_bn[0][0]']      \n",
            " n)                                                                                               \n",
            "                                                                                                  \n",
            " conv3_block3_3_conv (Conv2D)   (None, 6, 6, 512)    66048       ['conv3_block3_2_relu[0][0]']    \n",
            "                                                                                                  \n",
            " conv3_block3_3_bn (BatchNormal  (None, 6, 6, 512)   2048        ['conv3_block3_3_conv[0][0]']    \n",
            " ization)                                                                                         \n",
            "                                                                                                  \n",
            " conv3_block3_add (Add)         (None, 6, 6, 512)    0           ['conv3_block2_out[0][0]',       \n",
            "                                                                  'conv3_block3_3_bn[0][0]']      \n",
            "                                                                                                  \n",
            " conv3_block3_out (Activation)  (None, 6, 6, 512)    0           ['conv3_block3_add[0][0]']       \n",
            "                                                                                                  \n",
            " conv3_block4_1_conv (Conv2D)   (None, 6, 6, 128)    65664       ['conv3_block3_out[0][0]']       \n",
            "                                                                                                  \n",
            " conv3_block4_1_bn (BatchNormal  (None, 6, 6, 128)   512         ['conv3_block4_1_conv[0][0]']    \n",
            " ization)                                                                                         \n",
            "                                                                                                  \n",
            " conv3_block4_1_relu (Activatio  (None, 6, 6, 128)   0           ['conv3_block4_1_bn[0][0]']      \n",
            " n)                                                                                               \n",
            "                                                                                                  \n",
            " conv3_block4_2_conv (Conv2D)   (None, 6, 6, 128)    147584      ['conv3_block4_1_relu[0][0]']    \n",
            "                                                                                                  \n",
            " conv3_block4_2_bn (BatchNormal  (None, 6, 6, 128)   512         ['conv3_block4_2_conv[0][0]']    \n",
            " ization)                                                                                         \n",
            "                                                                                                  \n",
            " conv3_block4_2_relu (Activatio  (None, 6, 6, 128)   0           ['conv3_block4_2_bn[0][0]']      \n",
            " n)                                                                                               \n",
            "                                                                                                  \n",
            " conv3_block4_3_conv (Conv2D)   (None, 6, 6, 512)    66048       ['conv3_block4_2_relu[0][0]']    \n",
            "                                                                                                  \n",
            " conv3_block4_3_bn (BatchNormal  (None, 6, 6, 512)   2048        ['conv3_block4_3_conv[0][0]']    \n",
            " ization)                                                                                         \n",
            "                                                                                                  \n",
            " conv3_block4_add (Add)         (None, 6, 6, 512)    0           ['conv3_block3_out[0][0]',       \n",
            "                                                                  'conv3_block4_3_bn[0][0]']      \n",
            "                                                                                                  \n",
            " conv3_block4_out (Activation)  (None, 6, 6, 512)    0           ['conv3_block4_add[0][0]']       \n",
            "                                                                                                  \n",
            " conv4_block1_1_conv (Conv2D)   (None, 3, 3, 256)    131328      ['conv3_block4_out[0][0]']       \n",
            "                                                                                                  \n",
            " conv4_block1_1_bn (BatchNormal  (None, 3, 3, 256)   1024        ['conv4_block1_1_conv[0][0]']    \n",
            " ization)                                                                                         \n",
            "                                                                                                  \n",
            " conv4_block1_1_relu (Activatio  (None, 3, 3, 256)   0           ['conv4_block1_1_bn[0][0]']      \n",
            " n)                                                                                               \n",
            "                                                                                                  \n",
            " conv4_block1_2_conv (Conv2D)   (None, 3, 3, 256)    590080      ['conv4_block1_1_relu[0][0]']    \n",
            "                                                                                                  \n",
            " conv4_block1_2_bn (BatchNormal  (None, 3, 3, 256)   1024        ['conv4_block1_2_conv[0][0]']    \n",
            " ization)                                                                                         \n",
            "                                                                                                  \n",
            " conv4_block1_2_relu (Activatio  (None, 3, 3, 256)   0           ['conv4_block1_2_bn[0][0]']      \n",
            " n)                                                                                               \n",
            "                                                                                                  \n",
            " conv4_block1_0_conv (Conv2D)   (None, 3, 3, 1024)   525312      ['conv3_block4_out[0][0]']       \n",
            "                                                                                                  \n",
            " conv4_block1_3_conv (Conv2D)   (None, 3, 3, 1024)   263168      ['conv4_block1_2_relu[0][0]']    \n",
            "                                                                                                  \n",
            " conv4_block1_0_bn (BatchNormal  (None, 3, 3, 1024)  4096        ['conv4_block1_0_conv[0][0]']    \n",
            " ization)                                                                                         \n",
            "                                                                                                  \n",
            " conv4_block1_3_bn (BatchNormal  (None, 3, 3, 1024)  4096        ['conv4_block1_3_conv[0][0]']    \n",
            " ization)                                                                                         \n",
            "                                                                                                  \n",
            " conv4_block1_add (Add)         (None, 3, 3, 1024)   0           ['conv4_block1_0_bn[0][0]',      \n",
            "                                                                  'conv4_block1_3_bn[0][0]']      \n",
            "                                                                                                  \n",
            " conv4_block1_out (Activation)  (None, 3, 3, 1024)   0           ['conv4_block1_add[0][0]']       \n",
            "                                                                                                  \n",
            " conv4_block2_1_conv (Conv2D)   (None, 3, 3, 256)    262400      ['conv4_block1_out[0][0]']       \n",
            "                                                                                                  \n",
            " conv4_block2_1_bn (BatchNormal  (None, 3, 3, 256)   1024        ['conv4_block2_1_conv[0][0]']    \n",
            " ization)                                                                                         \n",
            "                                                                                                  \n",
            " conv4_block2_1_relu (Activatio  (None, 3, 3, 256)   0           ['conv4_block2_1_bn[0][0]']      \n",
            " n)                                                                                               \n",
            "                                                                                                  \n",
            " conv4_block2_2_conv (Conv2D)   (None, 3, 3, 256)    590080      ['conv4_block2_1_relu[0][0]']    \n",
            "                                                                                                  \n",
            " conv4_block2_2_bn (BatchNormal  (None, 3, 3, 256)   1024        ['conv4_block2_2_conv[0][0]']    \n",
            " ization)                                                                                         \n",
            "                                                                                                  \n",
            " conv4_block2_2_relu (Activatio  (None, 3, 3, 256)   0           ['conv4_block2_2_bn[0][0]']      \n",
            " n)                                                                                               \n",
            "                                                                                                  \n",
            " conv4_block2_3_conv (Conv2D)   (None, 3, 3, 1024)   263168      ['conv4_block2_2_relu[0][0]']    \n",
            "                                                                                                  \n",
            " conv4_block2_3_bn (BatchNormal  (None, 3, 3, 1024)  4096        ['conv4_block2_3_conv[0][0]']    \n",
            " ization)                                                                                         \n",
            "                                                                                                  \n",
            " conv4_block2_add (Add)         (None, 3, 3, 1024)   0           ['conv4_block1_out[0][0]',       \n",
            "                                                                  'conv4_block2_3_bn[0][0]']      \n",
            "                                                                                                  \n",
            " conv4_block2_out (Activation)  (None, 3, 3, 1024)   0           ['conv4_block2_add[0][0]']       \n",
            "                                                                                                  \n",
            " conv4_block3_1_conv (Conv2D)   (None, 3, 3, 256)    262400      ['conv4_block2_out[0][0]']       \n",
            "                                                                                                  \n",
            " conv4_block3_1_bn (BatchNormal  (None, 3, 3, 256)   1024        ['conv4_block3_1_conv[0][0]']    \n",
            " ization)                                                                                         \n",
            "                                                                                                  \n",
            " conv4_block3_1_relu (Activatio  (None, 3, 3, 256)   0           ['conv4_block3_1_bn[0][0]']      \n",
            " n)                                                                                               \n",
            "                                                                                                  \n",
            " conv4_block3_2_conv (Conv2D)   (None, 3, 3, 256)    590080      ['conv4_block3_1_relu[0][0]']    \n",
            "                                                                                                  \n",
            " conv4_block3_2_bn (BatchNormal  (None, 3, 3, 256)   1024        ['conv4_block3_2_conv[0][0]']    \n",
            " ization)                                                                                         \n",
            "                                                                                                  \n",
            " conv4_block3_2_relu (Activatio  (None, 3, 3, 256)   0           ['conv4_block3_2_bn[0][0]']      \n",
            " n)                                                                                               \n",
            "                                                                                                  \n",
            " conv4_block3_3_conv (Conv2D)   (None, 3, 3, 1024)   263168      ['conv4_block3_2_relu[0][0]']    \n",
            "                                                                                                  \n",
            " conv4_block3_3_bn (BatchNormal  (None, 3, 3, 1024)  4096        ['conv4_block3_3_conv[0][0]']    \n",
            " ization)                                                                                         \n",
            "                                                                                                  \n",
            " conv4_block3_add (Add)         (None, 3, 3, 1024)   0           ['conv4_block2_out[0][0]',       \n",
            "                                                                  'conv4_block3_3_bn[0][0]']      \n",
            "                                                                                                  \n",
            " conv4_block3_out (Activation)  (None, 3, 3, 1024)   0           ['conv4_block3_add[0][0]']       \n",
            "                                                                                                  \n",
            " conv4_block4_1_conv (Conv2D)   (None, 3, 3, 256)    262400      ['conv4_block3_out[0][0]']       \n",
            "                                                                                                  \n",
            " conv4_block4_1_bn (BatchNormal  (None, 3, 3, 256)   1024        ['conv4_block4_1_conv[0][0]']    \n",
            " ization)                                                                                         \n",
            "                                                                                                  \n",
            " conv4_block4_1_relu (Activatio  (None, 3, 3, 256)   0           ['conv4_block4_1_bn[0][0]']      \n",
            " n)                                                                                               \n",
            "                                                                                                  \n",
            " conv4_block4_2_conv (Conv2D)   (None, 3, 3, 256)    590080      ['conv4_block4_1_relu[0][0]']    \n",
            "                                                                                                  \n",
            " conv4_block4_2_bn (BatchNormal  (None, 3, 3, 256)   1024        ['conv4_block4_2_conv[0][0]']    \n",
            " ization)                                                                                         \n",
            "                                                                                                  \n",
            " conv4_block4_2_relu (Activatio  (None, 3, 3, 256)   0           ['conv4_block4_2_bn[0][0]']      \n",
            " n)                                                                                               \n",
            "                                                                                                  \n",
            " conv4_block4_3_conv (Conv2D)   (None, 3, 3, 1024)   263168      ['conv4_block4_2_relu[0][0]']    \n",
            "                                                                                                  \n",
            " conv4_block4_3_bn (BatchNormal  (None, 3, 3, 1024)  4096        ['conv4_block4_3_conv[0][0]']    \n",
            " ization)                                                                                         \n",
            "                                                                                                  \n",
            " conv4_block4_add (Add)         (None, 3, 3, 1024)   0           ['conv4_block3_out[0][0]',       \n",
            "                                                                  'conv4_block4_3_bn[0][0]']      \n",
            "                                                                                                  \n",
            " conv4_block4_out (Activation)  (None, 3, 3, 1024)   0           ['conv4_block4_add[0][0]']       \n",
            "                                                                                                  \n",
            " conv4_block5_1_conv (Conv2D)   (None, 3, 3, 256)    262400      ['conv4_block4_out[0][0]']       \n",
            "                                                                                                  \n",
            " conv4_block5_1_bn (BatchNormal  (None, 3, 3, 256)   1024        ['conv4_block5_1_conv[0][0]']    \n",
            " ization)                                                                                         \n",
            "                                                                                                  \n",
            " conv4_block5_1_relu (Activatio  (None, 3, 3, 256)   0           ['conv4_block5_1_bn[0][0]']      \n",
            " n)                                                                                               \n",
            "                                                                                                  \n",
            " conv4_block5_2_conv (Conv2D)   (None, 3, 3, 256)    590080      ['conv4_block5_1_relu[0][0]']    \n",
            "                                                                                                  \n",
            " conv4_block5_2_bn (BatchNormal  (None, 3, 3, 256)   1024        ['conv4_block5_2_conv[0][0]']    \n",
            " ization)                                                                                         \n",
            "                                                                                                  \n",
            " conv4_block5_2_relu (Activatio  (None, 3, 3, 256)   0           ['conv4_block5_2_bn[0][0]']      \n",
            " n)                                                                                               \n",
            "                                                                                                  \n",
            " conv4_block5_3_conv (Conv2D)   (None, 3, 3, 1024)   263168      ['conv4_block5_2_relu[0][0]']    \n",
            "                                                                                                  \n",
            " conv4_block5_3_bn (BatchNormal  (None, 3, 3, 1024)  4096        ['conv4_block5_3_conv[0][0]']    \n",
            " ization)                                                                                         \n",
            "                                                                                                  \n",
            " conv4_block5_add (Add)         (None, 3, 3, 1024)   0           ['conv4_block4_out[0][0]',       \n",
            "                                                                  'conv4_block5_3_bn[0][0]']      \n",
            "                                                                                                  \n",
            " conv4_block5_out (Activation)  (None, 3, 3, 1024)   0           ['conv4_block5_add[0][0]']       \n",
            "                                                                                                  \n",
            " conv4_block6_1_conv (Conv2D)   (None, 3, 3, 256)    262400      ['conv4_block5_out[0][0]']       \n",
            "                                                                                                  \n",
            " conv4_block6_1_bn (BatchNormal  (None, 3, 3, 256)   1024        ['conv4_block6_1_conv[0][0]']    \n",
            " ization)                                                                                         \n",
            "                                                                                                  \n",
            " conv4_block6_1_relu (Activatio  (None, 3, 3, 256)   0           ['conv4_block6_1_bn[0][0]']      \n",
            " n)                                                                                               \n",
            "                                                                                                  \n",
            " conv4_block6_2_conv (Conv2D)   (None, 3, 3, 256)    590080      ['conv4_block6_1_relu[0][0]']    \n",
            "                                                                                                  \n",
            " conv4_block6_2_bn (BatchNormal  (None, 3, 3, 256)   1024        ['conv4_block6_2_conv[0][0]']    \n",
            " ization)                                                                                         \n",
            "                                                                                                  \n",
            " conv4_block6_2_relu (Activatio  (None, 3, 3, 256)   0           ['conv4_block6_2_bn[0][0]']      \n",
            " n)                                                                                               \n",
            "                                                                                                  \n",
            " conv4_block6_3_conv (Conv2D)   (None, 3, 3, 1024)   263168      ['conv4_block6_2_relu[0][0]']    \n",
            "                                                                                                  \n",
            " conv4_block6_3_bn (BatchNormal  (None, 3, 3, 1024)  4096        ['conv4_block6_3_conv[0][0]']    \n",
            " ization)                                                                                         \n",
            "                                                                                                  \n",
            " conv4_block6_add (Add)         (None, 3, 3, 1024)   0           ['conv4_block5_out[0][0]',       \n",
            "                                                                  'conv4_block6_3_bn[0][0]']      \n",
            "                                                                                                  \n",
            " conv4_block6_out (Activation)  (None, 3, 3, 1024)   0           ['conv4_block6_add[0][0]']       \n",
            "                                                                                                  \n",
            " conv5_block1_1_conv (Conv2D)   (None, 2, 2, 512)    524800      ['conv4_block6_out[0][0]']       \n",
            "                                                                                                  \n",
            " conv5_block1_1_bn (BatchNormal  (None, 2, 2, 512)   2048        ['conv5_block1_1_conv[0][0]']    \n",
            " ization)                                                                                         \n",
            "                                                                                                  \n",
            " conv5_block1_1_relu (Activatio  (None, 2, 2, 512)   0           ['conv5_block1_1_bn[0][0]']      \n",
            " n)                                                                                               \n",
            "                                                                                                  \n",
            " conv5_block1_2_conv (Conv2D)   (None, 2, 2, 512)    2359808     ['conv5_block1_1_relu[0][0]']    \n",
            "                                                                                                  \n",
            " conv5_block1_2_bn (BatchNormal  (None, 2, 2, 512)   2048        ['conv5_block1_2_conv[0][0]']    \n",
            " ization)                                                                                         \n",
            "                                                                                                  \n",
            " conv5_block1_2_relu (Activatio  (None, 2, 2, 512)   0           ['conv5_block1_2_bn[0][0]']      \n",
            " n)                                                                                               \n",
            "                                                                                                  \n",
            " conv5_block1_0_conv (Conv2D)   (None, 2, 2, 2048)   2099200     ['conv4_block6_out[0][0]']       \n",
            "                                                                                                  \n",
            " conv5_block1_3_conv (Conv2D)   (None, 2, 2, 2048)   1050624     ['conv5_block1_2_relu[0][0]']    \n",
            "                                                                                                  \n",
            " conv5_block1_0_bn (BatchNormal  (None, 2, 2, 2048)  8192        ['conv5_block1_0_conv[0][0]']    \n",
            " ization)                                                                                         \n",
            "                                                                                                  \n",
            " conv5_block1_3_bn (BatchNormal  (None, 2, 2, 2048)  8192        ['conv5_block1_3_conv[0][0]']    \n",
            " ization)                                                                                         \n",
            "                                                                                                  \n",
            " conv5_block1_add (Add)         (None, 2, 2, 2048)   0           ['conv5_block1_0_bn[0][0]',      \n",
            "                                                                  'conv5_block1_3_bn[0][0]']      \n",
            "                                                                                                  \n",
            " conv5_block1_out (Activation)  (None, 2, 2, 2048)   0           ['conv5_block1_add[0][0]']       \n",
            "                                                                                                  \n",
            " conv5_block2_1_conv (Conv2D)   (None, 2, 2, 512)    1049088     ['conv5_block1_out[0][0]']       \n",
            "                                                                                                  \n",
            " conv5_block2_1_bn (BatchNormal  (None, 2, 2, 512)   2048        ['conv5_block2_1_conv[0][0]']    \n",
            " ization)                                                                                         \n",
            "                                                                                                  \n",
            " conv5_block2_1_relu (Activatio  (None, 2, 2, 512)   0           ['conv5_block2_1_bn[0][0]']      \n",
            " n)                                                                                               \n",
            "                                                                                                  \n",
            " conv5_block2_2_conv (Conv2D)   (None, 2, 2, 512)    2359808     ['conv5_block2_1_relu[0][0]']    \n",
            "                                                                                                  \n",
            " conv5_block2_2_bn (BatchNormal  (None, 2, 2, 512)   2048        ['conv5_block2_2_conv[0][0]']    \n",
            " ization)                                                                                         \n",
            "                                                                                                  \n",
            " conv5_block2_2_relu (Activatio  (None, 2, 2, 512)   0           ['conv5_block2_2_bn[0][0]']      \n",
            " n)                                                                                               \n",
            "                                                                                                  \n",
            " conv5_block2_3_conv (Conv2D)   (None, 2, 2, 2048)   1050624     ['conv5_block2_2_relu[0][0]']    \n",
            "                                                                                                  \n",
            " conv5_block2_3_bn (BatchNormal  (None, 2, 2, 2048)  8192        ['conv5_block2_3_conv[0][0]']    \n",
            " ization)                                                                                         \n",
            "                                                                                                  \n",
            " conv5_block2_add (Add)         (None, 2, 2, 2048)   0           ['conv5_block1_out[0][0]',       \n",
            "                                                                  'conv5_block2_3_bn[0][0]']      \n",
            "                                                                                                  \n",
            " conv5_block2_out (Activation)  (None, 2, 2, 2048)   0           ['conv5_block2_add[0][0]']       \n",
            "                                                                                                  \n",
            " conv5_block3_1_conv (Conv2D)   (None, 2, 2, 512)    1049088     ['conv5_block2_out[0][0]']       \n",
            "                                                                                                  \n",
            " conv5_block3_1_bn (BatchNormal  (None, 2, 2, 512)   2048        ['conv5_block3_1_conv[0][0]']    \n",
            " ization)                                                                                         \n",
            "                                                                                                  \n",
            " conv5_block3_1_relu (Activatio  (None, 2, 2, 512)   0           ['conv5_block3_1_bn[0][0]']      \n",
            " n)                                                                                               \n",
            "                                                                                                  \n",
            " conv5_block3_2_conv (Conv2D)   (None, 2, 2, 512)    2359808     ['conv5_block3_1_relu[0][0]']    \n",
            "                                                                                                  \n",
            " conv5_block3_2_bn (BatchNormal  (None, 2, 2, 512)   2048        ['conv5_block3_2_conv[0][0]']    \n",
            " ization)                                                                                         \n",
            "                                                                                                  \n",
            " conv5_block3_2_relu (Activatio  (None, 2, 2, 512)   0           ['conv5_block3_2_bn[0][0]']      \n",
            " n)                                                                                               \n",
            "                                                                                                  \n",
            " conv5_block3_3_conv (Conv2D)   (None, 2, 2, 2048)   1050624     ['conv5_block3_2_relu[0][0]']    \n",
            "                                                                                                  \n",
            " conv5_block3_3_bn (BatchNormal  (None, 2, 2, 2048)  8192        ['conv5_block3_3_conv[0][0]']    \n",
            " ization)                                                                                         \n",
            "                                                                                                  \n",
            " conv5_block3_add (Add)         (None, 2, 2, 2048)   0           ['conv5_block2_out[0][0]',       \n",
            "                                                                  'conv5_block3_3_bn[0][0]']      \n",
            "                                                                                                  \n",
            " conv5_block3_out (Activation)  (None, 2, 2, 2048)   0           ['conv5_block3_add[0][0]']       \n",
            "                                                                                                  \n",
            "==================================================================================================\n",
            "Total params: 23,587,712\n",
            "Trainable params: 0\n",
            "Non-trainable params: 23,587,712\n",
            "__________________________________________________________________________________________________\n"
          ]
        }
      ]
    },
    {
      "cell_type": "code",
      "source": [
        "# Freezing all layers of the architecture except the last 4 layers.\n",
        "for layer in base_model.layers[:-4]:\n",
        "    layer.trainable = False"
      ],
      "metadata": {
        "id": "PZpQ5YJl06hO"
      },
      "execution_count": 355,
      "outputs": []
    },
    {
      "cell_type": "code",
      "source": [
        "# Creating the model.\n",
        "from tensorflow.keras.layers import Input\n",
        "\n",
        "model_B = Sequential([\n",
        "                      \n",
        "   # Adding the pre-trained model layers.                  \n",
        "   base_model,\n",
        "   Dropout(0.2),\n",
        "   Flatten(),\n",
        "   BatchNormalization(),\n",
        "\n",
        "   # 1st fully connected layer.\n",
        "   Dense(512, kernel_initializer = 'he_normal', activation = 'relu'),\n",
        "   BatchNormalization(),\n",
        "   Dropout(0.25),\n",
        "\n",
        "   # 2nd fully connected layer.\n",
        "   Dense(256, kernel_initializer = 'he_normal', activation = 'relu'),\n",
        "   BatchNormalization(),\n",
        "   Dropout(0.25),\n",
        "\n",
        "   # Output layer.\n",
        "   Dense(7, activation='softmax')\n",
        "])"
      ],
      "metadata": {
        "id": "6rqW5EFkepSp"
      },
      "execution_count": 356,
      "outputs": []
    },
    {
      "cell_type": "code",
      "source": [
        "# Compiling the model.\n",
        "model_B.compile(loss = 'categorical_crossentropy',\n",
        "                optimizer = Adam(learning_rate = 0.001),          # Default learning rate.\n",
        "                metrics = ['accuracy'])"
      ],
      "metadata": {
        "id": "3eTniaxzji8R"
      },
      "execution_count": 357,
      "outputs": []
    },
    {
      "cell_type": "code",
      "source": [
        "# Model summary.\n",
        "model_B.summary()"
      ],
      "metadata": {
        "colab": {
          "base_uri": "https://localhost:8080/"
        },
        "id": "Lhlj0LLLs3vD",
        "outputId": "3b7ebe15-433a-44a6-bc37-b87c76d97548"
      },
      "execution_count": 358,
      "outputs": [
        {
          "output_type": "stream",
          "name": "stdout",
          "text": [
            "Model: \"sequential_21\"\n",
            "_________________________________________________________________\n",
            " Layer (type)                Output Shape              Param #   \n",
            "=================================================================\n",
            " resnet50 (Functional)       (None, 2, 2, 2048)        23587712  \n",
            "                                                                 \n",
            " dropout_110 (Dropout)       (None, 2, 2, 2048)        0         \n",
            "                                                                 \n",
            " flatten_21 (Flatten)        (None, 8192)              0         \n",
            "                                                                 \n",
            " batch_normalization_88 (Bat  (None, 8192)             32768     \n",
            " chNormalization)                                                \n",
            "                                                                 \n",
            " dense_62 (Dense)            (None, 512)               4194816   \n",
            "                                                                 \n",
            " batch_normalization_89 (Bat  (None, 512)              2048      \n",
            " chNormalization)                                                \n",
            "                                                                 \n",
            " dropout_111 (Dropout)       (None, 512)               0         \n",
            "                                                                 \n",
            " dense_63 (Dense)            (None, 256)               131328    \n",
            "                                                                 \n",
            " batch_normalization_90 (Bat  (None, 256)              1024      \n",
            " chNormalization)                                                \n",
            "                                                                 \n",
            " dropout_112 (Dropout)       (None, 256)               0         \n",
            "                                                                 \n",
            " dense_64 (Dense)            (None, 7)                 1799      \n",
            "                                                                 \n",
            "=================================================================\n",
            "Total params: 27,951,495\n",
            "Trainable params: 4,345,863\n",
            "Non-trainable params: 23,605,632\n",
            "_________________________________________________________________\n"
          ]
        }
      ]
    },
    {
      "cell_type": "code",
      "source": [
        "# Creating callbacks.\n",
        "early_stopping = EarlyStopping(monitor='val_loss',\n",
        "                               min_delta=0,\n",
        "                               patience=10,\n",
        "                               verbose=1,\n",
        "                               restore_best_weights=True)\n",
        "# Stops training when a monitored metric has stopped improving.\n",
        "\n",
        "\n",
        "reduce_lr = ReduceLROnPlateau(monitor='val_loss',\n",
        "                              factor=0.1,\n",
        "                              patience=10, \n",
        "                              min_lr=0.00001, \n",
        "                              mode='auto')\n",
        "# Reduces learning rate when a metric stops improving."
      ],
      "metadata": {
        "id": "29KHj_Uvwi2c"
      },
      "execution_count": 359,
      "outputs": []
    },
    {
      "cell_type": "code",
      "source": [
        "# Fitting the model.\n",
        "history_model_B = model_B.fit_generator(generator = train_data,\n",
        "                                        epochs = 50,\n",
        "                                        steps_per_epoch = len(train_data),\n",
        "                                        validation_data = test_data,\n",
        "                                        validation_steps = test_data.n // test_data.batch_size,\n",
        "                                        callbacks = [early_stopping, reduce_lr])"
      ],
      "metadata": {
        "colab": {
          "base_uri": "https://localhost:8080/"
        },
        "id": "p21qxXNHkYsc",
        "outputId": "2d869703-1b83-4bb0-aff6-b06f19266461"
      },
      "execution_count": 360,
      "outputs": [
        {
          "output_type": "stream",
          "name": "stdout",
          "text": [
            "Epoch 1/50\n",
            "898/898 [==============================] - 36s 37ms/step - loss: 1.9552 - accuracy: 0.2563 - val_loss: 1.7363 - val_accuracy: 0.3147 - lr: 0.0010\n",
            "Epoch 2/50\n",
            "898/898 [==============================] - 33s 37ms/step - loss: 1.7624 - accuracy: 0.2967 - val_loss: 1.7069 - val_accuracy: 0.3189 - lr: 0.0010\n",
            "Epoch 3/50\n",
            "898/898 [==============================] - 32s 35ms/step - loss: 1.7268 - accuracy: 0.3067 - val_loss: 1.6784 - val_accuracy: 0.3347 - lr: 0.0010\n",
            "Epoch 4/50\n",
            "898/898 [==============================] - 32s 36ms/step - loss: 1.7063 - accuracy: 0.3138 - val_loss: 1.6783 - val_accuracy: 0.3396 - lr: 0.0010\n",
            "Epoch 5/50\n",
            "898/898 [==============================] - 37s 41ms/step - loss: 1.6982 - accuracy: 0.3166 - val_loss: 1.7027 - val_accuracy: 0.3357 - lr: 0.0010\n",
            "Epoch 6/50\n",
            "898/898 [==============================] - 32s 36ms/step - loss: 1.6956 - accuracy: 0.3216 - val_loss: 1.6790 - val_accuracy: 0.3426 - lr: 0.0010\n",
            "Epoch 7/50\n",
            "898/898 [==============================] - 32s 36ms/step - loss: 1.6840 - accuracy: 0.3285 - val_loss: 1.6692 - val_accuracy: 0.3460 - lr: 0.0010\n",
            "Epoch 8/50\n",
            "898/898 [==============================] - 32s 36ms/step - loss: 1.6779 - accuracy: 0.3290 - val_loss: 1.6928 - val_accuracy: 0.3467 - lr: 0.0010\n",
            "Epoch 9/50\n",
            "898/898 [==============================] - 32s 36ms/step - loss: 1.6725 - accuracy: 0.3332 - val_loss: 1.6634 - val_accuracy: 0.3426 - lr: 0.0010\n",
            "Epoch 10/50\n",
            "898/898 [==============================] - 32s 35ms/step - loss: 1.6674 - accuracy: 0.3341 - val_loss: 1.6585 - val_accuracy: 0.3506 - lr: 0.0010\n",
            "Epoch 11/50\n",
            "898/898 [==============================] - 31s 35ms/step - loss: 1.6663 - accuracy: 0.3339 - val_loss: 1.6595 - val_accuracy: 0.3449 - lr: 0.0010\n",
            "Epoch 12/50\n",
            "898/898 [==============================] - 32s 35ms/step - loss: 1.6587 - accuracy: 0.3380 - val_loss: 1.6789 - val_accuracy: 0.3393 - lr: 0.0010\n",
            "Epoch 13/50\n",
            "898/898 [==============================] - 31s 35ms/step - loss: 1.6575 - accuracy: 0.3392 - val_loss: 1.6889 - val_accuracy: 0.3549 - lr: 0.0010\n",
            "Epoch 14/50\n",
            "898/898 [==============================] - 32s 36ms/step - loss: 1.6569 - accuracy: 0.3399 - val_loss: 1.6401 - val_accuracy: 0.3535 - lr: 0.0010\n",
            "Epoch 15/50\n",
            "898/898 [==============================] - 32s 35ms/step - loss: 1.6507 - accuracy: 0.3467 - val_loss: 1.6410 - val_accuracy: 0.3612 - lr: 0.0010\n",
            "Epoch 16/50\n",
            "898/898 [==============================] - 31s 35ms/step - loss: 1.6425 - accuracy: 0.3502 - val_loss: 1.6653 - val_accuracy: 0.3506 - lr: 0.0010\n",
            "Epoch 17/50\n",
            "898/898 [==============================] - 31s 35ms/step - loss: 1.6453 - accuracy: 0.3462 - val_loss: 1.6406 - val_accuracy: 0.3696 - lr: 0.0010\n",
            "Epoch 18/50\n",
            "898/898 [==============================] - 31s 35ms/step - loss: 1.6415 - accuracy: 0.3446 - val_loss: 1.6259 - val_accuracy: 0.3710 - lr: 0.0010\n",
            "Epoch 19/50\n",
            "898/898 [==============================] - 31s 35ms/step - loss: 1.6394 - accuracy: 0.3472 - val_loss: 1.6153 - val_accuracy: 0.3719 - lr: 0.0010\n",
            "Epoch 20/50\n",
            "898/898 [==============================] - 32s 35ms/step - loss: 1.6290 - accuracy: 0.3546 - val_loss: 1.6232 - val_accuracy: 0.3610 - lr: 0.0010\n",
            "Epoch 21/50\n",
            "898/898 [==============================] - 31s 35ms/step - loss: 1.6261 - accuracy: 0.3556 - val_loss: 1.6244 - val_accuracy: 0.3647 - lr: 0.0010\n",
            "Epoch 22/50\n",
            "898/898 [==============================] - 31s 35ms/step - loss: 1.6239 - accuracy: 0.3546 - val_loss: 1.6158 - val_accuracy: 0.3698 - lr: 0.0010\n",
            "Epoch 23/50\n",
            "898/898 [==============================] - 31s 35ms/step - loss: 1.6265 - accuracy: 0.3537 - val_loss: 1.6099 - val_accuracy: 0.3697 - lr: 0.0010\n",
            "Epoch 24/50\n",
            "898/898 [==============================] - 31s 35ms/step - loss: 1.6206 - accuracy: 0.3574 - val_loss: 1.6294 - val_accuracy: 0.3651 - lr: 0.0010\n",
            "Epoch 25/50\n",
            "898/898 [==============================] - 31s 35ms/step - loss: 1.6187 - accuracy: 0.3572 - val_loss: 1.6113 - val_accuracy: 0.3648 - lr: 0.0010\n",
            "Epoch 26/50\n",
            "898/898 [==============================] - 31s 35ms/step - loss: 1.6154 - accuracy: 0.3548 - val_loss: 1.6126 - val_accuracy: 0.3680 - lr: 0.0010\n",
            "Epoch 27/50\n",
            "898/898 [==============================] - 31s 35ms/step - loss: 1.6106 - accuracy: 0.3618 - val_loss: 1.5975 - val_accuracy: 0.3836 - lr: 0.0010\n",
            "Epoch 28/50\n",
            "898/898 [==============================] - 37s 41ms/step - loss: 1.6010 - accuracy: 0.3689 - val_loss: 1.6117 - val_accuracy: 0.3684 - lr: 0.0010\n",
            "Epoch 29/50\n",
            "898/898 [==============================] - 32s 35ms/step - loss: 1.6063 - accuracy: 0.3637 - val_loss: 1.6010 - val_accuracy: 0.3782 - lr: 0.0010\n",
            "Epoch 30/50\n",
            "898/898 [==============================] - 31s 35ms/step - loss: 1.6008 - accuracy: 0.3660 - val_loss: 1.6017 - val_accuracy: 0.3765 - lr: 0.0010\n",
            "Epoch 31/50\n",
            "898/898 [==============================] - 31s 35ms/step - loss: 1.5925 - accuracy: 0.3717 - val_loss: 1.5926 - val_accuracy: 0.3790 - lr: 0.0010\n",
            "Epoch 32/50\n",
            "898/898 [==============================] - 31s 35ms/step - loss: 1.5903 - accuracy: 0.3721 - val_loss: 1.6034 - val_accuracy: 0.3775 - lr: 0.0010\n",
            "Epoch 33/50\n",
            "898/898 [==============================] - 31s 35ms/step - loss: 1.5922 - accuracy: 0.3698 - val_loss: 1.6114 - val_accuracy: 0.3751 - lr: 0.0010\n",
            "Epoch 34/50\n",
            "898/898 [==============================] - 31s 35ms/step - loss: 1.5894 - accuracy: 0.3728 - val_loss: 1.6078 - val_accuracy: 0.3816 - lr: 0.0010\n",
            "Epoch 35/50\n",
            "898/898 [==============================] - 31s 35ms/step - loss: 1.5810 - accuracy: 0.3769 - val_loss: 1.6016 - val_accuracy: 0.3892 - lr: 0.0010\n",
            "Epoch 36/50\n",
            "898/898 [==============================] - 31s 35ms/step - loss: 1.5924 - accuracy: 0.3707 - val_loss: 1.6806 - val_accuracy: 0.3799 - lr: 0.0010\n",
            "Epoch 37/50\n",
            "898/898 [==============================] - 32s 35ms/step - loss: 1.5812 - accuracy: 0.3747 - val_loss: 1.6174 - val_accuracy: 0.3792 - lr: 0.0010\n",
            "Epoch 38/50\n",
            "898/898 [==============================] - 32s 35ms/step - loss: 1.5918 - accuracy: 0.3695 - val_loss: 1.6997 - val_accuracy: 0.3857 - lr: 0.0010\n",
            "Epoch 39/50\n",
            "898/898 [==============================] - 32s 35ms/step - loss: 1.5849 - accuracy: 0.3753 - val_loss: 1.6002 - val_accuracy: 0.3761 - lr: 0.0010\n",
            "Epoch 40/50\n",
            "898/898 [==============================] - 32s 36ms/step - loss: 1.5709 - accuracy: 0.3805 - val_loss: 1.6033 - val_accuracy: 0.3883 - lr: 0.0010\n",
            "Epoch 41/50\n",
            "898/898 [==============================] - ETA: 0s - loss: 1.5794 - accuracy: 0.3771Restoring model weights from the end of the best epoch: 31.\n",
            "898/898 [==============================] - 31s 35ms/step - loss: 1.5794 - accuracy: 0.3771 - val_loss: 1.6210 - val_accuracy: 0.3825 - lr: 0.0010\n",
            "Epoch 41: early stopping\n"
          ]
        }
      ]
    },
    {
      "cell_type": "code",
      "source": [
        "# Evaluating on the overall test data.\n",
        "model_B.evaluate(test_data)"
      ],
      "metadata": {
        "colab": {
          "base_uri": "https://localhost:8080/"
        },
        "id": "Oz_DVfBux-rl",
        "outputId": "4af9731a-4f9b-4a5c-8ea1-4b0b97b61d93"
      },
      "execution_count": 361,
      "outputs": [
        {
          "output_type": "stream",
          "name": "stdout",
          "text": [
            "225/225 [==============================] - 7s 29ms/step - loss: 1.5968 - accuracy: 0.3838\n"
          ]
        },
        {
          "output_type": "execute_result",
          "data": {
            "text/plain": [
              "[1.596751093864441, 0.3838116526603699]"
            ]
          },
          "metadata": {},
          "execution_count": 361
        }
      ]
    },
    {
      "cell_type": "markdown",
      "source": [
        "Accuracy score on overall test dataset came out to be **38.38%**"
      ],
      "metadata": {
        "id": "NSirH0m0yMnr"
      }
    },
    {
      "cell_type": "code",
      "source": [
        "# Prediction for test set.\n",
        "predictions_1 = model_B.predict(test_data)\n",
        "\n",
        "# Printing Confution Matrix\n",
        "cm_1 = confusion_matrix(y_pred = np.argmax(predictions_1, axis=-1), y_true = test_data.classes)                         \n",
        "cm_1"
      ],
      "metadata": {
        "colab": {
          "base_uri": "https://localhost:8080/"
        },
        "id": "dJebJFZu0qoV",
        "outputId": "cd68c031-3d42-413e-e880-fa4b06f3d3a8"
      },
      "execution_count": 362,
      "outputs": [
        {
          "output_type": "execute_result",
          "data": {
            "text/plain": [
              "array([[ 203,    2,   40,  361,  132,  173,   47],\n",
              "       [  16,    8,    7,   46,   14,   14,    6],\n",
              "       [  91,    1,  146,  338,  151,  194,  103],\n",
              "       [  80,    2,   53, 1235,  169,  185,   50],\n",
              "       [  82,    2,   54,  457,  413,  177,   48],\n",
              "       [ 119,    1,   70,  430,  193,  393,   41],\n",
              "       [  48,    0,   77,  180,   95,   66,  365]])"
            ]
          },
          "metadata": {},
          "execution_count": 362
        }
      ]
    },
    {
      "cell_type": "code",
      "source": [
        "# Computing predictions.\n",
        "predictions_1 = model_B.predict_generator(generator=test_data)\n",
        "y_pred = [np.argmax(probas) for probas in predictions_1]\n",
        "y_test = test_data.classes\n",
        "class_names = test_data.class_indices.keys()"
      ],
      "metadata": {
        "id": "uffxT3Fq07d3"
      },
      "execution_count": 363,
      "outputs": []
    },
    {
      "cell_type": "code",
      "source": [
        "# Computing confusion matrix.\n",
        "cnf_matrix_1 = confusion_matrix(y_test, y_pred)\n",
        "np.set_printoptions(precision=2)\n",
        "\n",
        "# Plotting the confusion matrix.\n",
        "plot_confusion_matrix(cnf_matrix_1,  classes = class_names, title='Normalized confusion matrix')"
      ],
      "metadata": {
        "colab": {
          "base_uri": "https://localhost:8080/",
          "height": 721
        },
        "id": "H5kj0yuH1ImI",
        "outputId": "d955ad53-15fe-4049-b8ea-40dc864003b1"
      },
      "execution_count": 364,
      "outputs": [
        {
          "output_type": "display_data",
          "data": {
            "text/plain": [
              "<Figure size 720x720 with 2 Axes>"
            ],
            "image/png": "[encoded data removed]"
          },
          "metadata": {
            "needs_background": "light"
          }
        }
      ]
    },
    {
      "cell_type": "markdown",
      "source": [
        "Clearly, model is predicting each class to be as 'happy' class. Indicates the poor performance of the model."
      ],
      "metadata": {
        "id": "tc4W_rU41lgZ"
      }
    },
    {
      "cell_type": "code",
      "source": [
        "# Plotting the loss curves.\n",
        "plot_loss_curves(history_model_B)"
      ],
      "metadata": {
        "colab": {
          "base_uri": "https://localhost:8080/",
          "height": 563
        },
        "id": "NkkUp42pzpXC",
        "outputId": "34b79470-44bf-4a7b-e165-901d844043aa"
      },
      "execution_count": 365,
      "outputs": [
        {
          "output_type": "display_data",
          "data": {
            "text/plain": [
              "<Figure size 432x288 with 1 Axes>"
            ],
            "image/png": "[encoded data removed]"
          },
          "metadata": {
            "needs_background": "light"
          }
        },
        {
          "output_type": "display_data",
          "data": {
            "text/plain": [
              "<Figure size 432x288 with 1 Axes>"
            ],
            "image/png": "[encoded data removed]"
          },
          "metadata": {
            "needs_background": "light"
          }
        }
      ]
    },
    {
      "cell_type": "markdown",
      "source": [
        "**The training gave the accuracy of 37.71% and val_accuracy of 38.38%. The 'ResNet50' model failed to perform well and the accuracy scores are also not at all satisfactory.**"
      ],
      "metadata": {
        "id": "RHQm9AVTz1Xf"
      }
    }
  ],
  "metadata": {
    "colab": {
      "collapsed_sections": [],
      "name": "Live Class Monitoring System (Face Emotion Recognition).ipynb",
      "provenance": [],
      "authorship_tag": "ABX9TyN1Tbn9YkIURCLeUFcW4iSU",
      "include_colab_link": true
    },
    "kernelspec": {
      "display_name": "Python 3",
      "name": "python3"
    },
    "language_info": {
      "name": "python"
    },
    "accelerator": "GPU"
  },
  "nbformat": 4,
  "nbformat_minor": 0
}