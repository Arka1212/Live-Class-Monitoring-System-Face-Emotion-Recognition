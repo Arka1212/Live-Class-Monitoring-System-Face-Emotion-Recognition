{
  "cells": [
    {
      "cell_type": "markdown",
      "metadata": {
        "id": "view-in-github",
        "colab_type": "text"
      },
      "source": [
        "<a href=\"https://colab.research.google.com/github/Arka1212/Live-Class-Monitoring-System-Face-Emotion-Recognition/blob/main/Live_Class_Monitoring_System_(Face_Emotion_Recognition).ipynb\" target=\"_parent\"><img src=\"https://colab.research.google.com/assets/colab-badge.svg\" alt=\"Open In Colab\"/></a>"
      ]
    },
    {
      "cell_type": "markdown",
      "metadata": {
        "id": "PS-9XGzY8Oku"
      },
      "source": [
        "# **Live Class Monitoring System (Face Emotion Recognition)**\n",
        "\n",
        "## **Project Introduction**\n",
        "The Indian education landscape has been undergoing rapid changes for the past 10 years owing to the advancement of web-based learning services, specifically, eLearning platforms. \n",
        "\n",
        "Global E-learning is estimated to witness an 8X over the next 5 years to reach USD 2B in 2021. India is expected to grow with a CAGR of 44% crossing the 10M users mark in 2021. Although the market is growing on a rapid scale, there are major challenges associated with digital learning when compared with brick and mortar classrooms. One of many challenges is how to ensure quality learning for students. Digital platforms might overpower physical classrooms in terms of content quality but when it comes to understanding whether students are able to grasp the content in a live class scenario is yet an open-end challenge.\n",
        "\n",
        "In a physical classroom during a lecturing teacher can see the faces and assess the emotion of the class and tune their lecture accordingly, whether he is going fast or slow. He can identify students who need special attention. Digital classrooms are conducted via video telephony software program (exZoom) where it’s not possible for medium scale class (25-50) to see all students and access the mood. Because of this drawback, students are not focusing on content due to lack of surveillance. While digital platforms have limitations in terms of physical surveillance but it comes with the power of data and machines which can work for you. It provides data in the form of video, audio, and texts which can be analysed using deep learning algorithms. Deep learning backed system not only solves the surveillance issue, but it also removes the human bias from the system, and all information is no longer in the teacher’s brain rather translated in numbers that can be analysed and tracked.\n",
        "\n",
        "## **Problem Statement**\n",
        "The problem statement focuses on solving the above-mentioned challenge by applying deep learning algorithms to live video data. The solution to this problem is by recognizing facial emotions. This is a few shot learning live face emotion detection system. The model should be able to real-time identify the emotions of students in a live class.\n",
        "\n",
        "## **Dataset Link**\n",
        "Dataset: https://www.kaggle.com/msambare/fer2013\n"
      ]
    },
    {
      "cell_type": "markdown",
      "metadata": {
        "id": "nOZeBc8C-T1j"
      },
      "source": [
        "**-------------------------------------------------------------------------------------------------------------------------------------------------------------------**\n",
        "**-------------------------------------------------------------------------------------------------------------------------------------------------------------------**"
      ]
    },
    {
      "cell_type": "code",
      "execution_count": null,
      "metadata": {
        "id": "DpzN4pK2r8U7",
        "colab": {
          "base_uri": "https://localhost:8080/"
        },
        "outputId": "b0936b5f-4896-49e8-bb3c-868cda7914ad"
      },
      "outputs": [
        {
          "output_type": "stream",
          "name": "stdout",
          "text": [
            "Tensorflow version ----->  2.8.0\n"
          ]
        }
      ],
      "source": [
        "# Importing necessary libraries.\n",
        "import numpy as np\n",
        "import pandas as pd\n",
        "import matplotlib.pyplot as plt\n",
        "import seaborn as sns\n",
        "import tensorflow as tf\n",
        "print(f'Tensorflow version ----->  {tf.__version__}')"
      ]
    },
    {
      "cell_type": "code",
      "execution_count": null,
      "metadata": {
        "id": "yW57SAbBvqpy"
      },
      "outputs": [],
      "source": [
        "# Removing warnings.\n",
        "import warnings                                                                                \n",
        "warnings.filterwarnings('ignore')\n",
        "warnings.simplefilter('ignore')"
      ]
    },
    {
      "cell_type": "markdown",
      "metadata": {
        "id": "GE6gOohYsZwZ"
      },
      "source": [
        "Imported some of the basic libraries in order to get started & rest all the required libraries will be imported as and when required."
      ]
    },
    {
      "cell_type": "markdown",
      "metadata": {
        "id": "h832PnDQxMD0"
      },
      "source": [
        "## **Downloading & inspecting dataset**"
      ]
    },
    {
      "cell_type": "code",
      "execution_count": null,
      "metadata": {
        "id": "caCaW34YxVRU",
        "outputId": "884ef2e5-2cb8-408b-87cc-2d9045790333",
        "colab": {
          "base_uri": "https://localhost:8080/"
        }
      },
      "outputs": [
        {
          "output_type": "stream",
          "name": "stdout",
          "text": [
            "Mounted at /content/drive\n"
          ]
        }
      ],
      "source": [
        "# Mounting the drive.\n",
        "from google.colab import drive\n",
        "drive.mount('/content/drive')"
      ]
    },
    {
      "cell_type": "code",
      "execution_count": null,
      "metadata": {
        "id": "JrgqhyzR6nSd"
      },
      "outputs": [],
      "source": [
        "# Accessing the dataset.\n",
        "filename = '/content/drive/MyDrive/Capstone Projects/Deep Learning/Live Class Monitoring System (Face Emotion Recognition)/Face Emotion Dataset.zip'"
      ]
    },
    {
      "cell_type": "markdown",
      "metadata": {
        "id": "wx4NZq8N665z"
      },
      "source": [
        "The dataset is actually in 'zip' format and it needs to be unzipped in order to use it."
      ]
    },
    {
      "cell_type": "code",
      "execution_count": null,
      "metadata": {
        "id": "mvcm-DPC7MYp"
      },
      "outputs": [],
      "source": [
        "# Unzipping the dataset.\n",
        "import zipfile\n",
        "zip_ref = zipfile.ZipFile(filename)\n",
        "zip_ref.extractall()\n",
        "zip_ref.close()"
      ]
    },
    {
      "cell_type": "markdown",
      "metadata": {
        "id": "7VkUg8v78b4M"
      },
      "source": [
        "Here, the dataset is already splitted into train & test dataset."
      ]
    },
    {
      "cell_type": "code",
      "execution_count": null,
      "metadata": {
        "colab": {
          "base_uri": "https://localhost:8080/"
        },
        "id": "TokoipOi-JZt",
        "outputId": "13a4e22c-783d-4606-ffcb-10d53a0ba1bd"
      },
      "outputs": [
        {
          "output_type": "stream",
          "name": "stdout",
          "text": [
            "TRAINING DATA:\n",
            "\n",
            "There are 7 directories and 0 images in /content/train.\n",
            "There are 0 directories and 4965 images in /content/train/neutral.\n",
            "There are 0 directories and 3171 images in /content/train/surprise.\n",
            "There are 0 directories and 436 images in /content/train/disgust.\n",
            "There are 0 directories and 4830 images in /content/train/sad.\n",
            "There are 0 directories and 4097 images in /content/train/fear.\n",
            "There are 0 directories and 3995 images in /content/train/angry.\n",
            "There are 0 directories and 7215 images in /content/train/happy.\n",
            "\n",
            "\n",
            "TESTING DATA:\n",
            "\n",
            "There are 7 directories and 0 images in /content/test.\n",
            "There are 0 directories and 1233 images in /content/test/neutral.\n",
            "There are 0 directories and 831 images in /content/test/surprise.\n",
            "There are 0 directories and 111 images in /content/test/disgust.\n",
            "There are 0 directories and 1247 images in /content/test/sad.\n",
            "There are 0 directories and 1024 images in /content/test/fear.\n",
            "There are 0 directories and 958 images in /content/test/angry.\n",
            "There are 0 directories and 1774 images in /content/test/happy.\n"
          ]
        }
      ],
      "source": [
        "# Walking into the directories and listing the number of files in each directories.\n",
        "import os\n",
        "\n",
        "# Walking through the train data directory.\n",
        "print(f'TRAINING DATA:\\n')\n",
        "for dirpath, dirnames, filenames in os.walk('/content/train'):\n",
        "  print(f'There are {len(dirnames)} directories and {len(filenames)} images in {dirpath}.')\n",
        "\n",
        "\n",
        "# Walking through the test data directory.\n",
        "print(f'\\n\\nTESTING DATA:\\n')\n",
        "for dirpath, dirnames, filenames in os.walk('/content/test'):\n",
        "  print(f'There are {len(dirnames)} directories and {len(filenames)} images in {dirpath}.')"
      ]
    },
    {
      "cell_type": "markdown",
      "metadata": {
        "id": "Yhq86iti_z2J"
      },
      "source": [
        "So, basically there are 7 directories present in both train and test dataset which are nothing but the directories representing each class and each directories have a number of images belonging to that class. So, clearly we get an idea that this particular dataset has 7 classes."
      ]
    },
    {
      "cell_type": "code",
      "source": [
        "# Getting the class names programatically.\n",
        "import pathlib                                  # 'Pathlib' module in Python provides various classes representing file system paths.\n",
        "\n",
        "data_dir = pathlib.Path('/content/train')\n",
        "class_names = np.array(sorted([item.name for item in data_dir.glob('*')]))\n",
        "# Creates a list of class names from the sub-directories.\n",
        "\n",
        "print(class_names)"
      ],
      "metadata": {
        "colab": {
          "base_uri": "https://localhost:8080/"
        },
        "id": "LRfSy4lBZKdb",
        "outputId": "f314915e-4948-4e66-ff83-395f56d54208"
      },
      "execution_count": null,
      "outputs": [
        {
          "output_type": "stream",
          "name": "stdout",
          "text": [
            "['angry' 'disgust' 'fear' 'happy' 'neutral' 'sad' 'surprise']\n"
          ]
        }
      ]
    },
    {
      "cell_type": "markdown",
      "metadata": {
        "id": "jLHKrH1aDhlF"
      },
      "source": [
        "Classes present in the dataset are:  \n",
        "1. **angry**\n",
        "2. **disgust** \n",
        "3. **fear** \n",
        "4. **happy**\n",
        "5. **neutral**\n",
        "6. **sad** \n",
        "7. **surprise**\n",
        "\n",
        "Each of these classes represents human emotions."
      ]
    },
    {
      "cell_type": "markdown",
      "metadata": {
        "id": "juQyhU96K03h"
      },
      "source": [
        "## **Visualising images of each class**\n",
        "\n",
        "Becoming one with the data by visualising different images of each classes which the dataset in comprised of."
      ]
    },
    {
      "cell_type": "code",
      "execution_count": null,
      "metadata": {
        "id": "agtTIwLfK_IW"
      },
      "outputs": [],
      "source": [
        "# Creating a function to view random images of each class.\n",
        "import random\n",
        "import matplotlib.image as mpimg\n",
        "\n",
        "def view_random_images(target_directory, target_class):\n",
        "  \n",
        "  '''\n",
        "  Takes into the target directory and target class as a path and prints random images of the specified class from the dataset\n",
        "  '''\n",
        "  \n",
        "  # Creating a target folder which will store the folder path taking the directory name and class name.\n",
        "  target_folder = target_directory + '/' + target_class\n",
        "  \n",
        "  # Getting a random image from the target folder and printing the image number.\n",
        "  random_image = random.sample(os.listdir(target_folder),1)\n",
        "  print(f'Image number: {random_image}')\n",
        "\n",
        "  # Reading the image and plotting it using matploltib.\n",
        "  img = mpimg.imread(target_folder + '/' + random_image[0])\n",
        "  plt.imshow(img)\n",
        "  plt.title(target_class.upper(),fontsize = 15)\n",
        "  plt.axis('off')\n",
        "  plt.show()\n",
        "\n",
        "  # Printing the shape of the image along with the image.\n",
        "  print(f'Image shape : {img.shape}')\n",
        "  \n",
        "  return img"
      ]
    },
    {
      "cell_type": "code",
      "execution_count": null,
      "metadata": {
        "colab": {
          "base_uri": "https://localhost:8080/",
          "height": 429
        },
        "id": "9jPDoebb2BMN",
        "outputId": "2156a27f-7950-49f1-b326-ec41d0195b53"
      },
      "outputs": [
        {
          "output_type": "stream",
          "name": "stdout",
          "text": [
            "Image number: ['Training_26800697.jpg']\n"
          ]
        },
        {
          "output_type": "display_data",
          "data": {
            "text/plain": [
              "<Figure size 432x288 with 1 Axes>"
            ],
            "image/png": "[encoded data removed]"
          },
          "metadata": {
            "needs_background": "light"
          }
        },
        {
          "output_type": "stream",
          "name": "stdout",
          "text": [
            "Image shape : (48, 48)\n"
          ]
        },
        {
          "output_type": "execute_result",
          "data": {
            "text/plain": [
              "array([[ 35,  62, 106, ..., 184, 190, 102],\n",
              "       [ 74, 120, 108, ..., 190, 195, 167],\n",
              "       [125, 122, 114, ..., 211, 201, 193],\n",
              "       ...,\n",
              "       [130, 128, 131, ..., 135, 134, 133],\n",
              "       [135, 132, 125, ..., 140, 137, 138],\n",
              "       [141, 128, 133, ..., 139, 123, 123]], dtype=uint8)"
            ]
          },
          "metadata": {},
          "execution_count": 10
        }
      ],
      "source": [
        "# Viewing 'angry' class image.\n",
        "view_random_images(target_directory = '/content/train',\n",
        "                   target_class = 'angry')"
      ]
    },
    {
      "cell_type": "code",
      "execution_count": null,
      "metadata": {
        "colab": {
          "base_uri": "https://localhost:8080/",
          "height": 429
        },
        "id": "lk002Kno2qfP",
        "outputId": "c3425947-913f-470d-8c5a-83004625ca58"
      },
      "outputs": [
        {
          "output_type": "stream",
          "name": "stdout",
          "text": [
            "Image number: ['Training_79721044.jpg']\n"
          ]
        },
        {
          "output_type": "display_data",
          "data": {
            "text/plain": [
              "<Figure size 432x288 with 1 Axes>"
            ],
            "image/png": "[encoded data removed]"
          },
          "metadata": {
            "needs_background": "light"
          }
        },
        {
          "output_type": "stream",
          "name": "stdout",
          "text": [
            "Image shape : (48, 48)\n"
          ]
        },
        {
          "output_type": "execute_result",
          "data": {
            "text/plain": [
              "array([[ 18,  10,   9, ...,  10,   2,   7],\n",
              "       [ 19,   7,   6, ...,  11,   3,   6],\n",
              "       [ 13,   4,   1, ...,  11,   5,   5],\n",
              "       ...,\n",
              "       [ 93, 101,  82, ..., 125, 123, 126],\n",
              "       [ 98,  99,  88, ..., 125, 124, 124],\n",
              "       [ 91,  95,  88, ..., 126, 127, 124]], dtype=uint8)"
            ]
          },
          "metadata": {},
          "execution_count": 11
        }
      ],
      "source": [
        "# Viewing 'disgust' class image.\n",
        "view_random_images(target_directory = '/content/train',\n",
        "                   target_class = 'disgust')"
      ]
    },
    {
      "cell_type": "code",
      "execution_count": null,
      "metadata": {
        "colab": {
          "base_uri": "https://localhost:8080/",
          "height": 429
        },
        "id": "UwRLnHad23QK",
        "outputId": "397d0628-1a1d-4ea2-df19-525817aa781c"
      },
      "outputs": [
        {
          "output_type": "stream",
          "name": "stdout",
          "text": [
            "Image number: ['Training_75385928.jpg']\n"
          ]
        },
        {
          "output_type": "display_data",
          "data": {
            "text/plain": [
              "<Figure size 432x288 with 1 Axes>"
            ],
            "image/png": "[encoded data removed]"
          },
          "metadata": {
            "needs_background": "light"
          }
        },
        {
          "output_type": "stream",
          "name": "stdout",
          "text": [
            "Image shape : (48, 48)\n"
          ]
        },
        {
          "output_type": "execute_result",
          "data": {
            "text/plain": [
              "array([[ 29,  28,   8, ...,  78,  81,  77],\n",
              "       [ 63,  64,  35, ...,  83,  77,  80],\n",
              "       [ 87,  82,  52, ...,  86,  83,  79],\n",
              "       ...,\n",
              "       [ 49,  57,  62, ..., 151, 151,  60],\n",
              "       [ 54,  55,  56, ..., 158, 146,  35],\n",
              "       [ 58,  57,  62, ..., 162, 152,  55]], dtype=uint8)"
            ]
          },
          "metadata": {},
          "execution_count": 17
        }
      ],
      "source": [
        "# Viewing 'fear' class image.\n",
        "view_random_images(target_directory = '/content/train',\n",
        "                   target_class = 'fear')"
      ]
    },
    {
      "cell_type": "code",
      "execution_count": null,
      "metadata": {
        "colab": {
          "base_uri": "https://localhost:8080/",
          "height": 429
        },
        "id": "IbbkRsDT3Jat",
        "outputId": "1c17aab4-3775-489f-8cf2-9f64084beb83"
      },
      "outputs": [
        {
          "output_type": "stream",
          "name": "stdout",
          "text": [
            "Image number: ['Training_77368561.jpg']\n"
          ]
        },
        {
          "output_type": "display_data",
          "data": {
            "text/plain": [
              "<Figure size 432x288 with 1 Axes>"
            ],
            "image/png": "[encoded data removed]"
          },
          "metadata": {
            "needs_background": "light"
          }
        },
        {
          "output_type": "stream",
          "name": "stdout",
          "text": [
            "Image shape : (48, 48)\n"
          ]
        },
        {
          "output_type": "execute_result",
          "data": {
            "text/plain": [
              "array([[121, 114,  98, ..., 139, 116, 123],\n",
              "       [121, 108,  96, ..., 126, 135, 111],\n",
              "       [123, 103, 104, ..., 105, 142, 107],\n",
              "       ...,\n",
              "       [188, 171, 169, ..., 101, 103, 192],\n",
              "       [191, 174, 178, ...,  92, 134, 208],\n",
              "       [195, 188, 174, ..., 102, 149, 201]], dtype=uint8)"
            ]
          },
          "metadata": {},
          "execution_count": 18
        }
      ],
      "source": [
        "# Viewing 'happy' class image.\n",
        "view_random_images(target_directory = '/content/train',\n",
        "                   target_class = 'happy')"
      ]
    },
    {
      "cell_type": "code",
      "execution_count": null,
      "metadata": {
        "colab": {
          "base_uri": "https://localhost:8080/",
          "height": 429
        },
        "id": "2BopBN8w3Oeh",
        "outputId": "12acabe7-eff0-4d19-d84e-d4dc0a5072b3"
      },
      "outputs": [
        {
          "output_type": "stream",
          "name": "stdout",
          "text": [
            "Image number: ['Training_72098206.jpg']\n"
          ]
        },
        {
          "output_type": "display_data",
          "data": {
            "text/plain": [
              "<Figure size 432x288 with 1 Axes>"
            ],
            "image/png": "[encoded data removed]"
          },
          "metadata": {
            "needs_background": "light"
          }
        },
        {
          "output_type": "stream",
          "name": "stdout",
          "text": [
            "Image shape : (48, 48)\n"
          ]
        },
        {
          "output_type": "execute_result",
          "data": {
            "text/plain": [
              "array([[169, 172, 161, ...,  22,  34,  24],\n",
              "       [168, 171, 164, ...,  34,  28,  37],\n",
              "       [170, 173, 167, ...,  46,  25,  33],\n",
              "       ...,\n",
              "       [141, 145, 141, ..., 134,  63, 131],\n",
              "       [144, 134, 128, ..., 195,  88, 121],\n",
              "       [129, 123, 115, ...,  94,  29, 129]], dtype=uint8)"
            ]
          },
          "metadata": {},
          "execution_count": 20
        }
      ],
      "source": [
        "# Viewing 'neutral' class image.\n",
        "view_random_images(target_directory = '/content/train',\n",
        "                   target_class = 'neutral')"
      ]
    },
    {
      "cell_type": "code",
      "execution_count": null,
      "metadata": {
        "colab": {
          "base_uri": "https://localhost:8080/",
          "height": 429
        },
        "id": "kfV_8bQU3YMT",
        "outputId": "1ff08504-e2f3-4f7e-940a-ceaf3a9f1bcf"
      },
      "outputs": [
        {
          "output_type": "stream",
          "name": "stdout",
          "text": [
            "Image number: ['Training_81727586.jpg']\n"
          ]
        },
        {
          "output_type": "display_data",
          "data": {
            "text/plain": [
              "<Figure size 432x288 with 1 Axes>"
            ],
            "image/png": "[encoded data removed]"
          },
          "metadata": {
            "needs_background": "light"
          }
        },
        {
          "output_type": "stream",
          "name": "stdout",
          "text": [
            "Image shape : (48, 48)\n"
          ]
        },
        {
          "output_type": "execute_result",
          "data": {
            "text/plain": [
              "array([[161, 168, 163, ...,   5,   3,   2],\n",
              "       [164, 175, 154, ...,   7,   5,   4],\n",
              "       [170, 167, 134, ...,   8,   7,   5],\n",
              "       ...,\n",
              "       [  3,   0,   0, ...,   6,   5,   5],\n",
              "       [  5,   1,   0, ...,   9,   5,   3],\n",
              "       [  6,   1,   0, ...,   9,   4,   4]], dtype=uint8)"
            ]
          },
          "metadata": {},
          "execution_count": 21
        }
      ],
      "source": [
        "# Viewing 'sad' class image.\n",
        "view_random_images(target_directory = '/content/train',\n",
        "                   target_class = 'sad')"
      ]
    },
    {
      "cell_type": "code",
      "execution_count": null,
      "metadata": {
        "colab": {
          "base_uri": "https://localhost:8080/",
          "height": 429
        },
        "id": "1FYwTQGn3gtS",
        "outputId": "57761a6b-64e1-48c7-cfcd-749b7b7f16a6"
      },
      "outputs": [
        {
          "output_type": "stream",
          "name": "stdout",
          "text": [
            "Image number: ['Training_89517922.jpg']\n"
          ]
        },
        {
          "output_type": "display_data",
          "data": {
            "text/plain": [
              "<Figure size 432x288 with 1 Axes>"
            ],
            "image/png": "[encoded data removed]"
          },
          "metadata": {
            "needs_background": "light"
          }
        },
        {
          "output_type": "stream",
          "name": "stdout",
          "text": [
            "Image shape : (48, 48)\n"
          ]
        },
        {
          "output_type": "execute_result",
          "data": {
            "text/plain": [
              "array([[235, 216, 201, ..., 226, 233, 247],\n",
              "       [224, 214, 189, ..., 217, 232, 243],\n",
              "       [223, 210, 189, ..., 221, 226, 249],\n",
              "       ...,\n",
              "       [ 60,  89,  64, ...,  85,  76,  75],\n",
              "       [ 70,  81,  75, ...,  83,  75,  76],\n",
              "       [ 84,  70,  81, ...,  77,  77,  76]], dtype=uint8)"
            ]
          },
          "metadata": {},
          "execution_count": 22
        }
      ],
      "source": [
        "# Viewing 'surprise' class image.\n",
        "view_random_images(target_directory = '/content/train',\n",
        "                   target_class = 'surprise')"
      ]
    },
    {
      "cell_type": "markdown",
      "metadata": {
        "id": "C-ZefKCa67cV"
      },
      "source": [
        "Points to be noted after viewing the images above:\n",
        "* Image values are not scaled.\n",
        "* Images are of shape 48X48.\n",
        "* Images are not in RGB colour mode."
      ]
    },
    {
      "cell_type": "markdown",
      "metadata": {
        "id": "1YQL8hex5kMv"
      },
      "source": [
        "## **Pre-processing data**"
      ]
    },
    {
      "cell_type": "markdown",
      "metadata": {
        "id": "tEpZeswf3-Xp"
      },
      "source": [
        "The image array values needs scaling in order to make our model perform better."
      ]
    },
    {
      "cell_type": "code",
      "execution_count": null,
      "metadata": {
        "id": "KmuWgj455fV7"
      },
      "outputs": [],
      "source": [
        "# Setting up the path to data directories.\n",
        "train_dir = '/content/train'\n",
        "test_dir = '/content/test'"
      ]
    },
    {
      "cell_type": "code",
      "execution_count": null,
      "metadata": {
        "id": "MZgfCVQK9Xqf"
      },
      "outputs": [],
      "source": [
        "# Flipping and scaling the data.\n",
        "from tensorflow.keras.preprocessing.image import ImageDataGenerator\n",
        "\n",
        "train_datagen = ImageDataGenerator(rescale = 1./255)\n",
        "validation_datagen = ImageDataGenerator(rescale = 1./255)"
      ]
    },
    {
      "cell_type": "code",
      "execution_count": null,
      "metadata": {
        "colab": {
          "base_uri": "https://localhost:8080/"
        },
        "id": "x4agQo2KAWsQ",
        "outputId": "79694cb7-3ef9-44e7-d710-7f6294fca33f"
      },
      "outputs": [
        {
          "output_type": "stream",
          "name": "stdout",
          "text": [
            "Found 28709 images belonging to 7 classes.\n",
            "Found 7178 images belonging to 7 classes.\n"
          ]
        }
      ],
      "source": [
        "# Getting the train and test(validation) dataset ready for model creation.\n",
        "train_data = train_datagen.flow_from_directory(directory = train_dir,              \n",
        "                                               batch_size = 32,                 \n",
        "                                               target_size = (48, 48),          \n",
        "                                               color_mode = 'grayscale',                                \n",
        "                                               class_mode = 'categorical')\n",
        "\n",
        "test_data = validation_datagen.flow_from_directory(directory = test_dir,              \n",
        "                                                   batch_size = 32,                 \n",
        "                                                   target_size = (48, 48),          \n",
        "                                                   color_mode = 'grayscale',              \n",
        "                                                   shuffle = False,                  \n",
        "                                                   class_mode = 'categorical')"
      ]
    },
    {
      "cell_type": "markdown",
      "metadata": {
        "id": "o9IFGgkTEeA_"
      },
      "source": [
        "* Training set has **28709** images in total belonging to 7 classes.\n",
        "* Testing set has **7178** images in total belonging to 7 classes."
      ]
    },
    {
      "cell_type": "markdown",
      "metadata": {
        "id": "IrtEGt3i7kpO"
      },
      "source": [
        "**As, the pre-processing stage is handled as per requirement, now its time to create different models using different architectures and comparing the model performances, post model training and choosing the one with highest accuracy in order to use it in the face emotion detection application.**"
      ]
    },
    {
      "cell_type": "markdown",
      "metadata": {
        "id": "jY2CY7xx8fkN"
      },
      "source": [
        "## **Model building**\n",
        "\n",
        "Architectures which will be used in order to build models are as follows:\n",
        "1. **Convolutional Neural Networks (CNN)**\n",
        "2. **resnet50**\n",
        "3. **efficientnet(EfficientNetB0, EfficientNetB1)**\n",
        "\n",
        "At first \"CNN\" will be used to create model followed by transfer learning using \"EfficientNet\" & \"ResNet50\"."
      ]
    },
    {
      "cell_type": "markdown",
      "metadata": {
        "id": "UfVB40w5CZDM"
      },
      "source": [
        "Changing the runtime type to \"GPU\" which is offered by Google Colaboratory in order to train the model faster."
      ]
    },
    {
      "cell_type": "code",
      "execution_count": null,
      "metadata": {
        "id": "WLrNrPliC73w",
        "colab": {
          "base_uri": "https://localhost:8080/"
        },
        "outputId": "9c9cfe23-5ad2-4a0f-fb65-8f3b1005b324"
      },
      "outputs": [
        {
          "output_type": "stream",
          "name": "stdout",
          "text": [
            "Mon May  9 18:33:37 2022       \n",
            "+-----------------------------------------------------------------------------+\n",
            "| NVIDIA-SMI 460.32.03    Driver Version: 460.32.03    CUDA Version: 11.2     |\n",
            "|-------------------------------+----------------------+----------------------+\n",
            "| GPU  Name        Persistence-M| Bus-Id        Disp.A | Volatile Uncorr. ECC |\n",
            "| Fan  Temp  Perf  Pwr:Usage/Cap|         Memory-Usage | GPU-Util  Compute M. |\n",
            "|                               |                      |               MIG M. |\n",
            "|===============================+======================+======================|\n",
            "|   0  Tesla K80           Off  | 00000000:00:04.0 Off |                    0 |\n",
            "| N/A   41C    P0    56W / 149W |    271MiB / 11441MiB |      0%      Default |\n",
            "|                               |                      |                  N/A |\n",
            "+-------------------------------+----------------------+----------------------+\n",
            "                                                                               \n",
            "+-----------------------------------------------------------------------------+\n",
            "| Processes:                                                                  |\n",
            "|  GPU   GI   CI        PID   Type   Process name                  GPU Memory |\n",
            "|        ID   ID                                                   Usage      |\n",
            "|=============================================================================|\n",
            "+-----------------------------------------------------------------------------+\n"
          ]
        }
      ],
      "source": [
        "# Checking the GPU details.\n",
        "!nvidia-smi"
      ]
    },
    {
      "cell_type": "markdown",
      "metadata": {
        "id": "5VEwvLtfBnAf"
      },
      "source": [
        "### **Custom CNN model**\n",
        "\n",
        "CNN is a deep learning neural network sketched for processing structured arrays of data such as portrayals or images. CNN are very good at picking up on patterns in the input image, such as lines, gradients, circles or even eyes and faces. "
      ]
    },
    {
      "cell_type": "code",
      "execution_count": null,
      "metadata": {
        "id": "aS3tyQS8CCSq"
      },
      "outputs": [],
      "source": [
        "# Building a CNN model using the sequential API.\n",
        "from tensorflow.keras.layers import Dense, Flatten, Conv2D, MaxPool2D, BatchNormalization, Dropout\n",
        "from tensorflow.keras import Sequential\n",
        "from tensorflow.keras.optimizers import Adam\n",
        "from tensorflow.keras.callbacks import Callback, EarlyStopping, ReduceLROnPlateau\n",
        "\n",
        "model_A = Sequential([\n",
        "    \n",
        "    # 1st CNN layer.\n",
        "    Conv2D(64, (3,3), padding = 'same', input_shape = (48,48,1), activation = 'relu'),\n",
        "    BatchNormalization(),\n",
        "    MaxPool2D(pool_size = (2,2)),\n",
        "    Dropout(0.25),\n",
        "\n",
        "    # 2nd CNN layer.\n",
        "    Conv2D(128, (5,5), padding = 'same',activation = 'relu'),\n",
        "    BatchNormalization(),\n",
        "    MaxPool2D(pool_size = (2,2)),\n",
        "    Dropout(0.25),\n",
        "\n",
        "    # 3rd CNN layer.\n",
        "    Conv2D(512, (3,3), padding = 'same',activation = 'relu'),\n",
        "    BatchNormalization(),\n",
        "    MaxPool2D(pool_size = (2,2)),\n",
        "    Dropout(0.25),\n",
        "\n",
        "    # 4th CNN layer.\n",
        "    Conv2D(512, (3,3), padding = 'same',activation = 'relu'),\n",
        "    BatchNormalization(),\n",
        "    MaxPool2D(pool_size = (2,2)),\n",
        "    Dropout(0.25),\n",
        "\n",
        "    # Layer to flatten the input layer.\n",
        "    Flatten(),\n",
        "\n",
        "    # 1st fully connected layer.\n",
        "    Dense(256, activation = 'relu'),\n",
        "    BatchNormalization(),\n",
        "    Dropout(0.25),\n",
        "\n",
        "    # 2nd fully connected layer.\n",
        "    Dense(512, activation = 'relu'),\n",
        "    BatchNormalization(),\n",
        "    Dropout(0.25),\n",
        "\n",
        "    # Output layer.\n",
        "    Dense(7, activation = 'softmax')                             # Number of classes = 7.\n",
        "])"
      ]
    },
    {
      "cell_type": "code",
      "execution_count": null,
      "metadata": {
        "id": "PKze7T2NqmGI"
      },
      "outputs": [],
      "source": [
        "# Compiling the model.\n",
        "model_A.compile(loss = 'categorical_crossentropy',\n",
        "                optimizer = Adam(learning_rate = 0.0001),\n",
        "                metrics = ['accuracy'])"
      ]
    },
    {
      "cell_type": "code",
      "execution_count": null,
      "metadata": {
        "id": "HqkQKAan9Piv"
      },
      "outputs": [],
      "source": [
        "# Creating callbacks.\n",
        "early_stopping = EarlyStopping(monitor='val_loss',\n",
        "                              min_delta=0,\n",
        "                              patience=3,\n",
        "                              verbose=1,\n",
        "                              restore_best_weights=True)\n",
        "# Stops training when a monitored metric has stopped improving.\n",
        "\n",
        "\n",
        "reduce_learningrate = ReduceLROnPlateau(monitor='val_loss',\n",
        "                                        factor=0.2,\n",
        "                                        patience=3,\n",
        "                                        verbose=1,\n",
        "                                        min_delta=0.0001)\n",
        "# Reduces learning rate when a metric stops improving."
      ]
    },
    {
      "cell_type": "code",
      "execution_count": 33,
      "metadata": {
        "colab": {
          "base_uri": "https://localhost:8080/"
        },
        "id": "8Fscc2AZ-nQb",
        "outputId": "de24e4ec-56e3-46bc-da3c-f1760f2c633c"
      },
      "outputs": [
        {
          "output_type": "stream",
          "name": "stdout",
          "text": [
            "Epoch 1/50\n",
            "898/898 [==============================] - 52s 43ms/step - loss: 2.2454 - accuracy: 0.2187 - val_loss: 1.7876 - val_accuracy: 0.2974 - lr: 1.0000e-04\n",
            "Epoch 2/50\n",
            "898/898 [==============================] - 38s 43ms/step - loss: 1.9462 - accuracy: 0.2871 - val_loss: 1.6635 - val_accuracy: 0.3691 - lr: 1.0000e-04\n",
            "Epoch 3/50\n",
            "898/898 [==============================] - 38s 42ms/step - loss: 1.7621 - accuracy: 0.3470 - val_loss: 1.5092 - val_accuracy: 0.4167 - lr: 1.0000e-04\n",
            "Epoch 4/50\n",
            "898/898 [==============================] - 37s 41ms/step - loss: 1.6376 - accuracy: 0.3864 - val_loss: 1.5295 - val_accuracy: 0.4300 - lr: 1.0000e-04\n",
            "Epoch 5/50\n",
            "898/898 [==============================] - 37s 41ms/step - loss: 1.5223 - accuracy: 0.4281 - val_loss: 1.3858 - val_accuracy: 0.4692 - lr: 1.0000e-04\n",
            "Epoch 6/50\n",
            "898/898 [==============================] - 37s 41ms/step - loss: 1.4292 - accuracy: 0.4608 - val_loss: 1.2998 - val_accuracy: 0.5054 - lr: 1.0000e-04\n",
            "Epoch 7/50\n",
            "898/898 [==============================] - 37s 41ms/step - loss: 1.3530 - accuracy: 0.4867 - val_loss: 1.2498 - val_accuracy: 0.5282 - lr: 1.0000e-04\n",
            "Epoch 8/50\n",
            "898/898 [==============================] - 37s 41ms/step - loss: 1.2848 - accuracy: 0.5142 - val_loss: 1.2569 - val_accuracy: 0.5356 - lr: 1.0000e-04\n",
            "Epoch 9/50\n",
            "898/898 [==============================] - 37s 41ms/step - loss: 1.2276 - accuracy: 0.5376 - val_loss: 1.2107 - val_accuracy: 0.5451 - lr: 1.0000e-04\n",
            "Epoch 10/50\n",
            "898/898 [==============================] - 37s 41ms/step - loss: 1.1835 - accuracy: 0.5544 - val_loss: 1.1609 - val_accuracy: 0.5640 - lr: 1.0000e-04\n",
            "Epoch 11/50\n",
            "898/898 [==============================] - 37s 41ms/step - loss: 1.1299 - accuracy: 0.5743 - val_loss: 1.0949 - val_accuracy: 0.5875 - lr: 1.0000e-04\n",
            "Epoch 12/50\n",
            "898/898 [==============================] - 37s 41ms/step - loss: 1.0813 - accuracy: 0.5917 - val_loss: 1.1172 - val_accuracy: 0.5851 - lr: 1.0000e-04\n",
            "Epoch 13/50\n",
            "898/898 [==============================] - 37s 41ms/step - loss: 1.0379 - accuracy: 0.6124 - val_loss: 1.1298 - val_accuracy: 0.5859 - lr: 1.0000e-04\n",
            "Epoch 14/50\n",
            "898/898 [==============================] - 37s 41ms/step - loss: 0.9958 - accuracy: 0.6261 - val_loss: 1.0940 - val_accuracy: 0.6004 - lr: 1.0000e-04\n",
            "Epoch 15/50\n",
            "898/898 [==============================] - 37s 41ms/step - loss: 0.9440 - accuracy: 0.6481 - val_loss: 1.0603 - val_accuracy: 0.6119 - lr: 1.0000e-04\n",
            "Epoch 16/50\n",
            "898/898 [==============================] - 37s 41ms/step - loss: 0.8987 - accuracy: 0.6636 - val_loss: 1.0745 - val_accuracy: 0.6187 - lr: 1.0000e-04\n",
            "Epoch 17/50\n",
            "898/898 [==============================] - 37s 41ms/step - loss: 0.8544 - accuracy: 0.6844 - val_loss: 1.1073 - val_accuracy: 0.6021 - lr: 1.0000e-04\n",
            "Epoch 18/50\n",
            "898/898 [==============================] - ETA: 0s - loss: 0.8155 - accuracy: 0.6973Restoring model weights from the end of the best epoch: 15.\n",
            "\n",
            "Epoch 18: ReduceLROnPlateau reducing learning rate to 1.9999999494757503e-05.\n",
            "898/898 [==============================] - 37s 41ms/step - loss: 0.8155 - accuracy: 0.6973 - val_loss: 1.0910 - val_accuracy: 0.6140 - lr: 1.0000e-04\n",
            "Epoch 18: early stopping\n"
          ]
        }
      ],
      "source": [
        "# Fitting the model.\n",
        "history_model_A = model_A.fit_generator(generator = train_data,\n",
        "                                        epochs = 50,\n",
        "                                        steps_per_epoch = len(train_data),\n",
        "                                        validation_data = test_data,\n",
        "                                        validation_steps = test_data.n // test_data.batch_size,\n",
        "                                        callbacks = [early_stopping, reduce_learningrate]) "
      ]
    },
    {
      "cell_type": "code",
      "source": [
        "# Evaluating model performance on overall test data.\n",
        "model_A.evaluate(test_data)"
      ],
      "metadata": {
        "colab": {
          "base_uri": "https://localhost:8080/"
        },
        "id": "tmbhDyrgLhg5",
        "outputId": "4beb2038-fc66-4b9f-a3b9-0108f3a8a95b"
      },
      "execution_count": 34,
      "outputs": [
        {
          "output_type": "stream",
          "name": "stdout",
          "text": [
            "225/225 [==============================] - 4s 19ms/step - loss: 1.0594 - accuracy: 0.6123\n"
          ]
        },
        {
          "output_type": "execute_result",
          "data": {
            "text/plain": [
              "[1.0594429969787598, 0.6122875213623047]"
            ]
          },
          "metadata": {},
          "execution_count": 34
        }
      ]
    },
    {
      "cell_type": "code",
      "source": [
        "# Checking the model summary.\n",
        "model_A.summary()"
      ],
      "metadata": {
        "colab": {
          "base_uri": "https://localhost:8080/"
        },
        "id": "x8Q8M7g6MS8d",
        "outputId": "fcd8dc13-b510-4af3-df48-a995f1b30055"
      },
      "execution_count": 35,
      "outputs": [
        {
          "output_type": "stream",
          "name": "stdout",
          "text": [
            "Model: \"sequential_1\"\n",
            "_________________________________________________________________\n",
            " Layer (type)                Output Shape              Param #   \n",
            "=================================================================\n",
            " conv2d_4 (Conv2D)           (None, 48, 48, 64)        640       \n",
            "                                                                 \n",
            " batch_normalization_6 (Batc  (None, 48, 48, 64)       256       \n",
            " hNormalization)                                                 \n",
            "                                                                 \n",
            " max_pooling2d_4 (MaxPooling  (None, 24, 24, 64)       0         \n",
            " 2D)                                                             \n",
            "                                                                 \n",
            " dropout_6 (Dropout)         (None, 24, 24, 64)        0         \n",
            "                                                                 \n",
            " conv2d_5 (Conv2D)           (None, 24, 24, 128)       204928    \n",
            "                                                                 \n",
            " batch_normalization_7 (Batc  (None, 24, 24, 128)      512       \n",
            " hNormalization)                                                 \n",
            "                                                                 \n",
            " max_pooling2d_5 (MaxPooling  (None, 12, 12, 128)      0         \n",
            " 2D)                                                             \n",
            "                                                                 \n",
            " dropout_7 (Dropout)         (None, 12, 12, 128)       0         \n",
            "                                                                 \n",
            " conv2d_6 (Conv2D)           (None, 12, 12, 512)       590336    \n",
            "                                                                 \n",
            " batch_normalization_8 (Batc  (None, 12, 12, 512)      2048      \n",
            " hNormalization)                                                 \n",
            "                                                                 \n",
            " max_pooling2d_6 (MaxPooling  (None, 6, 6, 512)        0         \n",
            " 2D)                                                             \n",
            "                                                                 \n",
            " dropout_8 (Dropout)         (None, 6, 6, 512)         0         \n",
            "                                                                 \n",
            " conv2d_7 (Conv2D)           (None, 6, 6, 512)         2359808   \n",
            "                                                                 \n",
            " batch_normalization_9 (Batc  (None, 6, 6, 512)        2048      \n",
            " hNormalization)                                                 \n",
            "                                                                 \n",
            " max_pooling2d_7 (MaxPooling  (None, 3, 3, 512)        0         \n",
            " 2D)                                                             \n",
            "                                                                 \n",
            " dropout_9 (Dropout)         (None, 3, 3, 512)         0         \n",
            "                                                                 \n",
            " flatten_1 (Flatten)         (None, 4608)              0         \n",
            "                                                                 \n",
            " dense_3 (Dense)             (None, 256)               1179904   \n",
            "                                                                 \n",
            " batch_normalization_10 (Bat  (None, 256)              1024      \n",
            " chNormalization)                                                \n",
            "                                                                 \n",
            " dropout_10 (Dropout)        (None, 256)               0         \n",
            "                                                                 \n",
            " dense_4 (Dense)             (None, 512)               131584    \n",
            "                                                                 \n",
            " batch_normalization_11 (Bat  (None, 512)              2048      \n",
            " chNormalization)                                                \n",
            "                                                                 \n",
            " dropout_11 (Dropout)        (None, 512)               0         \n",
            "                                                                 \n",
            " dense_5 (Dense)             (None, 7)                 3591      \n",
            "                                                                 \n",
            "=================================================================\n",
            "Total params: 4,478,727\n",
            "Trainable params: 4,474,759\n",
            "Non-trainable params: 3,968\n",
            "_________________________________________________________________\n"
          ]
        }
      ]
    },
    {
      "cell_type": "code",
      "source": [
        "# Prediction For Test Set\n",
        "predictions = model_A.predict(test_data)\n",
        "\n",
        "# Printing Confution Matrix\n",
        "from sklearn.metrics import confusion_matrix\n",
        "cm = confusion_matrix(y_pred = np.argmax(predictions, axis=-1), y_true = test_data.classes)                         \n",
        "cm"
      ],
      "metadata": {
        "colab": {
          "base_uri": "https://localhost:8080/"
        },
        "id": "CCqJT0Y2ZbYV",
        "outputId": "e9282fde-728e-40c2-8673-91345da039bc"
      },
      "execution_count": 37,
      "outputs": [
        {
          "output_type": "execute_result",
          "data": {
            "text/plain": [
              "array([[ 497,   17,   45,   65,  135,  173,   26],\n",
              "       [  24,   59,    7,    2,    5,   11,    3],\n",
              "       [ 103,    7,  295,   59,  169,  275,  116],\n",
              "       [  33,    6,   13, 1483,  101,  104,   34],\n",
              "       [  90,    4,   38,  110,  763,  217,   11],\n",
              "       [ 134,   11,   85,   87,  252,  667,   11],\n",
              "       [  19,    4,   37,   56,   44,   40,  631]])"
            ]
          },
          "metadata": {},
          "execution_count": 37
        }
      ]
    },
    {
      "cell_type": "code",
      "source": [
        "# Computing predictions.\n",
        "predictions = model_A.predict_generator(generator=test_data)\n",
        "y_pred = [np.argmax(probas) for probas in predictions]\n",
        "y_test = test_data.classes\n",
        "class_names = test_data.class_indices.keys()\n",
        "\n",
        "\n",
        "# Creating function to plot confusion matrix.\n",
        "from sklearn.metrics import confusion_matrix\n",
        "import itertools\n",
        "def plot_confusion_matrix(cm, classes, title='Confusion matrix', cmap = plt.cm.PuRd):\n",
        "    cm = cm.astype('float') / cm.sum(axis=1)[:, np.newaxis]\n",
        "    plt.figure(figsize=(10,10))\n",
        "    plt.imshow(cm, interpolation='nearest', cmap=cmap)\n",
        "    plt.title(title)\n",
        "    plt.colorbar()\n",
        "    tick_marks = np.arange(len(classes))\n",
        "    plt.xticks(tick_marks, classes, rotation=45)\n",
        "    plt.yticks(tick_marks, classes)\n",
        "\n",
        "    fmt = '.2f'\n",
        "    thresh = cm.max() / 2.\n",
        "    for i, j in itertools.product(range(cm.shape[0]), range(cm.shape[1])):\n",
        "        plt.text(j, i, format(cm[i, j], fmt),\n",
        "                 horizontalalignment=\"center\",\n",
        "                 color=\"white\" if cm[i, j] > thresh else \"black\")\n",
        "\n",
        "    plt.ylabel('True label')# **Live Class Monitoring System(Face Emotion Recognition)**\n",
        "    plt.xlabel('Predicted label')\n",
        "    plt.tight_layout()\n",
        "    plt.show()\n",
        "    \n",
        "# Compute confusion matrix.\n",
        "cnf_matrix = confusion_matrix(y_test, y_pred)\n",
        "np.set_printoptions(precision=2)\n",
        "\n",
        "# Plotting normalized confusion matrix.\n",
        "plt.figure()\n",
        "plot_confusion_matrix(cnf_matrix,  classes = class_names, title='Normalized confusion matrix')\n",
        "plt.show()"
      ],
      "metadata": {
        "colab": {
          "base_uri": "https://localhost:8080/",
          "height": 739
        },
        "id": "O2JjpkN8XZAQ",
        "outputId": "b0c452d3-61f7-488b-d8d7-7ae1389936af"
      },
      "execution_count": 38,
      "outputs": [
        {
          "output_type": "display_data",
          "data": {
            "text/plain": [
              "<Figure size 432x288 with 0 Axes>"
            ]
          },
          "metadata": {}
        },
        {
          "output_type": "display_data",
          "data": {
            "text/plain": [
              "<Figure size 720x720 with 2 Axes>"
            ],
            "image/png": "[encoded data removed]"
          },
          "metadata": {
            "needs_background": "light"
          }
        }
      ]
    },
    {
      "cell_type": "markdown",
      "source": [
        "This CNN model does a good job in predicting the happy & surprised faces while the model predicts the fear & disgust faces quite poorly."
      ],
      "metadata": {
        "id": "crMNlEwyZ8HX"
      }
    },
    {
      "cell_type": "code",
      "source": [
        "# Creating a function to plot the validation and training curves separately.\n",
        "def plot_loss_curves(history):\n",
        "  '''\n",
        "  Returns separate loss curves for training and validation set\n",
        "  '''\n",
        "  \n",
        "  loss = history.history['loss']\n",
        "  val_loss = history.history['val_loss']\n",
        "\n",
        "  accuracy = history.history['accuracy']\n",
        "  val_accuracy = history.history['val_accuracy']\n",
        "\n",
        "  epochs = range(len(history.history['loss']))\n",
        "\n",
        "  # PLotting loss.\n",
        "  plt.plot(epochs, loss, label = 'training_loss',linewidth=3)\n",
        "  plt.plot(epochs, val_loss, label = 'val_loss',linewidth=3)\n",
        "  plt.title('LOSS CURVE',fontsize = 25)\n",
        "  plt.legend()\n",
        "  plt.grid()\n",
        "  plt.show()\n",
        "\n",
        "  # Plotting accuracy.\n",
        "  plt.figure()                                                             \n",
        "  plt.plot(epochs, accuracy, label = 'training_accuracy',linewidth=3)\n",
        "  plt.plot(epochs, val_accuracy, label = 'val_accuracy',linewidth=3)\n",
        "  plt.title('ACCURACY',fontsize = 25)\n",
        "  plt.legend()\n",
        "  plt.grid()\n",
        "  plt.show()"
      ],
      "metadata": {
        "id": "2eqzJkb1M3n1"
      },
      "execution_count": 39,
      "outputs": []
    },
    {
      "cell_type": "code",
      "source": [
        "# Plotting the loss curves.\n",
        "plot_loss_curves(history_model_A)"
      ],
      "metadata": {
        "colab": {
          "base_uri": "https://localhost:8080/",
          "height": 563
        },
        "id": "OZqe08gnPrF_",
        "outputId": "2725e1c4-d330-475e-b067-5a5f5d570b77"
      },
      "execution_count": 40,
      "outputs": [
        {
          "output_type": "display_data",
          "data": {
            "text/plain": [
              "<Figure size 432x288 with 1 Axes>"
            ],
            "image/png": "[encoded data removed]"
          },
          "metadata": {
            "needs_background": "light"
          }
        },
        {
          "output_type": "display_data",
          "data": {
            "text/plain": [
              "<Figure size 432x288 with 1 Axes>"
            ],
            "image/png": "[encoded data removed]"
          },
          "metadata": {
            "needs_background": "light"
          }
        }
      ]
    },
    {
      "cell_type": "markdown",
      "source": [
        "**The training gave the accuracy of 69.73% and val_accuracy of 61.22%. The model performed better than average.**"
      ],
      "metadata": {
        "id": "XYyD40VQRAVx"
      }
    },
    {
      "cell_type": "markdown",
      "source": [
        "### **ResNet50**\n",
        "\n",
        "ResNet50 is a pre-trained convolutional nerual network hat is 50 layers deep(48 Convolution layers along with 1 MaxPool and 1 Average Pool layer). A residual neural network (ResNet) is an artificial neural network (ANN) of a kind that stacks residual blocks on top of each other to form a network."
      ],
      "metadata": {
        "id": "VOF6OPkTeRq0"
      }
    }
  ],
  "metadata": {
    "colab": {
      "collapsed_sections": [],
      "name": "Live Class Monitoring System (Face Emotion Recognition).ipynb",
      "provenance": [],
      "authorship_tag": "ABX9TyPO75MReLRm5YIKzvK7hFda",
      "include_colab_link": true
    },
    "kernelspec": {
      "display_name": "Python 3",
      "name": "python3"
    },
    "language_info": {
      "name": "python"
    },
    "accelerator": "GPU"
  },
  "nbformat": 4,
  "nbformat_minor": 0
}