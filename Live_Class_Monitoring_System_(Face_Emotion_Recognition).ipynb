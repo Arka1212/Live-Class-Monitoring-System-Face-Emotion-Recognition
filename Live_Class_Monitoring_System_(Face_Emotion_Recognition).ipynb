{
  "nbformat": 4,
  "nbformat_minor": 0,
  "metadata": {
    "colab": {
      "name": "Live Class Monitoring System (Face Emotion Recognition).ipynb",
      "provenance": [],
      "authorship_tag": "ABX9TyO8ZIcQ/e88O+Ecosz2HLNN",
      "include_colab_link": true
    },
    "kernelspec": {
      "name": "python3",
      "display_name": "Python 3"
    },
    "language_info": {
      "name": "python"
    }
  },
  "cells": [
    {
      "cell_type": "markdown",
      "metadata": {
        "id": "view-in-github",
        "colab_type": "text"
      },
      "source": [
        "<a href=\"https://colab.research.google.com/github/Arka1212/Live-Class-Monitoring-System-Face-Emotion-Recognition/blob/main/Live_Class_Monitoring_System_(Face_Emotion_Recognition).ipynb\" target=\"_parent\"><img src=\"https://colab.research.google.com/assets/colab-badge.svg\" alt=\"Open In Colab\"/></a>"
      ]
    },
    {
      "cell_type": "markdown",
      "source": [
        "# **Live Class Monitoring System (Face Emotion Recognition)**\n",
        "\n",
        "## **Project Introduction**\n",
        "The Indian education landscape has been undergoing rapid changes for the past 10 years owing to the advancement of web-based learning services, specifically, eLearning platforms. \n",
        "\n",
        "Global E-learning is estimated to witness an 8X over the next 5 years to reach USD 2B in 2021. India is expected to grow with a CAGR of 44% crossing the 10M users mark in 2021. Although the market is growing on a rapid scale, there are major challenges associated with digital learning when compared with brick and mortar classrooms. One of many challenges is how to ensure quality learning for students. Digital platforms might overpower physical classrooms in terms of content quality but when it comes to understanding whether students are able to grasp the content in a live class scenario is yet an open-end challenge.\n",
        "\n",
        "In a physical classroom during a lecturing teacher can see the faces and assess the emotion of the class and tune their lecture accordingly, whether he is going fast or slow. He can identify students who need special attention. Digital classrooms are conducted via video telephony software program (exZoom) where it’s not possible for medium scale class (25-50) to see all students and access the mood. Because of this drawback, students are not focusing on content due to lack of surveillance. While digital platforms have limitations in terms of physical surveillance but it comes with the power of data and machines which can work for you. It provides data in the form of video, audio, and texts which can be analysed using deep learning algorithms. Deep learning backed system not only solves the surveillance issue, but it also removes the human bias from the system, and all information is no longer in the teacher’s brain rather translated in numbers that can be analysed and tracked.\n",
        "\n",
        "## **Problem Statement**\n",
        "The problem statement focuses on solving the above-mentioned challenge by applying deep learning algorithms to live video data. The solution to this problem is by recognizing facial emotions. This is a few shot learning live face emotion detection system. The model should be able to real-time identify the emotions of students in a live class.\n",
        "\n",
        "## **Dataset Link**\n",
        "Dataset: https://www.kaggle.com/msambare/fer2013\n"
      ],
      "metadata": {
        "id": "PS-9XGzY8Oku"
      }
    },
    {
      "cell_type": "markdown",
      "source": [
        "**-------------------------------------------------------------------------------------------------------------------------------------------------------------------**\n",
        "**-------------------------------------------------------------------------------------------------------------------------------------------------------------------**"
      ],
      "metadata": {
        "id": "nOZeBc8C-T1j"
      }
    },
    {
      "cell_type": "code",
      "source": [
        "# Importing basic libraries.\n",
        "import numpy as np                   \n",
        "import pandas as pd                   \n",
        "import seaborn as sns\n",
        "import matplotlib.pyplot as plt\n",
        "%matplotlib inline\n",
        "import tensorflow as tf\n",
        "print(tf.__version__)\n",
        "import warnings                                                                                \n",
        "warnings.filterwarnings('ignore')\n",
        "warnings.simplefilter('ignore')"
      ],
      "metadata": {
        "colab": {
          "base_uri": "https://localhost:8080/"
        },
        "id": "JVfBY5ALe1Ey",
        "outputId": "379638ae-eee7-4511-e253-82b2d8b5381a"
      },
      "execution_count": 41,
      "outputs": [
        {
          "output_type": "stream",
          "name": "stdout",
          "text": [
            "2.8.0\n"
          ]
        }
      ]
    },
    {
      "cell_type": "markdown",
      "source": [
        "Only some of the basic libraries are imported in order to get started & rest all the necessary libraries will be imported as and when required."
      ],
      "metadata": {
        "id": "hjqhCmUWiLXY"
      }
    },
    {
      "cell_type": "markdown",
      "source": [
        "### **Loading & inspecting the dataset**"
      ],
      "metadata": {
        "id": "cirigGoKlvbW"
      }
    },
    {
      "cell_type": "code",
      "source": [
        "# Mounting the drive.\n",
        "from google.colab import drive\n",
        "drive.mount('/content/drive')"
      ],
      "metadata": {
        "colab": {
          "base_uri": "https://localhost:8080/"
        },
        "id": "1bcXudWvsHIU",
        "outputId": "e8b56c38-0d43-42ee-d37f-543cec1a6051"
      },
      "execution_count": 11,
      "outputs": [
        {
          "output_type": "stream",
          "name": "stdout",
          "text": [
            "Drive already mounted at /content/drive; to attempt to forcibly remount, call drive.mount(\"/content/drive\", force_remount=True).\n"
          ]
        }
      ]
    },
    {
      "cell_type": "code",
      "source": [
        "# Downloading the dataset.\n",
        "filename = '/content/drive/MyDrive/Capstone Projects/Deep Learning/Live Class Monitoring System (Face Emotion Recognition)/Face_Emotion_Recognition_Dataset.zip'"
      ],
      "metadata": {
        "id": "ORkRJER4sndT"
      },
      "execution_count": 15,
      "outputs": []
    },
    {
      "cell_type": "code",
      "source": [
        "# Unzipping the downloaded data as its in zip format.\n",
        "import zipfile\n",
        "zip_ref = zipfile.ZipFile(filename)\n",
        "zip_ref.extractall()\n",
        "zip_ref.close()"
      ],
      "metadata": {
        "id": "fENvHI-8syMi"
      },
      "execution_count": 16,
      "outputs": []
    },
    {
      "cell_type": "markdown",
      "source": [
        "Seems that the dataset is already splitted into train and test set."
      ],
      "metadata": {
        "id": "n72HP8hUt5G0"
      }
    },
    {
      "cell_type": "code",
      "source": [
        "# Getting the class names programatically.\n",
        "import pathlib                                  # 'Pathlib' module in Python provides various classes representing file system paths.\n",
        "\n",
        "data_dir = pathlib.Path('/content/train')\n",
        "class_names = np.array(sorted([item.name for item in data_dir.glob('*')]))\n",
        "# Creates a list of class names from the sub-directories.\n",
        "\n",
        "print(class_names)\n",
        "print(len(class_names))"
      ],
      "metadata": {
        "colab": {
          "base_uri": "https://localhost:8080/"
        },
        "id": "4G3pXBZ1yqQC",
        "outputId": "c5ae1ae9-074a-4100-913e-bddcb0aabe25"
      },
      "execution_count": 40,
      "outputs": [
        {
          "output_type": "stream",
          "name": "stdout",
          "text": [
            "['angry' 'disgust' 'fear' 'happy' 'neutral' 'sad' 'surprise']\n",
            "7\n"
          ]
        }
      ]
    },
    {
      "cell_type": "markdown",
      "source": [
        "* So, there are total 7 classes in the dataset.\n",
        "* 7 classes are as follows: **angry**, **disgust**, **fear**, **happy**, **neutral**, **sad**, **surprise**\n",
        "* Each of these classes represents different human emotions."
      ],
      "metadata": {
        "id": "-LDJQ8a8y_fo"
      }
    },
    {
      "cell_type": "code",
      "source": [
        "# Setting up train and test dataset.\n",
        "train_data = '/content/train'\n",
        "test_data = '/content/test'  "
      ],
      "metadata": {
        "id": "Q0LEEpC5uENP"
      },
      "execution_count": 19,
      "outputs": []
    },
    {
      "cell_type": "code",
      "source": [
        "# Walking into the training dataset and listing the number of files for each class.\n",
        "import os\n",
        "print('TRAINING DATA:\\n')\n",
        "for dirpath, dirnames, filenames in os.walk(train_data):\n",
        "  print(f'There are {len(filenames)} images in {dirpath}.')"
      ],
      "metadata": {
        "colab": {
          "base_uri": "https://localhost:8080/"
        },
        "id": "odV3Ckopu2Vr",
        "outputId": "c92bf2b9-bca0-40c9-c339-754228cfc60a"
      },
      "execution_count": 35,
      "outputs": [
        {
          "output_type": "stream",
          "name": "stdout",
          "text": [
            "TRAINING DATA:\n",
            "\n",
            "There are 0 images in /content/train.\n",
            "There are 3171 images in /content/train/surprise.\n",
            "There are 4965 images in /content/train/neutral.\n",
            "There are 4097 images in /content/train/fear.\n",
            "There are 436 images in /content/train/disgust.\n",
            "There are 3995 images in /content/train/angry.\n",
            "There are 4830 images in /content/train/sad.\n",
            "There are 7215 images in /content/train/happy.\n"
          ]
        }
      ]
    },
    {
      "cell_type": "code",
      "source": [
        "# Walking into the testing dataset and listing the number of files for each class.\n",
        "print('TESTING DATA:\\n')\n",
        "for dirpath, dirnames, filenames in os.walk(test_data):\n",
        "  print(f'There are {len(filenames)} images in {dirpath}.')"
      ],
      "metadata": {
        "colab": {
          "base_uri": "https://localhost:8080/"
        },
        "id": "uS_hkHcWxkD0",
        "outputId": "5e3764b2-4ea2-47fa-82f3-e81f3c840107"
      },
      "execution_count": 36,
      "outputs": [
        {
          "output_type": "stream",
          "name": "stdout",
          "text": [
            "TESTING DATA:\n",
            "\n",
            "There are 0 images in /content/test.\n",
            "There are 831 images in /content/test/surprise.\n",
            "There are 1233 images in /content/test/neutral.\n",
            "There are 1024 images in /content/test/fear.\n",
            "There are 111 images in /content/test/disgust.\n",
            "There are 958 images in /content/test/angry.\n",
            "There are 1247 images in /content/test/sad.\n",
            "There are 1774 images in /content/test/happy.\n"
          ]
        }
      ]
    },
    {
      "cell_type": "markdown",
      "source": [
        "### **Visualising the images of different classes**"
      ],
      "metadata": {
        "id": "IZ1f2FKG6h8O"
      }
    },
    {
      "cell_type": "code",
      "source": [
        "# Creating a function to view random images from the dataset.\n",
        "import matplotlib.image as mpimg                                 # Used to visualize image format data.\n",
        "import random                                                    # To get random data.\n",
        "\n",
        "def view_random_images(target_dir, target_class):\n",
        "  target_folder = target_dir +'/'+ target_class\n",
        "\n",
        "  # Getting a random image.\n",
        "  random_image = random.sample(os.listdir(target_folder),1)\n",
        "  print(f'Image number: {random_image}')\n",
        "  \n",
        "  # Reading the image and plotting it using matplotlib.\n",
        "  img = mpimg.imread(target_folder + '/' + random_image[0])\n",
        "  plt.imshow(img)\n",
        "  plt.title(target_class.upper(),fontsize = 20)\n",
        "  plt.axis('off')\n",
        "  \n",
        "  # Showing the shape of the image.\n",
        "  print(f'Image shape : {img.shape}')\n",
        "\n",
        "  return img"
      ],
      "metadata": {
        "id": "0tO0Q-gF6ni6"
      },
      "execution_count": 85,
      "outputs": []
    },
    {
      "cell_type": "code",
      "source": [
        "# Viewing random image of 'angry' class.\n",
        "view_random_images(target_dir = train_data,\n",
        "                   target_class = 'angry')"
      ],
      "metadata": {
        "colab": {
          "base_uri": "https://localhost:8080/",
          "height": 432
        },
        "id": "Pr0EPM06-GjW",
        "outputId": "72ac30bb-e0de-4e7a-ab9e-783b518156ba"
      },
      "execution_count": 57,
      "outputs": [
        {
          "output_type": "stream",
          "name": "stdout",
          "text": [
            "Image number: ['Training_43352525.jpg']\n",
            "Image shape : (48, 48)\n"
          ]
        },
        {
          "output_type": "execute_result",
          "data": {
            "text/plain": [
              "array([[  0,   0,   1, ...,  72,  69,  67],\n",
              "       [  0,   1,   0, ...,  75,  75,  67],\n",
              "       [  0,   4,   0, ...,  77,  77,  68],\n",
              "       ...,\n",
              "       [  0,   0,   2, ...,  51,  67, 123],\n",
              "       [  0,   0,   1, ...,  53,  84, 136],\n",
              "       [  0,   1,   0, ...,  80, 101, 134]], dtype=uint8)"
            ]
          },
          "metadata": {},
          "execution_count": 57
        },
        {
          "output_type": "display_data",
          "data": {
            "text/plain": [
              "<Figure size 432x288 with 1 Axes>"
            ],
            "image/png": "[encoded data removed]"
          },
          "metadata": {
            "needs_background": "light"
          }
        }
      ]
    },
    {
      "cell_type": "code",
      "source": [
        "# Viewing random image of 'disgust' class.\n",
        "view_random_images(target_dir = train_data,\n",
        "                   target_class = 'disgust')"
      ],
      "metadata": {
        "colab": {
          "base_uri": "https://localhost:8080/",
          "height": 432
        },
        "id": "xcCDHy6Y_n5W",
        "outputId": "35cf274b-b968-41c1-f976-87391201a020"
      },
      "execution_count": 65,
      "outputs": [
        {
          "output_type": "stream",
          "name": "stdout",
          "text": [
            "Image number: ['Training_5420780.jpg']\n",
            "Image shape : (48, 48)\n"
          ]
        },
        {
          "output_type": "execute_result",
          "data": {
            "text/plain": [
              "array([[178, 163, 114, ...,  50,  56,  65],\n",
              "       [175, 181, 103, ...,  45,  50,  55],\n",
              "       [178, 186,  78, ...,  36,  46,  49],\n",
              "       ...,\n",
              "       [194, 192, 193, ..., 121, 139, 153],\n",
              "       [195, 193, 194, ..., 128, 140, 150],\n",
              "       [197, 195, 195, ..., 130, 136, 155]], dtype=uint8)"
            ]
          },
          "metadata": {},
          "execution_count": 65
        },
        {
          "output_type": "display_data",
          "data": {
            "text/plain": [
              "<Figure size 432x288 with 1 Axes>"
            ],
            "image/png": "[encoded data removed]"
          },
          "metadata": {
            "needs_background": "light"
          }
        }
      ]
    },
    {
      "cell_type": "code",
      "source": [
        "# Viewing random image of 'fear' class.\n",
        "view_random_images(target_dir = train_data,\n",
        "                   target_class = 'fear')"
      ],
      "metadata": {
        "colab": {
          "base_uri": "https://localhost:8080/",
          "height": 432
        },
        "id": "a153xu4JABi2",
        "outputId": "d4573efa-5c89-40cf-fbff-ec4d6849fba7"
      },
      "execution_count": 71,
      "outputs": [
        {
          "output_type": "stream",
          "name": "stdout",
          "text": [
            "Image number: ['Training_7323165.jpg']\n",
            "Image shape : (48, 48)\n"
          ]
        },
        {
          "output_type": "execute_result",
          "data": {
            "text/plain": [
              "array([[235, 237, 232, ..., 237, 237, 237],\n",
              "       [238, 235, 229, ..., 237, 237, 236],\n",
              "       [234, 237, 233, ..., 236, 238, 236],\n",
              "       ...,\n",
              "       [ 72,  72,  71, ...,  74,  76,  74],\n",
              "       [ 67,  71,  71, ...,  76,  75,  75],\n",
              "       [ 71,  66,  68, ...,  75,  73,  73]], dtype=uint8)"
            ]
          },
          "metadata": {},
          "execution_count": 71
        },
        {
          "output_type": "display_data",
          "data": {
            "text/plain": [
              "<Figure size 432x288 with 1 Axes>"
            ],
            "image/png": "[encoded data removed]"
          },
          "metadata": {
            "needs_background": "light"
          }
        }
      ]
    },
    {
      "cell_type": "code",
      "source": [
        "# Viewing random image of 'happy' class.\n",
        "view_random_images(target_dir = train_data,\n",
        "                   target_class = 'happy')"
      ],
      "metadata": {
        "colab": {
          "base_uri": "https://localhost:8080/",
          "height": 432
        },
        "id": "kiJEzqOBAP3N",
        "outputId": "2a632d0a-1e70-4db5-eec6-6a7f6b020bc6"
      },
      "execution_count": 73,
      "outputs": [
        {
          "output_type": "stream",
          "name": "stdout",
          "text": [
            "Image number: ['Training_11270728.jpg']\n",
            "Image shape : (48, 48)\n"
          ]
        },
        {
          "output_type": "execute_result",
          "data": {
            "text/plain": [
              "array([[ 85, 104, 124, ..., 156, 206, 215],\n",
              "       [ 95, 108, 125, ..., 147, 197, 217],\n",
              "       [104, 116, 132, ..., 140, 184, 211],\n",
              "       ...,\n",
              "       [100, 145, 150, ..., 163, 189, 217],\n",
              "       [ 80, 106, 159, ..., 164, 181, 215],\n",
              "       [ 72,  86, 127, ..., 164, 176, 212]], dtype=uint8)"
            ]
          },
          "metadata": {},
          "execution_count": 73
        },
        {
          "output_type": "display_data",
          "data": {
            "text/plain": [
              "<Figure size 432x288 with 1 Axes>"
            ],
            "image/png": "[encoded data removed]"
          },
          "metadata": {
            "needs_background": "light"
          }
        }
      ]
    },
    {
      "cell_type": "code",
      "source": [
        "# Viewing random image of 'neutral' class.\n",
        "view_random_images(target_dir = train_data,\n",
        "                   target_class = 'neutral')"
      ],
      "metadata": {
        "colab": {
          "base_uri": "https://localhost:8080/",
          "height": 432
        },
        "id": "4tFTwzFmAoay",
        "outputId": "90e4a778-da3e-47d2-f7ca-ae665d91dec8"
      },
      "execution_count": 76,
      "outputs": [
        {
          "output_type": "stream",
          "name": "stdout",
          "text": [
            "Image number: ['Training_15203635.jpg']\n",
            "Image shape : (48, 48)\n"
          ]
        },
        {
          "output_type": "execute_result",
          "data": {
            "text/plain": [
              "array([[ 40,  38,  42, ..., 169, 170, 170],\n",
              "       [ 41,  45,  49, ..., 175, 172, 174],\n",
              "       [ 52,  58,  61, ..., 174, 178, 171],\n",
              "       ...,\n",
              "       [  2,   3,   1, ...,   3,   3,   3],\n",
              "       [  2,   6,   4, ...,   3,   3,   3],\n",
              "       [  4,   2,   1, ...,   3,   3,   3]], dtype=uint8)"
            ]
          },
          "metadata": {},
          "execution_count": 76
        },
        {
          "output_type": "display_data",
          "data": {
            "text/plain": [
              "<Figure size 432x288 with 1 Axes>"
            ],
            "image/png": "[encoded data removed]"
          },
          "metadata": {
            "needs_background": "light"
          }
        }
      ]
    },
    {
      "cell_type": "code",
      "source": [
        "# Viewing random image of 'sad' class.\n",
        "view_random_images(target_dir = train_data,\n",
        "                   target_class = 'sad')"
      ],
      "metadata": {
        "colab": {
          "base_uri": "https://localhost:8080/",
          "height": 432
        },
        "id": "blmBAAVYA2Iu",
        "outputId": "ea81d2fe-4013-4a10-9c9e-e8057e85b412"
      },
      "execution_count": 81,
      "outputs": [
        {
          "output_type": "stream",
          "name": "stdout",
          "text": [
            "Image number: ['Training_32591988.jpg']\n",
            "Image shape : (48, 48)\n"
          ]
        },
        {
          "output_type": "execute_result",
          "data": {
            "text/plain": [
              "array([[254, 254, 254, ..., 183, 165, 124],\n",
              "       [255, 255, 254, ..., 155, 163, 159],\n",
              "       [252, 254, 255, ..., 139, 141, 151],\n",
              "       ...,\n",
              "       [149, 155, 163, ..., 123, 123, 117],\n",
              "       [153, 152, 157, ..., 115, 112, 112],\n",
              "       [150, 149, 155, ..., 108, 104, 110]], dtype=uint8)"
            ]
          },
          "metadata": {},
          "execution_count": 81
        },
        {
          "output_type": "display_data",
          "data": {
            "text/plain": [
              "<Figure size 432x288 with 1 Axes>"
            ],
            "image/png": "[encoded data removed]"
          },
          "metadata": {
            "needs_background": "light"
          }
        }
      ]
    },
    {
      "cell_type": "code",
      "source": [
        "# Viewing random image of 'surprise' class.\n",
        "view_random_images(target_dir = train_data,\n",
        "                   target_class = 'surprise')"
      ],
      "metadata": {
        "colab": {
          "base_uri": "https://localhost:8080/",
          "height": 432
        },
        "id": "5exmaFDxA-J4",
        "outputId": "8a0af31a-e79e-4b2c-83f0-92fb8e0d1ee4"
      },
      "execution_count": 84,
      "outputs": [
        {
          "output_type": "stream",
          "name": "stdout",
          "text": [
            "Image number: ['Training_85488219.jpg']\n",
            "Image shape : (48, 48)\n"
          ]
        },
        {
          "output_type": "execute_result",
          "data": {
            "text/plain": [
              "array([[ 47,  38,  27, ..., 174, 168, 146],\n",
              "       [ 48,  33,  18, ..., 172, 172, 157],\n",
              "       [ 35,  23,  25, ..., 173, 169, 169],\n",
              "       ...,\n",
              "       [ 27,  14,  12, ...,  13,  13,  18],\n",
              "       [ 27,  15,  13, ...,  11,   5,  12],\n",
              "       [ 29,  13,  16, ...,   4,   8,   8]], dtype=uint8)"
            ]
          },
          "metadata": {},
          "execution_count": 84
        },
        {
          "output_type": "display_data",
          "data": {
            "text/plain": [
              "<Figure size 432x288 with 1 Axes>"
            ],
            "image/png": "[encoded data removed]"
          },
          "metadata": {
            "needs_background": "light"
          }
        }
      ]
    },
    {
      "cell_type": "markdown",
      "source": [
        "* The image arrays are not scaled, so need to perform some pre-processing in order to normalise the arrays values.\n",
        "* The images are not in RGB colur mode, so need to perform some pre-processing to change it into RGB format as neural network only accepts RGB colur mode."
      ],
      "metadata": {
        "id": "-hYzPOHvDk1Y"
      }
    },
    {
      "cell_type": "markdown",
      "source": [
        "### **Pre-processing the data**"
      ],
      "metadata": {
        "id": "S07av0BC6Ly_"
      }
    }
  ]
}