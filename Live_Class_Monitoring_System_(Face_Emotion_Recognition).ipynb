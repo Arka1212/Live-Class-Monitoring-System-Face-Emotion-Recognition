{
  "nbformat": 4,
  "nbformat_minor": 0,
  "metadata": {
    "colab": {
      "name": "Live Class Monitoring System (Face Emotion Recognition).ipynb",
      "provenance": [],
      "authorship_tag": "ABX9TyODJgtwKWJhZYW9yfNM0c37",
      "include_colab_link": true
    },
    "kernelspec": {
      "name": "python3",
      "display_name": "Python 3"
    },
    "language_info": {
      "name": "python"
    }
  },
  "cells": [
    {
      "cell_type": "markdown",
      "metadata": {
        "id": "view-in-github",
        "colab_type": "text"
      },
      "source": [
        "<a href=\"https://colab.research.google.com/github/Arka1212/Live-Class-Monitoring-System-Face-Emotion-Recognition/blob/main/Live_Class_Monitoring_System_(Face_Emotion_Recognition).ipynb\" target=\"_parent\"><img src=\"https://colab.research.google.com/assets/colab-badge.svg\" alt=\"Open In Colab\"/></a>"
      ]
    },
    {
      "cell_type": "markdown",
      "source": [
        "# **Live Class Monitoring System (Face Emotion Recognition)**\n",
        "\n",
        "## **Project Introduction**\n",
        "The Indian education landscape has been undergoing rapid changes for the past 10 years owing to the advancement of web-based learning services, specifically, eLearning platforms. \n",
        "\n",
        "Global E-learning is estimated to witness an 8X over the next 5 years to reach USD 2B in 2021. India is expected to grow with a CAGR of 44% crossing the 10M users mark in 2021. Although the market is growing on a rapid scale, there are major challenges associated with digital learning when compared with brick and mortar classrooms. One of many challenges is how to ensure quality learning for students. Digital platforms might overpower physical classrooms in terms of content quality but when it comes to understanding whether students are able to grasp the content in a live class scenario is yet an open-end challenge.\n",
        "\n",
        "In a physical classroom during a lecturing teacher can see the faces and assess the emotion of the class and tune their lecture accordingly, whether he is going fast or slow. He can identify students who need special attention. Digital classrooms are conducted via video telephony software program (exZoom) where it’s not possible for medium scale class (25-50) to see all students and access the mood. Because of this drawback, students are not focusing on content due to lack of surveillance. While digital platforms have limitations in terms of physical surveillance but it comes with the power of data and machines which can work for you. It provides data in the form of video, audio, and texts which can be analysed using deep learning algorithms. Deep learning backed system not only solves the surveillance issue, but it also removes the human bias from the system, and all information is no longer in the teacher’s brain rather translated in numbers that can be analysed and tracked.\n",
        "\n",
        "## **Problem Statement**\n",
        "The problem statement focuses on solving the above-mentioned challenge by applying deep learning algorithms to live video data. The solution to this problem is by recognizing facial emotions. This is a few shot learning live face emotion detection system. The model should be able to real-time identify the emotions of students in a live class.\n",
        "\n",
        "## **Dataset Link**\n",
        "Dataset: https://www.kaggle.com/msambare/fer2013\n"
      ],
      "metadata": {
        "id": "PS-9XGzY8Oku"
      }
    },
    {
      "cell_type": "markdown",
      "source": [
        "**-------------------------------------------------------------------------------------------------------------------------------------------------------------------**\n",
        "**-------------------------------------------------------------------------------------------------------------------------------------------------------------------**"
      ],
      "metadata": {
        "id": "nOZeBc8C-T1j"
      }
    },
    {
      "cell_type": "code",
      "source": [
        "# Importing necessary libraries.\n",
        "import numpy as np\n",
        "import pandas as pd\n",
        "import matplotlib.pyplot as plt\n",
        "import seaborn as sns\n",
        "import tensorflow as tf\n",
        "print(f'Tensorflow version ----->  {tf.__version__}')"
      ],
      "metadata": {
        "colab": {
          "base_uri": "https://localhost:8080/"
        },
        "id": "DpzN4pK2r8U7",
        "outputId": "a6441e47-b947-4440-e98e-f0e0aa4f8c7b"
      },
      "execution_count": 3,
      "outputs": [
        {
          "output_type": "stream",
          "name": "stdout",
          "text": [
            "Tensorflow version ----->  2.8.0\n"
          ]
        }
      ]
    },
    {
      "cell_type": "code",
      "source": [
        "# Removing warnings.\n",
        "import warnings                                                                                \n",
        "warnings.filterwarnings('ignore')\n",
        "warnings.simplefilter('ignore')"
      ],
      "metadata": {
        "id": "yW57SAbBvqpy"
      },
      "execution_count": 2,
      "outputs": []
    },
    {
      "cell_type": "markdown",
      "source": [
        "Imported some of the basic libraries in order to get started & rest all the required libraries will be imported as and when required."
      ],
      "metadata": {
        "id": "GE6gOohYsZwZ"
      }
    },
    {
      "cell_type": "markdown",
      "source": [
        "## **Downloading & inspecting dataset**"
      ],
      "metadata": {
        "id": "h832PnDQxMD0"
      }
    },
    {
      "cell_type": "code",
      "source": [
        "# Mounting the drive.\n",
        "from google.colab import drive\n",
        "drive.mount('/content/drive')"
      ],
      "metadata": {
        "id": "caCaW34YxVRU",
        "colab": {
          "base_uri": "https://localhost:8080/"
        },
        "outputId": "7f37b6f7-23bb-45ca-b649-3d2c64a70db4"
      },
      "execution_count": 4,
      "outputs": [
        {
          "output_type": "stream",
          "name": "stdout",
          "text": [
            "Mounted at /content/drive\n"
          ]
        }
      ]
    },
    {
      "cell_type": "code",
      "source": [
        "# Accessing the dataset.\n",
        "filename = '/content/drive/MyDrive/Capstone Projects/Deep Learning/Live Class Monitoring System (Face Emotion Recognition)/Face Emotion Dataset.zip'"
      ],
      "metadata": {
        "id": "JrgqhyzR6nSd"
      },
      "execution_count": 14,
      "outputs": []
    },
    {
      "cell_type": "markdown",
      "source": [
        "The dataset is actually in 'zip' format and it needs to be unzipped in order to use it."
      ],
      "metadata": {
        "id": "wx4NZq8N665z"
      }
    },
    {
      "cell_type": "code",
      "source": [
        "# Unzipping the dataset.\n",
        "import zipfile\n",
        "zip_ref = zipfile.ZipFile(filename)\n",
        "zip_ref.extractall()\n",
        "zip_ref.close()"
      ],
      "metadata": {
        "id": "mvcm-DPC7MYp"
      },
      "execution_count": 9,
      "outputs": []
    },
    {
      "cell_type": "markdown",
      "source": [
        "Here, the dataset is already splitted into train & test dataset."
      ],
      "metadata": {
        "id": "7VkUg8v78b4M"
      }
    },
    {
      "cell_type": "code",
      "source": [
        "# Walking into the directories and listing the number of files in each directories.\n",
        "import os\n",
        "\n",
        "# Walking through the train data directory.\n",
        "print(f'TRAINING DATA:\\n')\n",
        "for dirpath, dirnames, filenames in os.walk('/content/train'):\n",
        "  print(f'There are {len(dirnames)} directories and {len(filenames)} images in {dirpath}.')\n",
        "\n",
        "\n",
        "# Walking through the test data directory.\n",
        "print(f'\\n\\nTESTING DATA:\\n')\n",
        "for dirpath, dirnames, filenames in os.walk('/content/test'):\n",
        "  print(f'There are {len(dirnames)} directories and {len(filenames)} images in {dirpath}.')"
      ],
      "metadata": {
        "colab": {
          "base_uri": "https://localhost:8080/"
        },
        "id": "TokoipOi-JZt",
        "outputId": "a3082b11-4870-40ea-c77f-297612795c36"
      },
      "execution_count": 25,
      "outputs": [
        {
          "output_type": "stream",
          "name": "stdout",
          "text": [
            "TRAINING DATA:\n",
            "\n",
            "There are 7 directories and 0 images in /content/train.\n",
            "There are 0 directories and 436 images in /content/train/disgust.\n",
            "There are 0 directories and 7215 images in /content/train/happy.\n",
            "There are 0 directories and 4097 images in /content/train/fear.\n",
            "There are 0 directories and 4830 images in /content/train/sad.\n",
            "There are 0 directories and 3171 images in /content/train/surprise.\n",
            "There are 0 directories and 4965 images in /content/train/neutral.\n",
            "There are 0 directories and 3995 images in /content/train/angry.\n",
            "\n",
            "\n",
            "TESTING DATA:\n",
            "\n",
            "There are 7 directories and 0 images in /content/test.\n",
            "There are 0 directories and 111 images in /content/test/disgust.\n",
            "There are 0 directories and 1774 images in /content/test/happy.\n",
            "There are 0 directories and 1024 images in /content/test/fear.\n",
            "There are 0 directories and 1247 images in /content/test/sad.\n",
            "There are 0 directories and 831 images in /content/test/surprise.\n",
            "There are 0 directories and 1233 images in /content/test/neutral.\n",
            "There are 0 directories and 958 images in /content/test/angry.\n"
          ]
        }
      ]
    }
  ]
}