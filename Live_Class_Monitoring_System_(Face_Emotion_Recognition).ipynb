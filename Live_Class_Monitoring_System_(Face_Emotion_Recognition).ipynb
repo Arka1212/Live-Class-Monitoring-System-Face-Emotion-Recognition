{
  "cells": [
    {
      "cell_type": "markdown",
      "metadata": {
        "id": "view-in-github",
        "colab_type": "text"
      },
      "source": [
        "<a href=\"https://colab.research.google.com/github/Arka1212/Live-Class-Monitoring-System-Face-Emotion-Recognition/blob/main/Live_Class_Monitoring_System_(Face_Emotion_Recognition).ipynb\" target=\"_parent\"><img src=\"https://colab.research.google.com/assets/colab-badge.svg\" alt=\"Open In Colab\"/></a>"
      ]
    },
    {
      "cell_type": "markdown",
      "metadata": {
        "id": "PS-9XGzY8Oku"
      },
      "source": [
        "# **Live Class Monitoring System (Face Emotion Recognition)**\n",
        "\n",
        "## **Project Introduction**\n",
        "The Indian education landscape has been undergoing rapid changes for the past 10 years owing to the advancement of web-based learning services, specifically, eLearning platforms. \n",
        "\n",
        "Global E-learning is estimated to witness an 8X over the next 5 years to reach USD 2B in 2021. India is expected to grow with a CAGR of 44% crossing the 10M users mark in 2021. Although the market is growing on a rapid scale, there are major challenges associated with digital learning when compared with brick and mortar classrooms. One of many challenges is how to ensure quality learning for students. Digital platforms might overpower physical classrooms in terms of content quality but when it comes to understanding whether students are able to grasp the content in a live class scenario is yet an open-end challenge.\n",
        "\n",
        "In a physical classroom during a lecturing teacher can see the faces and assess the emotion of the class and tune their lecture accordingly, whether he is going fast or slow. He can identify students who need special attention. Digital classrooms are conducted via video telephony software program (exZoom) where it’s not possible for medium scale class (25-50) to see all students and access the mood. Because of this drawback, students are not focusing on content due to lack of surveillance. While digital platforms have limitations in terms of physical surveillance but it comes with the power of data and machines which can work for you. It provides data in the form of video, audio, and texts which can be analysed using deep learning algorithms. Deep learning backed system not only solves the surveillance issue, but it also removes the human bias from the system, and all information is no longer in the teacher’s brain rather translated in numbers that can be analysed and tracked.\n",
        "\n",
        "## **Problem Statement**\n",
        "The problem statement focuses on solving the above-mentioned challenge by applying deep learning algorithms to live video data. The solution to this problem is by recognizing facial emotions. This is a few shot learning live face emotion detection system. The model should be able to real-time identify the emotions of students in a live class.\n",
        "\n",
        "## **Dataset Link**\n",
        "Dataset: https://www.kaggle.com/msambare/fer2013\n"
      ]
    },
    {
      "cell_type": "markdown",
      "metadata": {
        "id": "nOZeBc8C-T1j"
      },
      "source": [
        "**-------------------------------------------------------------------------------------------------------------------------------------------------------------------**\n",
        "**-------------------------------------------------------------------------------------------------------------------------------------------------------------------**"
      ]
    },
    {
      "cell_type": "code",
      "execution_count": 1,
      "metadata": {
        "id": "DpzN4pK2r8U7",
        "colab": {
          "base_uri": "https://localhost:8080/"
        },
        "outputId": "3875bd86-6ca4-4157-b9c4-d17afd95a528"
      },
      "outputs": [
        {
          "output_type": "stream",
          "name": "stdout",
          "text": [
            "Tensorflow version ----->  2.8.0\n"
          ]
        }
      ],
      "source": [
        "# Importing necessary libraries.\n",
        "import numpy as np\n",
        "import pandas as pd\n",
        "import matplotlib.pyplot as plt\n",
        "import seaborn as sns\n",
        "import tensorflow as tf\n",
        "print(f'Tensorflow version ----->  {tf.__version__}')"
      ]
    },
    {
      "cell_type": "code",
      "execution_count": 3,
      "metadata": {
        "id": "yW57SAbBvqpy"
      },
      "outputs": [],
      "source": [
        "# Removing warnings.\n",
        "import warnings                                                                                \n",
        "warnings.filterwarnings('ignore')\n",
        "warnings.simplefilter('ignore')"
      ]
    },
    {
      "cell_type": "markdown",
      "metadata": {
        "id": "GE6gOohYsZwZ"
      },
      "source": [
        "Imported some of the basic libraries in order to get started & rest all the required libraries will be imported as and when required."
      ]
    },
    {
      "cell_type": "markdown",
      "metadata": {
        "id": "h832PnDQxMD0"
      },
      "source": [
        "## **Downloading & inspecting dataset**"
      ]
    },
    {
      "cell_type": "code",
      "execution_count": 4,
      "metadata": {
        "id": "caCaW34YxVRU",
        "outputId": "99a282b4-0cf6-45d5-92c6-d033b167f0cf",
        "colab": {
          "base_uri": "https://localhost:8080/"
        }
      },
      "outputs": [
        {
          "output_type": "stream",
          "name": "stdout",
          "text": [
            "Mounted at /content/drive\n"
          ]
        }
      ],
      "source": [
        "# Mounting the drive.\n",
        "from google.colab import drive\n",
        "drive.mount('/content/drive')"
      ]
    },
    {
      "cell_type": "code",
      "execution_count": 5,
      "metadata": {
        "id": "JrgqhyzR6nSd"
      },
      "outputs": [],
      "source": [
        "# Accessing the dataset.\n",
        "filename = '/content/drive/MyDrive/Capstone Projects/Deep Learning/Live Class Monitoring System (Face Emotion Recognition)/Face Emotion Dataset.zip'"
      ]
    },
    {
      "cell_type": "markdown",
      "metadata": {
        "id": "wx4NZq8N665z"
      },
      "source": [
        "The dataset is actually in 'zip' format and it needs to be unzipped in order to use it."
      ]
    },
    {
      "cell_type": "code",
      "execution_count": 6,
      "metadata": {
        "id": "mvcm-DPC7MYp"
      },
      "outputs": [],
      "source": [
        "# Unzipping the dataset.\n",
        "import zipfile\n",
        "zip_ref = zipfile.ZipFile(filename)\n",
        "zip_ref.extractall()\n",
        "zip_ref.close()"
      ]
    },
    {
      "cell_type": "markdown",
      "metadata": {
        "id": "7VkUg8v78b4M"
      },
      "source": [
        "Here, the dataset is already splitted into train & test dataset."
      ]
    },
    {
      "cell_type": "code",
      "execution_count": 7,
      "metadata": {
        "colab": {
          "base_uri": "https://localhost:8080/"
        },
        "id": "TokoipOi-JZt",
        "outputId": "b140fec9-e768-4d56-f521-953e47bd7df8"
      },
      "outputs": [
        {
          "output_type": "stream",
          "name": "stdout",
          "text": [
            "TRAINING DATA:\n",
            "\n",
            "There are 7 directories and 0 images in /content/train.\n",
            "There are 0 directories and 4830 images in /content/train/sad.\n",
            "There are 0 directories and 3171 images in /content/train/surprise.\n",
            "There are 0 directories and 7215 images in /content/train/happy.\n",
            "There are 0 directories and 4965 images in /content/train/neutral.\n",
            "There are 0 directories and 4097 images in /content/train/fear.\n",
            "There are 0 directories and 3995 images in /content/train/angry.\n",
            "There are 0 directories and 436 images in /content/train/disgust.\n",
            "\n",
            "\n",
            "TESTING DATA:\n",
            "\n",
            "There are 7 directories and 0 images in /content/test.\n",
            "There are 0 directories and 1247 images in /content/test/sad.\n",
            "There are 0 directories and 831 images in /content/test/surprise.\n",
            "There are 0 directories and 1774 images in /content/test/happy.\n",
            "There are 0 directories and 1233 images in /content/test/neutral.\n",
            "There are 0 directories and 1024 images in /content/test/fear.\n",
            "There are 0 directories and 958 images in /content/test/angry.\n",
            "There are 0 directories and 111 images in /content/test/disgust.\n"
          ]
        }
      ],
      "source": [
        "# Walking into the directories and listing the number of files in each directories.\n",
        "import os\n",
        "\n",
        "# Walking through the train data directory.\n",
        "print(f'TRAINING DATA:\\n')\n",
        "for dirpath, dirnames, filenames in os.walk('/content/train'):\n",
        "  print(f'There are {len(dirnames)} directories and {len(filenames)} images in {dirpath}.')\n",
        "\n",
        "\n",
        "# Walking through the test data directory.\n",
        "print(f'\\n\\nTESTING DATA:\\n')\n",
        "for dirpath, dirnames, filenames in os.walk('/content/test'):\n",
        "  print(f'There are {len(dirnames)} directories and {len(filenames)} images in {dirpath}.')"
      ]
    },
    {
      "cell_type": "markdown",
      "metadata": {
        "id": "Yhq86iti_z2J"
      },
      "source": [
        "So, basically there are 7 directories present in both train and test dataset which are nothing but the directories representing each class and each directories have a number of images belonging to that class. So, clearly we get an idea that this particular dataset has 7 classes."
      ]
    },
    {
      "cell_type": "code",
      "source": [
        "# Getting the class names programatically.\n",
        "import pathlib                                  # 'Pathlib' module in Python provides various classes representing file system paths.\n",
        "\n",
        "data_dir = pathlib.Path('/content/train')\n",
        "class_names = np.array(sorted([item.name for item in data_dir.glob('*')]))\n",
        "# Creates a list of class names from the sub-directories.\n",
        "\n",
        "print(class_names)"
      ],
      "metadata": {
        "colab": {
          "base_uri": "https://localhost:8080/"
        },
        "id": "LRfSy4lBZKdb",
        "outputId": "bd84bedf-dbff-4d5a-f33d-792ff7c2af32"
      },
      "execution_count": 69,
      "outputs": [
        {
          "output_type": "stream",
          "name": "stdout",
          "text": [
            "['angry' 'disgust' 'fear' 'happy' 'neutral' 'sad' 'surprise']\n"
          ]
        }
      ]
    },
    {
      "cell_type": "markdown",
      "metadata": {
        "id": "jLHKrH1aDhlF"
      },
      "source": [
        "Classes present in the dataset are:  \n",
        "1. **angry**\n",
        "2. **disgust** \n",
        "3. **fear** \n",
        "4. **happy**\n",
        "5. **neutral**\n",
        "6. **sad** \n",
        "7. **surprise**\n",
        "\n",
        "Each of these classes represents human emotions."
      ]
    },
    {
      "cell_type": "markdown",
      "metadata": {
        "id": "juQyhU96K03h"
      },
      "source": [
        "## **Visualising images of each class**\n",
        "\n",
        "Becoming one with the data by visualising different images of each classes which the dataset in comprised of."
      ]
    },
    {
      "cell_type": "code",
      "execution_count": 9,
      "metadata": {
        "id": "agtTIwLfK_IW"
      },
      "outputs": [],
      "source": [
        "# Creating a function to view random images of each class.\n",
        "import random\n",
        "import matplotlib.image as mpimg\n",
        "\n",
        "def view_random_images(target_directory, target_class):\n",
        "  \n",
        "  '''\n",
        "  Takes into the target directory and target class as a path and prints random images of the specified class from the dataset\n",
        "  '''\n",
        "  \n",
        "  # Creating a target folder which will store the folder path taking the directory name and class name.\n",
        "  target_folder = target_directory + '/' + target_class\n",
        "  \n",
        "  # Getting a random image from the target folder and printing the image number.\n",
        "  random_image = random.sample(os.listdir(target_folder),1)\n",
        "  print(f'Image number: {random_image}')\n",
        "\n",
        "  # Reading the image and plotting it using matploltib.\n",
        "  img = mpimg.imread(target_folder + '/' + random_image[0])\n",
        "  plt.imshow(img)\n",
        "  plt.title(target_class.upper(),fontsize = 15)\n",
        "  plt.axis('off')\n",
        "  plt.show()\n",
        "\n",
        "  # Printing the shape of the image along with the image.\n",
        "  print(f'Image shape : {img.shape}')\n",
        "  \n",
        "  return img"
      ]
    },
    {
      "cell_type": "code",
      "execution_count": 10,
      "metadata": {
        "colab": {
          "base_uri": "https://localhost:8080/",
          "height": 429
        },
        "id": "9jPDoebb2BMN",
        "outputId": "3fba962e-3030-4664-ab7f-40137b8c4b21"
      },
      "outputs": [
        {
          "output_type": "stream",
          "name": "stdout",
          "text": [
            "Image number: ['Training_3865960.jpg']\n"
          ]
        },
        {
          "output_type": "display_data",
          "data": {
            "text/plain": [
              "<Figure size 432x288 with 1 Axes>"
            ],
            "image/png": "[encoded data removed]"
          },
          "metadata": {
            "needs_background": "light"
          }
        },
        {
          "output_type": "stream",
          "name": "stdout",
          "text": [
            "Image shape : (48, 48)\n"
          ]
        },
        {
          "output_type": "execute_result",
          "data": {
            "text/plain": [
              "array([[ 95, 100, 101, ...,  89,  91,  82],\n",
              "       [103, 102,  99, ...,  87,  96,  95],\n",
              "       [103,  98,  97, ...,  76,  89,  99],\n",
              "       ...,\n",
              "       [ 71, 109, 156, ...,  97, 113, 113],\n",
              "       [207, 222, 228, ...,  96, 112, 110],\n",
              "       [220, 214, 204, ...,  98, 108, 101]], dtype=uint8)"
            ]
          },
          "metadata": {},
          "execution_count": 10
        }
      ],
      "source": [
        "# Viewing 'angry' class image.\n",
        "view_random_images(target_directory = '/content/train',\n",
        "                   target_class = 'angry')"
      ]
    },
    {
      "cell_type": "code",
      "execution_count": 11,
      "metadata": {
        "colab": {
          "base_uri": "https://localhost:8080/",
          "height": 429
        },
        "id": "lk002Kno2qfP",
        "outputId": "eb7bd370-5820-4c32-dfc1-a7edd0493cc6"
      },
      "outputs": [
        {
          "output_type": "stream",
          "name": "stdout",
          "text": [
            "Image number: ['Training_87899581.jpg']\n"
          ]
        },
        {
          "output_type": "display_data",
          "data": {
            "text/plain": [
              "<Figure size 432x288 with 1 Axes>"
            ],
            "image/png": "[encoded data removed]"
          },
          "metadata": {
            "needs_background": "light"
          }
        },
        {
          "output_type": "stream",
          "name": "stdout",
          "text": [
            "Image shape : (48, 48)\n"
          ]
        },
        {
          "output_type": "execute_result",
          "data": {
            "text/plain": [
              "array([[ 59,  49,  47, ..., 137, 137, 138],\n",
              "       [ 63,  54,  52, ..., 138, 139, 137],\n",
              "       [ 66,  56,  51, ..., 136, 139, 135],\n",
              "       ...,\n",
              "       [172,  72,  57, ..., 176, 181, 185],\n",
              "       [190, 113,  62, ..., 181, 181, 178],\n",
              "       [197, 157,  86, ..., 182, 183, 184]], dtype=uint8)"
            ]
          },
          "metadata": {},
          "execution_count": 11
        }
      ],
      "source": [
        "# Viewing 'disgust' class image.\n",
        "view_random_images(target_directory = '/content/train',\n",
        "                   target_class = 'disgust')"
      ]
    },
    {
      "cell_type": "code",
      "execution_count": 12,
      "metadata": {
        "colab": {
          "base_uri": "https://localhost:8080/",
          "height": 429
        },
        "id": "UwRLnHad23QK",
        "outputId": "372942c7-0eb4-4c41-d4b9-7cf6524a2c32"
      },
      "outputs": [
        {
          "output_type": "stream",
          "name": "stdout",
          "text": [
            "Image number: ['Training_26823187.jpg']\n"
          ]
        },
        {
          "output_type": "display_data",
          "data": {
            "text/plain": [
              "<Figure size 432x288 with 1 Axes>"
            ],
            "image/png": "[encoded data removed]"
          },
          "metadata": {
            "needs_background": "light"
          }
        },
        {
          "output_type": "stream",
          "name": "stdout",
          "text": [
            "Image shape : (48, 48)\n"
          ]
        },
        {
          "output_type": "execute_result",
          "data": {
            "text/plain": [
              "array([[  1,  16,  60, ...,   0,   1,   0],\n",
              "       [  0,  37,  84, ...,   0,   0,   0],\n",
              "       [  5,  66, 118, ...,   2,   0,   1],\n",
              "       ...,\n",
              "       [  1,   0,   2, ...,   0,   4,   0],\n",
              "       [  7,   0,   1, ...,   6,  15,   5],\n",
              "       [ 17,   3,   0, ...,  14,  12,   4]], dtype=uint8)"
            ]
          },
          "metadata": {},
          "execution_count": 12
        }
      ],
      "source": [
        "# Viewing 'fear' class image.\n",
        "view_random_images(target_directory = '/content/train',\n",
        "                   target_class = 'fear')"
      ]
    },
    {
      "cell_type": "code",
      "execution_count": 13,
      "metadata": {
        "colab": {
          "base_uri": "https://localhost:8080/",
          "height": 429
        },
        "id": "IbbkRsDT3Jat",
        "outputId": "35b84631-0196-499c-a7d8-24502ae24b89"
      },
      "outputs": [
        {
          "output_type": "stream",
          "name": "stdout",
          "text": [
            "Image number: ['Training_99696055.jpg']\n"
          ]
        },
        {
          "output_type": "display_data",
          "data": {
            "text/plain": [
              "<Figure size 432x288 with 1 Axes>"
            ],
            "image/png": "[encoded data removed]"
          },
          "metadata": {
            "needs_background": "light"
          }
        },
        {
          "output_type": "stream",
          "name": "stdout",
          "text": [
            "Image shape : (48, 48)\n"
          ]
        },
        {
          "output_type": "execute_result",
          "data": {
            "text/plain": [
              "array([[207, 217, 225, ...,  13,  10,  17],\n",
              "       [206, 216, 225, ...,  20,  19,  30],\n",
              "       [205, 215, 224, ...,  31,  29,  40],\n",
              "       ...,\n",
              "       [223, 223, 229, ..., 216, 225, 222],\n",
              "       [238, 247, 246, ..., 224, 226, 230],\n",
              "       [173, 217, 215, ..., 222, 229, 228]], dtype=uint8)"
            ]
          },
          "metadata": {},
          "execution_count": 13
        }
      ],
      "source": [
        "# Viewing 'happy' class image.\n",
        "view_random_images(target_directory = '/content/train',\n",
        "                   target_class = 'happy')"
      ]
    },
    {
      "cell_type": "code",
      "execution_count": 14,
      "metadata": {
        "colab": {
          "base_uri": "https://localhost:8080/",
          "height": 429
        },
        "id": "2BopBN8w3Oeh",
        "outputId": "dd79c384-6255-4aa1-d520-860a60f13f5f"
      },
      "outputs": [
        {
          "output_type": "stream",
          "name": "stdout",
          "text": [
            "Image number: ['Training_60832888.jpg']\n"
          ]
        },
        {
          "output_type": "display_data",
          "data": {
            "text/plain": [
              "<Figure size 432x288 with 1 Axes>"
            ],
            "image/png": "[encoded data removed]"
          },
          "metadata": {
            "needs_background": "light"
          }
        },
        {
          "output_type": "stream",
          "name": "stdout",
          "text": [
            "Image shape : (48, 48)\n"
          ]
        },
        {
          "output_type": "execute_result",
          "data": {
            "text/plain": [
              "array([[237, 236, 144, ..., 237, 236, 234],\n",
              "       [244, 211, 136, ..., 234, 232, 238],\n",
              "       [245, 175, 144, ..., 238, 232, 233],\n",
              "       ...,\n",
              "       [118, 117,  82, ..., 229, 229, 237],\n",
              "       [116, 105,  80, ..., 231, 232, 235],\n",
              "       [116, 104,  89, ..., 220, 235, 239]], dtype=uint8)"
            ]
          },
          "metadata": {},
          "execution_count": 14
        }
      ],
      "source": [
        "# Viewing 'neutral' class image.\n",
        "view_random_images(target_directory = '/content/train',\n",
        "                   target_class = 'neutral')"
      ]
    },
    {
      "cell_type": "code",
      "execution_count": 15,
      "metadata": {
        "colab": {
          "base_uri": "https://localhost:8080/",
          "height": 429
        },
        "id": "kfV_8bQU3YMT",
        "outputId": "8b247bf0-b787-4dce-aab0-35a0527c114b"
      },
      "outputs": [
        {
          "output_type": "stream",
          "name": "stdout",
          "text": [
            "Image number: ['Training_84870227.jpg']\n"
          ]
        },
        {
          "output_type": "display_data",
          "data": {
            "text/plain": [
              "<Figure size 432x288 with 1 Axes>"
            ],
            "image/png": "[encoded data removed]"
          },
          "metadata": {
            "needs_background": "light"
          }
        },
        {
          "output_type": "stream",
          "name": "stdout",
          "text": [
            "Image shape : (48, 48)\n"
          ]
        },
        {
          "output_type": "execute_result",
          "data": {
            "text/plain": [
              "array([[ 48,  36,  40, ..., 255, 254, 255],\n",
              "       [ 46,  42,  45, ..., 255, 255, 254],\n",
              "       [ 44,  47,  38, ..., 255, 255, 255],\n",
              "       ...,\n",
              "       [148, 147, 141, ..., 107, 108, 105],\n",
              "       [151, 152, 147, ..., 107, 109, 106],\n",
              "       [154, 156, 149, ..., 110, 109, 107]], dtype=uint8)"
            ]
          },
          "metadata": {},
          "execution_count": 15
        }
      ],
      "source": [
        "# Viewing 'sad' class image.\n",
        "view_random_images(target_directory = '/content/train',\n",
        "                   target_class = 'sad')"
      ]
    },
    {
      "cell_type": "code",
      "execution_count": 16,
      "metadata": {
        "colab": {
          "base_uri": "https://localhost:8080/",
          "height": 429
        },
        "id": "1FYwTQGn3gtS",
        "outputId": "19a07dbe-cd96-4f3a-fe42-1d723432b822"
      },
      "outputs": [
        {
          "output_type": "stream",
          "name": "stdout",
          "text": [
            "Image number: ['Training_96765324.jpg']\n"
          ]
        },
        {
          "output_type": "display_data",
          "data": {
            "text/plain": [
              "<Figure size 432x288 with 1 Axes>"
            ],
            "image/png": "[encoded data removed]"
          },
          "metadata": {
            "needs_background": "light"
          }
        },
        {
          "output_type": "stream",
          "name": "stdout",
          "text": [
            "Image shape : (48, 48)\n"
          ]
        },
        {
          "output_type": "execute_result",
          "data": {
            "text/plain": [
              "array([[159, 167, 156, ..., 145, 161, 161],\n",
              "       [163, 163, 155, ..., 152, 157, 160],\n",
              "       [163, 160, 135, ..., 149, 165, 162],\n",
              "       ...,\n",
              "       [153, 156, 155, ..., 152, 144, 154],\n",
              "       [151, 153, 153, ..., 145, 150, 147],\n",
              "       [153, 153, 152, ..., 148, 152, 149]], dtype=uint8)"
            ]
          },
          "metadata": {},
          "execution_count": 16
        }
      ],
      "source": [
        "# Viewing 'surprise' class image.\n",
        "view_random_images(target_directory = '/content/train',\n",
        "                   target_class = 'surprise')"
      ]
    },
    {
      "cell_type": "markdown",
      "metadata": {
        "id": "C-ZefKCa67cV"
      },
      "source": [
        "Points to be noted after viewing the images above:\n",
        "* Image values are not scaled.\n",
        "* Images are of shape 48X48.\n",
        "* Images are not in RGB colour mode."
      ]
    },
    {
      "cell_type": "markdown",
      "metadata": {
        "id": "1YQL8hex5kMv"
      },
      "source": [
        "## **Pre-processing data**"
      ]
    },
    {
      "cell_type": "markdown",
      "metadata": {
        "id": "tEpZeswf3-Xp"
      },
      "source": [
        "The image array values needs scaling in order to make our model perform better."
      ]
    },
    {
      "cell_type": "code",
      "execution_count": 17,
      "metadata": {
        "id": "KmuWgj455fV7"
      },
      "outputs": [],
      "source": [
        "# Setting up the path to data directories.\n",
        "train_dir = '/content/train'\n",
        "test_dir = '/content/test'"
      ]
    },
    {
      "cell_type": "code",
      "execution_count": 18,
      "metadata": {
        "id": "MZgfCVQK9Xqf"
      },
      "outputs": [],
      "source": [
        "# Flipping and scaling the data.\n",
        "from tensorflow.keras.preprocessing.image import ImageDataGenerator\n",
        "\n",
        "train_datagen = ImageDataGenerator(rescale = 1./255)\n",
        "validation_datagen = ImageDataGenerator(rescale = 1./255)"
      ]
    },
    {
      "cell_type": "code",
      "execution_count": 19,
      "metadata": {
        "colab": {
          "base_uri": "https://localhost:8080/"
        },
        "id": "x4agQo2KAWsQ",
        "outputId": "cc988ac9-a707-4cd7-ff05-6e7798cc9188"
      },
      "outputs": [
        {
          "output_type": "stream",
          "name": "stdout",
          "text": [
            "Found 28709 images belonging to 7 classes.\n",
            "Found 7178 images belonging to 7 classes.\n"
          ]
        }
      ],
      "source": [
        "# Getting the train and test(validation) dataset ready for model creation.\n",
        "train_data = train_datagen.flow_from_directory(directory = train_dir,              \n",
        "                                               batch_size = 32,                 \n",
        "                                               target_size = (48, 48),          \n",
        "                                               color_mode = 'grayscale',                                \n",
        "                                               class_mode = 'categorical')\n",
        "\n",
        "test_data = validation_datagen.flow_from_directory(directory = test_dir,              \n",
        "                                                   batch_size = 32,                 \n",
        "                                                   target_size = (48, 48),          \n",
        "                                                   color_mode = 'grayscale',              \n",
        "                                                   shuffle = False,                  \n",
        "                                                   class_mode = 'categorical')"
      ]
    },
    {
      "cell_type": "markdown",
      "metadata": {
        "id": "o9IFGgkTEeA_"
      },
      "source": [
        "* Training set has **28709** images in total belonging to 7 classes.\n",
        "* Testing set has **7178** images in total belonging to 7 classes."
      ]
    },
    {
      "cell_type": "markdown",
      "metadata": {
        "id": "IrtEGt3i7kpO"
      },
      "source": [
        "**As, the pre-processing stage is handled as per requirement, now its time to create different models using different architectures and comparing the model performances, post model training and choosing the one with highest accuracy in order to use it in the face emotion detection application.**"
      ]
    },
    {
      "cell_type": "markdown",
      "metadata": {
        "id": "jY2CY7xx8fkN"
      },
      "source": [
        "## **Model building**\n",
        "\n",
        "Architectures which will be used in order to build models are as follows:\n",
        "1. **Convolutional Neural Networks (CNN)**\n",
        "2. **efficientnet (EfficientNetB0, EfficientNetB1)**\n",
        "3. **resnet50**\n",
        "\n",
        "At first \"CNN\" will be used to create model followed by transfer learning using \"EfficientNet\" & \"ResNet50\"."
      ]
    },
    {
      "cell_type": "markdown",
      "metadata": {
        "id": "UfVB40w5CZDM"
      },
      "source": [
        "Changing the runtime type to \"GPU\" which is offered by Google Colaboratory in order to train the model faster."
      ]
    },
    {
      "cell_type": "code",
      "execution_count": 20,
      "metadata": {
        "id": "WLrNrPliC73w",
        "colab": {
          "base_uri": "https://localhost:8080/"
        },
        "outputId": "faa7dacd-0180-480d-f5f3-ef8e7732ec1e"
      },
      "outputs": [
        {
          "output_type": "stream",
          "name": "stdout",
          "text": [
            "Mon May  9 13:50:06 2022       \n",
            "+-----------------------------------------------------------------------------+\n",
            "| NVIDIA-SMI 460.32.03    Driver Version: 460.32.03    CUDA Version: 11.2     |\n",
            "|-------------------------------+----------------------+----------------------+\n",
            "| GPU  Name        Persistence-M| Bus-Id        Disp.A | Volatile Uncorr. ECC |\n",
            "| Fan  Temp  Perf  Pwr:Usage/Cap|         Memory-Usage | GPU-Util  Compute M. |\n",
            "|                               |                      |               MIG M. |\n",
            "|===============================+======================+======================|\n",
            "|   0  Tesla T4            Off  | 00000000:00:04.0 Off |                    0 |\n",
            "| N/A   45C    P8     9W /  70W |      0MiB / 15109MiB |      0%      Default |\n",
            "|                               |                      |                  N/A |\n",
            "+-------------------------------+----------------------+----------------------+\n",
            "                                                                               \n",
            "+-----------------------------------------------------------------------------+\n",
            "| Processes:                                                                  |\n",
            "|  GPU   GI   CI        PID   Type   Process name                  GPU Memory |\n",
            "|        ID   ID                                                   Usage      |\n",
            "|=============================================================================|\n",
            "|  No running processes found                                                 |\n",
            "+-----------------------------------------------------------------------------+\n"
          ]
        }
      ],
      "source": [
        "# Checking the GPU details.\n",
        "!nvidia-smi"
      ]
    },
    {
      "cell_type": "markdown",
      "metadata": {
        "id": "5VEwvLtfBnAf"
      },
      "source": [
        "### **Custom CNN model**\n",
        "\n",
        "CNN is a deep learning neural network sketched for processing structured arrays of data such as portrayals or images. CNN are very good at picking up on patterns in the input image, such as lines, gradients, circles or even eyes and faces. "
      ]
    },
    {
      "cell_type": "code",
      "execution_count": 47,
      "metadata": {
        "id": "aS3tyQS8CCSq"
      },
      "outputs": [],
      "source": [
        "# Building a CNN model using the sequential API.\n",
        "from tensorflow.keras.layers import Dense, Flatten, Conv2D, MaxPool2D, BatchNormalization, Dropout\n",
        "from tensorflow.keras import Sequential\n",
        "from tensorflow.keras.optimizers import Adam\n",
        "from tensorflow.keras.callbacks import Callback, EarlyStopping, ReduceLROnPlateau\n",
        "\n",
        "model_A = Sequential([\n",
        "    \n",
        "    # 1st CNN layer.\n",
        "    Conv2D(64, (3,3), padding = 'same', input_shape = (48,48,1), activation = 'relu'),\n",
        "    BatchNormalization(),\n",
        "    MaxPool2D(pool_size = (2,2)),\n",
        "    Dropout(0.25),\n",
        "\n",
        "    # 2nd CNN layer.\n",
        "    Conv2D(128, (5,5), padding = 'same',activation = 'relu'),\n",
        "    BatchNormalization(),\n",
        "    MaxPool2D(pool_size = (2,2)),\n",
        "    Dropout(0.25),\n",
        "\n",
        "    # 3rd CNN layer.\n",
        "    Conv2D(512, (3,3), padding = 'same',activation = 'relu'),\n",
        "    BatchNormalization(),\n",
        "    MaxPool2D(pool_size = (2,2)),\n",
        "    Dropout(0.25),\n",
        "\n",
        "    # 4th CNN layer.\n",
        "    Conv2D(512, (3,3), padding = 'same',activation = 'relu'),\n",
        "    BatchNormalization(),\n",
        "    MaxPool2D(pool_size = (2,2)),\n",
        "    Dropout(0.25),\n",
        "\n",
        "    # Layer to flatten the input layer.\n",
        "    Flatten(),\n",
        "\n",
        "    # 1st fully connected layer.\n",
        "    Dense(256, activation = 'relu'),\n",
        "    BatchNormalization(),\n",
        "    Dropout(0.25),\n",
        "\n",
        "    # 2nd fully connected layer.\n",
        "    Dense(512, activation = 'relu'),\n",
        "    BatchNormalization(),\n",
        "    Dropout(0.25),\n",
        "\n",
        "    # Output layer.\n",
        "    Dense(7, activation = 'softmax')                             # Number of classes = 7.\n",
        "])"
      ]
    },
    {
      "cell_type": "code",
      "execution_count": 48,
      "metadata": {
        "id": "PKze7T2NqmGI"
      },
      "outputs": [],
      "source": [
        "# Compiling the model.\n",
        "model_A.compile(loss = 'categorical_crossentropy',\n",
        "                optimizer = Adam(learning_rate = 0.0001),\n",
        "                metrics = ['accuracy'])"
      ]
    },
    {
      "cell_type": "code",
      "execution_count": 49,
      "metadata": {
        "id": "HqkQKAan9Piv"
      },
      "outputs": [],
      "source": [
        "# Creating callbacks.\n",
        "early_stopping = EarlyStopping(monitor='val_loss',\n",
        "                              min_delta=0,\n",
        "                              patience=3,\n",
        "                              verbose=1,\n",
        "                              restore_best_weights=True)\n",
        "# Stops training when a monitored metric has stopped improving.\n",
        "\n",
        "\n",
        "reduce_learningrate = ReduceLROnPlateau(monitor='val_loss',\n",
        "                                        factor=0.2,\n",
        "                                        patience=3,\n",
        "                                        verbose=1,\n",
        "                                        min_delta=0.0001)\n",
        "# Reduces learning rate when a metric stops improving."
      ]
    },
    {
      "cell_type": "code",
      "execution_count": 50,
      "metadata": {
        "colab": {
          "base_uri": "https://localhost:8080/"
        },
        "id": "8Fscc2AZ-nQb",
        "outputId": "b781d39a-743a-473c-b1f1-e04a691cb183"
      },
      "outputs": [
        {
          "output_type": "stream",
          "name": "stdout",
          "text": [
            "Epoch 1/50\n",
            "898/898 [==============================] - 20s 21ms/step - loss: 2.2799 - accuracy: 0.2159 - val_loss: 1.8221 - val_accuracy: 0.2914 - lr: 1.0000e-04\n",
            "Epoch 2/50\n",
            "898/898 [==============================] - 19s 21ms/step - loss: 1.9744 - accuracy: 0.2773 - val_loss: 1.7857 - val_accuracy: 0.3369 - lr: 1.0000e-04\n",
            "Epoch 3/50\n",
            "898/898 [==============================] - 19s 21ms/step - loss: 1.8042 - accuracy: 0.3331 - val_loss: 1.6174 - val_accuracy: 0.3924 - lr: 1.0000e-04\n",
            "Epoch 4/50\n",
            "898/898 [==============================] - 19s 21ms/step - loss: 1.6835 - accuracy: 0.3735 - val_loss: 1.5676 - val_accuracy: 0.4136 - lr: 1.0000e-04\n",
            "Epoch 5/50\n",
            "898/898 [==============================] - 19s 21ms/step - loss: 1.5624 - accuracy: 0.4115 - val_loss: 1.4303 - val_accuracy: 0.4644 - lr: 1.0000e-04\n",
            "Epoch 6/50\n",
            "898/898 [==============================] - 19s 21ms/step - loss: 1.4596 - accuracy: 0.4475 - val_loss: 1.3804 - val_accuracy: 0.4828 - lr: 1.0000e-04\n",
            "Epoch 7/50\n",
            "898/898 [==============================] - 19s 21ms/step - loss: 1.3803 - accuracy: 0.4756 - val_loss: 1.2612 - val_accuracy: 0.5234 - lr: 1.0000e-04\n",
            "Epoch 8/50\n",
            "898/898 [==============================] - 19s 21ms/step - loss: 1.3085 - accuracy: 0.5022 - val_loss: 1.3507 - val_accuracy: 0.5078 - lr: 1.0000e-04\n",
            "Epoch 9/50\n",
            "898/898 [==============================] - 19s 21ms/step - loss: 1.2460 - accuracy: 0.5289 - val_loss: 1.2109 - val_accuracy: 0.5421 - lr: 1.0000e-04\n",
            "Epoch 10/50\n",
            "898/898 [==============================] - 19s 21ms/step - loss: 1.1866 - accuracy: 0.5512 - val_loss: 1.1391 - val_accuracy: 0.5717 - lr: 1.0000e-04\n",
            "Epoch 11/50\n",
            "898/898 [==============================] - 19s 21ms/step - loss: 1.1422 - accuracy: 0.5648 - val_loss: 1.1849 - val_accuracy: 0.5622 - lr: 1.0000e-04\n",
            "Epoch 12/50\n",
            "898/898 [==============================] - 19s 21ms/step - loss: 1.0879 - accuracy: 0.5888 - val_loss: 1.1483 - val_accuracy: 0.5735 - lr: 1.0000e-04\n",
            "Epoch 13/50\n",
            "898/898 [==============================] - 19s 21ms/step - loss: 1.0402 - accuracy: 0.6073 - val_loss: 1.0998 - val_accuracy: 0.5946 - lr: 1.0000e-04\n",
            "Epoch 14/50\n",
            "898/898 [==============================] - 19s 21ms/step - loss: 0.9967 - accuracy: 0.6245 - val_loss: 1.1154 - val_accuracy: 0.5932 - lr: 1.0000e-04\n",
            "Epoch 15/50\n",
            "898/898 [==============================] - 19s 21ms/step - loss: 0.9502 - accuracy: 0.6406 - val_loss: 1.0820 - val_accuracy: 0.6007 - lr: 1.0000e-04\n",
            "Epoch 16/50\n",
            "898/898 [==============================] - 19s 21ms/step - loss: 0.9040 - accuracy: 0.6619 - val_loss: 1.0743 - val_accuracy: 0.6157 - lr: 1.0000e-04\n",
            "Epoch 17/50\n",
            "898/898 [==============================] - 19s 21ms/step - loss: 0.8497 - accuracy: 0.6814 - val_loss: 1.1724 - val_accuracy: 0.5872 - lr: 1.0000e-04\n",
            "Epoch 18/50\n",
            "898/898 [==============================] - 19s 21ms/step - loss: 0.8021 - accuracy: 0.7012 - val_loss: 1.1189 - val_accuracy: 0.6120 - lr: 1.0000e-04\n",
            "Epoch 19/50\n",
            "896/898 [============================>.] - ETA: 0s - loss: 0.7540 - accuracy: 0.7208Restoring model weights from the end of the best epoch: 16.\n",
            "\n",
            "Epoch 19: ReduceLROnPlateau reducing learning rate to 1.9999999494757503e-05.\n",
            "898/898 [==============================] - 19s 21ms/step - loss: 0.7546 - accuracy: 0.7206 - val_loss: 1.1133 - val_accuracy: 0.6214 - lr: 1.0000e-04\n",
            "Epoch 19: early stopping\n"
          ]
        }
      ],
      "source": [
        "# Fitting the model.\n",
        "history_model_A = model_A.fit_generator(generator = train_data,\n",
        "                                        epochs = 50,\n",
        "                                        steps_per_epoch = len(train_data),\n",
        "                                        validation_data = test_data,\n",
        "                                        validation_steps = test_data.n // test_data.batch_size,\n",
        "                                        callbacks = [early_stopping, reduce_learningrate]) "
      ]
    },
    {
      "cell_type": "code",
      "source": [
        "# Evaluating model performance on overall test data.\n",
        "model_A.evaluate(test_data)"
      ],
      "metadata": {
        "colab": {
          "base_uri": "https://localhost:8080/"
        },
        "id": "tmbhDyrgLhg5",
        "outputId": "d4a46560-6e8b-4e64-c6e3-664bae9536e8"
      },
      "execution_count": 53,
      "outputs": [
        {
          "output_type": "stream",
          "name": "stdout",
          "text": [
            "225/225 [==============================] - 3s 13ms/step - loss: 1.0733 - accuracy: 0.6159\n"
          ]
        },
        {
          "output_type": "execute_result",
          "data": {
            "text/plain": [
              "[1.073310375213623, 0.6159096956253052]"
            ]
          },
          "metadata": {},
          "execution_count": 53
        }
      ]
    },
    {
      "cell_type": "code",
      "source": [
        "# Checking the model summary.\n",
        "model_A.summary()"
      ],
      "metadata": {
        "colab": {
          "base_uri": "https://localhost:8080/"
        },
        "id": "x8Q8M7g6MS8d",
        "outputId": "fa95c703-bb81-4b96-a9c5-86c00c66e909"
      },
      "execution_count": 52,
      "outputs": [
        {
          "output_type": "stream",
          "name": "stdout",
          "text": [
            "Model: \"sequential_6\"\n",
            "_________________________________________________________________\n",
            " Layer (type)                Output Shape              Param #   \n",
            "=================================================================\n",
            " conv2d_24 (Conv2D)          (None, 48, 48, 64)        640       \n",
            "                                                                 \n",
            " batch_normalization_36 (Bat  (None, 48, 48, 64)       256       \n",
            " chNormalization)                                                \n",
            "                                                                 \n",
            " max_pooling2d_24 (MaxPoolin  (None, 24, 24, 64)       0         \n",
            " g2D)                                                            \n",
            "                                                                 \n",
            " dropout_36 (Dropout)        (None, 24, 24, 64)        0         \n",
            "                                                                 \n",
            " conv2d_25 (Conv2D)          (None, 24, 24, 128)       204928    \n",
            "                                                                 \n",
            " batch_normalization_37 (Bat  (None, 24, 24, 128)      512       \n",
            " chNormalization)                                                \n",
            "                                                                 \n",
            " max_pooling2d_25 (MaxPoolin  (None, 12, 12, 128)      0         \n",
            " g2D)                                                            \n",
            "                                                                 \n",
            " dropout_37 (Dropout)        (None, 12, 12, 128)       0         \n",
            "                                                                 \n",
            " conv2d_26 (Conv2D)          (None, 12, 12, 512)       590336    \n",
            "                                                                 \n",
            " batch_normalization_38 (Bat  (None, 12, 12, 512)      2048      \n",
            " chNormalization)                                                \n",
            "                                                                 \n",
            " max_pooling2d_26 (MaxPoolin  (None, 6, 6, 512)        0         \n",
            " g2D)                                                            \n",
            "                                                                 \n",
            " dropout_38 (Dropout)        (None, 6, 6, 512)         0         \n",
            "                                                                 \n",
            " conv2d_27 (Conv2D)          (None, 6, 6, 512)         2359808   \n",
            "                                                                 \n",
            " batch_normalization_39 (Bat  (None, 6, 6, 512)        2048      \n",
            " chNormalization)                                                \n",
            "                                                                 \n",
            " max_pooling2d_27 (MaxPoolin  (None, 3, 3, 512)        0         \n",
            " g2D)                                                            \n",
            "                                                                 \n",
            " dropout_39 (Dropout)        (None, 3, 3, 512)         0         \n",
            "                                                                 \n",
            " flatten_6 (Flatten)         (None, 4608)              0         \n",
            "                                                                 \n",
            " dense_18 (Dense)            (None, 256)               1179904   \n",
            "                                                                 \n",
            " batch_normalization_40 (Bat  (None, 256)              1024      \n",
            " chNormalization)                                                \n",
            "                                                                 \n",
            " dropout_40 (Dropout)        (None, 256)               0         \n",
            "                                                                 \n",
            " dense_19 (Dense)            (None, 512)               131584    \n",
            "                                                                 \n",
            " batch_normalization_41 (Bat  (None, 512)              2048      \n",
            " chNormalization)                                                \n",
            "                                                                 \n",
            " dropout_41 (Dropout)        (None, 512)               0         \n",
            "                                                                 \n",
            " dense_20 (Dense)            (None, 7)                 3591      \n",
            "                                                                 \n",
            "=================================================================\n",
            "Total params: 4,478,727\n",
            "Trainable params: 4,474,759\n",
            "Non-trainable params: 3,968\n",
            "_________________________________________________________________\n"
          ]
        }
      ]
    },
    {
      "cell_type": "code",
      "source": [
        "# Prediction For Test Set\n",
        "predictions = model_A.predict(test_data)\n",
        "\n",
        "# Printing Confution Matrix\n",
        "cm = confusion_matrix(y_pred = np.argmax(predictions, axis=-1), y_true = test_data.classes)                         \n",
        "cm"
      ],
      "metadata": {
        "colab": {
          "base_uri": "https://localhost:8080/"
        },
        "id": "CCqJT0Y2ZbYV",
        "outputId": "b068cbae-f301-4f6c-9512-f28382973e95"
      },
      "execution_count": 70,
      "outputs": [
        {
          "output_type": "execute_result",
          "data": {
            "text/plain": [
              "array([[ 576,    7,   72,   42,   90,  140,   31],\n",
              "       [  39,   50,    6,    3,    3,    8,    2],\n",
              "       [ 142,    4,  331,   44,  110,  225,  168],\n",
              "       [  72,    0,   45, 1446,   87,   69,   55],\n",
              "       [ 151,    2,   45,   86,  691,  204,   54],\n",
              "       [ 173,    2,   96,   74,  207,  635,   60],\n",
              "       [  25,    0,   38,   39,   18,   19,  692]])"
            ]
          },
          "metadata": {},
          "execution_count": 70
        }
      ]
    },
    {
      "cell_type": "code",
      "source": [
        "# Computing predictions.\n",
        "predictions = model_A.predict_generator(generator=test_data)\n",
        "y_pred = [np.argmax(probas) for probas in predictions]\n",
        "y_test = test_data.classes\n",
        "class_names = test_data.class_indices.keys()\n",
        "\n",
        "\n",
        "# Creating function to plot confusion matrix.\n",
        "from sklearn.metrics import confusion_matrix\n",
        "import itertools\n",
        "def plot_confusion_matrix(cm, classes, title='Confusion matrix', cmap = plt.cm.PuRd):\n",
        "    cm = cm.astype('float') / cm.sum(axis=1)[:, np.newaxis]\n",
        "    plt.figure(figsize=(10,10))\n",
        "    plt.imshow(cm, interpolation='nearest', cmap=cmap)\n",
        "    plt.title(title)\n",
        "    plt.colorbar()\n",
        "    tick_marks = np.arange(len(classes))\n",
        "    plt.xticks(tick_marks, classes, rotation=45)\n",
        "    plt.yticks(tick_marks, classes)\n",
        "\n",
        "    fmt = '.2f'\n",
        "    thresh = cm.max() / 2.\n",
        "    for i, j in itertools.product(range(cm.shape[0]), range(cm.shape[1])):\n",
        "        plt.text(j, i, format(cm[i, j], fmt),\n",
        "                 horizontalalignment=\"center\",\n",
        "                 color=\"white\" if cm[i, j] > thresh else \"black\")\n",
        "\n",
        "    plt.ylabel('True label')# **Live Class Monitoring System(Face Emotion Recognition)**\n",
        "    plt.xlabel('Predicted label')\n",
        "    plt.tight_layout()\n",
        "    plt.show()\n",
        "    \n",
        "# Compute confusion matrix.\n",
        "cnf_matrix = confusion_matrix(y_test, y_pred)\n",
        "np.set_printoptions(precision=2)\n",
        "\n",
        "# Plotting normalized confusion matrix.\n",
        "plt.figure()\n",
        "plot_confusion_matrix(cnf_matrix,  classes = class_names, title='Normalized confusion matrix')\n",
        "plt.show()"
      ],
      "metadata": {
        "colab": {
          "base_uri": "https://localhost:8080/",
          "height": 745
        },
        "id": "O2JjpkN8XZAQ",
        "outputId": "96a78459-fe8c-48b4-cb03-b436abe6ff98"
      },
      "execution_count": 75,
      "outputs": [
        {
          "output_type": "display_data",
          "data": {
            "text/plain": [
              "<Figure size 432x288 with 0 Axes>"
            ]
          },
          "metadata": {}
        },
        {
          "output_type": "display_data",
          "data": {
            "text/plain": [
              "<Figure size 720x720 with 2 Axes>"
            ],
            "image/png": "[encoded data removed]"
          },
          "metadata": {
            "needs_background": "light"
          }
        }
      ]
    },
    {
      "cell_type": "markdown",
      "source": [
        "This CNN model does a good job in predicting the happy & surprised faces while the model predicts the fear & disgust faces quite poorly."
      ],
      "metadata": {
        "id": "crMNlEwyZ8HX"
      }
    },
    {
      "cell_type": "code",
      "source": [
        "# Creating a function to plot the validation and training curves separately.\n",
        "def plot_loss_curves(history):\n",
        "  '''\n",
        "  Returns separate loss curves for training and validation set\n",
        "  '''\n",
        "  \n",
        "  loss = history.history['loss']\n",
        "  val_loss = history.history['val_loss']\n",
        "\n",
        "  accuracy = history.history['accuracy']\n",
        "  val_accuracy = history.history['val_accuracy']\n",
        "\n",
        "  epochs = range(len(history.history['loss']))\n",
        "\n",
        "  # PLotting loss.\n",
        "  plt.plot(epochs, loss, label = 'training_loss',linewidth=3)\n",
        "  plt.plot(epochs, val_loss, label = 'val_loss',linewidth=3)\n",
        "  plt.title('LOSS CURVE',fontsize = 25)\n",
        "  plt.legend()\n",
        "  plt.grid()\n",
        "  plt.show()\n",
        "\n",
        "  # Plotting accuracy.\n",
        "  plt.figure()                                                             \n",
        "  plt.plot(epochs, accuracy, label = 'training_accuracy',linewidth=3)\n",
        "  plt.plot(epochs, val_accuracy, label = 'val_accuracy',linewidth=3)\n",
        "  plt.title('ACCURACY',fontsize = 25)\n",
        "  plt.legend()\n",
        "  plt.grid()\n",
        "  plt.show()"
      ],
      "metadata": {
        "id": "2eqzJkb1M3n1"
      },
      "execution_count": 60,
      "outputs": []
    },
    {
      "cell_type": "code",
      "source": [
        "# Plotting the loss curves.\n",
        "plot_loss_curves(history_model_A)"
      ],
      "metadata": {
        "colab": {
          "base_uri": "https://localhost:8080/",
          "height": 563
        },
        "id": "OZqe08gnPrF_",
        "outputId": "fa271e65-2091-4769-81f2-3e0dfb43117e"
      },
      "execution_count": 61,
      "outputs": [
        {
          "output_type": "display_data",
          "data": {
            "text/plain": [
              "<Figure size 432x288 with 1 Axes>"
            ],
            "image/png": "[encoded data removed]"
          },
          "metadata": {
            "needs_background": "light"
          }
        },
        {
          "output_type": "display_data",
          "data": {
            "text/plain": [
              "<Figure size 432x288 with 1 Axes>"
            ],
            "image/png": "[encoded data removed]"
          },
          "metadata": {
            "needs_background": "light"
          }
        }
      ]
    },
    {
      "cell_type": "markdown",
      "source": [
        "**The training gave the accuracy of 72.06% and val_accuracy of 62.59%. The model performed better than average.**"
      ],
      "metadata": {
        "id": "XYyD40VQRAVx"
      }
    },
    {
      "cell_type": "markdown",
      "source": [
        "### **ResNet50**"
      ],
      "metadata": {
        "id": "VOF6OPkTeRq0"
      }
    },
    {
      "cell_type": "code",
      "source": [
        ""
      ],
      "metadata": {
        "id": "VhzMZvHjeYXx"
      },
      "execution_count": null,
      "outputs": []
    }
  ],
  "metadata": {
    "colab": {
      "collapsed_sections": [],
      "name": "Live Class Monitoring System (Face Emotion Recognition).ipynb",
      "provenance": [],
      "authorship_tag": "ABX9TyMINKbKADsTdfnUOVIhZWtf",
      "include_colab_link": true
    },
    "kernelspec": {
      "display_name": "Python 3",
      "name": "python3"
    },
    "language_info": {
      "name": "python"
    },
    "accelerator": "GPU"
  },
  "nbformat": 4,
  "nbformat_minor": 0
}