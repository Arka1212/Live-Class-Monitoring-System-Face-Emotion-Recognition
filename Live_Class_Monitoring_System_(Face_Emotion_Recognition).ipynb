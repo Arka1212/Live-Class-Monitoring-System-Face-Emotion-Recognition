{
  "cells": [
    {
      "cell_type": "markdown",
      "metadata": {
        "id": "view-in-github",
        "colab_type": "text"
      },
      "source": [
        "<a href=\"https://colab.research.google.com/github/Arka1212/Live-Class-Monitoring-System-Face-Emotion-Recognition/blob/main/Live_Class_Monitoring_System_(Face_Emotion_Recognition).ipynb\" target=\"_parent\"><img src=\"https://colab.research.google.com/assets/colab-badge.svg\" alt=\"Open In Colab\"/></a>"
      ]
    },
    {
      "cell_type": "markdown",
      "metadata": {
        "id": "PS-9XGzY8Oku"
      },
      "source": [
        "# **Live Class Monitoring System (Face Emotion Recognition)**\n",
        "\n",
        "## **Project Introduction**\n",
        "The Indian education landscape has been undergoing rapid changes for the past 10 years owing to the advancement of web-based learning services, specifically, eLearning platforms. \n",
        "\n",
        "Global E-learning is estimated to witness an 8X over the next 5 years to reach USD 2B in 2021. India is expected to grow with a CAGR of 44% crossing the 10M users mark in 2021. Although the market is growing on a rapid scale, there are major challenges associated with digital learning when compared with brick and mortar classrooms. One of many challenges is how to ensure quality learning for students. Digital platforms might overpower physical classrooms in terms of content quality but when it comes to understanding whether students are able to grasp the content in a live class scenario is yet an open-end challenge.\n",
        "\n",
        "In a physical classroom during a lecturing teacher can see the faces and assess the emotion of the class and tune their lecture accordingly, whether he is going fast or slow. He can identify students who need special attention. Digital classrooms are conducted via video telephony software program (exZoom) where it’s not possible for medium scale class (25-50) to see all students and access the mood. Because of this drawback, students are not focusing on content due to lack of surveillance. While digital platforms have limitations in terms of physical surveillance but it comes with the power of data and machines which can work for you. It provides data in the form of video, audio, and texts which can be analysed using deep learning algorithms. Deep learning backed system not only solves the surveillance issue, but it also removes the human bias from the system, and all information is no longer in the teacher’s brain rather translated in numbers that can be analysed and tracked.\n",
        "\n",
        "## **Problem Statement**\n",
        "The problem statement focuses on solving the above-mentioned challenge by applying deep learning algorithms to live video data. The solution to this problem is by recognizing facial emotions. This is a few shot learning live face emotion detection system. The model should be able to real-time identify the emotions of students in a live class.\n",
        "\n",
        "## **Dataset Link**\n",
        "Dataset: https://www.kaggle.com/msambare/fer2013\n"
      ]
    },
    {
      "cell_type": "markdown",
      "metadata": {
        "id": "nOZeBc8C-T1j"
      },
      "source": [
        "**-------------------------------------------------------------------------------------------------------------------------------------------------------------------**\n",
        "**-------------------------------------------------------------------------------------------------------------------------------------------------------------------**"
      ]
    },
    {
      "cell_type": "code",
      "execution_count": 340,
      "metadata": {
        "id": "DpzN4pK2r8U7",
        "colab": {
          "base_uri": "https://localhost:8080/"
        },
        "outputId": "7f31b6f2-b06e-4267-fe0a-c64b37e32eda"
      },
      "outputs": [
        {
          "output_type": "stream",
          "name": "stdout",
          "text": [
            "Tensorflow version ----->  2.8.0\n"
          ]
        }
      ],
      "source": [
        "# Importing necessary libraries.\n",
        "import numpy as np\n",
        "import pandas as pd\n",
        "import matplotlib.pyplot as plt\n",
        "import seaborn as sns\n",
        "import tensorflow as tf\n",
        "print(f'Tensorflow version ----->  {tf.__version__}')"
      ]
    },
    {
      "cell_type": "code",
      "execution_count": 341,
      "metadata": {
        "id": "yW57SAbBvqpy"
      },
      "outputs": [],
      "source": [
        "# Removing warnings.\n",
        "import warnings                                                                                \n",
        "warnings.filterwarnings('ignore')\n",
        "warnings.simplefilter('ignore')"
      ]
    },
    {
      "cell_type": "markdown",
      "metadata": {
        "id": "GE6gOohYsZwZ"
      },
      "source": [
        "Imported some of the basic libraries in order to get started & rest all the required libraries will be imported as and when required."
      ]
    },
    {
      "cell_type": "markdown",
      "metadata": {
        "id": "h832PnDQxMD0"
      },
      "source": [
        "## **Downloading & inspecting dataset**"
      ]
    },
    {
      "cell_type": "code",
      "execution_count": 342,
      "metadata": {
        "id": "caCaW34YxVRU",
        "outputId": "ceff612a-07fe-429c-847b-934632d4e31c",
        "colab": {
          "base_uri": "https://localhost:8080/"
        }
      },
      "outputs": [
        {
          "output_type": "stream",
          "name": "stdout",
          "text": [
            "Drive already mounted at /content/drive; to attempt to forcibly remount, call drive.mount(\"/content/drive\", force_remount=True).\n"
          ]
        }
      ],
      "source": [
        "# Mounting the drive.\n",
        "from google.colab import drive\n",
        "drive.mount('/content/drive')"
      ]
    },
    {
      "cell_type": "code",
      "execution_count": 343,
      "metadata": {
        "id": "JrgqhyzR6nSd"
      },
      "outputs": [],
      "source": [
        "# Accessing the dataset.\n",
        "filename = '/content/drive/MyDrive/Capstone Projects/Deep Learning/Live Class Monitoring System (Face Emotion Recognition)/Face Emotion Dataset.zip'"
      ]
    },
    {
      "cell_type": "markdown",
      "metadata": {
        "id": "wx4NZq8N665z"
      },
      "source": [
        "The dataset is actually in 'zip' format and it needs to be unzipped in order to use it."
      ]
    },
    {
      "cell_type": "code",
      "execution_count": 344,
      "metadata": {
        "id": "mvcm-DPC7MYp"
      },
      "outputs": [],
      "source": [
        "# Unzipping the dataset.\n",
        "import zipfile\n",
        "zip_ref = zipfile.ZipFile(filename)\n",
        "zip_ref.extractall()\n",
        "zip_ref.close()"
      ]
    },
    {
      "cell_type": "markdown",
      "metadata": {
        "id": "7VkUg8v78b4M"
      },
      "source": [
        "Here, the dataset is already splitted into train & test dataset."
      ]
    },
    {
      "cell_type": "code",
      "execution_count": 345,
      "metadata": {
        "colab": {
          "base_uri": "https://localhost:8080/"
        },
        "id": "TokoipOi-JZt",
        "outputId": "408174bc-ef73-4e8c-a7c2-2671d717163b"
      },
      "outputs": [
        {
          "output_type": "stream",
          "name": "stdout",
          "text": [
            "TRAINING DATA:\n",
            "\n",
            "There are 7 directories and 0 images in /content/train.\n",
            "There are 0 directories and 4965 images in /content/train/neutral.\n",
            "There are 0 directories and 3171 images in /content/train/surprise.\n",
            "There are 0 directories and 436 images in /content/train/disgust.\n",
            "There are 0 directories and 4830 images in /content/train/sad.\n",
            "There are 0 directories and 4097 images in /content/train/fear.\n",
            "There are 0 directories and 3995 images in /content/train/angry.\n",
            "There are 0 directories and 7215 images in /content/train/happy.\n",
            "\n",
            "\n",
            "TESTING DATA:\n",
            "\n",
            "There are 7 directories and 0 images in /content/test.\n",
            "There are 0 directories and 1233 images in /content/test/neutral.\n",
            "There are 0 directories and 831 images in /content/test/surprise.\n",
            "There are 0 directories and 111 images in /content/test/disgust.\n",
            "There are 0 directories and 1247 images in /content/test/sad.\n",
            "There are 0 directories and 1024 images in /content/test/fear.\n",
            "There are 0 directories and 958 images in /content/test/angry.\n",
            "There are 0 directories and 1774 images in /content/test/happy.\n"
          ]
        }
      ],
      "source": [
        "# Walking into the directories and listing the number of files in each directories.\n",
        "import os\n",
        "\n",
        "# Walking through the train data directory.\n",
        "print(f'TRAINING DATA:\\n')\n",
        "for dirpath, dirnames, filenames in os.walk('/content/train'):\n",
        "  print(f'There are {len(dirnames)} directories and {len(filenames)} images in {dirpath}.')\n",
        "\n",
        "\n",
        "# Walking through the test data directory.\n",
        "print(f'\\n\\nTESTING DATA:\\n')\n",
        "for dirpath, dirnames, filenames in os.walk('/content/test'):\n",
        "  print(f'There are {len(dirnames)} directories and {len(filenames)} images in {dirpath}.')"
      ]
    },
    {
      "cell_type": "markdown",
      "metadata": {
        "id": "Yhq86iti_z2J"
      },
      "source": [
        "So, basically there are 7 directories present in both train and test dataset which are nothing but the directories representing each class and each directories have a number of images belonging to that class. So, clearly we get an idea that this particular dataset has 7 classes."
      ]
    },
    {
      "cell_type": "code",
      "source": [
        "# Getting the class names programatically.\n",
        "import pathlib                                  # 'Pathlib' module in Python provides various classes representing file system paths.\n",
        "\n",
        "data_dir = pathlib.Path('/content/train')\n",
        "class_names = np.array(sorted([item.name for item in data_dir.glob('*')]))\n",
        "# Creates a list of class names from the sub-directories.\n",
        "\n",
        "print(class_names)"
      ],
      "metadata": {
        "colab": {
          "base_uri": "https://localhost:8080/"
        },
        "id": "LRfSy4lBZKdb",
        "outputId": "4fb7e6a2-e354-4e77-c134-9c6272a0eaff"
      },
      "execution_count": 346,
      "outputs": [
        {
          "output_type": "stream",
          "name": "stdout",
          "text": [
            "['angry' 'disgust' 'fear' 'happy' 'neutral' 'sad' 'surprise']\n"
          ]
        }
      ]
    },
    {
      "cell_type": "markdown",
      "metadata": {
        "id": "jLHKrH1aDhlF"
      },
      "source": [
        "Classes present in the dataset are:  \n",
        "1. **angry**\n",
        "2. **disgust** \n",
        "3. **fear** \n",
        "4. **happy**\n",
        "5. **neutral**\n",
        "6. **sad** \n",
        "7. **surprise**\n",
        "\n",
        "Each of these classes represents human emotions."
      ]
    },
    {
      "cell_type": "markdown",
      "metadata": {
        "id": "juQyhU96K03h"
      },
      "source": [
        "## **Visualising images of each class**\n",
        "\n",
        "Becoming one with the data by visualising different images of each classes which the dataset in comprised of."
      ]
    },
    {
      "cell_type": "code",
      "execution_count": 347,
      "metadata": {
        "id": "agtTIwLfK_IW"
      },
      "outputs": [],
      "source": [
        "# Creating a function to view random images of each class.\n",
        "import random\n",
        "import matplotlib.image as mpimg\n",
        "\n",
        "def view_random_images(target_directory, target_class):\n",
        "  \n",
        "  '''\n",
        "  Takes into the target directory and target class as a path and prints random images of the specified class from the dataset\n",
        "  '''\n",
        "  \n",
        "  # Creating a target folder which will store the folder path taking the directory name and class name.\n",
        "  target_folder = target_directory + '/' + target_class\n",
        "  \n",
        "  # Getting a random image from the target folder and printing the image number.\n",
        "  random_image = random.sample(os.listdir(target_folder),1)\n",
        "  print(f'Image number: {random_image}')\n",
        "\n",
        "  # Reading the image and plotting it using matploltib.\n",
        "  img = mpimg.imread(target_folder + '/' + random_image[0])\n",
        "  plt.imshow(img)\n",
        "  plt.title(target_class.upper(),fontsize = 15)\n",
        "  plt.axis('off')\n",
        "  plt.show()\n",
        "\n",
        "  # Printing the shape of the image along with the image.\n",
        "  print(f'Image shape : {img.shape}')\n",
        "  \n",
        "  return img"
      ]
    },
    {
      "cell_type": "code",
      "execution_count": 348,
      "metadata": {
        "colab": {
          "base_uri": "https://localhost:8080/",
          "height": 429
        },
        "id": "9jPDoebb2BMN",
        "outputId": "e084b9dc-3af4-4cae-8680-d309bf877bc1"
      },
      "outputs": [
        {
          "output_type": "stream",
          "name": "stdout",
          "text": [
            "Image number: ['Training_76833739.jpg']\n"
          ]
        },
        {
          "output_type": "display_data",
          "data": {
            "text/plain": [
              "<Figure size 432x288 with 1 Axes>"
            ],
            "image/png": "[encoded data removed]"
          },
          "metadata": {
            "needs_background": "light"
          }
        },
        {
          "output_type": "stream",
          "name": "stdout",
          "text": [
            "Image shape : (48, 48)\n"
          ]
        },
        {
          "output_type": "execute_result",
          "data": {
            "text/plain": [
              "array([[ 40,  43,  40, ...,  19,  16,  18],\n",
              "       [ 44,  43,  42, ...,  19,  22,  15],\n",
              "       [ 38,  42,  41, ...,  24,  20,  21],\n",
              "       ...,\n",
              "       [135, 134, 113, ...,  43,  42,  40],\n",
              "       [118, 100,  73, ...,  41,  38,  31],\n",
              "       [ 95,  81,  61, ...,  39,  32,  22]], dtype=uint8)"
            ]
          },
          "metadata": {},
          "execution_count": 348
        }
      ],
      "source": [
        "# Viewing 'angry' class image.\n",
        "view_random_images(target_directory = '/content/train',\n",
        "                   target_class = 'angry')"
      ]
    },
    {
      "cell_type": "code",
      "execution_count": 349,
      "metadata": {
        "colab": {
          "base_uri": "https://localhost:8080/",
          "height": 429
        },
        "id": "lk002Kno2qfP",
        "outputId": "284eba2a-ab7e-4406-8c52-479bf5c53513"
      },
      "outputs": [
        {
          "output_type": "stream",
          "name": "stdout",
          "text": [
            "Image number: ['Training_79938701.jpg']\n"
          ]
        },
        {
          "output_type": "display_data",
          "data": {
            "text/plain": [
              "<Figure size 432x288 with 1 Axes>"
            ],
            "image/png": "[encoded data removed]"
          },
          "metadata": {
            "needs_background": "light"
          }
        },
        {
          "output_type": "stream",
          "name": "stdout",
          "text": [
            "Image shape : (48, 48)\n"
          ]
        },
        {
          "output_type": "execute_result",
          "data": {
            "text/plain": [
              "array([[229, 170, 154, ..., 124, 133, 124],\n",
              "       [217, 168, 153, ..., 128, 127, 126],\n",
              "       [207, 162, 144, ..., 142, 124, 124],\n",
              "       ...,\n",
              "       [255, 255, 255, ...,  86,  90, 104],\n",
              "       [255, 255, 255, ...,  93, 103, 109],\n",
              "       [255, 255, 255, ...,  95, 107, 129]], dtype=uint8)"
            ]
          },
          "metadata": {},
          "execution_count": 349
        }
      ],
      "source": [
        "# Viewing 'disgust' class image.\n",
        "view_random_images(target_directory = '/content/train',\n",
        "                   target_class = 'disgust')"
      ]
    },
    {
      "cell_type": "code",
      "execution_count": 350,
      "metadata": {
        "colab": {
          "base_uri": "https://localhost:8080/",
          "height": 429
        },
        "id": "UwRLnHad23QK",
        "outputId": "dd4cd4a2-6b60-421b-fa93-e0872ef67832"
      },
      "outputs": [
        {
          "output_type": "stream",
          "name": "stdout",
          "text": [
            "Image number: ['Training_47270139.jpg']\n"
          ]
        },
        {
          "output_type": "display_data",
          "data": {
            "text/plain": [
              "<Figure size 432x288 with 1 Axes>"
            ],
            "image/png": "[encoded data removed]"
          },
          "metadata": {
            "needs_background": "light"
          }
        },
        {
          "output_type": "stream",
          "name": "stdout",
          "text": [
            "Image shape : (48, 48)\n"
          ]
        },
        {
          "output_type": "execute_result",
          "data": {
            "text/plain": [
              "array([[255, 254, 255, ..., 255, 254, 255],\n",
              "       [254, 255, 251, ..., 253, 255, 255],\n",
              "       [254, 254, 241, ..., 253, 252, 255],\n",
              "       ...,\n",
              "       [255, 199, 177, ..., 247, 248, 255],\n",
              "       [254, 207, 180, ..., 230, 242, 250],\n",
              "       [255, 224, 187, ..., 190, 240, 242]], dtype=uint8)"
            ]
          },
          "metadata": {},
          "execution_count": 350
        }
      ],
      "source": [
        "# Viewing 'fear' class image.\n",
        "view_random_images(target_directory = '/content/train',\n",
        "                   target_class = 'fear')"
      ]
    },
    {
      "cell_type": "code",
      "execution_count": 351,
      "metadata": {
        "colab": {
          "base_uri": "https://localhost:8080/",
          "height": 429
        },
        "id": "IbbkRsDT3Jat",
        "outputId": "617c9e31-2348-49f3-9d5e-6c528222e6f4"
      },
      "outputs": [
        {
          "output_type": "stream",
          "name": "stdout",
          "text": [
            "Image number: ['Training_60859368.jpg']\n"
          ]
        },
        {
          "output_type": "display_data",
          "data": {
            "text/plain": [
              "<Figure size 432x288 with 1 Axes>"
            ],
            "image/png": "[encoded data removed]"
          },
          "metadata": {
            "needs_background": "light"
          }
        },
        {
          "output_type": "stream",
          "name": "stdout",
          "text": [
            "Image shape : (48, 48)\n"
          ]
        },
        {
          "output_type": "execute_result",
          "data": {
            "text/plain": [
              "array([[254, 254, 254, ..., 254, 254, 254],\n",
              "       [254, 254, 254, ..., 255, 254, 254],\n",
              "       [254, 254, 254, ..., 255, 254, 254],\n",
              "       ...,\n",
              "       [254, 254, 254, ...,  27, 100, 213],\n",
              "       [254, 254, 254, ...,  32,  22,  70],\n",
              "       [254, 254, 254, ...,  25,  26,  20]], dtype=uint8)"
            ]
          },
          "metadata": {},
          "execution_count": 351
        }
      ],
      "source": [
        "# Viewing 'happy' class image.\n",
        "view_random_images(target_directory = '/content/train',\n",
        "                   target_class = 'happy')"
      ]
    },
    {
      "cell_type": "code",
      "execution_count": 352,
      "metadata": {
        "colab": {
          "base_uri": "https://localhost:8080/",
          "height": 429
        },
        "id": "2BopBN8w3Oeh",
        "outputId": "2c5a6eb2-ba9b-4c14-f443-f3feb6fe781b"
      },
      "outputs": [
        {
          "output_type": "stream",
          "name": "stdout",
          "text": [
            "Image number: ['Training_35142742.jpg']\n"
          ]
        },
        {
          "output_type": "display_data",
          "data": {
            "text/plain": [
              "<Figure size 432x288 with 1 Axes>"
            ],
            "image/png": "[encoded data removed]"
          },
          "metadata": {
            "needs_background": "light"
          }
        },
        {
          "output_type": "stream",
          "name": "stdout",
          "text": [
            "Image shape : (48, 48)\n"
          ]
        },
        {
          "output_type": "execute_result",
          "data": {
            "text/plain": [
              "array([[151, 150, 149, ...,  57,  47,  38],\n",
              "       [149, 149, 148, ...,  66,  52,  48],\n",
              "       [148, 153, 156, ...,  87,  59,  43],\n",
              "       ...,\n",
              "       [142, 139, 139, ...,   0,  23, 122],\n",
              "       [139, 137, 136, ...,   3,  98, 134],\n",
              "       [134, 136, 135, ...,  33, 125, 113]], dtype=uint8)"
            ]
          },
          "metadata": {},
          "execution_count": 352
        }
      ],
      "source": [
        "# Viewing 'neutral' class image.\n",
        "view_random_images(target_directory = '/content/train',\n",
        "                   target_class = 'neutral')"
      ]
    },
    {
      "cell_type": "code",
      "execution_count": 353,
      "metadata": {
        "colab": {
          "base_uri": "https://localhost:8080/",
          "height": 429
        },
        "id": "kfV_8bQU3YMT",
        "outputId": "aad818cf-d305-496c-f4bb-a2c639ca195e"
      },
      "outputs": [
        {
          "output_type": "stream",
          "name": "stdout",
          "text": [
            "Image number: ['Training_95414233.jpg']\n"
          ]
        },
        {
          "output_type": "display_data",
          "data": {
            "text/plain": [
              "<Figure size 432x288 with 1 Axes>"
            ],
            "image/png": "[encoded data removed]"
          },
          "metadata": {
            "needs_background": "light"
          }
        },
        {
          "output_type": "stream",
          "name": "stdout",
          "text": [
            "Image shape : (48, 48)\n"
          ]
        },
        {
          "output_type": "execute_result",
          "data": {
            "text/plain": [
              "array([[166,  85, 155, ...,  33,  32,  31],\n",
              "       [130,  82,  81, ...,  26,  29,  37],\n",
              "       [ 93, 113, 113, ...,  32,  27,  26],\n",
              "       ...,\n",
              "       [252, 251, 248, ...,  65,  76,  46],\n",
              "       [250, 250, 251, ...,  62,  93,  73],\n",
              "       [250, 247, 247, ...,  62,  91,  82]], dtype=uint8)"
            ]
          },
          "metadata": {},
          "execution_count": 353
        }
      ],
      "source": [
        "# Viewing 'sad' class image.\n",
        "view_random_images(target_directory = '/content/train',\n",
        "                   target_class = 'sad')"
      ]
    },
    {
      "cell_type": "code",
      "execution_count": 354,
      "metadata": {
        "colab": {
          "base_uri": "https://localhost:8080/",
          "height": 429
        },
        "id": "1FYwTQGn3gtS",
        "outputId": "e701fb77-1e90-4ba8-9b4e-2032c9340e12"
      },
      "outputs": [
        {
          "output_type": "stream",
          "name": "stdout",
          "text": [
            "Image number: ['Training_62432692.jpg']\n"
          ]
        },
        {
          "output_type": "display_data",
          "data": {
            "text/plain": [
              "<Figure size 432x288 with 1 Axes>"
            ],
            "image/png": "[encoded data removed]"
          },
          "metadata": {
            "needs_background": "light"
          }
        },
        {
          "output_type": "stream",
          "name": "stdout",
          "text": [
            "Image shape : (48, 48)\n"
          ]
        },
        {
          "output_type": "execute_result",
          "data": {
            "text/plain": [
              "array([[ 94,  95,  96, ..., 107, 111, 111],\n",
              "       [ 97,  97,  96, ..., 108, 112, 108],\n",
              "       [ 96,  97,  96, ...,  94, 111, 112],\n",
              "       ...,\n",
              "       [134, 127, 125, ...,  40,  92, 110],\n",
              "       [129, 125, 109, ...,  99, 107, 109],\n",
              "       [133, 115, 110, ..., 126, 121, 120]], dtype=uint8)"
            ]
          },
          "metadata": {},
          "execution_count": 354
        }
      ],
      "source": [
        "# Viewing 'surprise' class image.\n",
        "view_random_images(target_directory = '/content/train',\n",
        "                   target_class = 'surprise')"
      ]
    },
    {
      "cell_type": "markdown",
      "metadata": {
        "id": "C-ZefKCa67cV"
      },
      "source": [
        "Points to be noted after viewing the images above:\n",
        "* Image values are not scaled.\n",
        "* Images are of shape 48X48.\n",
        "* Images are not in RGB colour mode."
      ]
    },
    {
      "cell_type": "markdown",
      "metadata": {
        "id": "1YQL8hex5kMv"
      },
      "source": [
        "## **Pre-processing data**"
      ]
    },
    {
      "cell_type": "markdown",
      "metadata": {
        "id": "tEpZeswf3-Xp"
      },
      "source": [
        "The image array values needs scaling in order to make our model perform better."
      ]
    },
    {
      "cell_type": "code",
      "execution_count": 355,
      "metadata": {
        "id": "KmuWgj455fV7"
      },
      "outputs": [],
      "source": [
        "# Setting up the path to data directories.\n",
        "train_dir = '/content/train'\n",
        "test_dir = '/content/test'"
      ]
    },
    {
      "cell_type": "code",
      "execution_count": 356,
      "metadata": {
        "id": "MZgfCVQK9Xqf"
      },
      "outputs": [],
      "source": [
        "# Flipping and scaling the data.\n",
        "from tensorflow.keras.preprocessing.image import ImageDataGenerator\n",
        "\n",
        "train_datagen = ImageDataGenerator(rescale = 1./255)\n",
        "validation_datagen = ImageDataGenerator(rescale = 1./255)"
      ]
    },
    {
      "cell_type": "code",
      "execution_count": 357,
      "metadata": {
        "colab": {
          "base_uri": "https://localhost:8080/"
        },
        "id": "x4agQo2KAWsQ",
        "outputId": "d0d818da-1417-4e9e-83ab-70896d56554f"
      },
      "outputs": [
        {
          "output_type": "stream",
          "name": "stdout",
          "text": [
            "Found 28709 images belonging to 7 classes.\n",
            "Found 7178 images belonging to 7 classes.\n"
          ]
        }
      ],
      "source": [
        "# Getting the train and test(validation) dataset ready for model creation.\n",
        "train_data = train_datagen.flow_from_directory(directory = train_dir,              \n",
        "                                               batch_size = 32,                 \n",
        "                                               target_size = (48, 48),          \n",
        "                                               color_mode = 'grayscale',                                \n",
        "                                               class_mode = 'categorical')\n",
        "\n",
        "test_data = validation_datagen.flow_from_directory(directory = test_dir,              \n",
        "                                                   batch_size = 32,                 \n",
        "                                                   target_size = (48, 48),          \n",
        "                                                   color_mode = 'grayscale',              \n",
        "                                                   shuffle = False,                  \n",
        "                                                   class_mode = 'categorical')"
      ]
    },
    {
      "cell_type": "markdown",
      "metadata": {
        "id": "o9IFGgkTEeA_"
      },
      "source": [
        "* Training set has **28709** images in total belonging to 7 classes.\n",
        "* Testing set has **7178** images in total belonging to 7 classes."
      ]
    },
    {
      "cell_type": "markdown",
      "metadata": {
        "id": "IrtEGt3i7kpO"
      },
      "source": [
        "**As, the pre-processing stage is handled as per requirement, now its time to create different models using different architectures and comparing the model performances, post model training and choosing the one with highest accuracy in order to use it in the face emotion detection application.**"
      ]
    },
    {
      "cell_type": "markdown",
      "metadata": {
        "id": "jY2CY7xx8fkN"
      },
      "source": [
        "## **Model building**\n",
        "\n",
        "Architectures which will be used in order to build models are as follows:\n",
        "1. **Convolutional Neural Networks (CNN)**\n",
        "2. **resnet50**\n",
        "3. **EfficientNetB0**\n",
        "\n",
        "At first \"CNN\" will be used to create model followed by transfer learning using \"ResNet50\", \"EfficientNetB0\"."
      ]
    },
    {
      "cell_type": "markdown",
      "metadata": {
        "id": "UfVB40w5CZDM"
      },
      "source": [
        "Changing the runtime type to \"GPU\" which is offered by Google Colaboratory in order to train the model faster."
      ]
    },
    {
      "cell_type": "code",
      "execution_count": 358,
      "metadata": {
        "id": "WLrNrPliC73w",
        "colab": {
          "base_uri": "https://localhost:8080/"
        },
        "outputId": "4ce80319-cb93-4dd3-c91b-7ee61a2f44ba"
      },
      "outputs": [
        {
          "output_type": "stream",
          "name": "stdout",
          "text": [
            "Tue May 10 18:32:13 2022       \n",
            "+-----------------------------------------------------------------------------+\n",
            "| NVIDIA-SMI 460.32.03    Driver Version: 460.32.03    CUDA Version: 11.2     |\n",
            "|-------------------------------+----------------------+----------------------+\n",
            "| GPU  Name        Persistence-M| Bus-Id        Disp.A | Volatile Uncorr. ECC |\n",
            "| Fan  Temp  Perf  Pwr:Usage/Cap|         Memory-Usage | GPU-Util  Compute M. |\n",
            "|                               |                      |               MIG M. |\n",
            "|===============================+======================+======================|\n",
            "|   0  Tesla T4            Off  | 00000000:00:04.0 Off |                    0 |\n",
            "| N/A   71C    P0    29W /  70W |   8980MiB / 15109MiB |      0%      Default |\n",
            "|                               |                      |                  N/A |\n",
            "+-------------------------------+----------------------+----------------------+\n",
            "                                                                               \n",
            "+-----------------------------------------------------------------------------+\n",
            "| Processes:                                                                  |\n",
            "|  GPU   GI   CI        PID   Type   Process name                  GPU Memory |\n",
            "|        ID   ID                                                   Usage      |\n",
            "|=============================================================================|\n",
            "+-----------------------------------------------------------------------------+\n"
          ]
        }
      ],
      "source": [
        "# Checking the GPU details.\n",
        "!nvidia-smi"
      ]
    },
    {
      "cell_type": "markdown",
      "source": [
        "So, **Tesla T4** GPU has been allocated by google colab."
      ],
      "metadata": {
        "id": "LscdwVmoQ5Zw"
      }
    },
    {
      "cell_type": "markdown",
      "metadata": {
        "id": "5VEwvLtfBnAf"
      },
      "source": [
        "### **Custom CNN model**\n",
        "\n",
        "CNN is a deep learning neural network sketched for processing structured arrays of data such as portrayals or images. CNN are very good at picking up on patterns in the input image, such as lines, gradients, circles or even eyes and faces. "
      ]
    },
    {
      "cell_type": "code",
      "execution_count": 359,
      "metadata": {
        "id": "aS3tyQS8CCSq"
      },
      "outputs": [],
      "source": [
        "# Building a CNN model using the sequential API.\n",
        "from tensorflow.keras.layers import Dense, Flatten, Conv2D, MaxPool2D, BatchNormalization, Dropout\n",
        "from tensorflow.keras import Sequential\n",
        "from tensorflow.keras.optimizers import Adam\n",
        "from tensorflow.keras.callbacks import Callback, EarlyStopping, ReduceLROnPlateau\n",
        "\n",
        "model_A = Sequential([\n",
        "    \n",
        "    # 1st CNN layer.\n",
        "    Conv2D(64, (3,3), padding = 'same', input_shape = (48,48,1), activation = 'relu'),\n",
        "    BatchNormalization(),\n",
        "    MaxPool2D(pool_size = (2,2)),\n",
        "    Dropout(0.25),\n",
        "\n",
        "    # 2nd CNN layer.\n",
        "    Conv2D(128, (5,5), padding = 'same',activation = 'relu'),\n",
        "    BatchNormalization(),\n",
        "    MaxPool2D(pool_size = (2,2)),\n",
        "    Dropout(0.25),\n",
        "\n",
        "    # 3rd CNN layer.\n",
        "    Conv2D(512, (3,3), padding = 'same',activation = 'relu'),\n",
        "    BatchNormalization(),\n",
        "    MaxPool2D(pool_size = (2,2)),\n",
        "    Dropout(0.25),\n",
        "\n",
        "    # 4th CNN layer.\n",
        "    Conv2D(512, (3,3), padding = 'same',activation = 'relu'),\n",
        "    BatchNormalization(),\n",
        "    MaxPool2D(pool_size = (2,2)),\n",
        "    Dropout(0.25),\n",
        "\n",
        "    # Layer to flatten the input layer.\n",
        "    Flatten(),\n",
        "\n",
        "    # 1st fully connected layer.\n",
        "    Dense(256, activation = 'relu'),\n",
        "    BatchNormalization(),\n",
        "    Dropout(0.25),\n",
        "\n",
        "    # 2nd fully connected layer.\n",
        "    Dense(512, activation = 'relu'),\n",
        "    BatchNormalization(),\n",
        "    Dropout(0.25),\n",
        "\n",
        "    # Output layer.\n",
        "    Dense(7, activation = 'softmax')                             # Number of classes = 7.\n",
        "])"
      ]
    },
    {
      "cell_type": "code",
      "execution_count": 360,
      "metadata": {
        "id": "PKze7T2NqmGI"
      },
      "outputs": [],
      "source": [
        "# Compiling the model.\n",
        "model_A.compile(loss = 'categorical_crossentropy',\n",
        "                optimizer = Adam(learning_rate = 0.0001),\n",
        "                metrics = ['accuracy'])"
      ]
    },
    {
      "cell_type": "code",
      "execution_count": 361,
      "metadata": {
        "id": "HqkQKAan9Piv"
      },
      "outputs": [],
      "source": [
        "# Creating callbacks.\n",
        "early_stopping = EarlyStopping(monitor='val_loss',\n",
        "                              min_delta=0,\n",
        "                              patience=3,\n",
        "                              verbose=1,\n",
        "                              restore_best_weights=True)\n",
        "# Stops training when a monitored metric has stopped improving.\n",
        "\n",
        "\n",
        "reduce_learningrate = ReduceLROnPlateau(monitor='val_loss',\n",
        "                                        factor=0.2,\n",
        "                                        patience=3,\n",
        "                                        verbose=1,\n",
        "                                        min_delta=0.0001)\n",
        "# Reduces learning rate when a metric stops improving."
      ]
    },
    {
      "cell_type": "code",
      "execution_count": 362,
      "metadata": {
        "colab": {
          "base_uri": "https://localhost:8080/"
        },
        "id": "8Fscc2AZ-nQb",
        "outputId": "0870789f-a9bb-4446-b915-6db6e620cf87"
      },
      "outputs": [
        {
          "output_type": "stream",
          "name": "stdout",
          "text": [
            "Epoch 1/50\n",
            "898/898 [==============================] - 19s 19ms/step - loss: 2.2414 - accuracy: 0.2262 - val_loss: 1.8499 - val_accuracy: 0.2992 - lr: 1.0000e-04\n",
            "Epoch 2/50\n",
            "898/898 [==============================] - 17s 19ms/step - loss: 1.9273 - accuracy: 0.2996 - val_loss: 1.6917 - val_accuracy: 0.3610 - lr: 1.0000e-04\n",
            "Epoch 3/50\n",
            "898/898 [==============================] - 17s 19ms/step - loss: 1.7614 - accuracy: 0.3495 - val_loss: 1.5542 - val_accuracy: 0.4160 - lr: 1.0000e-04\n",
            "Epoch 4/50\n",
            "898/898 [==============================] - 17s 19ms/step - loss: 1.6284 - accuracy: 0.3926 - val_loss: 1.4830 - val_accuracy: 0.4390 - lr: 1.0000e-04\n",
            "Epoch 5/50\n",
            "898/898 [==============================] - 17s 19ms/step - loss: 1.5214 - accuracy: 0.4273 - val_loss: 1.3753 - val_accuracy: 0.4741 - lr: 1.0000e-04\n",
            "Epoch 6/50\n",
            "898/898 [==============================] - 17s 19ms/step - loss: 1.4261 - accuracy: 0.4619 - val_loss: 1.3766 - val_accuracy: 0.5007 - lr: 1.0000e-04\n",
            "Epoch 7/50\n",
            "898/898 [==============================] - 17s 19ms/step - loss: 1.3496 - accuracy: 0.4918 - val_loss: 1.2790 - val_accuracy: 0.5286 - lr: 1.0000e-04\n",
            "Epoch 8/50\n",
            "898/898 [==============================] - 17s 19ms/step - loss: 1.2813 - accuracy: 0.5158 - val_loss: 1.1990 - val_accuracy: 0.5437 - lr: 1.0000e-04\n",
            "Epoch 9/50\n",
            "898/898 [==============================] - 17s 19ms/step - loss: 1.2211 - accuracy: 0.5377 - val_loss: 1.1656 - val_accuracy: 0.5642 - lr: 1.0000e-04\n",
            "Epoch 10/50\n",
            "898/898 [==============================] - 17s 19ms/step - loss: 1.1799 - accuracy: 0.5532 - val_loss: 1.2156 - val_accuracy: 0.5565 - lr: 1.0000e-04\n",
            "Epoch 11/50\n",
            "898/898 [==============================] - 17s 19ms/step - loss: 1.1231 - accuracy: 0.5745 - val_loss: 1.1515 - val_accuracy: 0.5658 - lr: 1.0000e-04\n",
            "Epoch 12/50\n",
            "898/898 [==============================] - 17s 19ms/step - loss: 1.0823 - accuracy: 0.5911 - val_loss: 1.0969 - val_accuracy: 0.5977 - lr: 1.0000e-04\n",
            "Epoch 13/50\n",
            "898/898 [==============================] - 17s 19ms/step - loss: 1.0349 - accuracy: 0.6088 - val_loss: 1.0689 - val_accuracy: 0.5972 - lr: 1.0000e-04\n",
            "Epoch 14/50\n",
            "898/898 [==============================] - 17s 19ms/step - loss: 0.9928 - accuracy: 0.6281 - val_loss: 1.0692 - val_accuracy: 0.6102 - lr: 1.0000e-04\n",
            "Epoch 15/50\n",
            "898/898 [==============================] - 17s 19ms/step - loss: 0.9528 - accuracy: 0.6462 - val_loss: 1.0850 - val_accuracy: 0.6099 - lr: 1.0000e-04\n",
            "Epoch 16/50\n",
            "898/898 [==============================] - 17s 19ms/step - loss: 0.9027 - accuracy: 0.6638 - val_loss: 1.0618 - val_accuracy: 0.6113 - lr: 1.0000e-04\n",
            "Epoch 17/50\n",
            "898/898 [==============================] - 17s 19ms/step - loss: 0.8614 - accuracy: 0.6818 - val_loss: 1.0462 - val_accuracy: 0.6251 - lr: 1.0000e-04\n",
            "Epoch 18/50\n",
            "898/898 [==============================] - 17s 19ms/step - loss: 0.8132 - accuracy: 0.6949 - val_loss: 1.0742 - val_accuracy: 0.6225 - lr: 1.0000e-04\n",
            "Epoch 19/50\n",
            "898/898 [==============================] - 18s 20ms/step - loss: 0.7679 - accuracy: 0.7125 - val_loss: 1.0674 - val_accuracy: 0.6254 - lr: 1.0000e-04\n",
            "Epoch 20/50\n",
            "898/898 [==============================] - ETA: 0s - loss: 0.7275 - accuracy: 0.7297Restoring model weights from the end of the best epoch: 17.\n",
            "\n",
            "Epoch 20: ReduceLROnPlateau reducing learning rate to 1.9999999494757503e-05.\n",
            "898/898 [==============================] - 17s 19ms/step - loss: 0.7275 - accuracy: 0.7297 - val_loss: 1.0777 - val_accuracy: 0.6324 - lr: 1.0000e-04\n",
            "Epoch 20: early stopping\n"
          ]
        }
      ],
      "source": [
        "# Fitting the model.\n",
        "history_model_A = model_A.fit_generator(generator = train_data,\n",
        "                                        epochs = 50,\n",
        "                                        steps_per_epoch = len(train_data),\n",
        "                                        validation_data = test_data,\n",
        "                                        validation_steps = test_data.n // test_data.batch_size,\n",
        "                                        callbacks = [early_stopping, reduce_learningrate]) "
      ]
    },
    {
      "cell_type": "code",
      "source": [
        "# Evaluating model performance on overall test data.\n",
        "model_A.evaluate(test_data)"
      ],
      "metadata": {
        "colab": {
          "base_uri": "https://localhost:8080/"
        },
        "id": "tmbhDyrgLhg5",
        "outputId": "84a96a5c-75f6-44e1-a1d7-1c7913697065"
      },
      "execution_count": 363,
      "outputs": [
        {
          "output_type": "stream",
          "name": "stdout",
          "text": [
            "225/225 [==============================] - 2s 11ms/step - loss: 1.0458 - accuracy: 0.6252\n"
          ]
        },
        {
          "output_type": "execute_result",
          "data": {
            "text/plain": [
              "[1.045801043510437, 0.6252437829971313]"
            ]
          },
          "metadata": {},
          "execution_count": 363
        }
      ]
    },
    {
      "cell_type": "markdown",
      "source": [
        "Accuracy score on overall test dataset came out to be **62.52%**"
      ],
      "metadata": {
        "id": "Ue3ssadBRZDQ"
      }
    },
    {
      "cell_type": "code",
      "source": [
        "# Checking the model summary.\n",
        "model_A.summary()"
      ],
      "metadata": {
        "colab": {
          "base_uri": "https://localhost:8080/"
        },
        "id": "x8Q8M7g6MS8d",
        "outputId": "8e9af28f-cf53-4cd2-f4a0-d042d83061a2"
      },
      "execution_count": 364,
      "outputs": [
        {
          "output_type": "stream",
          "name": "stdout",
          "text": [
            "Model: \"sequential_21\"\n",
            "_________________________________________________________________\n",
            " Layer (type)                Output Shape              Param #   \n",
            "=================================================================\n",
            " conv2d_44 (Conv2D)          (None, 48, 48, 64)        640       \n",
            "                                                                 \n",
            " batch_normalization_96 (Bat  (None, 48, 48, 64)       256       \n",
            " chNormalization)                                                \n",
            "                                                                 \n",
            " max_pooling2d_44 (MaxPoolin  (None, 24, 24, 64)       0         \n",
            " g2D)                                                            \n",
            "                                                                 \n",
            " dropout_96 (Dropout)        (None, 24, 24, 64)        0         \n",
            "                                                                 \n",
            " conv2d_45 (Conv2D)          (None, 24, 24, 128)       204928    \n",
            "                                                                 \n",
            " batch_normalization_97 (Bat  (None, 24, 24, 128)      512       \n",
            " chNormalization)                                                \n",
            "                                                                 \n",
            " max_pooling2d_45 (MaxPoolin  (None, 12, 12, 128)      0         \n",
            " g2D)                                                            \n",
            "                                                                 \n",
            " dropout_97 (Dropout)        (None, 12, 12, 128)       0         \n",
            "                                                                 \n",
            " conv2d_46 (Conv2D)          (None, 12, 12, 512)       590336    \n",
            "                                                                 \n",
            " batch_normalization_98 (Bat  (None, 12, 12, 512)      2048      \n",
            " chNormalization)                                                \n",
            "                                                                 \n",
            " max_pooling2d_46 (MaxPoolin  (None, 6, 6, 512)        0         \n",
            " g2D)                                                            \n",
            "                                                                 \n",
            " dropout_98 (Dropout)        (None, 6, 6, 512)         0         \n",
            "                                                                 \n",
            " conv2d_47 (Conv2D)          (None, 6, 6, 512)         2359808   \n",
            "                                                                 \n",
            " batch_normalization_99 (Bat  (None, 6, 6, 512)        2048      \n",
            " chNormalization)                                                \n",
            "                                                                 \n",
            " max_pooling2d_47 (MaxPoolin  (None, 3, 3, 512)        0         \n",
            " g2D)                                                            \n",
            "                                                                 \n",
            " dropout_99 (Dropout)        (None, 3, 3, 512)         0         \n",
            "                                                                 \n",
            " flatten_21 (Flatten)        (None, 4608)              0         \n",
            "                                                                 \n",
            " dense_64 (Dense)            (None, 256)               1179904   \n",
            "                                                                 \n",
            " batch_normalization_100 (Ba  (None, 256)              1024      \n",
            " tchNormalization)                                               \n",
            "                                                                 \n",
            " dropout_100 (Dropout)       (None, 256)               0         \n",
            "                                                                 \n",
            " dense_65 (Dense)            (None, 512)               131584    \n",
            "                                                                 \n",
            " batch_normalization_101 (Ba  (None, 512)              2048      \n",
            " tchNormalization)                                               \n",
            "                                                                 \n",
            " dropout_101 (Dropout)       (None, 512)               0         \n",
            "                                                                 \n",
            " dense_66 (Dense)            (None, 7)                 3591      \n",
            "                                                                 \n",
            "=================================================================\n",
            "Total params: 4,478,727\n",
            "Trainable params: 4,474,759\n",
            "Non-trainable params: 3,968\n",
            "_________________________________________________________________\n"
          ]
        }
      ]
    },
    {
      "cell_type": "code",
      "source": [
        "# Prediction For Test Set\n",
        "predictions = model_A.predict(test_data)\n",
        "\n",
        "# Printing Confution Matrix\n",
        "from sklearn.metrics import confusion_matrix\n",
        "cm = confusion_matrix(y_pred = np.argmax(predictions, axis=-1), y_true = test_data.classes)                         \n",
        "cm"
      ],
      "metadata": {
        "colab": {
          "base_uri": "https://localhost:8080/"
        },
        "id": "CCqJT0Y2ZbYV",
        "outputId": "9f0f4bb2-6aca-42ab-ae7e-46c51c558922"
      },
      "execution_count": 365,
      "outputs": [
        {
          "output_type": "execute_result",
          "data": {
            "text/plain": [
              "array([[ 503,   17,   89,   73,  108,  143,   25],\n",
              "       [  24,   63,    5,    5,    5,    7,    2],\n",
              "       [ 108,   12,  395,   43,  119,  234,  113],\n",
              "       [  46,    1,   32, 1484,   99,   73,   39],\n",
              "       [  84,    4,   70,  106,  746,  208,   15],\n",
              "       [ 128,    8,  143,   98,  204,  650,   16],\n",
              "       [  17,    3,   62,   49,   34,   19,  647]])"
            ]
          },
          "metadata": {},
          "execution_count": 365
        }
      ]
    },
    {
      "cell_type": "code",
      "source": [
        "# Computing predictions.\n",
        "predictions = model_A.predict_generator(generator=test_data)\n",
        "y_pred = [np.argmax(probas) for probas in predictions]\n",
        "y_test = test_data.classes\n",
        "class_names = test_data.class_indices.keys()\n",
        "\n",
        "\n",
        "# Creating function to plot confusion matrix.\n",
        "from sklearn.metrics import confusion_matrix\n",
        "import itertools\n",
        "def plot_confusion_matrix(cm, classes, title='Confusion matrix', cmap = plt.cm.PuRd):\n",
        "    cm = cm.astype('float') / cm.sum(axis=1)[:, np.newaxis]\n",
        "    plt.figure(figsize=(10,10))\n",
        "    plt.imshow(cm, interpolation='nearest', cmap=cmap)\n",
        "    plt.title(title)\n",
        "    plt.colorbar()\n",
        "    tick_marks = np.arange(len(classes))\n",
        "    plt.xticks(tick_marks, classes, rotation=45)\n",
        "    plt.yticks(tick_marks, classes)\n",
        "\n",
        "    fmt = '.2f'\n",
        "    thresh = cm.max() / 2.\n",
        "    for i, j in itertools.product(range(cm.shape[0]), range(cm.shape[1])):\n",
        "        plt.text(j, i, format(cm[i, j], fmt),\n",
        "                 horizontalalignment=\"center\",\n",
        "                 color=\"white\" if cm[i, j] > thresh else \"black\")\n",
        "\n",
        "    plt.ylabel('True label')# **Live Class Monitoring System(Face Emotion Recognition)**\n",
        "    plt.xlabel('Predicted label')\n",
        "    plt.tight_layout()\n",
        "    plt.show()\n",
        "    \n",
        "# Compute confusion matrix.\n",
        "cnf_matrix = confusion_matrix(y_test, y_pred)\n",
        "np.set_printoptions(precision=2)\n",
        "\n",
        "# Plotting normalized confusion matrix.\n",
        "plt.figure()\n",
        "plot_confusion_matrix(cnf_matrix,  classes = class_names, title='Normalized confusion matrix')\n",
        "plt.show()"
      ],
      "metadata": {
        "colab": {
          "base_uri": "https://localhost:8080/",
          "height": 739
        },
        "id": "O2JjpkN8XZAQ",
        "outputId": "1ab7ff87-69c4-4d02-c833-9a6d9ce95e84"
      },
      "execution_count": 366,
      "outputs": [
        {
          "output_type": "display_data",
          "data": {
            "text/plain": [
              "<Figure size 432x288 with 0 Axes>"
            ]
          },
          "metadata": {}
        },
        {
          "output_type": "display_data",
          "data": {
            "text/plain": [
              "<Figure size 720x720 with 2 Axes>"
            ],
            "image/png": "[encoded data removed]"
          },
          "metadata": {
            "needs_background": "light"
          }
        }
      ]
    },
    {
      "cell_type": "markdown",
      "source": [
        "This CNN model does a good job in predicting the happy & surprised faces while the model predicts the fear & disgust faces quite poorly."
      ],
      "metadata": {
        "id": "crMNlEwyZ8HX"
      }
    },
    {
      "cell_type": "code",
      "source": [
        "# Creating a function to plot the validation and training curves separately.\n",
        "def plot_loss_curves(history):\n",
        "  '''\n",
        "  Returns separate loss curves for training and validation set\n",
        "  '''\n",
        "  \n",
        "  loss = history.history['loss']\n",
        "  val_loss = history.history['val_loss']\n",
        "\n",
        "  accuracy = history.history['accuracy']\n",
        "  val_accuracy = history.history['val_accuracy']\n",
        "\n",
        "  epochs = range(len(history.history['loss']))\n",
        "\n",
        "  # PLotting loss.\n",
        "  plt.plot(epochs, loss, label = 'training_loss',linewidth=3)\n",
        "  plt.plot(epochs, val_loss, label = 'val_loss',linewidth=3)\n",
        "  plt.title('LOSS CURVE',fontsize = 25)\n",
        "  plt.legend()\n",
        "  plt.grid()\n",
        "  plt.show()\n",
        "\n",
        "  # Plotting accuracy.\n",
        "  plt.figure()                                                             \n",
        "  plt.plot(epochs, accuracy, label = 'training_accuracy',linewidth=3)\n",
        "  plt.plot(epochs, val_accuracy, label = 'val_accuracy',linewidth=3)\n",
        "  plt.title('ACCURACY',fontsize = 25)\n",
        "  plt.legend()\n",
        "  plt.grid()\n",
        "  plt.show()"
      ],
      "metadata": {
        "id": "2eqzJkb1M3n1"
      },
      "execution_count": 367,
      "outputs": []
    },
    {
      "cell_type": "code",
      "source": [
        "# Plotting the loss curves.\n",
        "plot_loss_curves(history_model_A)"
      ],
      "metadata": {
        "colab": {
          "base_uri": "https://localhost:8080/",
          "height": 563
        },
        "id": "OZqe08gnPrF_",
        "outputId": "3d80d9c8-7fcf-4658-e631-9e3a694fc554"
      },
      "execution_count": 368,
      "outputs": [
        {
          "output_type": "display_data",
          "data": {
            "text/plain": [
              "<Figure size 432x288 with 1 Axes>"
            ],
            "image/png": "[encoded data removed]"
          },
          "metadata": {
            "needs_background": "light"
          }
        },
        {
          "output_type": "display_data",
          "data": {
            "text/plain": [
              "<Figure size 432x288 with 1 Axes>"
            ],
            "image/png": "[encoded data removed]"
          },
          "metadata": {
            "needs_background": "light"
          }
        }
      ]
    },
    {
      "cell_type": "markdown",
      "source": [
        "**The training gave the accuracy of 72.97% and val_accuracy of 62.52%. The model performed better than average.**"
      ],
      "metadata": {
        "id": "XYyD40VQRAVx"
      }
    },
    {
      "cell_type": "markdown",
      "source": [
        "### **ResNet50**\n",
        "\n",
        "ResNet50 is a pre-trained convolutional nerual network that is 50 layers deep(48 Convolution layers along with 1 MaxPool and 1 Average Pool layer). A residual neural network (ResNet) is an artificial neural network (ANN) of a kind that stacks residual blocks on top of each other to form a network."
      ],
      "metadata": {
        "id": "VOF6OPkTeRq0"
      }
    },
    {
      "cell_type": "code",
      "source": [
        "# ResNet is trained on RGB images and we have grascaled images so converting colour mode to RGB.\n",
        "train_datagen = ImageDataGenerator(horizontal_flip=True,\n",
        "                                   brightness_range=[0.8,1.2],\n",
        "                                   rescale=1./255)\n",
        "validation_datagen = ImageDataGenerator(horizontal_flip=True,\n",
        "                                        brightness_range=[0.8,1.2],\n",
        "                                        rescale=1./255)"
      ],
      "metadata": {
        "id": "1U3fJhLqLcf8"
      },
      "execution_count": 369,
      "outputs": []
    },
    {
      "cell_type": "code",
      "source": [
        "# Getting the train and test(validation) dataset ready for 'ResNet50' model creation.\n",
        "train_data = train_datagen.flow_from_directory(train_dir,\n",
        "                                               target_size = (48,48),\n",
        "                                               batch_size = 32,\n",
        "                                               shuffle = True,\n",
        "                                               color_mode ='rgb',\n",
        "                                               class_mode ='categorical')\n",
        "\n",
        "test_data = validation_datagen.flow_from_directory(test_dir,\n",
        "                                                   target_size = (48,48),\n",
        "                                                   batch_size = 32,\n",
        "                                                   shuffle = False,\n",
        "                                                   color_mode ='rgb',\n",
        "                                                   class_mode ='categorical')"
      ],
      "metadata": {
        "colab": {
          "base_uri": "https://localhost:8080/"
        },
        "id": "5NvfVnQlMRy_",
        "outputId": "ec232b88-d5a9-41ee-9d3b-0693c3f7e6da"
      },
      "execution_count": 370,
      "outputs": [
        {
          "output_type": "stream",
          "name": "stdout",
          "text": [
            "Found 28709 images belonging to 7 classes.\n",
            "Found 7178 images belonging to 7 classes.\n"
          ]
        }
      ]
    },
    {
      "cell_type": "code",
      "source": [
        "# Creating a base model using pre-trained ResNet architecture.\n",
        "from tensorflow.keras.applications import ResNet50\n",
        "\n",
        "base_model = ResNet50(input_shape=(48,48,3),include_top = False, weights = 'imagenet')\n",
        "base_model.trainable = False"
      ],
      "metadata": {
        "id": "Jcv_xdxPcKkp"
      },
      "execution_count": 371,
      "outputs": []
    },
    {
      "cell_type": "code",
      "source": [
        "# Creating the model.\n",
        "from tensorflow.keras.layers import Input\n",
        "\n",
        "model_B = Sequential([\n",
        "                      \n",
        "   # Adding the pre-trained model layers.                  \n",
        "   base_model,\n",
        "   Dropout(0.2),\n",
        "   Flatten(),\n",
        "   BatchNormalization(),\n",
        "\n",
        "   # 1st fully connected layer.\n",
        "   Dense(512, kernel_initializer = 'he_normal', activation = 'relu'),\n",
        "   BatchNormalization(),\n",
        "   Dropout(0.25),\n",
        "\n",
        "   # 2nd fully connected layer.\n",
        "   Dense(256, kernel_initializer = 'he_normal', activation = 'relu'),\n",
        "   BatchNormalization(),\n",
        "   Dropout(0.25),\n",
        "\n",
        "   # Output layer.\n",
        "   Dense(7, activation='softmax')\n",
        "])"
      ],
      "metadata": {
        "id": "6rqW5EFkepSp"
      },
      "execution_count": 372,
      "outputs": []
    },
    {
      "cell_type": "code",
      "source": [
        "# Compiling the model.\n",
        "model_B.compile(loss = 'categorical_crossentropy',\n",
        "                optimizer = Adam(),\n",
        "                metrics = ['accuracy'])"
      ],
      "metadata": {
        "id": "3eTniaxzji8R"
      },
      "execution_count": 373,
      "outputs": []
    },
    {
      "cell_type": "code",
      "source": [
        "# Creating callbacks.\n",
        "reduce_lr = ReduceLROnPlateau(monitor='val_loss',\n",
        "                              factor=0.1,\n",
        "                              patience=10,\n",
        "                              min_lr=0.00001,\n",
        "                              mode='auto')\n",
        "# Reduces learning rate when a metric stops improving. \n",
        "\n",
        "early_stopping = EarlyStopping(monitor='val_loss',\n",
        "                               min_delta=0,\n",
        "                               patience=10,\n",
        "                               verbose=1,\n",
        "                               restore_best_weights=True)\n",
        "# Stops training when a monitored metric has stopped improving."
      ],
      "metadata": {
        "id": "iWuqly98j0gu"
      },
      "execution_count": 374,
      "outputs": []
    },
    {
      "cell_type": "code",
      "source": [
        "# Fitting the model.\n",
        "history_model_B = model_B.fit_generator(generator = train_data,\n",
        "                                        epochs = 50,\n",
        "                                        steps_per_epoch = len(train_data),\n",
        "                                        validation_data = test_data,\n",
        "                                        validation_steps = test_data.n // test_data.batch_size,\n",
        "                                        callbacks = [early_stopping, reduce_lr])"
      ],
      "metadata": {
        "colab": {
          "base_uri": "https://localhost:8080/"
        },
        "id": "p21qxXNHkYsc",
        "outputId": "16c8f05d-0a69-43b0-8ff6-66451038e994"
      },
      "execution_count": 375,
      "outputs": [
        {
          "output_type": "stream",
          "name": "stdout",
          "text": [
            "Epoch 1/50\n",
            "898/898 [==============================] - 31s 31ms/step - loss: 1.9602 - accuracy: 0.2533 - val_loss: 1.7673 - val_accuracy: 0.3050 - lr: 0.0010\n",
            "Epoch 2/50\n",
            "898/898 [==============================] - 27s 31ms/step - loss: 1.7601 - accuracy: 0.2915 - val_loss: 1.7355 - val_accuracy: 0.3125 - lr: 0.0010\n",
            "Epoch 3/50\n",
            "898/898 [==============================] - 28s 31ms/step - loss: 1.7189 - accuracy: 0.3105 - val_loss: 1.6892 - val_accuracy: 0.3267 - lr: 0.0010\n",
            "Epoch 4/50\n",
            "898/898 [==============================] - 27s 30ms/step - loss: 1.7055 - accuracy: 0.3153 - val_loss: 1.7052 - val_accuracy: 0.3305 - lr: 0.0010\n",
            "Epoch 5/50\n",
            "898/898 [==============================] - 27s 31ms/step - loss: 1.6981 - accuracy: 0.3183 - val_loss: 1.6873 - val_accuracy: 0.3291 - lr: 0.0010\n",
            "Epoch 6/50\n",
            "898/898 [==============================] - 27s 30ms/step - loss: 1.6878 - accuracy: 0.3251 - val_loss: 1.7152 - val_accuracy: 0.3273 - lr: 0.0010\n",
            "Epoch 7/50\n",
            "898/898 [==============================] - 27s 30ms/step - loss: 1.6865 - accuracy: 0.3209 - val_loss: 1.6647 - val_accuracy: 0.3488 - lr: 0.0010\n",
            "Epoch 8/50\n",
            "898/898 [==============================] - 27s 30ms/step - loss: 1.6799 - accuracy: 0.3280 - val_loss: 1.6734 - val_accuracy: 0.3375 - lr: 0.0010\n",
            "Epoch 9/50\n",
            "898/898 [==============================] - 27s 30ms/step - loss: 1.6735 - accuracy: 0.3320 - val_loss: 1.7405 - val_accuracy: 0.3227 - lr: 0.0010\n",
            "Epoch 10/50\n",
            "898/898 [==============================] - 27s 30ms/step - loss: 1.6716 - accuracy: 0.3326 - val_loss: 1.6535 - val_accuracy: 0.3584 - lr: 0.0010\n",
            "Epoch 11/50\n",
            "898/898 [==============================] - 27s 30ms/step - loss: 1.6664 - accuracy: 0.3358 - val_loss: 1.6544 - val_accuracy: 0.3449 - lr: 0.0010\n",
            "Epoch 12/50\n",
            "898/898 [==============================] - 27s 30ms/step - loss: 1.6618 - accuracy: 0.3380 - val_loss: 1.6451 - val_accuracy: 0.3521 - lr: 0.0010\n",
            "Epoch 13/50\n",
            "898/898 [==============================] - 27s 30ms/step - loss: 1.6553 - accuracy: 0.3380 - val_loss: 1.6388 - val_accuracy: 0.3541 - lr: 0.0010\n",
            "Epoch 14/50\n",
            "898/898 [==============================] - 27s 30ms/step - loss: 1.6541 - accuracy: 0.3413 - val_loss: 1.6300 - val_accuracy: 0.3655 - lr: 0.0010\n",
            "Epoch 15/50\n",
            "898/898 [==============================] - 27s 30ms/step - loss: 1.6464 - accuracy: 0.3440 - val_loss: 1.6406 - val_accuracy: 0.3577 - lr: 0.0010\n",
            "Epoch 16/50\n",
            "898/898 [==============================] - 27s 30ms/step - loss: 1.6448 - accuracy: 0.3448 - val_loss: 1.6292 - val_accuracy: 0.3707 - lr: 0.0010\n",
            "Epoch 17/50\n",
            "898/898 [==============================] - 27s 30ms/step - loss: 1.6420 - accuracy: 0.3466 - val_loss: 1.6669 - val_accuracy: 0.3636 - lr: 0.0010\n",
            "Epoch 18/50\n",
            "898/898 [==============================] - 27s 30ms/step - loss: 1.6402 - accuracy: 0.3508 - val_loss: 1.6203 - val_accuracy: 0.3623 - lr: 0.0010\n",
            "Epoch 19/50\n",
            "898/898 [==============================] - 27s 30ms/step - loss: 1.6321 - accuracy: 0.3515 - val_loss: 1.6196 - val_accuracy: 0.3644 - lr: 0.0010\n",
            "Epoch 20/50\n",
            "898/898 [==============================] - 27s 30ms/step - loss: 1.6269 - accuracy: 0.3572 - val_loss: 1.6049 - val_accuracy: 0.3761 - lr: 0.0010\n",
            "Epoch 21/50\n",
            "898/898 [==============================] - 27s 30ms/step - loss: 1.6246 - accuracy: 0.3558 - val_loss: 1.6109 - val_accuracy: 0.3675 - lr: 0.0010\n",
            "Epoch 22/50\n",
            "898/898 [==============================] - 27s 30ms/step - loss: 1.6203 - accuracy: 0.3574 - val_loss: 1.6122 - val_accuracy: 0.3746 - lr: 0.0010\n",
            "Epoch 23/50\n",
            "898/898 [==============================] - 27s 30ms/step - loss: 1.6183 - accuracy: 0.3596 - val_loss: 1.6145 - val_accuracy: 0.3707 - lr: 0.0010\n",
            "Epoch 24/50\n",
            "898/898 [==============================] - 27s 30ms/step - loss: 1.6153 - accuracy: 0.3587 - val_loss: 1.5942 - val_accuracy: 0.3777 - lr: 0.0010\n",
            "Epoch 25/50\n",
            "898/898 [==============================] - 27s 30ms/step - loss: 1.6110 - accuracy: 0.3625 - val_loss: 1.6132 - val_accuracy: 0.3728 - lr: 0.0010\n",
            "Epoch 26/50\n",
            "898/898 [==============================] - 27s 30ms/step - loss: 1.6027 - accuracy: 0.3667 - val_loss: 1.6048 - val_accuracy: 0.3842 - lr: 0.0010\n",
            "Epoch 27/50\n",
            "898/898 [==============================] - 27s 30ms/step - loss: 1.6026 - accuracy: 0.3670 - val_loss: 1.5929 - val_accuracy: 0.3869 - lr: 0.0010\n",
            "Epoch 28/50\n",
            "898/898 [==============================] - 27s 30ms/step - loss: 1.6024 - accuracy: 0.3680 - val_loss: 1.6120 - val_accuracy: 0.3777 - lr: 0.0010\n",
            "Epoch 29/50\n",
            "898/898 [==============================] - 27s 30ms/step - loss: 1.6023 - accuracy: 0.3669 - val_loss: 1.6173 - val_accuracy: 0.3680 - lr: 0.0010\n",
            "Epoch 30/50\n",
            "898/898 [==============================] - 27s 30ms/step - loss: 1.6002 - accuracy: 0.3666 - val_loss: 1.6060 - val_accuracy: 0.3754 - lr: 0.0010\n",
            "Epoch 31/50\n",
            "898/898 [==============================] - 27s 30ms/step - loss: 1.5925 - accuracy: 0.3696 - val_loss: 1.6181 - val_accuracy: 0.3624 - lr: 0.0010\n",
            "Epoch 32/50\n",
            "898/898 [==============================] - 27s 30ms/step - loss: 1.5964 - accuracy: 0.3725 - val_loss: 1.6139 - val_accuracy: 0.3790 - lr: 0.0010\n",
            "Epoch 33/50\n",
            "898/898 [==============================] - 27s 30ms/step - loss: 1.5888 - accuracy: 0.3734 - val_loss: 1.6131 - val_accuracy: 0.3728 - lr: 0.0010\n",
            "Epoch 34/50\n",
            "898/898 [==============================] - 28s 31ms/step - loss: 1.5848 - accuracy: 0.3768 - val_loss: 1.5946 - val_accuracy: 0.3866 - lr: 0.0010\n",
            "Epoch 35/50\n",
            "898/898 [==============================] - 27s 30ms/step - loss: 1.5797 - accuracy: 0.3781 - val_loss: 1.5957 - val_accuracy: 0.3870 - lr: 0.0010\n",
            "Epoch 36/50\n",
            "898/898 [==============================] - 26s 29ms/step - loss: 1.5826 - accuracy: 0.3760 - val_loss: 1.6016 - val_accuracy: 0.3873 - lr: 0.0010\n",
            "Epoch 37/50\n",
            "896/898 [============================>.] - ETA: 0s - loss: 1.5815 - accuracy: 0.3767Restoring model weights from the end of the best epoch: 27.\n",
            "898/898 [==============================] - 27s 30ms/step - loss: 1.5819 - accuracy: 0.3767 - val_loss: 1.5980 - val_accuracy: 0.3789 - lr: 0.0010\n",
            "Epoch 37: early stopping\n"
          ]
        }
      ]
    },
    {
      "cell_type": "code",
      "source": [
        "# Evaluating on the overall test data.\n",
        "model_B.evaluate(test_data)"
      ],
      "metadata": {
        "colab": {
          "base_uri": "https://localhost:8080/"
        },
        "id": "Oz_DVfBux-rl",
        "outputId": "479c1242-f0c0-4643-c436-3343a47e5775"
      },
      "execution_count": 376,
      "outputs": [
        {
          "output_type": "stream",
          "name": "stdout",
          "text": [
            "225/225 [==============================] - 5s 24ms/step - loss: 1.5983 - accuracy: 0.3816\n"
          ]
        },
        {
          "output_type": "execute_result",
          "data": {
            "text/plain": [
              "[1.5982540845870972, 0.3815826177597046]"
            ]
          },
          "metadata": {},
          "execution_count": 376
        }
      ]
    },
    {
      "cell_type": "markdown",
      "source": [
        "Accuracy score on overall test dataset came out to be **38.16%**"
      ],
      "metadata": {
        "id": "NSirH0m0yMnr"
      }
    },
    {
      "cell_type": "code",
      "source": [
        "# Model summary.\n",
        "model_B.summary()"
      ],
      "metadata": {
        "colab": {
          "base_uri": "https://localhost:8080/"
        },
        "id": "runMWFk7yPcz",
        "outputId": "c3db98a8-29ca-416c-befe-5695c5a65739"
      },
      "execution_count": 377,
      "outputs": [
        {
          "output_type": "stream",
          "name": "stdout",
          "text": [
            "Model: \"sequential_22\"\n",
            "_________________________________________________________________\n",
            " Layer (type)                Output Shape              Param #   \n",
            "=================================================================\n",
            " resnet50 (Functional)       (None, 2, 2, 2048)        23587712  \n",
            "                                                                 \n",
            " dropout_102 (Dropout)       (None, 2, 2, 2048)        0         \n",
            "                                                                 \n",
            " flatten_22 (Flatten)        (None, 8192)              0         \n",
            "                                                                 \n",
            " batch_normalization_102 (Ba  (None, 8192)             32768     \n",
            " tchNormalization)                                               \n",
            "                                                                 \n",
            " dense_67 (Dense)            (None, 512)               4194816   \n",
            "                                                                 \n",
            " batch_normalization_103 (Ba  (None, 512)              2048      \n",
            " tchNormalization)                                               \n",
            "                                                                 \n",
            " dropout_103 (Dropout)       (None, 512)               0         \n",
            "                                                                 \n",
            " dense_68 (Dense)            (None, 256)               131328    \n",
            "                                                                 \n",
            " batch_normalization_104 (Ba  (None, 256)              1024      \n",
            " tchNormalization)                                               \n",
            "                                                                 \n",
            " dropout_104 (Dropout)       (None, 256)               0         \n",
            "                                                                 \n",
            " dense_69 (Dense)            (None, 7)                 1799      \n",
            "                                                                 \n",
            "=================================================================\n",
            "Total params: 27,951,495\n",
            "Trainable params: 4,345,863\n",
            "Non-trainable params: 23,605,632\n",
            "_________________________________________________________________\n"
          ]
        }
      ]
    },
    {
      "cell_type": "code",
      "source": [
        "# Prediction for test set.\n",
        "predictions_1 = model_B.predict(test_data)\n",
        "\n",
        "# Printing Confution Matrix\n",
        "cm_1 = confusion_matrix(y_pred = np.argmax(predictions_1, axis=-1), y_true = test_data.classes)                         \n",
        "cm_1"
      ],
      "metadata": {
        "colab": {
          "base_uri": "https://localhost:8080/"
        },
        "id": "dJebJFZu0qoV",
        "outputId": "68090260-9c88-450c-e718-baa68f76180e"
      },
      "execution_count": 378,
      "outputs": [
        {
          "output_type": "execute_result",
          "data": {
            "text/plain": [
              "array([[ 107,    1,  105,  380,   84,  214,   67],\n",
              "       [   7,    3,   23,   50,    9,   13,    6],\n",
              "       [  33,    1,  203,  341,   84,  233,  129],\n",
              "       [  45,    1,   84, 1227,  108,  198,  111],\n",
              "       [  49,    0,   82,  487,  326,  226,   63],\n",
              "       [  55,    0,  109,  474,  115,  437,   57],\n",
              "       [  22,    1,  107,  164,   51,   82,  404]])"
            ]
          },
          "metadata": {},
          "execution_count": 378
        }
      ]
    },
    {
      "cell_type": "code",
      "source": [
        "# Computing predictions.\n",
        "predictions_1 = model_B.predict_generator(generator=test_data)\n",
        "y_pred = [np.argmax(probas) for probas in predictions_1]\n",
        "y_test = test_data.classes\n",
        "class_names = test_data.class_indices.keys()"
      ],
      "metadata": {
        "id": "uffxT3Fq07d3"
      },
      "execution_count": 379,
      "outputs": []
    },
    {
      "cell_type": "code",
      "source": [
        "# Computing confusion matrix.\n",
        "cnf_matrix_1 = confusion_matrix(y_test, y_pred)\n",
        "np.set_printoptions(precision=2)\n",
        "\n",
        "# Plotting the confusion matrix.\n",
        "plot_confusion_matrix(cnf_matrix_1,  classes = class_names, title='Normalized confusion matrix')"
      ],
      "metadata": {
        "colab": {
          "base_uri": "https://localhost:8080/",
          "height": 727
        },
        "id": "H5kj0yuH1ImI",
        "outputId": "bcc3dd65-0c3e-4b00-b0bc-ad155f60be2a"
      },
      "execution_count": 380,
      "outputs": [
        {
          "output_type": "display_data",
          "data": {
            "text/plain": [
              "<Figure size 720x720 with 2 Axes>"
            ],
            "image/png": "[encoded data removed]"
          },
          "metadata": {
            "needs_background": "light"
          }
        }
      ]
    },
    {
      "cell_type": "markdown",
      "source": [
        "Clearly, model is predicting each class to be as 'happy' class. Indicates the poor performance of the model."
      ],
      "metadata": {
        "id": "tc4W_rU41lgZ"
      }
    },
    {
      "cell_type": "code",
      "source": [
        "# Plotting the loss curves.\n",
        "plot_loss_curves(history_model_B)"
      ],
      "metadata": {
        "colab": {
          "base_uri": "https://localhost:8080/",
          "height": 563
        },
        "id": "NkkUp42pzpXC",
        "outputId": "f0f83f9f-f606-4334-e151-9f20015bfa4e"
      },
      "execution_count": 381,
      "outputs": [
        {
          "output_type": "display_data",
          "data": {
            "text/plain": [
              "<Figure size 432x288 with 1 Axes>"
            ],
            "image/png": "[encoded data removed]"
          },
          "metadata": {
            "needs_background": "light"
          }
        },
        {
          "output_type": "display_data",
          "data": {
            "text/plain": [
              "<Figure size 432x288 with 1 Axes>"
            ],
            "image/png": "[encoded data removed]"
          },
          "metadata": {
            "needs_background": "light"
          }
        }
      ]
    },
    {
      "cell_type": "markdown",
      "source": [
        "**The training gave the accuracy of 37.67% and val_accuracy of 38.16%. The 'ResNet50' model failed to perform well and the accuracy scores are also not at all satisfactory.**"
      ],
      "metadata": {
        "id": "RHQm9AVTz1Xf"
      }
    },
    {
      "cell_type": "markdown",
      "source": [
        "### **EfficientNetB0**\n",
        "\n",
        "EfficientNetB0 is a convolutional neural network designed by Google and is trained on the ImageNet database. "
      ],
      "metadata": {
        "id": "bUXg3qNV4x30"
      }
    },
    {
      "cell_type": "code",
      "source": [
        "# Creating data generators.\n",
        "train_datagen = ImageDataGenerator(horizontal_flip=True,\n",
        "                                   brightness_range=[0.8,1.2])\n",
        "validation_datagen = ImageDataGenerator(horizontal_flip=True,\n",
        "                                        brightness_range=[0.8,1.2])\n",
        "\n",
        "# In efficientnet scaling is inbuilt so no need to do it separately."
      ],
      "metadata": {
        "id": "rbNSjCiU5grj"
      },
      "execution_count": 382,
      "outputs": []
    },
    {
      "cell_type": "code",
      "source": [
        "# Getting the train and test(validation) dataset ready for 'EfficientNetB0' model creation.\n",
        "train_data = train_datagen.flow_from_directory(train_dir,\n",
        "                                               target_size = (48,48),\n",
        "                                               batch_size = 32,\n",
        "                                               shuffle = True,\n",
        "                                               color_mode ='rgb',\n",
        "                                               class_mode ='categorical')\n",
        "\n",
        "test_data = validation_datagen.flow_from_directory(test_dir,\n",
        "                                                   target_size = (48,48),\n",
        "                                                   batch_size = 32,\n",
        "                                                   shuffle = False,\n",
        "                                                   color_mode ='rgb',\n",
        "                                                   class_mode ='categorical')"
      ],
      "metadata": {
        "colab": {
          "base_uri": "https://localhost:8080/"
        },
        "id": "AC9a271k7TVy",
        "outputId": "e33d39d5-313d-42ac-9007-be301d90f2da"
      },
      "execution_count": 383,
      "outputs": [
        {
          "output_type": "stream",
          "name": "stdout",
          "text": [
            "Found 28709 images belonging to 7 classes.\n",
            "Found 7178 images belonging to 7 classes.\n"
          ]
        }
      ]
    },
    {
      "cell_type": "code",
      "source": [
        "# Creating a base model using pre-trained EfficientNet architecture.\n",
        "from tensorflow.keras.applications import EfficientNetB0\n",
        "\n",
        "base_model = EfficientNetB0(input_shape=(48,48,3),include_top = False)\n",
        "base_model.trainable = False"
      ],
      "metadata": {
        "id": "8nkTHKx67dDq"
      },
      "execution_count": 384,
      "outputs": []
    },
    {
      "cell_type": "code",
      "source": [
        "model_C = Sequential([\n",
        "                      \n",
        "   # Adding the pre-trained model layers.                  \n",
        "   base_model,\n",
        "   Dropout(0.2),\n",
        "   Flatten(),\n",
        "   BatchNormalization(),\n",
        "\n",
        "   # 1st fully connected layer.\n",
        "   Dense(512, kernel_initializer = 'he_normal', activation = 'relu'),\n",
        "   BatchNormalization(),\n",
        "   Dropout(0.25),\n",
        "\n",
        "   # 2nd fully connected layer.\n",
        "   Dense(256, kernel_initializer = 'he_normal', activation = 'relu'),\n",
        "   BatchNormalization(),\n",
        "   Dropout(0.25),\n",
        "\n",
        "   # Output layer.\n",
        "   Dense(7, activation='softmax')\n",
        "])"
      ],
      "metadata": {
        "id": "ms6eRYqI77Sd"
      },
      "execution_count": 385,
      "outputs": []
    },
    {
      "cell_type": "code",
      "source": [
        "# Compiling the model.\n",
        "model_C.compile(loss = 'categorical_crossentropy',\n",
        "                optimizer = Adam(learning_rate = 0.0001),\n",
        "                metrics = ['accuracy'])"
      ],
      "metadata": {
        "id": "kY7vR36i8K77"
      },
      "execution_count": 386,
      "outputs": []
    },
    {
      "cell_type": "code",
      "source": [
        "# Creating callbacks.\n",
        "reduce_lr = ReduceLROnPlateau(monitor='val_loss',\n",
        "                              factor=0.1,\n",
        "                              patience=10,\n",
        "                              min_lr=0.00001,\n",
        "                              mode='auto')\n",
        "# Reduces learning rate when a metric stops improving. \n",
        "\n",
        "early_stopping = EarlyStopping(monitor='val_loss',\n",
        "                               min_delta=0,\n",
        "                               patience=10,\n",
        "                               verbose=1,\n",
        "                               restore_best_weights=True)\n",
        "# Stops training when a monitored metric has stopped improving."
      ],
      "metadata": {
        "id": "MG-9atBV8Qps"
      },
      "execution_count": 387,
      "outputs": []
    },
    {
      "cell_type": "code",
      "source": [
        "# Fitting the model.\n",
        "history_model_C = model_C.fit_generator(generator = train_data,\n",
        "                                        epochs = 50,\n",
        "                                        steps_per_epoch = len(train_data),\n",
        "                                        validation_data = test_data,\n",
        "                                        validation_steps = test_data.n // test_data.batch_size,\n",
        "                                        callbacks = [early_stopping, reduce_lr])"
      ],
      "metadata": {
        "colab": {
          "base_uri": "https://localhost:8080/"
        },
        "id": "ewKYsJfA8Ui8",
        "outputId": "6540c41e-aea8-4d71-e041-52a92d311cea"
      },
      "execution_count": null,
      "outputs": [
        {
          "output_type": "stream",
          "name": "stdout",
          "text": [
            "Epoch 1/50\n",
            "898/898 [==============================] - 35s 33ms/step - loss: 2.1646 - accuracy: 0.2892 - val_loss: 1.5811 - val_accuracy: 0.4198 - lr: 1.0000e-04\n",
            "Epoch 2/50\n",
            "898/898 [==============================] - 27s 30ms/step - loss: 1.8272 - accuracy: 0.3509 - val_loss: 1.4946 - val_accuracy: 0.4388 - lr: 1.0000e-04\n",
            "Epoch 3/50\n",
            "439/898 [=============>................] - ETA: 11s - loss: 1.7198 - accuracy: 0.3703"
          ]
        }
      ]
    }
  ],
  "metadata": {
    "colab": {
      "collapsed_sections": [],
      "name": "Live Class Monitoring System (Face Emotion Recognition).ipynb",
      "provenance": [],
      "authorship_tag": "ABX9TyMoxdAbHalioAg/543w3Dhx",
      "include_colab_link": true
    },
    "kernelspec": {
      "display_name": "Python 3",
      "name": "python3"
    },
    "language_info": {
      "name": "python"
    },
    "accelerator": "GPU"
  },
  "nbformat": 4,
  "nbformat_minor": 0
}