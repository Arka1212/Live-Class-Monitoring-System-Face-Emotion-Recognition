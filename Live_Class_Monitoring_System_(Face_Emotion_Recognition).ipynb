{
  "nbformat": 4,
  "nbformat_minor": 0,
  "metadata": {
    "colab": {
      "name": "Live Class Monitoring System (Face Emotion Recognition).ipynb",
      "provenance": [],
      "authorship_tag": "ABX9TyNoBnyDaH2jZUpct8wKr714",
      "include_colab_link": true
    },
    "kernelspec": {
      "name": "python3",
      "display_name": "Python 3"
    },
    "language_info": {
      "name": "python"
    }
  },
  "cells": [
    {
      "cell_type": "markdown",
      "metadata": {
        "id": "view-in-github",
        "colab_type": "text"
      },
      "source": [
        "<a href=\"https://colab.research.google.com/github/Arka1212/Live-Class-Monitoring-System-Face-Emotion-Recognition/blob/main/Live_Class_Monitoring_System_(Face_Emotion_Recognition).ipynb\" target=\"_parent\"><img src=\"https://colab.research.google.com/assets/colab-badge.svg\" alt=\"Open In Colab\"/></a>"
      ]
    },
    {
      "cell_type": "markdown",
      "source": [
        "# **Live Class Monitoring System (Face Emotion Recognition)**\n",
        "\n",
        "## **Project Introduction**\n",
        "The Indian education landscape has been undergoing rapid changes for the past 10 years owing to the advancement of web-based learning services, specifically, eLearning platforms. \n",
        "\n",
        "Global E-learning is estimated to witness an 8X over the next 5 years to reach USD 2B in 2021. India is expected to grow with a CAGR of 44% crossing the 10M users mark in 2021. Although the market is growing on a rapid scale, there are major challenges associated with digital learning when compared with brick and mortar classrooms. One of many challenges is how to ensure quality learning for students. Digital platforms might overpower physical classrooms in terms of content quality but when it comes to understanding whether students are able to grasp the content in a live class scenario is yet an open-end challenge.\n",
        "\n",
        "In a physical classroom during a lecturing teacher can see the faces and assess the emotion of the class and tune their lecture accordingly, whether he is going fast or slow. He can identify students who need special attention. Digital classrooms are conducted via video telephony software program (exZoom) where it’s not possible for medium scale class (25-50) to see all students and access the mood. Because of this drawback, students are not focusing on content due to lack of surveillance. While digital platforms have limitations in terms of physical surveillance but it comes with the power of data and machines which can work for you. It provides data in the form of video, audio, and texts which can be analysed using deep learning algorithms. Deep learning backed system not only solves the surveillance issue, but it also removes the human bias from the system, and all information is no longer in the teacher’s brain rather translated in numbers that can be analysed and tracked.\n",
        "\n",
        "## **Problem Statement**\n",
        "The problem statement focuses on solving the above-mentioned challenge by applying deep learning algorithms to live video data. The solution to this problem is by recognizing facial emotions. This is a few shot learning live face emotion detection system. The model should be able to real-time identify the emotions of students in a live class.\n",
        "\n",
        "## **Dataset Link**\n",
        "Dataset: https://www.kaggle.com/msambare/fer2013\n"
      ],
      "metadata": {
        "id": "PS-9XGzY8Oku"
      }
    },
    {
      "cell_type": "markdown",
      "source": [
        "**-------------------------------------------------------------------------------------------------------------------------------------------------------------------**\n",
        "**-------------------------------------------------------------------------------------------------------------------------------------------------------------------**"
      ],
      "metadata": {
        "id": "nOZeBc8C-T1j"
      }
    },
    {
      "cell_type": "code",
      "source": [
        "# Importing necessary libraries.\n",
        "import numpy as np\n",
        "import pandas as pd\n",
        "import matplotlib.pyplot as plt\n",
        "import seaborn as sns\n",
        "import tensorflow as tf\n",
        "print(f'Tensorflow version ----->  {tf.__version__}')"
      ],
      "metadata": {
        "colab": {
          "base_uri": "https://localhost:8080/"
        },
        "id": "DpzN4pK2r8U7",
        "outputId": "ff0403b0-bccb-4c65-f83d-d5d18320c016"
      },
      "execution_count": 52,
      "outputs": [
        {
          "output_type": "stream",
          "name": "stdout",
          "text": [
            "Tensorflow version ----->  2.8.0\n"
          ]
        }
      ]
    },
    {
      "cell_type": "code",
      "source": [
        "# Removing warnings.\n",
        "import warnings                                                                                \n",
        "warnings.filterwarnings('ignore')\n",
        "warnings.simplefilter('ignore')"
      ],
      "metadata": {
        "id": "yW57SAbBvqpy"
      },
      "execution_count": 53,
      "outputs": []
    },
    {
      "cell_type": "markdown",
      "source": [
        "Imported some of the basic libraries in order to get started & rest all the required libraries will be imported as and when required."
      ],
      "metadata": {
        "id": "GE6gOohYsZwZ"
      }
    },
    {
      "cell_type": "markdown",
      "source": [
        "## **Downloading & inspecting dataset**"
      ],
      "metadata": {
        "id": "h832PnDQxMD0"
      }
    },
    {
      "cell_type": "code",
      "source": [
        "# Mounting the drive.\n",
        "from google.colab import drive\n",
        "drive.mount('/content/drive')"
      ],
      "metadata": {
        "id": "caCaW34YxVRU",
        "colab": {
          "base_uri": "https://localhost:8080/"
        },
        "outputId": "d9e05c6c-580e-4d0d-8b29-d16e8eaaeab9"
      },
      "execution_count": 54,
      "outputs": [
        {
          "output_type": "stream",
          "name": "stdout",
          "text": [
            "Drive already mounted at /content/drive; to attempt to forcibly remount, call drive.mount(\"/content/drive\", force_remount=True).\n"
          ]
        }
      ]
    },
    {
      "cell_type": "code",
      "source": [
        "# Accessing the dataset.\n",
        "filename = '/content/drive/MyDrive/Capstone Projects/Deep Learning/Live Class Monitoring System (Face Emotion Recognition)/Face Emotion Dataset.zip'"
      ],
      "metadata": {
        "id": "JrgqhyzR6nSd"
      },
      "execution_count": 55,
      "outputs": []
    },
    {
      "cell_type": "markdown",
      "source": [
        "The dataset is actually in 'zip' format and it needs to be unzipped in order to use it."
      ],
      "metadata": {
        "id": "wx4NZq8N665z"
      }
    },
    {
      "cell_type": "code",
      "source": [
        "# Unzipping the dataset.\n",
        "import zipfile\n",
        "zip_ref = zipfile.ZipFile(filename)\n",
        "zip_ref.extractall()\n",
        "zip_ref.close()"
      ],
      "metadata": {
        "id": "mvcm-DPC7MYp"
      },
      "execution_count": 56,
      "outputs": []
    },
    {
      "cell_type": "markdown",
      "source": [
        "Here, the dataset is already splitted into train & test dataset."
      ],
      "metadata": {
        "id": "7VkUg8v78b4M"
      }
    },
    {
      "cell_type": "code",
      "source": [
        "# Walking into the directories and listing the number of files in each directories.\n",
        "import os\n",
        "\n",
        "# Walking through the train data directory.\n",
        "print(f'TRAINING DATA:\\n')\n",
        "for dirpath, dirnames, filenames in os.walk('/content/train'):\n",
        "  print(f'There are {len(dirnames)} directories and {len(filenames)} images in {dirpath}.')\n",
        "\n",
        "\n",
        "# Walking through the test data directory.\n",
        "print(f'\\n\\nTESTING DATA:\\n')\n",
        "for dirpath, dirnames, filenames in os.walk('/content/test'):\n",
        "  print(f'There are {len(dirnames)} directories and {len(filenames)} images in {dirpath}.')"
      ],
      "metadata": {
        "colab": {
          "base_uri": "https://localhost:8080/"
        },
        "id": "TokoipOi-JZt",
        "outputId": "ccdb347e-de3d-4e61-833e-2ef638ae8fcc"
      },
      "execution_count": 57,
      "outputs": [
        {
          "output_type": "stream",
          "name": "stdout",
          "text": [
            "TRAINING DATA:\n",
            "\n",
            "There are 7 directories and 0 images in /content/train.\n",
            "There are 0 directories and 436 images in /content/train/disgust.\n",
            "There are 0 directories and 7215 images in /content/train/happy.\n",
            "There are 0 directories and 4097 images in /content/train/fear.\n",
            "There are 0 directories and 4830 images in /content/train/sad.\n",
            "There are 0 directories and 3171 images in /content/train/surprise.\n",
            "There are 0 directories and 4965 images in /content/train/neutral.\n",
            "There are 0 directories and 3995 images in /content/train/angry.\n",
            "\n",
            "\n",
            "TESTING DATA:\n",
            "\n",
            "There are 7 directories and 0 images in /content/test.\n",
            "There are 0 directories and 111 images in /content/test/disgust.\n",
            "There are 0 directories and 1774 images in /content/test/happy.\n",
            "There are 0 directories and 1024 images in /content/test/fear.\n",
            "There are 0 directories and 1247 images in /content/test/sad.\n",
            "There are 0 directories and 831 images in /content/test/surprise.\n",
            "There are 0 directories and 1233 images in /content/test/neutral.\n",
            "There are 0 directories and 958 images in /content/test/angry.\n"
          ]
        }
      ]
    },
    {
      "cell_type": "markdown",
      "source": [
        "So, basically there are 7 directories present in both train and test dataset which are nothing but the directories representing each class and each directories have a number of images belonging to that class. So, clearly we get an idea that this particular dataset has 7 classes."
      ],
      "metadata": {
        "id": "Yhq86iti_z2J"
      }
    },
    {
      "cell_type": "code",
      "source": [
        "# Listing the class names in the dataset.\n",
        "!ls '/content/train'"
      ],
      "metadata": {
        "colab": {
          "base_uri": "https://localhost:8080/"
        },
        "id": "4YUT3ClRDRcX",
        "outputId": "fa08c52e-2c26-4154-df2b-6501112352f9"
      },
      "execution_count": 58,
      "outputs": [
        {
          "output_type": "stream",
          "name": "stdout",
          "text": [
            "angry  disgust\tfear  happy  neutral  sad  surprise\n"
          ]
        }
      ]
    },
    {
      "cell_type": "markdown",
      "source": [
        "Classes present in the dataset are:  \n",
        "1. **angry**\n",
        "2. **disgust** \n",
        "3. **fear** \n",
        "4. **happy**\n",
        "5. **neutral**\n",
        "6. **sad** \n",
        "7. **surprise**\n",
        "\n",
        "Each of these classes represents human emotions."
      ],
      "metadata": {
        "id": "jLHKrH1aDhlF"
      }
    },
    {
      "cell_type": "markdown",
      "source": [
        "## **Visualising images of each class**\n",
        "\n",
        "Becoming one with the data by visualising different images of each classes which the dataset in comprised of."
      ],
      "metadata": {
        "id": "juQyhU96K03h"
      }
    },
    {
      "cell_type": "code",
      "source": [
        "# Creating a function to view random images of each class.\n",
        "import random\n",
        "import matplotlib.image as mpimg\n",
        "\n",
        "def view_random_images(target_directory, target_class):\n",
        "  \n",
        "  '''\n",
        "  Takes into the target directory and target class as a path and prints random images of the specified class from the dataset\n",
        "  '''\n",
        "  \n",
        "  # Creating a target folder which will store the folder path taking the directory name and class name.\n",
        "  target_folder = target_directory + '/' + target_class\n",
        "  \n",
        "  # Getting a random image from the target folder and printing the image number.\n",
        "  random_image = random.sample(os.listdir(target_folder),1)\n",
        "  print(f'Image number: {random_image}')\n",
        "\n",
        "  # Reading the image and plotting it using matploltib.\n",
        "  img = mpimg.imread(target_folder + '/' + random_image[0])\n",
        "  plt.imshow(img)\n",
        "  plt.title(target_class.upper(),fontsize = 15)\n",
        "  plt.axis('off')\n",
        "  plt.show()\n",
        "\n",
        "  # Printing the shape of the image along with the image.\n",
        "  print(f'Image shape : {img.shape}')\n",
        "  \n",
        "  return img"
      ],
      "metadata": {
        "id": "agtTIwLfK_IW"
      },
      "execution_count": 59,
      "outputs": []
    },
    {
      "cell_type": "code",
      "source": [
        "# Viewing 'angry' class image.\n",
        "view_random_images(target_directory = '/content/train',\n",
        "                   target_class = 'angry')"
      ],
      "metadata": {
        "colab": {
          "base_uri": "https://localhost:8080/",
          "height": 429
        },
        "id": "9jPDoebb2BMN",
        "outputId": "63cb85a3-1c4e-4f5f-c34b-b94e8d273ded"
      },
      "execution_count": 45,
      "outputs": [
        {
          "output_type": "stream",
          "name": "stdout",
          "text": [
            "Image number: ['Training_13282534.jpg']\n"
          ]
        },
        {
          "output_type": "display_data",
          "data": {
            "text/plain": [
              "<Figure size 432x288 with 1 Axes>"
            ],
            "image/png": "[encoded data removed]"
          },
          "metadata": {
            "needs_background": "light"
          }
        },
        {
          "output_type": "stream",
          "name": "stdout",
          "text": [
            "Image shape : (48, 48)\n"
          ]
        },
        {
          "output_type": "execute_result",
          "data": {
            "text/plain": [
              "array([[180, 180, 180, ...,  61,  72,  67],\n",
              "       [180, 180, 180, ...,  51,  72,  76],\n",
              "       [180, 180, 180, ...,  61,  71,  82],\n",
              "       ...,\n",
              "       [208, 196, 123, ...,  69,  45,  44],\n",
              "       [175, 186,  55, ...,  70,  81,  69],\n",
              "       [154, 182,  55, ...,  72,  76,  77]], dtype=uint8)"
            ]
          },
          "metadata": {},
          "execution_count": 45
        }
      ]
    },
    {
      "cell_type": "code",
      "source": [
        "# Viewing 'disgust' class image.\n",
        "view_random_images(target_directory = '/content/train',\n",
        "                   target_class = 'disgust')"
      ],
      "metadata": {
        "colab": {
          "base_uri": "https://localhost:8080/",
          "height": 429
        },
        "id": "lk002Kno2qfP",
        "outputId": "c877b335-bcf1-4bfc-dcc0-f0cd46926b54"
      },
      "execution_count": 46,
      "outputs": [
        {
          "output_type": "stream",
          "name": "stdout",
          "text": [
            "Image number: ['Training_76673939.jpg']\n"
          ]
        },
        {
          "output_type": "display_data",
          "data": {
            "text/plain": [
              "<Figure size 432x288 with 1 Axes>"
            ],
            "image/png": "[encoded data removed]"
          },
          "metadata": {
            "needs_background": "light"
          }
        },
        {
          "output_type": "stream",
          "name": "stdout",
          "text": [
            "Image shape : (48, 48)\n"
          ]
        },
        {
          "output_type": "execute_result",
          "data": {
            "text/plain": [
              "array([[240, 100,  40, ...,  39,  39,  28],\n",
              "       [213,  69,  40, ...,  41,  36,  26],\n",
              "       [179,  45,  40, ...,  42,  36,  30],\n",
              "       ...,\n",
              "       [250, 250, 250, ..., 252, 247, 248],\n",
              "       [250, 250, 250, ..., 252, 248, 248],\n",
              "       [250, 250, 250, ..., 251, 247, 248]], dtype=uint8)"
            ]
          },
          "metadata": {},
          "execution_count": 46
        }
      ]
    },
    {
      "cell_type": "code",
      "source": [
        "# Viewing 'fear' class image.\n",
        "view_random_images(target_directory = '/content/train',\n",
        "                   target_class = 'fear')"
      ],
      "metadata": {
        "colab": {
          "base_uri": "https://localhost:8080/",
          "height": 429
        },
        "id": "UwRLnHad23QK",
        "outputId": "a54eabfc-9cba-42ab-9713-674789d56e80"
      },
      "execution_count": 47,
      "outputs": [
        {
          "output_type": "stream",
          "name": "stdout",
          "text": [
            "Image number: ['Training_80681806.jpg']\n"
          ]
        },
        {
          "output_type": "display_data",
          "data": {
            "text/plain": [
              "<Figure size 432x288 with 1 Axes>"
            ],
            "image/png": "[encoded data removed]"
          },
          "metadata": {
            "needs_background": "light"
          }
        },
        {
          "output_type": "stream",
          "name": "stdout",
          "text": [
            "Image shape : (48, 48)\n"
          ]
        },
        {
          "output_type": "execute_result",
          "data": {
            "text/plain": [
              "array([[165, 173, 157, ..., 153, 147, 141],\n",
              "       [153, 138, 131, ..., 156, 152, 147],\n",
              "       [129, 121, 109, ..., 161, 158, 154],\n",
              "       ...,\n",
              "       [217, 244, 246, ...,  38,  44,  37],\n",
              "       [248, 237, 223, ...,  34,  42,  27],\n",
              "       [232, 223, 213, ...,  31,  33,  27]], dtype=uint8)"
            ]
          },
          "metadata": {},
          "execution_count": 47
        }
      ]
    },
    {
      "cell_type": "code",
      "source": [
        "# Viewing 'happy' class image.\n",
        "view_random_images(target_directory = '/content/train',\n",
        "                   target_class = 'happy')"
      ],
      "metadata": {
        "colab": {
          "base_uri": "https://localhost:8080/",
          "height": 429
        },
        "id": "IbbkRsDT3Jat",
        "outputId": "a94c18aa-677f-4141-9708-fc40fe772553"
      },
      "execution_count": 48,
      "outputs": [
        {
          "output_type": "stream",
          "name": "stdout",
          "text": [
            "Image number: ['Training_91481641.jpg']\n"
          ]
        },
        {
          "output_type": "display_data",
          "data": {
            "text/plain": [
              "<Figure size 432x288 with 1 Axes>"
            ],
            "image/png": "[encoded data removed]"
          },
          "metadata": {
            "needs_background": "light"
          }
        },
        {
          "output_type": "stream",
          "name": "stdout",
          "text": [
            "Image shape : (48, 48)\n"
          ]
        },
        {
          "output_type": "execute_result",
          "data": {
            "text/plain": [
              "array([[183,  79,  23, ...,  97, 220, 230],\n",
              "       [ 34,  32,  49, ..., 153, 112, 223],\n",
              "       [ 48,  55,  64, ..., 205, 147, 161],\n",
              "       ...,\n",
              "       [ 48,  45,  37, ...,  64,  68,  69],\n",
              "       [ 44,  58,  34, ...,  62,  73,  77],\n",
              "       [ 41,  30,  29, ...,  70,  73,  88]], dtype=uint8)"
            ]
          },
          "metadata": {},
          "execution_count": 48
        }
      ]
    },
    {
      "cell_type": "code",
      "source": [
        "# Viewing 'neutral' class image.\n",
        "view_random_images(target_directory = '/content/train',\n",
        "                   target_class = 'neutral')"
      ],
      "metadata": {
        "colab": {
          "base_uri": "https://localhost:8080/",
          "height": 429
        },
        "id": "2BopBN8w3Oeh",
        "outputId": "091f90ec-d1ff-4202-edc8-663208122c3c"
      },
      "execution_count": 49,
      "outputs": [
        {
          "output_type": "stream",
          "name": "stdout",
          "text": [
            "Image number: ['Training_76312727.jpg']\n"
          ]
        },
        {
          "output_type": "display_data",
          "data": {
            "text/plain": [
              "<Figure size 432x288 with 1 Axes>"
            ],
            "image/png": "[encoded data removed]"
          },
          "metadata": {
            "needs_background": "light"
          }
        },
        {
          "output_type": "stream",
          "name": "stdout",
          "text": [
            "Image shape : (48, 48)\n"
          ]
        },
        {
          "output_type": "execute_result",
          "data": {
            "text/plain": [
              "array([[ 53,  46,  32, ...,  77,  71,  77],\n",
              "       [ 44,  48,  75, ..., 103,  76,  72],\n",
              "       [ 76,  97, 100, ..., 125,  82,  67],\n",
              "       ...,\n",
              "       [163, 218, 218, ...,  21,   6,   9],\n",
              "       [188, 218, 210, ...,  16,   7,   9],\n",
              "       [186, 204, 208, ...,  13,  11,  16]], dtype=uint8)"
            ]
          },
          "metadata": {},
          "execution_count": 49
        }
      ]
    },
    {
      "cell_type": "code",
      "source": [
        "# Viewing 'sad' class image.\n",
        "view_random_images(target_directory = '/content/train',\n",
        "                   target_class = 'sad')"
      ],
      "metadata": {
        "colab": {
          "base_uri": "https://localhost:8080/",
          "height": 429
        },
        "id": "kfV_8bQU3YMT",
        "outputId": "a980452b-b2f4-44e9-afd5-d71f861c5237"
      },
      "execution_count": 63,
      "outputs": [
        {
          "output_type": "stream",
          "name": "stdout",
          "text": [
            "Image number: ['Training_63005297.jpg']\n"
          ]
        },
        {
          "output_type": "display_data",
          "data": {
            "text/plain": [
              "<Figure size 432x288 with 1 Axes>"
            ],
            "image/png": "[encoded data removed]"
          },
          "metadata": {
            "needs_background": "light"
          }
        },
        {
          "output_type": "stream",
          "name": "stdout",
          "text": [
            "Image shape : (48, 48)\n"
          ]
        },
        {
          "output_type": "execute_result",
          "data": {
            "text/plain": [
              "array([[244, 125,  34, ...,  34,  35,  80],\n",
              "       [213,  62,  35, ...,  31,  44,  67],\n",
              "       [190,  43,  42, ...,  35,  40,  56],\n",
              "       ...,\n",
              "       [250, 250, 250, ..., 244, 242, 239],\n",
              "       [250, 250, 249, ..., 238, 240, 244],\n",
              "       [250, 250, 249, ..., 242, 241, 240]], dtype=uint8)"
            ]
          },
          "metadata": {},
          "execution_count": 63
        }
      ]
    },
    {
      "cell_type": "code",
      "source": [
        "# Viewing 'surprise' class image.\n",
        "view_random_images(target_directory = '/content/train',\n",
        "                   target_class = 'surprise')"
      ],
      "metadata": {
        "colab": {
          "base_uri": "https://localhost:8080/",
          "height": 429
        },
        "id": "1FYwTQGn3gtS",
        "outputId": "186434a2-0c21-460e-edad-2c194a206efc"
      },
      "execution_count": 51,
      "outputs": [
        {
          "output_type": "stream",
          "name": "stdout",
          "text": [
            "Image number: ['Training_29880139.jpg']\n"
          ]
        },
        {
          "output_type": "display_data",
          "data": {
            "text/plain": [
              "<Figure size 432x288 with 1 Axes>"
            ],
            "image/png": "[encoded data removed]"
          },
          "metadata": {
            "needs_background": "light"
          }
        },
        {
          "output_type": "stream",
          "name": "stdout",
          "text": [
            "Image shape : (48, 48)\n"
          ]
        },
        {
          "output_type": "execute_result",
          "data": {
            "text/plain": [
              "array([[180, 182, 180, ..., 162, 174, 170],\n",
              "       [180, 176, 182, ..., 165, 178, 180],\n",
              "       [183, 179, 185, ..., 171, 164, 179],\n",
              "       ...,\n",
              "       [192, 193, 194, ..., 142, 149, 191],\n",
              "       [192, 193, 193, ..., 151, 143, 186],\n",
              "       [193, 192, 192, ..., 152, 144, 190]], dtype=uint8)"
            ]
          },
          "metadata": {},
          "execution_count": 51
        }
      ]
    },
    {
      "cell_type": "markdown",
      "source": [
        "Points to be noted after viewing the images above:\n",
        "* Image values are not scaled.\n",
        "* Images are of shape 48X48.\n",
        "* Images are not in RGB colour mode."
      ],
      "metadata": {
        "id": "C-ZefKCa67cV"
      }
    },
    {
      "cell_type": "markdown",
      "source": [
        "## **Pre-processing data**"
      ],
      "metadata": {
        "id": "1YQL8hex5kMv"
      }
    },
    {
      "cell_type": "markdown",
      "source": [
        "Some points to be taken into consideration before using it to train the model. Following steps needs to be addressed in this pre-processing stage:\n",
        "* The image array values needs scaling in order to make our model perform better.\n",
        "* The images needs to be converted into RGB colour mode as neural networks only works with RGB images.\n",
        "* Images can be augmented in order to make our model learn better."
      ],
      "metadata": {
        "id": "tEpZeswf3-Xp"
      }
    },
    {
      "cell_type": "code",
      "source": [
        "# Setting up the path to data directories.\n",
        "train_dir = '/content/train'\n",
        "test_dir = '/content/test'"
      ],
      "metadata": {
        "id": "KmuWgj455fV7"
      },
      "execution_count": 64,
      "outputs": []
    },
    {
      "cell_type": "code",
      "source": [
        "# Flipping (part of data augmentation) and scaling the data.\n",
        "from tensorflow.keras.preprocessing.image import ImageDataGenerator\n",
        "\n",
        "train_datagen = ImageDataGenerator(horizontal_flip = True,\n",
        "                                   rescale = 1./255)\n",
        "validation_datagen = ImageDataGenerator(horizontal_flip = True,\n",
        "                                        rescale = 1./255)"
      ],
      "metadata": {
        "id": "MZgfCVQK9Xqf"
      },
      "execution_count": 67,
      "outputs": []
    },
    {
      "cell_type": "code",
      "source": [
        "# Getting the train and test(validation) dataset ready for model creation.\n",
        "train_data = train_datagen.flow_from_directory(directory = train_dir,              \n",
        "                                               batch_size = 32,                 \n",
        "                                               target_size = (48, 48),          \n",
        "                                               color_mode = 'rgb',              \n",
        "                                               shuffle = True,                  \n",
        "                                               class_mode = 'categorical')\n",
        "\n",
        "test_data = validation_datagen.flow_from_directory(directory = test_dir,              \n",
        "                                                   batch_size = 32,                 \n",
        "                                                   target_size = (48, 48),          \n",
        "                                                   color_mode = 'rgb',              \n",
        "                                                   shuffle = False,                  \n",
        "                                                   class_mode = 'categorical')"
      ],
      "metadata": {
        "colab": {
          "base_uri": "https://localhost:8080/"
        },
        "id": "x4agQo2KAWsQ",
        "outputId": "ae304941-1f73-44a3-e537-15e7bb3d49e4"
      },
      "execution_count": 68,
      "outputs": [
        {
          "output_type": "stream",
          "name": "stdout",
          "text": [
            "Found 28709 images belonging to 7 classes.\n",
            "Found 7178 images belonging to 7 classes.\n"
          ]
        }
      ]
    },
    {
      "cell_type": "markdown",
      "source": [
        "* Training set has **28709** images in total belonging to 7 classes.\n",
        "* Testing set has **7178** images in total belonging to 7 classes."
      ],
      "metadata": {
        "id": "o9IFGgkTEeA_"
      }
    },
    {
      "cell_type": "code",
      "source": [
        ""
      ],
      "metadata": {
        "id": "aQB6deKBEyvc"
      },
      "execution_count": null,
      "outputs": []
    }
  ]
}