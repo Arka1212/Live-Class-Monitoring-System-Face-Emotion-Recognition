{
  "cells": [
    {
      "cell_type": "markdown",
      "metadata": {
        "id": "view-in-github",
        "colab_type": "text"
      },
      "source": [
        "<a href=\"https://colab.research.google.com/github/Arka1212/Live-Class-Monitoring-System-Face-Emotion-Recognition/blob/main/Live_Class_Monitoring_System_(Face_Emotion_Recognition).ipynb\" target=\"_parent\"><img src=\"https://colab.research.google.com/assets/colab-badge.svg\" alt=\"Open In Colab\"/></a>"
      ]
    },
    {
      "cell_type": "markdown",
      "metadata": {
        "id": "PS-9XGzY8Oku"
      },
      "source": [
        "# **Live Class Monitoring System (Face Emotion Recognition)**\n",
        "\n",
        "## **Project Introduction**\n",
        "The Indian education landscape has been undergoing rapid changes for the past 10 years owing to the advancement of web-based learning services, specifically, eLearning platforms. \n",
        "\n",
        "Global E-learning is estimated to witness an 8X over the next 5 years to reach USD 2B in 2021. India is expected to grow with a CAGR of 44% crossing the 10M users mark in 2021. Although the market is growing on a rapid scale, there are major challenges associated with digital learning when compared with brick and mortar classrooms. One of many challenges is how to ensure quality learning for students. Digital platforms might overpower physical classrooms in terms of content quality but when it comes to understanding whether students are able to grasp the content in a live class scenario is yet an open-end challenge.\n",
        "\n",
        "In a physical classroom during a lecturing teacher can see the faces and assess the emotion of the class and tune their lecture accordingly, whether he is going fast or slow. He can identify students who need special attention. Digital classrooms are conducted via video telephony software program (exZoom) where it’s not possible for medium scale class (25-50) to see all students and access the mood. Because of this drawback, students are not focusing on content due to lack of surveillance. While digital platforms have limitations in terms of physical surveillance but it comes with the power of data and machines which can work for you. It provides data in the form of video, audio, and texts which can be analysed using deep learning algorithms. Deep learning backed system not only solves the surveillance issue, but it also removes the human bias from the system, and all information is no longer in the teacher’s brain rather translated in numbers that can be analysed and tracked.\n",
        "\n",
        "## **Problem Statement**\n",
        "The problem statement focuses on solving the above-mentioned challenge by applying deep learning algorithms to live video data. The solution to this problem is by recognizing facial emotions. This is a few shot learning live face emotion detection system. The model should be able to real-time identify the emotions of students in a live class.\n",
        "\n",
        "## **Dataset Link**\n",
        "Dataset: https://www.kaggle.com/msambare/fer2013\n"
      ]
    },
    {
      "cell_type": "markdown",
      "metadata": {
        "id": "nOZeBc8C-T1j"
      },
      "source": [
        "**-------------------------------------------------------------------------------------------------------------------------------------------------------------------**\n",
        "**-------------------------------------------------------------------------------------------------------------------------------------------------------------------**"
      ]
    },
    {
      "cell_type": "code",
      "execution_count": 2,
      "metadata": {
        "id": "DpzN4pK2r8U7",
        "colab": {
          "base_uri": "https://localhost:8080/"
        },
        "outputId": "f60c5f68-d99d-48d9-a289-feb93347384a"
      },
      "outputs": [
        {
          "output_type": "stream",
          "name": "stdout",
          "text": [
            "Tensorflow version ----->  2.8.0\n"
          ]
        }
      ],
      "source": [
        "# Importing necessary libraries.\n",
        "import numpy as np\n",
        "import pandas as pd\n",
        "import matplotlib.pyplot as plt\n",
        "import seaborn as sns\n",
        "import tensorflow as tf\n",
        "print(f'Tensorflow version ----->  {tf.__version__}')"
      ]
    },
    {
      "cell_type": "code",
      "execution_count": 3,
      "metadata": {
        "id": "yW57SAbBvqpy"
      },
      "outputs": [],
      "source": [
        "# Removing warnings.\n",
        "import warnings                                                                                \n",
        "warnings.filterwarnings('ignore')\n",
        "warnings.simplefilter('ignore')"
      ]
    },
    {
      "cell_type": "markdown",
      "metadata": {
        "id": "GE6gOohYsZwZ"
      },
      "source": [
        "Imported some of the basic libraries in order to get started & rest all the required libraries will be imported as and when required."
      ]
    },
    {
      "cell_type": "markdown",
      "metadata": {
        "id": "h832PnDQxMD0"
      },
      "source": [
        "## **Downloading & inspecting dataset**"
      ]
    },
    {
      "cell_type": "code",
      "execution_count": 4,
      "metadata": {
        "id": "caCaW34YxVRU",
        "outputId": "e51563cc-e6d3-4ead-d57c-022a1e5c6845",
        "colab": {
          "base_uri": "https://localhost:8080/"
        }
      },
      "outputs": [
        {
          "output_type": "stream",
          "name": "stdout",
          "text": [
            "Mounted at /content/drive\n"
          ]
        }
      ],
      "source": [
        "# Mounting the drive.\n",
        "from google.colab import drive\n",
        "drive.mount('/content/drive')"
      ]
    },
    {
      "cell_type": "code",
      "execution_count": 5,
      "metadata": {
        "id": "JrgqhyzR6nSd"
      },
      "outputs": [],
      "source": [
        "# Accessing the dataset.\n",
        "filename = '/content/drive/MyDrive/Capstone Projects/Deep Learning/Live Class Monitoring System (Face Emotion Recognition)/Face Emotion Dataset.zip'"
      ]
    },
    {
      "cell_type": "markdown",
      "metadata": {
        "id": "wx4NZq8N665z"
      },
      "source": [
        "The dataset is actually in 'zip' format and it needs to be unzipped in order to use it."
      ]
    },
    {
      "cell_type": "code",
      "execution_count": 6,
      "metadata": {
        "id": "mvcm-DPC7MYp"
      },
      "outputs": [],
      "source": [
        "# Unzipping the dataset.\n",
        "import zipfile\n",
        "zip_ref = zipfile.ZipFile(filename)\n",
        "zip_ref.extractall()\n",
        "zip_ref.close()"
      ]
    },
    {
      "cell_type": "markdown",
      "metadata": {
        "id": "7VkUg8v78b4M"
      },
      "source": [
        "Here, the dataset is already splitted into train & test dataset."
      ]
    },
    {
      "cell_type": "code",
      "execution_count": 7,
      "metadata": {
        "colab": {
          "base_uri": "https://localhost:8080/"
        },
        "id": "TokoipOi-JZt",
        "outputId": "cc6362f6-a3df-4d2e-e526-8a447bb78a58"
      },
      "outputs": [
        {
          "output_type": "stream",
          "name": "stdout",
          "text": [
            "TRAINING DATA:\n",
            "\n",
            "There are 7 directories and 0 images in /content/train.\n",
            "There are 0 directories and 4965 images in /content/train/neutral.\n",
            "There are 0 directories and 3171 images in /content/train/surprise.\n",
            "There are 0 directories and 436 images in /content/train/disgust.\n",
            "There are 0 directories and 4830 images in /content/train/sad.\n",
            "There are 0 directories and 4097 images in /content/train/fear.\n",
            "There are 0 directories and 3995 images in /content/train/angry.\n",
            "There are 0 directories and 7215 images in /content/train/happy.\n",
            "\n",
            "\n",
            "TESTING DATA:\n",
            "\n",
            "There are 7 directories and 0 images in /content/test.\n",
            "There are 0 directories and 1233 images in /content/test/neutral.\n",
            "There are 0 directories and 831 images in /content/test/surprise.\n",
            "There are 0 directories and 111 images in /content/test/disgust.\n",
            "There are 0 directories and 1247 images in /content/test/sad.\n",
            "There are 0 directories and 1024 images in /content/test/fear.\n",
            "There are 0 directories and 958 images in /content/test/angry.\n",
            "There are 0 directories and 1774 images in /content/test/happy.\n"
          ]
        }
      ],
      "source": [
        "# Walking into the directories and listing the number of files in each directories.\n",
        "import os\n",
        "\n",
        "# Walking through the train data directory.\n",
        "print(f'TRAINING DATA:\\n')\n",
        "for dirpath, dirnames, filenames in os.walk('/content/train'):\n",
        "  print(f'There are {len(dirnames)} directories and {len(filenames)} images in {dirpath}.')\n",
        "\n",
        "\n",
        "# Walking through the test data directory.\n",
        "print(f'\\n\\nTESTING DATA:\\n')\n",
        "for dirpath, dirnames, filenames in os.walk('/content/test'):\n",
        "  print(f'There are {len(dirnames)} directories and {len(filenames)} images in {dirpath}.')"
      ]
    },
    {
      "cell_type": "markdown",
      "metadata": {
        "id": "Yhq86iti_z2J"
      },
      "source": [
        "So, basically there are 7 directories present in both train and test dataset which are nothing but the directories representing each class and each directories have a number of images belonging to that class. So, clearly we get an idea that this particular dataset has 7 classes."
      ]
    },
    {
      "cell_type": "code",
      "source": [
        "# Getting the class names programatically.\n",
        "import pathlib                                  # 'Pathlib' module in Python provides various classes representing file system paths.\n",
        "\n",
        "data_dir = pathlib.Path('/content/train')\n",
        "class_names = np.array(sorted([item.name for item in data_dir.glob('*')]))\n",
        "# Creates a list of class names from the sub-directories.\n",
        "\n",
        "print(class_names)"
      ],
      "metadata": {
        "colab": {
          "base_uri": "https://localhost:8080/"
        },
        "id": "LRfSy4lBZKdb",
        "outputId": "2032b9d2-2252-4abd-9721-dc115faf9d1f"
      },
      "execution_count": 8,
      "outputs": [
        {
          "output_type": "stream",
          "name": "stdout",
          "text": [
            "['angry' 'disgust' 'fear' 'happy' 'neutral' 'sad' 'surprise']\n"
          ]
        }
      ]
    },
    {
      "cell_type": "markdown",
      "metadata": {
        "id": "jLHKrH1aDhlF"
      },
      "source": [
        "Classes present in the dataset are:  \n",
        "1. **angry**\n",
        "2. **disgust** \n",
        "3. **fear** \n",
        "4. **happy**\n",
        "5. **neutral**\n",
        "6. **sad** \n",
        "7. **surprise**\n",
        "\n",
        "Each of these classes represents human emotions."
      ]
    },
    {
      "cell_type": "markdown",
      "metadata": {
        "id": "juQyhU96K03h"
      },
      "source": [
        "## **Visualising images of each class**\n",
        "\n",
        "Becoming one with the data by visualising different images of each classes which the dataset in comprised of."
      ]
    },
    {
      "cell_type": "code",
      "execution_count": 9,
      "metadata": {
        "id": "agtTIwLfK_IW"
      },
      "outputs": [],
      "source": [
        "# Creating a function to view random images of each class.\n",
        "import random\n",
        "import matplotlib.image as mpimg\n",
        "\n",
        "def view_random_images(target_directory, target_class):\n",
        "  \n",
        "  '''\n",
        "  Takes into the target directory and target class as a path and prints random images of the specified class from the dataset\n",
        "  '''\n",
        "  \n",
        "  # Creating a target folder which will store the folder path taking the directory name and class name.\n",
        "  target_folder = target_directory + '/' + target_class\n",
        "  \n",
        "  # Getting a random image from the target folder and printing the image number.\n",
        "  random_image = random.sample(os.listdir(target_folder),1)\n",
        "  print(f'Image number: {random_image}')\n",
        "\n",
        "  # Reading the image and plotting it using matploltib.\n",
        "  img = mpimg.imread(target_folder + '/' + random_image[0])\n",
        "  plt.imshow(img)\n",
        "  plt.title(target_class.upper(),fontsize = 15)\n",
        "  plt.axis('off')\n",
        "  plt.show()\n",
        "\n",
        "  # Printing the shape of the image along with the image.\n",
        "  print(f'Image shape : {img.shape}')\n",
        "  \n",
        "  return img"
      ]
    },
    {
      "cell_type": "code",
      "execution_count": 10,
      "metadata": {
        "colab": {
          "base_uri": "https://localhost:8080/",
          "height": 429
        },
        "id": "9jPDoebb2BMN",
        "outputId": "d33f9d82-85d5-4c4b-d1d3-43a86dd4a71c"
      },
      "outputs": [
        {
          "output_type": "stream",
          "name": "stdout",
          "text": [
            "Image number: ['Training_44104008.jpg']\n"
          ]
        },
        {
          "output_type": "display_data",
          "data": {
            "text/plain": [
              "<Figure size 432x288 with 1 Axes>"
            ],
            "image/png": "[encoded data removed]"
          },
          "metadata": {
            "needs_background": "light"
          }
        },
        {
          "output_type": "stream",
          "name": "stdout",
          "text": [
            "Image shape : (48, 48)\n"
          ]
        },
        {
          "output_type": "execute_result",
          "data": {
            "text/plain": [
              "array([[180, 186, 187, ...,  52,  56,  57],\n",
              "       [179, 183, 186, ...,  71,  59,  55],\n",
              "       [181, 183, 186, ...,  65,  58,  57],\n",
              "       ...,\n",
              "       [120, 103,  85, ..., 221, 221, 218],\n",
              "       [125, 121, 114, ..., 218, 219, 218],\n",
              "       [140, 131, 126, ..., 218, 220, 222]], dtype=uint8)"
            ]
          },
          "metadata": {},
          "execution_count": 10
        }
      ],
      "source": [
        "# Viewing 'angry' class image.\n",
        "view_random_images(target_directory = '/content/train',\n",
        "                   target_class = 'angry')"
      ]
    },
    {
      "cell_type": "code",
      "execution_count": 11,
      "metadata": {
        "colab": {
          "base_uri": "https://localhost:8080/",
          "height": 429
        },
        "id": "lk002Kno2qfP",
        "outputId": "a3c72204-6d39-4496-ef6d-13690d20f34b"
      },
      "outputs": [
        {
          "output_type": "stream",
          "name": "stdout",
          "text": [
            "Image number: ['Training_43545246.jpg']\n"
          ]
        },
        {
          "output_type": "display_data",
          "data": {
            "text/plain": [
              "<Figure size 432x288 with 1 Axes>"
            ],
            "image/png": "[encoded data removed]"
          },
          "metadata": {
            "needs_background": "light"
          }
        },
        {
          "output_type": "stream",
          "name": "stdout",
          "text": [
            "Image shape : (48, 48)\n"
          ]
        },
        {
          "output_type": "execute_result",
          "data": {
            "text/plain": [
              "array([[152, 155, 156, ...,  64,  68,  71],\n",
              "       [154, 158, 134, ...,  73,  75,  77],\n",
              "       [160, 165, 129, ...,  73,  80,  82],\n",
              "       ...,\n",
              "       [116, 113, 108, ..., 153, 169, 205],\n",
              "       [ 97,  96, 120, ..., 185, 190, 194],\n",
              "       [ 88,  98, 101, ..., 143, 157, 166]], dtype=uint8)"
            ]
          },
          "metadata": {},
          "execution_count": 11
        }
      ],
      "source": [
        "# Viewing 'disgust' class image.\n",
        "view_random_images(target_directory = '/content/train',\n",
        "                   target_class = 'disgust')"
      ]
    },
    {
      "cell_type": "code",
      "execution_count": 12,
      "metadata": {
        "colab": {
          "base_uri": "https://localhost:8080/",
          "height": 429
        },
        "id": "UwRLnHad23QK",
        "outputId": "ae0c7ea2-6c1e-4ddd-a650-85a30f8f31b4"
      },
      "outputs": [
        {
          "output_type": "stream",
          "name": "stdout",
          "text": [
            "Image number: ['Training_33131991.jpg']\n"
          ]
        },
        {
          "output_type": "display_data",
          "data": {
            "text/plain": [
              "<Figure size 432x288 with 1 Axes>"
            ],
            "image/png": "[encoded data removed]"
          },
          "metadata": {
            "needs_background": "light"
          }
        },
        {
          "output_type": "stream",
          "name": "stdout",
          "text": [
            "Image shape : (48, 48)\n"
          ]
        },
        {
          "output_type": "execute_result",
          "data": {
            "text/plain": [
              "array([[ 74,  88,  97, ...,  34,  36,  34],\n",
              "       [ 73,  84,  95, ...,  34,  35,  31],\n",
              "       [ 72,  82,  94, ...,  33,  35,  32],\n",
              "       ...,\n",
              "       [130, 129, 125, ...,  99,  58,  54],\n",
              "       [132, 130, 127, ..., 102,  69,  59],\n",
              "       [134, 131, 127, ..., 109,  73,  62]], dtype=uint8)"
            ]
          },
          "metadata": {},
          "execution_count": 12
        }
      ],
      "source": [
        "# Viewing 'fear' class image.\n",
        "view_random_images(target_directory = '/content/train',\n",
        "                   target_class = 'fear')"
      ]
    },
    {
      "cell_type": "code",
      "execution_count": 13,
      "metadata": {
        "colab": {
          "base_uri": "https://localhost:8080/",
          "height": 429
        },
        "id": "IbbkRsDT3Jat",
        "outputId": "8bd244d4-2b9c-40b4-9a23-d36457845701"
      },
      "outputs": [
        {
          "output_type": "stream",
          "name": "stdout",
          "text": [
            "Image number: ['Training_45598230.jpg']\n"
          ]
        },
        {
          "output_type": "display_data",
          "data": {
            "text/plain": [
              "<Figure size 432x288 with 1 Axes>"
            ],
            "image/png": "[encoded data removed]"
          },
          "metadata": {
            "needs_background": "light"
          }
        },
        {
          "output_type": "stream",
          "name": "stdout",
          "text": [
            "Image shape : (48, 48)\n"
          ]
        },
        {
          "output_type": "execute_result",
          "data": {
            "text/plain": [
              "array([[164, 165, 170, ..., 113, 133, 149],\n",
              "       [152, 164, 143, ..., 105, 118, 137],\n",
              "       [165, 151,  95, ..., 104, 108, 128],\n",
              "       ...,\n",
              "       [  3,   0,   0, ...,  25,  26,  14],\n",
              "       [  2,   0,   0, ...,  25,  25,   9],\n",
              "       [  2,   0,   1, ...,  27,  26,  10]], dtype=uint8)"
            ]
          },
          "metadata": {},
          "execution_count": 13
        }
      ],
      "source": [
        "# Viewing 'happy' class image.\n",
        "view_random_images(target_directory = '/content/train',\n",
        "                   target_class = 'happy')"
      ]
    },
    {
      "cell_type": "code",
      "execution_count": 14,
      "metadata": {
        "colab": {
          "base_uri": "https://localhost:8080/",
          "height": 429
        },
        "id": "2BopBN8w3Oeh",
        "outputId": "528b77f7-9d33-4682-9e35-da4361b54746"
      },
      "outputs": [
        {
          "output_type": "stream",
          "name": "stdout",
          "text": [
            "Image number: ['Training_74464173.jpg']\n"
          ]
        },
        {
          "output_type": "display_data",
          "data": {
            "text/plain": [
              "<Figure size 432x288 with 1 Axes>"
            ],
            "image/png": "[encoded data removed]"
          },
          "metadata": {
            "needs_background": "light"
          }
        },
        {
          "output_type": "stream",
          "name": "stdout",
          "text": [
            "Image shape : (48, 48)\n"
          ]
        },
        {
          "output_type": "execute_result",
          "data": {
            "text/plain": [
              "array([[100,  64,  57, ..., 144, 153, 159],\n",
              "       [ 70,  54,  62, ..., 121, 144, 155],\n",
              "       [ 56,  58,  63, ...,  99, 128, 149],\n",
              "       ...,\n",
              "       [156, 155, 152, ..., 162, 163, 164],\n",
              "       [153, 153, 152, ..., 158, 162, 162],\n",
              "       [155, 151, 149, ..., 156, 160, 158]], dtype=uint8)"
            ]
          },
          "metadata": {},
          "execution_count": 14
        }
      ],
      "source": [
        "# Viewing 'neutral' class image.\n",
        "view_random_images(target_directory = '/content/train',\n",
        "                   target_class = 'neutral')"
      ]
    },
    {
      "cell_type": "code",
      "execution_count": 20,
      "metadata": {
        "colab": {
          "base_uri": "https://localhost:8080/",
          "height": 429
        },
        "id": "kfV_8bQU3YMT",
        "outputId": "93799620-068a-43b7-accd-959c358a4fbb"
      },
      "outputs": [
        {
          "output_type": "stream",
          "name": "stdout",
          "text": [
            "Image number: ['Training_72542126.jpg']\n"
          ]
        },
        {
          "output_type": "display_data",
          "data": {
            "text/plain": [
              "<Figure size 432x288 with 1 Axes>"
            ],
            "image/png": "[encoded data removed]"
          },
          "metadata": {
            "needs_background": "light"
          }
        },
        {
          "output_type": "stream",
          "name": "stdout",
          "text": [
            "Image shape : (48, 48)\n"
          ]
        },
        {
          "output_type": "execute_result",
          "data": {
            "text/plain": [
              "array([[136, 158, 160, ..., 215, 213, 207],\n",
              "       [162, 166, 177, ..., 215, 212, 207],\n",
              "       [170, 174, 207, ..., 215, 213, 208],\n",
              "       ...,\n",
              "       [193, 186, 178, ...,   1,   0,  15],\n",
              "       [189, 178, 166, ...,   2,   1,  13],\n",
              "       [181, 173, 154, ...,   1,   0,  12]], dtype=uint8)"
            ]
          },
          "metadata": {},
          "execution_count": 20
        }
      ],
      "source": [
        "# Viewing 'sad' class image.\n",
        "view_random_images(target_directory = '/content/train',\n",
        "                   target_class = 'sad')"
      ]
    },
    {
      "cell_type": "code",
      "execution_count": 21,
      "metadata": {
        "colab": {
          "base_uri": "https://localhost:8080/",
          "height": 429
        },
        "id": "1FYwTQGn3gtS",
        "outputId": "1a8a9059-1128-4d4a-b6cc-d67bf397ae61"
      },
      "outputs": [
        {
          "output_type": "stream",
          "name": "stdout",
          "text": [
            "Image number: ['Training_3547859.jpg']\n"
          ]
        },
        {
          "output_type": "display_data",
          "data": {
            "text/plain": [
              "<Figure size 432x288 with 1 Axes>"
            ],
            "image/png": "[encoded data removed]"
          },
          "metadata": {
            "needs_background": "light"
          }
        },
        {
          "output_type": "stream",
          "name": "stdout",
          "text": [
            "Image shape : (48, 48)\n"
          ]
        },
        {
          "output_type": "execute_result",
          "data": {
            "text/plain": [
              "array([[128, 170, 166, ..., 255, 255, 255],\n",
              "       [122, 163, 161, ..., 255, 255, 255],\n",
              "       [126, 160, 148, ..., 255, 255, 255],\n",
              "       ...,\n",
              "       [254, 253, 255, ..., 255, 255, 255],\n",
              "       [255, 254, 253, ..., 255, 255, 255],\n",
              "       [254, 255, 255, ..., 255, 255, 255]], dtype=uint8)"
            ]
          },
          "metadata": {},
          "execution_count": 21
        }
      ],
      "source": [
        "# Viewing 'surprise' class image.\n",
        "view_random_images(target_directory = '/content/train',\n",
        "                   target_class = 'surprise')"
      ]
    },
    {
      "cell_type": "markdown",
      "metadata": {
        "id": "C-ZefKCa67cV"
      },
      "source": [
        "Points to be noted after viewing the images above:\n",
        "* Image values are not scaled.\n",
        "* Images are of shape 48X48.\n",
        "* Images are not in RGB colour mode."
      ]
    },
    {
      "cell_type": "markdown",
      "metadata": {
        "id": "1YQL8hex5kMv"
      },
      "source": [
        "## **Pre-processing data**"
      ]
    },
    {
      "cell_type": "markdown",
      "metadata": {
        "id": "tEpZeswf3-Xp"
      },
      "source": [
        "The image array values needs scaling in order to make our model perform better."
      ]
    },
    {
      "cell_type": "code",
      "execution_count": 22,
      "metadata": {
        "id": "KmuWgj455fV7"
      },
      "outputs": [],
      "source": [
        "# Setting up the path to data directories.\n",
        "train_dir = '/content/train'\n",
        "test_dir = '/content/test'"
      ]
    },
    {
      "cell_type": "code",
      "execution_count": 23,
      "metadata": {
        "id": "MZgfCVQK9Xqf"
      },
      "outputs": [],
      "source": [
        "# Flipping and scaling the data.\n",
        "from tensorflow.keras.preprocessing.image import ImageDataGenerator\n",
        "\n",
        "train_datagen = ImageDataGenerator(rescale = 1./255)\n",
        "validation_datagen = ImageDataGenerator(rescale = 1./255)"
      ]
    },
    {
      "cell_type": "code",
      "execution_count": 24,
      "metadata": {
        "colab": {
          "base_uri": "https://localhost:8080/"
        },
        "id": "x4agQo2KAWsQ",
        "outputId": "b0289dba-5953-479e-ed52-f661b7090498"
      },
      "outputs": [
        {
          "output_type": "stream",
          "name": "stdout",
          "text": [
            "Found 28709 images belonging to 7 classes.\n",
            "Found 7178 images belonging to 7 classes.\n"
          ]
        }
      ],
      "source": [
        "# Getting the train and test(validation) dataset ready for model creation.\n",
        "train_data = train_datagen.flow_from_directory(directory = train_dir,              \n",
        "                                               batch_size = 32,                 \n",
        "                                               target_size = (48, 48),          \n",
        "                                               color_mode = 'grayscale',                                \n",
        "                                               class_mode = 'categorical')\n",
        "\n",
        "test_data = validation_datagen.flow_from_directory(directory = test_dir,              \n",
        "                                                   batch_size = 32,                 \n",
        "                                                   target_size = (48, 48),          \n",
        "                                                   color_mode = 'grayscale',              \n",
        "                                                   shuffle = False,                  \n",
        "                                                   class_mode = 'categorical')"
      ]
    },
    {
      "cell_type": "markdown",
      "metadata": {
        "id": "o9IFGgkTEeA_"
      },
      "source": [
        "* Training set has **28709** images in total belonging to 7 classes.\n",
        "* Testing set has **7178** images in total belonging to 7 classes."
      ]
    },
    {
      "cell_type": "markdown",
      "metadata": {
        "id": "IrtEGt3i7kpO"
      },
      "source": [
        "**As, the pre-processing stage is handled as per requirement, now its time to create different models using different architectures and comparing the model performances, post model training and choosing the one with highest accuracy in order to use it in the face emotion detection application.**"
      ]
    },
    {
      "cell_type": "markdown",
      "metadata": {
        "id": "jY2CY7xx8fkN"
      },
      "source": [
        "## **Model building**\n",
        "\n",
        "Architectures which will be used in order to build models are as follows:\n",
        "1. **Convolutional Neural Networks (CNN)**\n",
        "2. **resnet50**\n",
        "\n",
        "At first \"CNN\" will be used to create model followed by transfer learning using \"ResNet50\"."
      ]
    },
    {
      "cell_type": "markdown",
      "metadata": {
        "id": "UfVB40w5CZDM"
      },
      "source": [
        "Changing the runtime type to \"GPU\" which is offered by Google Colaboratory in order to train the model faster."
      ]
    },
    {
      "cell_type": "code",
      "execution_count": 26,
      "metadata": {
        "id": "WLrNrPliC73w",
        "colab": {
          "base_uri": "https://localhost:8080/"
        },
        "outputId": "f0f72417-2210-42c4-9355-36efb9a8a0e5"
      },
      "outputs": [
        {
          "output_type": "stream",
          "name": "stdout",
          "text": [
            "Tue May 10 13:52:00 2022       \n",
            "+-----------------------------------------------------------------------------+\n",
            "| NVIDIA-SMI 460.32.03    Driver Version: 460.32.03    CUDA Version: 11.2     |\n",
            "|-------------------------------+----------------------+----------------------+\n",
            "| GPU  Name        Persistence-M| Bus-Id        Disp.A | Volatile Uncorr. ECC |\n",
            "| Fan  Temp  Perf  Pwr:Usage/Cap|         Memory-Usage | GPU-Util  Compute M. |\n",
            "|                               |                      |               MIG M. |\n",
            "|===============================+======================+======================|\n",
            "|   0  Tesla T4            Off  | 00000000:00:04.0 Off |                    0 |\n",
            "| N/A   36C    P8     9W /  70W |      0MiB / 15109MiB |      0%      Default |\n",
            "|                               |                      |                  N/A |\n",
            "+-------------------------------+----------------------+----------------------+\n",
            "                                                                               \n",
            "+-----------------------------------------------------------------------------+\n",
            "| Processes:                                                                  |\n",
            "|  GPU   GI   CI        PID   Type   Process name                  GPU Memory |\n",
            "|        ID   ID                                                   Usage      |\n",
            "|=============================================================================|\n",
            "|  No running processes found                                                 |\n",
            "+-----------------------------------------------------------------------------+\n"
          ]
        }
      ],
      "source": [
        "# Checking the GPU details.\n",
        "!nvidia-smi"
      ]
    },
    {
      "cell_type": "markdown",
      "source": [
        "So, **Tesla T4** GPU has been allocated by google colab."
      ],
      "metadata": {
        "id": "LscdwVmoQ5Zw"
      }
    },
    {
      "cell_type": "markdown",
      "metadata": {
        "id": "5VEwvLtfBnAf"
      },
      "source": [
        "### **Custom CNN model**\n",
        "\n",
        "CNN is a deep learning neural network sketched for processing structured arrays of data such as portrayals or images. CNN are very good at picking up on patterns in the input image, such as lines, gradients, circles or even eyes and faces. "
      ]
    },
    {
      "cell_type": "code",
      "execution_count": 27,
      "metadata": {
        "id": "aS3tyQS8CCSq"
      },
      "outputs": [],
      "source": [
        "# Building a CNN model using the sequential API.\n",
        "from tensorflow.keras.layers import Dense, Flatten, Conv2D, MaxPool2D, BatchNormalization, Dropout\n",
        "from tensorflow.keras import Sequential\n",
        "from tensorflow.keras.optimizers import Adam\n",
        "from tensorflow.keras.callbacks import Callback, EarlyStopping, ReduceLROnPlateau\n",
        "\n",
        "model_A = Sequential([\n",
        "    \n",
        "    # 1st CNN layer.\n",
        "    Conv2D(64, (3,3), padding = 'same', input_shape = (48,48,1), activation = 'relu'),\n",
        "    BatchNormalization(),\n",
        "    MaxPool2D(pool_size = (2,2)),\n",
        "    Dropout(0.25),\n",
        "\n",
        "    # 2nd CNN layer.\n",
        "    Conv2D(128, (5,5), padding = 'same',activation = 'relu'),\n",
        "    BatchNormalization(),\n",
        "    MaxPool2D(pool_size = (2,2)),\n",
        "    Dropout(0.25),\n",
        "\n",
        "    # 3rd CNN layer.\n",
        "    Conv2D(512, (3,3), padding = 'same',activation = 'relu'),\n",
        "    BatchNormalization(),\n",
        "    MaxPool2D(pool_size = (2,2)),\n",
        "    Dropout(0.25),\n",
        "\n",
        "    # 4th CNN layer.\n",
        "    Conv2D(512, (3,3), padding = 'same',activation = 'relu'),\n",
        "    BatchNormalization(),\n",
        "    MaxPool2D(pool_size = (2,2)),\n",
        "    Dropout(0.25),\n",
        "\n",
        "    # Layer to flatten the input layer.\n",
        "    Flatten(),\n",
        "\n",
        "    # 1st fully connected layer.\n",
        "    Dense(256, activation = 'relu'),\n",
        "    BatchNormalization(),\n",
        "    Dropout(0.25),\n",
        "\n",
        "    # 2nd fully connected layer.\n",
        "    Dense(512, activation = 'relu'),\n",
        "    BatchNormalization(),\n",
        "    Dropout(0.25),\n",
        "\n",
        "    # Output layer.\n",
        "    Dense(7, activation = 'softmax')                             # Number of classes = 7.\n",
        "])"
      ]
    },
    {
      "cell_type": "code",
      "execution_count": 28,
      "metadata": {
        "id": "PKze7T2NqmGI"
      },
      "outputs": [],
      "source": [
        "# Compiling the model.\n",
        "model_A.compile(loss = 'categorical_crossentropy',\n",
        "                optimizer = Adam(learning_rate = 0.0001),\n",
        "                metrics = ['accuracy'])"
      ]
    },
    {
      "cell_type": "code",
      "execution_count": 29,
      "metadata": {
        "id": "HqkQKAan9Piv"
      },
      "outputs": [],
      "source": [
        "# Creating callbacks.\n",
        "early_stopping = EarlyStopping(monitor='val_loss',\n",
        "                              min_delta=0,\n",
        "                              patience=3,\n",
        "                              verbose=1,\n",
        "                              restore_best_weights=True)\n",
        "# Stops training when a monitored metric has stopped improving.\n",
        "\n",
        "\n",
        "reduce_learningrate = ReduceLROnPlateau(monitor='val_loss',\n",
        "                                        factor=0.2,\n",
        "                                        patience=3,\n",
        "                                        verbose=1,\n",
        "                                        min_delta=0.0001)\n",
        "# Reduces learning rate when a metric stops improving."
      ]
    },
    {
      "cell_type": "code",
      "execution_count": 30,
      "metadata": {
        "colab": {
          "base_uri": "https://localhost:8080/"
        },
        "id": "8Fscc2AZ-nQb",
        "outputId": "82098fe2-ffe2-4255-a4ed-bbe2422cf896"
      },
      "outputs": [
        {
          "output_type": "stream",
          "name": "stdout",
          "text": [
            "Epoch 1/50\n",
            "898/898 [==============================] - 29s 20ms/step - loss: 2.2634 - accuracy: 0.2151 - val_loss: 1.8352 - val_accuracy: 0.2818 - lr: 1.0000e-04\n",
            "Epoch 2/50\n",
            "898/898 [==============================] - 17s 19ms/step - loss: 1.9563 - accuracy: 0.2818 - val_loss: 1.7559 - val_accuracy: 0.3436 - lr: 1.0000e-04\n",
            "Epoch 3/50\n",
            "898/898 [==============================] - 17s 19ms/step - loss: 1.8010 - accuracy: 0.3346 - val_loss: 1.6359 - val_accuracy: 0.3916 - lr: 1.0000e-04\n",
            "Epoch 4/50\n",
            "898/898 [==============================] - 17s 19ms/step - loss: 1.6670 - accuracy: 0.3789 - val_loss: 1.5241 - val_accuracy: 0.4252 - lr: 1.0000e-04\n",
            "Epoch 5/50\n",
            "898/898 [==============================] - 17s 19ms/step - loss: 1.5482 - accuracy: 0.4173 - val_loss: 1.4156 - val_accuracy: 0.4750 - lr: 1.0000e-04\n",
            "Epoch 6/50\n",
            "898/898 [==============================] - 17s 19ms/step - loss: 1.4449 - accuracy: 0.4553 - val_loss: 1.3095 - val_accuracy: 0.5073 - lr: 1.0000e-04\n",
            "Epoch 7/50\n",
            "898/898 [==============================] - 17s 19ms/step - loss: 1.3647 - accuracy: 0.4848 - val_loss: 1.2736 - val_accuracy: 0.5169 - lr: 1.0000e-04\n",
            "Epoch 8/50\n",
            "898/898 [==============================] - 17s 19ms/step - loss: 1.2904 - accuracy: 0.5107 - val_loss: 1.2333 - val_accuracy: 0.5412 - lr: 1.0000e-04\n",
            "Epoch 9/50\n",
            "898/898 [==============================] - 17s 19ms/step - loss: 1.2350 - accuracy: 0.5308 - val_loss: 1.1790 - val_accuracy: 0.5571 - lr: 1.0000e-04\n",
            "Epoch 10/50\n",
            "898/898 [==============================] - 17s 19ms/step - loss: 1.1745 - accuracy: 0.5566 - val_loss: 1.1261 - val_accuracy: 0.5711 - lr: 1.0000e-04\n",
            "Epoch 11/50\n",
            "898/898 [==============================] - 18s 20ms/step - loss: 1.1290 - accuracy: 0.5727 - val_loss: 1.1271 - val_accuracy: 0.5792 - lr: 1.0000e-04\n",
            "Epoch 12/50\n",
            "898/898 [==============================] - 17s 19ms/step - loss: 1.0848 - accuracy: 0.5898 - val_loss: 1.1314 - val_accuracy: 0.5774 - lr: 1.0000e-04\n",
            "Epoch 13/50\n",
            "898/898 [==============================] - 18s 20ms/step - loss: 1.0414 - accuracy: 0.6081 - val_loss: 1.1163 - val_accuracy: 0.5837 - lr: 1.0000e-04\n",
            "Epoch 14/50\n",
            "898/898 [==============================] - 17s 19ms/step - loss: 0.9922 - accuracy: 0.6252 - val_loss: 1.0751 - val_accuracy: 0.6067 - lr: 1.0000e-04\n",
            "Epoch 15/50\n",
            "898/898 [==============================] - 17s 19ms/step - loss: 0.9419 - accuracy: 0.6476 - val_loss: 1.0925 - val_accuracy: 0.5997 - lr: 1.0000e-04\n",
            "Epoch 16/50\n",
            "898/898 [==============================] - 17s 19ms/step - loss: 0.9015 - accuracy: 0.6671 - val_loss: 1.0592 - val_accuracy: 0.6159 - lr: 1.0000e-04\n",
            "Epoch 17/50\n",
            "898/898 [==============================] - 17s 19ms/step - loss: 0.8587 - accuracy: 0.6796 - val_loss: 1.1055 - val_accuracy: 0.5997 - lr: 1.0000e-04\n",
            "Epoch 18/50\n",
            "898/898 [==============================] - 17s 19ms/step - loss: 0.8141 - accuracy: 0.6994 - val_loss: 1.0692 - val_accuracy: 0.6176 - lr: 1.0000e-04\n",
            "Epoch 19/50\n",
            "895/898 [============================>.] - ETA: 0s - loss: 0.7631 - accuracy: 0.7179Restoring model weights from the end of the best epoch: 16.\n",
            "\n",
            "Epoch 19: ReduceLROnPlateau reducing learning rate to 1.9999999494757503e-05.\n",
            "898/898 [==============================] - 17s 19ms/step - loss: 0.7631 - accuracy: 0.7176 - val_loss: 1.0725 - val_accuracy: 0.6232 - lr: 1.0000e-04\n",
            "Epoch 19: early stopping\n"
          ]
        }
      ],
      "source": [
        "# Fitting the model.\n",
        "history_model_A = model_A.fit_generator(generator = train_data,\n",
        "                                        epochs = 50,\n",
        "                                        steps_per_epoch = len(train_data),\n",
        "                                        validation_data = test_data,\n",
        "                                        validation_steps = test_data.n // test_data.batch_size,\n",
        "                                        callbacks = [early_stopping, reduce_learningrate]) "
      ]
    },
    {
      "cell_type": "code",
      "source": [
        "# Evaluating model performance on overall test data.\n",
        "model_A.evaluate(test_data)"
      ],
      "metadata": {
        "colab": {
          "base_uri": "https://localhost:8080/"
        },
        "id": "tmbhDyrgLhg5",
        "outputId": "e4669e2e-a467-4c29-911f-643fd4fb3cf6"
      },
      "execution_count": 31,
      "outputs": [
        {
          "output_type": "stream",
          "name": "stdout",
          "text": [
            "225/225 [==============================] - 3s 14ms/step - loss: 1.0582 - accuracy: 0.6163\n"
          ]
        },
        {
          "output_type": "execute_result",
          "data": {
            "text/plain": [
              "[1.0582349300384521, 0.6163276433944702]"
            ]
          },
          "metadata": {},
          "execution_count": 31
        }
      ]
    },
    {
      "cell_type": "markdown",
      "source": [
        "Accuracy score on overall test dataset came out to be **61.63%**"
      ],
      "metadata": {
        "id": "Ue3ssadBRZDQ"
      }
    },
    {
      "cell_type": "code",
      "source": [
        "# Checking the model summary.\n",
        "model_A.summary()"
      ],
      "metadata": {
        "colab": {
          "base_uri": "https://localhost:8080/"
        },
        "id": "x8Q8M7g6MS8d",
        "outputId": "4c83ad55-4be8-4714-b6e4-2d1de1b09e32"
      },
      "execution_count": 32,
      "outputs": [
        {
          "output_type": "stream",
          "name": "stdout",
          "text": [
            "Model: \"sequential\"\n",
            "_________________________________________________________________\n",
            " Layer (type)                Output Shape              Param #   \n",
            "=================================================================\n",
            " conv2d (Conv2D)             (None, 48, 48, 64)        640       \n",
            "                                                                 \n",
            " batch_normalization (BatchN  (None, 48, 48, 64)       256       \n",
            " ormalization)                                                   \n",
            "                                                                 \n",
            " max_pooling2d (MaxPooling2D  (None, 24, 24, 64)       0         \n",
            " )                                                               \n",
            "                                                                 \n",
            " dropout (Dropout)           (None, 24, 24, 64)        0         \n",
            "                                                                 \n",
            " conv2d_1 (Conv2D)           (None, 24, 24, 128)       204928    \n",
            "                                                                 \n",
            " batch_normalization_1 (Batc  (None, 24, 24, 128)      512       \n",
            " hNormalization)                                                 \n",
            "                                                                 \n",
            " max_pooling2d_1 (MaxPooling  (None, 12, 12, 128)      0         \n",
            " 2D)                                                             \n",
            "                                                                 \n",
            " dropout_1 (Dropout)         (None, 12, 12, 128)       0         \n",
            "                                                                 \n",
            " conv2d_2 (Conv2D)           (None, 12, 12, 512)       590336    \n",
            "                                                                 \n",
            " batch_normalization_2 (Batc  (None, 12, 12, 512)      2048      \n",
            " hNormalization)                                                 \n",
            "                                                                 \n",
            " max_pooling2d_2 (MaxPooling  (None, 6, 6, 512)        0         \n",
            " 2D)                                                             \n",
            "                                                                 \n",
            " dropout_2 (Dropout)         (None, 6, 6, 512)         0         \n",
            "                                                                 \n",
            " conv2d_3 (Conv2D)           (None, 6, 6, 512)         2359808   \n",
            "                                                                 \n",
            " batch_normalization_3 (Batc  (None, 6, 6, 512)        2048      \n",
            " hNormalization)                                                 \n",
            "                                                                 \n",
            " max_pooling2d_3 (MaxPooling  (None, 3, 3, 512)        0         \n",
            " 2D)                                                             \n",
            "                                                                 \n",
            " dropout_3 (Dropout)         (None, 3, 3, 512)         0         \n",
            "                                                                 \n",
            " flatten (Flatten)           (None, 4608)              0         \n",
            "                                                                 \n",
            " dense (Dense)               (None, 256)               1179904   \n",
            "                                                                 \n",
            " batch_normalization_4 (Batc  (None, 256)              1024      \n",
            " hNormalization)                                                 \n",
            "                                                                 \n",
            " dropout_4 (Dropout)         (None, 256)               0         \n",
            "                                                                 \n",
            " dense_1 (Dense)             (None, 512)               131584    \n",
            "                                                                 \n",
            " batch_normalization_5 (Batc  (None, 512)              2048      \n",
            " hNormalization)                                                 \n",
            "                                                                 \n",
            " dropout_5 (Dropout)         (None, 512)               0         \n",
            "                                                                 \n",
            " dense_2 (Dense)             (None, 7)                 3591      \n",
            "                                                                 \n",
            "=================================================================\n",
            "Total params: 4,478,727\n",
            "Trainable params: 4,474,759\n",
            "Non-trainable params: 3,968\n",
            "_________________________________________________________________\n"
          ]
        }
      ]
    },
    {
      "cell_type": "code",
      "source": [
        "# Prediction For Test Set\n",
        "predictions = model_A.predict(test_data)\n",
        "\n",
        "# Printing Confution Matrix\n",
        "from sklearn.metrics import confusion_matrix\n",
        "cm = confusion_matrix(y_pred = np.argmax(predictions, axis=-1), y_true = test_data.classes)                         \n",
        "cm"
      ],
      "metadata": {
        "colab": {
          "base_uri": "https://localhost:8080/"
        },
        "id": "CCqJT0Y2ZbYV",
        "outputId": "25c484d4-8cba-49a9-d223-188c126d1dc7"
      },
      "execution_count": 33,
      "outputs": [
        {
          "output_type": "execute_result",
          "data": {
            "text/plain": [
              "array([[ 484,   15,   91,   65,  115,  164,   24],\n",
              "       [  28,   59,    6,    4,    5,    8,    1],\n",
              "       [ 111,    6,  439,   49,   97,  207,  115],\n",
              "       [  34,    0,   52, 1478,   80,   79,   51],\n",
              "       [  82,    5,  104,  108,  691,  209,   34],\n",
              "       [ 124,    8,  174,   86,  211,  616,   28],\n",
              "       [  14,    1,   83,   43,   18,   15,  657]])"
            ]
          },
          "metadata": {},
          "execution_count": 33
        }
      ]
    },
    {
      "cell_type": "code",
      "source": [
        "# Computing predictions.\n",
        "predictions = model_A.predict_generator(generator=test_data)\n",
        "y_pred = [np.argmax(probas) for probas in predictions]\n",
        "y_test = test_data.classes\n",
        "class_names = test_data.class_indices.keys()\n",
        "\n",
        "\n",
        "# Creating function to plot confusion matrix.\n",
        "from sklearn.metrics import confusion_matrix\n",
        "import itertools\n",
        "def plot_confusion_matrix(cm, classes, title='Confusion matrix', cmap = plt.cm.PuRd):\n",
        "    cm = cm.astype('float') / cm.sum(axis=1)[:, np.newaxis]\n",
        "    plt.figure(figsize=(10,10))\n",
        "    plt.imshow(cm, interpolation='nearest', cmap=cmap)\n",
        "    plt.title(title)\n",
        "    plt.colorbar()\n",
        "    tick_marks = np.arange(len(classes))\n",
        "    plt.xticks(tick_marks, classes, rotation=45)\n",
        "    plt.yticks(tick_marks, classes)\n",
        "\n",
        "    fmt = '.2f'\n",
        "    thresh = cm.max() / 2.\n",
        "    for i, j in itertools.product(range(cm.shape[0]), range(cm.shape[1])):\n",
        "        plt.text(j, i, format(cm[i, j], fmt),\n",
        "                 horizontalalignment=\"center\",\n",
        "                 color=\"white\" if cm[i, j] > thresh else \"black\")\n",
        "\n",
        "    plt.ylabel('True label')# **Live Class Monitoring System(Face Emotion Recognition)**\n",
        "    plt.xlabel('Predicted label')\n",
        "    plt.tight_layout()\n",
        "    plt.show()\n",
        "    \n",
        "# Compute confusion matrix.\n",
        "cnf_matrix = confusion_matrix(y_test, y_pred)\n",
        "np.set_printoptions(precision=2)\n",
        "\n",
        "# Plotting normalized confusion matrix.\n",
        "plt.figure()\n",
        "plot_confusion_matrix(cnf_matrix,  classes = class_names, title='Normalized confusion matrix')\n",
        "plt.show()"
      ],
      "metadata": {
        "colab": {
          "base_uri": "https://localhost:8080/",
          "height": 745
        },
        "id": "O2JjpkN8XZAQ",
        "outputId": "dc18be3f-d567-4be6-e622-517f85a50c86"
      },
      "execution_count": 34,
      "outputs": [
        {
          "output_type": "display_data",
          "data": {
            "text/plain": [
              "<Figure size 432x288 with 0 Axes>"
            ]
          },
          "metadata": {}
        },
        {
          "output_type": "display_data",
          "data": {
            "text/plain": [
              "<Figure size 720x720 with 2 Axes>"
            ],
            "image/png": "[encoded data removed]"
          },
          "metadata": {
            "needs_background": "light"
          }
        }
      ]
    },
    {
      "cell_type": "markdown",
      "source": [
        "This CNN model does a good job in predicting the happy & surprised faces while the model predicts the fear & disgust faces quite poorly."
      ],
      "metadata": {
        "id": "crMNlEwyZ8HX"
      }
    },
    {
      "cell_type": "code",
      "source": [
        "# Creating a function to plot the validation and training curves separately.\n",
        "def plot_loss_curves(history):\n",
        "  '''\n",
        "  Returns separate loss curves for training and validation set\n",
        "  '''\n",
        "  \n",
        "  loss = history.history['loss']\n",
        "  val_loss = history.history['val_loss']\n",
        "\n",
        "  accuracy = history.history['accuracy']\n",
        "  val_accuracy = history.history['val_accuracy']\n",
        "\n",
        "  epochs = range(len(history.history['loss']))\n",
        "\n",
        "  # PLotting loss.\n",
        "  plt.plot(epochs, loss, label = 'training_loss',linewidth=3)\n",
        "  plt.plot(epochs, val_loss, label = 'val_loss',linewidth=3)\n",
        "  plt.title('LOSS CURVE',fontsize = 25)\n",
        "  plt.legend()\n",
        "  plt.grid()\n",
        "  plt.show()\n",
        "\n",
        "  # Plotting accuracy.\n",
        "  plt.figure()                                                             \n",
        "  plt.plot(epochs, accuracy, label = 'training_accuracy',linewidth=3)\n",
        "  plt.plot(epochs, val_accuracy, label = 'val_accuracy',linewidth=3)\n",
        "  plt.title('ACCURACY',fontsize = 25)\n",
        "  plt.legend()\n",
        "  plt.grid()\n",
        "  plt.show()"
      ],
      "metadata": {
        "id": "2eqzJkb1M3n1"
      },
      "execution_count": 35,
      "outputs": []
    },
    {
      "cell_type": "code",
      "source": [
        "# Plotting the loss curves.\n",
        "plot_loss_curves(history_model_A)"
      ],
      "metadata": {
        "colab": {
          "base_uri": "https://localhost:8080/",
          "height": 563
        },
        "id": "OZqe08gnPrF_",
        "outputId": "556db7df-9fb8-453c-a223-724179eaee0d"
      },
      "execution_count": 36,
      "outputs": [
        {
          "output_type": "display_data",
          "data": {
            "text/plain": [
              "<Figure size 432x288 with 1 Axes>"
            ],
            "image/png": "[encoded data removed]"
          },
          "metadata": {
            "needs_background": "light"
          }
        },
        {
          "output_type": "display_data",
          "data": {
            "text/plain": [
              "<Figure size 432x288 with 1 Axes>"
            ],
            "image/png": "[encoded data removed]"
          },
          "metadata": {
            "needs_background": "light"
          }
        }
      ]
    },
    {
      "cell_type": "markdown",
      "source": [
        "**The training gave the accuracy of 71.76% and val_accuracy of 61.63%. The model performed better than average.**"
      ],
      "metadata": {
        "id": "XYyD40VQRAVx"
      }
    },
    {
      "cell_type": "markdown",
      "source": [
        "### **ResNet50**\n",
        "\n",
        "ResNet50 is a pre-trained convolutional nerual network that is 50 layers deep(48 Convolution layers along with 1 MaxPool and 1 Average Pool layer). A residual neural network (ResNet) is an artificial neural network (ANN) of a kind that stacks residual blocks on top of each other to form a network."
      ],
      "metadata": {
        "id": "VOF6OPkTeRq0"
      }
    },
    {
      "cell_type": "code",
      "source": [
        "# ResNet is trained on RGB images and we have grascaled images so converting colour mode to RGB.\n",
        "train_datagen = ImageDataGenerator(horizontal_flip=True,\n",
        "                                   brightness_range=[0.8,1.2],\n",
        "                                   rescale=1./255)\n",
        "validation_datagen = ImageDataGenerator(horizontal_flip=True,\n",
        "                                        brightness_range=[0.8,1.2],\n",
        "                                        rescale=1./255)"
      ],
      "metadata": {
        "id": "1U3fJhLqLcf8"
      },
      "execution_count": 37,
      "outputs": []
    },
    {
      "cell_type": "code",
      "source": [
        "# Getting the train and test(validation) dataset ready for 'ResNet50' model creation.\n",
        "train_data = train_datagen.flow_from_directory(train_dir,\n",
        "                                               target_size = (48,48),\n",
        "                                               batch_size = 32,\n",
        "                                               shuffle = True,\n",
        "                                               color_mode ='rgb',\n",
        "                                               class_mode ='categorical')\n",
        "\n",
        "test_data = validation_datagen.flow_from_directory(test_dir,\n",
        "                                                   target_size = (48,48),\n",
        "                                                   batch_size = 32,\n",
        "                                                   shuffle = False,\n",
        "                                                   color_mode ='rgb',\n",
        "                                                   class_mode ='categorical')"
      ],
      "metadata": {
        "colab": {
          "base_uri": "https://localhost:8080/"
        },
        "id": "5NvfVnQlMRy_",
        "outputId": "d05b770d-ac3d-4232-a8b9-ba796683ef00"
      },
      "execution_count": 38,
      "outputs": [
        {
          "output_type": "stream",
          "name": "stdout",
          "text": [
            "Found 28709 images belonging to 7 classes.\n",
            "Found 7178 images belonging to 7 classes.\n"
          ]
        }
      ]
    }
  ],
  "metadata": {
    "colab": {
      "collapsed_sections": [],
      "name": "Live Class Monitoring System (Face Emotion Recognition).ipynb",
      "provenance": [],
      "authorship_tag": "ABX9TyPrkClC3GZ1j1mThDM8lrpw",
      "include_colab_link": true
    },
    "kernelspec": {
      "display_name": "Python 3",
      "name": "python3"
    },
    "language_info": {
      "name": "python"
    },
    "accelerator": "GPU"
  },
  "nbformat": 4,
  "nbformat_minor": 0
}